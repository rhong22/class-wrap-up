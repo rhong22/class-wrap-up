{
 "cells": [
  {
   "cell_type": "markdown",
   "id": "157996e1",
   "metadata": {
    "slideshow": {
     "slide_type": "slide"
    }
   },
   "source": [
    "## Discussion #3\n",
    "\n",
    "Files needed = None\n",
    "\n",
    "OH: Mondays and Wednesdays 9:15-10:15am in 6473 Sewell Social Sciences\n",
    "\n",
    "Email: minnie.cui@wisc.edu\n",
    "\n",
    "**Reminder: coding practice #1 solutions will be released tonight!**"
   ]
  },
  {
   "cell_type": "markdown",
   "id": "e6fa61db",
   "metadata": {
    "slideshow": {
     "slide_type": "slide"
    }
   },
   "source": [
    "### This week we saw:\n",
    "- Slicing (covered last week)\n",
    "- Functions\n",
    "- Packages\n",
    "- Pandas"
   ]
  },
  {
   "cell_type": "markdown",
   "id": "91734d96",
   "metadata": {
    "slideshow": {
     "slide_type": "slide"
    }
   },
   "source": [
    "## Functions\n",
    "\n",
    "We've seen some built-in functions in Python, like `len`, `range`, `str.lower()`, and others. But, we can write our own functions too. There are inputs (arguments) and outputs (returns) to every function. The syntax is `def function_name:` and then write your code within using tabs. Notice that some objects only live within the scope of the function. For example, `EULER` will only be within the function; I can't get that value outside of the function. We can pass arguments with keywords rather than ordered and we can set default arguments (e.g., `type_type=\"seconds\"`)."
   ]
  },
  {
   "cell_type": "code",
   "execution_count": 4,
   "id": "1ef5cd27-e0de-4810-a2e9-b48455ae97a9",
   "metadata": {},
   "outputs": [
    {
     "name": "stdout",
     "output_type": "stream",
     "text": [
      "My future value is $4,953.03\n"
     ]
    }
   ],
   "source": [
    "# Continually compounding interest\n",
    "def compound_interest(present_value, years, r):\n",
    "    # Get future value\n",
    "    EULER = 2.71828\n",
    "    return present_value * EULER**(r * years)\n",
    "\n",
    "# Call function\n",
    "future_value = compound_interest(1000, 40, 0.04)\n",
    "print(\"My future value is ${0:1,.2f}\".format(future_value))"
   ]
  },
  {
   "cell_type": "code",
   "execution_count": 7,
   "id": "684a54f1-3af9-42ab-948d-ef08298053a6",
   "metadata": {},
   "outputs": [
    {
     "name": "stdout",
     "output_type": "stream",
     "text": [
      "My future value is $4,953.03\n"
     ]
    }
   ],
   "source": [
    "\n",
    "def compound_interest(present_value, years, r):\n",
    "    # Get future value\n",
    "    EULER = 2.71828\n",
    "    c = present_value * EULER**(r * years)\n",
    "    return c\n",
    "    \n",
    "\n",
    "future_value = compound_interest(1000, 40, 0.04)\n",
    "print(\"My future value is ${0:1,.2f}\".format(future_value))"
   ]
  },
  {
   "cell_type": "code",
   "execution_count": 8,
   "id": "87c78307-5d1f-4482-aa6e-bc0dc81d28ad",
   "metadata": {},
   "outputs": [
    {
     "name": "stdout",
     "output_type": "stream",
     "text": [
      "2.3180555555555555\n",
      "64800\n",
      "I don't know what to return\n"
     ]
    }
   ],
   "source": [
    "# Can we write a function that takes a seconds and converts them to hours or hours and converts them to seconds?\n",
    "# Hint: two arguments, one numeric and one to indicate a type, followed by a comparison\n",
    "\n",
    "# Values\n",
    "seconds = 8345\n",
    "hours = 18\n",
    "\n",
    "def convert_time(time, time_type):\n",
    "    if time_type == \"seconds\":\n",
    "        return time / (60 * 60)\n",
    "    elif time_type == \"hours\":\n",
    "        return time * (60 * 60)\n",
    "    else:\n",
    "        return \"I don't know what to return\"\n",
    "\n",
    "print(convert_time(seconds, \"seconds\"))\n",
    "print(convert_time(hours, \"hours\"))\n",
    "print(convert_time(seconds, \"days\"))"
   ]
  },
  {
   "cell_type": "code",
   "execution_count": 1,
   "id": "ab4cac03",
   "metadata": {
    "slideshow": {
     "slide_type": "fragment"
    }
   },
   "outputs": [
    {
     "name": "stdout",
     "output_type": "stream",
     "text": [
      "2.3180555555555555\n",
      "2.3180555555555555\n",
      "2.3180555555555555\n",
      "2.3180555555555555\n"
     ]
    }
   ],
   "source": [
    "# Values\n",
    "seconds = 8345\n",
    "\n",
    "# Function definition\n",
    "def convert_time(time, time_type=\"seconds\"):\n",
    "    if time_type == \"seconds\":\n",
    "        return time / (60 * 60)\n",
    "    elif time_type == \"hours\":\n",
    "        return time * (60 * 60)\n",
    "    else:\n",
    "        return \"I don't know what to return\"\n",
    "\n",
    "print(convert_time(time=seconds, time_type=\"seconds\"))\n",
    "print(convert_time(seconds, time_type=\"seconds\"))\n",
    "print(convert_time(time_type=\"seconds\", time=seconds))\n",
    "print(convert_time(time=seconds))\n",
    "\n",
    "# Bonus: what does this do? \n",
    "print(convert_time(2.3180555555555555, \"hours\"))\n",
    "\n",
    "# This converts 2.3180555555555555 hours into seconds!"
   ]
  },
  {
   "cell_type": "markdown",
   "id": "6d227101",
   "metadata": {
    "slideshow": {
     "slide_type": "slide"
    }
   },
   "source": [
    "## Packages: Pandas\n",
    "\n",
    "There are lots of useful tools built in Python that are wrapped in nicely in *packages*. Once we install packages, we have access to all of their functions and interfaces. Every time we want to use a package, we have to `import` it. We saw some stuff with `pandas` this week, which is an amazing package for all of our data analysis.\n",
    "\n",
    "`pandas` stores data in `DataFrame` or `Series`. You can think of it as a kind of table or spreadsheet (a `Series` is a one-dimensional `DataFrame`). Some useful attributes include `shape`, `columns`, and `index`. We can access particular columns and rows just like before with slicing (or names!). We can change the index and delete observations.\n",
    "\n",
    "`pandas` has great [documentation](https://pandas.pydata.org/docs/). There are lots of different functions that you can use."
   ]
  },
  {
   "cell_type": "code",
   "execution_count": 9,
   "id": "306d2b3f",
   "metadata": {
    "slideshow": {
     "slide_type": "fragment"
    }
   },
   "outputs": [
    {
     "name": "stdout",
     "output_type": "stream",
     "text": [
      "Shape is: (4, 4)\n",
      "Index is: [0, 1, 2, 3]\n",
      "Columns are: ['state', 'pop', 'size', 'bird']\n"
     ]
    }
   ],
   "source": [
    "# Import libraries\n",
    "import pandas as pd\n",
    "\n",
    "# Generate data\n",
    "state_data = {'state':['CA','MI','WI','MN'], \n",
    "              'pop':[37,9.8,5.7, '5.3'], \n",
    "              'size':[163.7, 96.7, 65.5, 86.9], \n",
    "              'bird':['Quail', 'Redbreast Robin', 'American Robin', 'Loon']\n",
    "             }\n",
    "state_data = pd.DataFrame(state_data)\n",
    "\n",
    "# Try out some functions\n",
    "print(\"Shape is:\", state_data.shape)\n",
    "print(\"Index is:\", state_data.index.to_list())\n",
    "print(\"Columns are:\", state_data.columns.to_list())"
   ]
  },
  {
   "cell_type": "code",
   "execution_count": 14,
   "id": "27a9a7fb",
   "metadata": {
    "slideshow": {
     "slide_type": "slide"
    }
   },
   "outputs": [
    {
     "name": "stdout",
     "output_type": "stream",
     "text": [
      "  state  pop   size             bird\n",
      "0    CA   37  163.7            Quail\n",
      "1    MI  9.8   96.7  Redbreast Robin\n",
      "2    WI  5.7   65.5   American Robin\n",
      "3    MN  5.3   86.9             Loon\n",
      "\n",
      "  state  pop  size  bird\n",
      "3    MN  5.3  86.9  Loon\n",
      "\n",
      "  state  pop   size            bird\n",
      "0    CA   37  163.7           Quail\n",
      "2    WI  5.7   65.5  American Robin\n"
     ]
    }
   ],
   "source": [
    "# Accessing rows and columns\n",
    "print(state_data.bird)\n",
    "print(state_data['bird'])\n",
    "print(state_data.iloc[1,3])\n",
    "\n",
    "# Filtering\n",
    "print(state_data[state_data['bird'] == \"Loon\"])\n",
    "print(\"\")\n",
    "print(state_data[(state_data['state'] == \"WI\") | (state_data['bird'] == 'Quail')])"
   ]
  },
  {
   "cell_type": "code",
   "execution_count": 15,
   "id": "fecf1bf2-c237-48c6-b834-979d0b9ecdd0",
   "metadata": {},
   "outputs": [
    {
     "data": {
      "text/html": [
       "<div>\n",
       "<style scoped>\n",
       "    .dataframe tbody tr th:only-of-type {\n",
       "        vertical-align: middle;\n",
       "    }\n",
       "\n",
       "    .dataframe tbody tr th {\n",
       "        vertical-align: top;\n",
       "    }\n",
       "\n",
       "    .dataframe thead th {\n",
       "        text-align: right;\n",
       "    }\n",
       "</style>\n",
       "<table border=\"1\" class=\"dataframe\">\n",
       "  <thead>\n",
       "    <tr style=\"text-align: right;\">\n",
       "      <th></th>\n",
       "      <th>state</th>\n",
       "      <th>pop</th>\n",
       "      <th>size</th>\n",
       "      <th>bird</th>\n",
       "    </tr>\n",
       "  </thead>\n",
       "  <tbody>\n",
       "    <tr>\n",
       "      <th>0</th>\n",
       "      <td>CA</td>\n",
       "      <td>37</td>\n",
       "      <td>163.7</td>\n",
       "      <td>Quail</td>\n",
       "    </tr>\n",
       "    <tr>\n",
       "      <th>1</th>\n",
       "      <td>MI</td>\n",
       "      <td>9.8</td>\n",
       "      <td>96.7</td>\n",
       "      <td>Redbreast Robin</td>\n",
       "    </tr>\n",
       "    <tr>\n",
       "      <th>2</th>\n",
       "      <td>WI</td>\n",
       "      <td>5.7</td>\n",
       "      <td>65.5</td>\n",
       "      <td>American Robin</td>\n",
       "    </tr>\n",
       "    <tr>\n",
       "      <th>3</th>\n",
       "      <td>MN</td>\n",
       "      <td>5.3</td>\n",
       "      <td>86.9</td>\n",
       "      <td>Loon</td>\n",
       "    </tr>\n",
       "  </tbody>\n",
       "</table>\n",
       "</div>"
      ],
      "text/plain": [
       "  state  pop   size             bird\n",
       "0    CA   37  163.7            Quail\n",
       "1    MI  9.8   96.7  Redbreast Robin\n",
       "2    WI  5.7   65.5   American Robin\n",
       "3    MN  5.3   86.9             Loon"
      ]
     },
     "execution_count": 15,
     "metadata": {},
     "output_type": "execute_result"
    }
   ],
   "source": [
    "state_data[(state_data.state == 'WI') & (state_data.bird == 'Quail')]\n",
    "\n",
    "state_data"
   ]
  },
  {
   "cell_type": "code",
   "execution_count": 19,
   "id": "5a7ac2f3",
   "metadata": {
    "slideshow": {
     "slide_type": "slide"
    }
   },
   "outputs": [
    {
     "name": "stdout",
     "output_type": "stream",
     "text": [
      "       pop   size             bird\n",
      "state                             \n",
      "CA      37  163.7            Quail\n",
      "MI     9.8   96.7  Redbreast Robin\n",
      "WI     5.7   65.5   American Robin\n",
      "MN     5.3   86.9             Loon\n",
      "pop        37\n",
      "size    163.7\n",
      "bird    Quail\n",
      "Name: CA, dtype: object\n",
      "  state  pop   size             bird\n",
      "0    CA   37  163.7            Quail\n",
      "1    MI  9.8   96.7  Redbreast Robin\n",
      "2    WI  5.7   65.5   American Robin\n",
      "3    MN  5.3   86.9             Loon\n"
     ]
    }
   ],
   "source": [
    "# Re-indexing (note the inplace argument)\n",
    "state_data.set_index('state', inplace=True)\n",
    "print(state_data)\n",
    "print(state_data.loc['CA'])\n",
    "state_data.reset_index(inplace=True)\n",
    "print(state_data)"
   ]
  },
  {
   "cell_type": "code",
   "execution_count": 22,
   "id": "dc7e3c3b-a0b3-4791-8581-52ab04b8a437",
   "metadata": {},
   "outputs": [
    {
     "ename": "KeyError",
     "evalue": "'CA'",
     "output_type": "error",
     "traceback": [
      "\u001b[1;31m---------------------------------------------------------------------------\u001b[0m",
      "\u001b[1;31mKeyError\u001b[0m                                  Traceback (most recent call last)",
      "Cell \u001b[1;32mIn[22], line 1\u001b[0m\n\u001b[1;32m----> 1\u001b[0m \u001b[38;5;28mprint\u001b[39m(state_data\u001b[38;5;241m.\u001b[39mloc[\u001b[38;5;124m'\u001b[39m\u001b[38;5;124mCA\u001b[39m\u001b[38;5;124m'\u001b[39m])\n\u001b[0;32m      2\u001b[0m state_data\u001b[38;5;241m.\u001b[39mreset_index(inplace\u001b[38;5;241m=\u001b[39m\u001b[38;5;28;01mTrue\u001b[39;00m)\n\u001b[0;32m      3\u001b[0m \u001b[38;5;28mprint\u001b[39m(state_data)\n",
      "File \u001b[1;32mC:\\ProgramData\\Anaconda3\\Lib\\site-packages\\pandas\\core\\indexing.py:1153\u001b[0m, in \u001b[0;36m_LocationIndexer.__getitem__\u001b[1;34m(self, key)\u001b[0m\n\u001b[0;32m   1150\u001b[0m axis \u001b[38;5;241m=\u001b[39m \u001b[38;5;28mself\u001b[39m\u001b[38;5;241m.\u001b[39maxis \u001b[38;5;129;01mor\u001b[39;00m \u001b[38;5;241m0\u001b[39m\n\u001b[0;32m   1152\u001b[0m maybe_callable \u001b[38;5;241m=\u001b[39m com\u001b[38;5;241m.\u001b[39mapply_if_callable(key, \u001b[38;5;28mself\u001b[39m\u001b[38;5;241m.\u001b[39mobj)\n\u001b[1;32m-> 1153\u001b[0m \u001b[38;5;28;01mreturn\u001b[39;00m \u001b[38;5;28mself\u001b[39m\u001b[38;5;241m.\u001b[39m_getitem_axis(maybe_callable, axis\u001b[38;5;241m=\u001b[39maxis)\n",
      "File \u001b[1;32mC:\\ProgramData\\Anaconda3\\Lib\\site-packages\\pandas\\core\\indexing.py:1393\u001b[0m, in \u001b[0;36m_LocIndexer._getitem_axis\u001b[1;34m(self, key, axis)\u001b[0m\n\u001b[0;32m   1391\u001b[0m \u001b[38;5;66;03m# fall thru to straight lookup\u001b[39;00m\n\u001b[0;32m   1392\u001b[0m \u001b[38;5;28mself\u001b[39m\u001b[38;5;241m.\u001b[39m_validate_key(key, axis)\n\u001b[1;32m-> 1393\u001b[0m \u001b[38;5;28;01mreturn\u001b[39;00m \u001b[38;5;28mself\u001b[39m\u001b[38;5;241m.\u001b[39m_get_label(key, axis\u001b[38;5;241m=\u001b[39maxis)\n",
      "File \u001b[1;32mC:\\ProgramData\\Anaconda3\\Lib\\site-packages\\pandas\\core\\indexing.py:1343\u001b[0m, in \u001b[0;36m_LocIndexer._get_label\u001b[1;34m(self, label, axis)\u001b[0m\n\u001b[0;32m   1341\u001b[0m \u001b[38;5;28;01mdef\u001b[39;00m \u001b[38;5;21m_get_label\u001b[39m(\u001b[38;5;28mself\u001b[39m, label, axis: AxisInt):\n\u001b[0;32m   1342\u001b[0m     \u001b[38;5;66;03m# GH#5567 this will fail if the label is not present in the axis.\u001b[39;00m\n\u001b[1;32m-> 1343\u001b[0m     \u001b[38;5;28;01mreturn\u001b[39;00m \u001b[38;5;28mself\u001b[39m\u001b[38;5;241m.\u001b[39mobj\u001b[38;5;241m.\u001b[39mxs(label, axis\u001b[38;5;241m=\u001b[39maxis)\n",
      "File \u001b[1;32mC:\\ProgramData\\Anaconda3\\Lib\\site-packages\\pandas\\core\\generic.py:4236\u001b[0m, in \u001b[0;36mNDFrame.xs\u001b[1;34m(self, key, axis, level, drop_level)\u001b[0m\n\u001b[0;32m   4234\u001b[0m             new_index \u001b[38;5;241m=\u001b[39m index[loc]\n\u001b[0;32m   4235\u001b[0m \u001b[38;5;28;01melse\u001b[39;00m:\n\u001b[1;32m-> 4236\u001b[0m     loc \u001b[38;5;241m=\u001b[39m index\u001b[38;5;241m.\u001b[39mget_loc(key)\n\u001b[0;32m   4238\u001b[0m     \u001b[38;5;28;01mif\u001b[39;00m \u001b[38;5;28misinstance\u001b[39m(loc, np\u001b[38;5;241m.\u001b[39mndarray):\n\u001b[0;32m   4239\u001b[0m         \u001b[38;5;28;01mif\u001b[39;00m loc\u001b[38;5;241m.\u001b[39mdtype \u001b[38;5;241m==\u001b[39m np\u001b[38;5;241m.\u001b[39mbool_:\n",
      "File \u001b[1;32mC:\\ProgramData\\Anaconda3\\Lib\\site-packages\\pandas\\core\\indexes\\range.py:418\u001b[0m, in \u001b[0;36mRangeIndex.get_loc\u001b[1;34m(self, key)\u001b[0m\n\u001b[0;32m    416\u001b[0m         \u001b[38;5;28;01mraise\u001b[39;00m \u001b[38;5;167;01mKeyError\u001b[39;00m(key) \u001b[38;5;28;01mfrom\u001b[39;00m \u001b[38;5;21;01merr\u001b[39;00m\n\u001b[0;32m    417\u001b[0m \u001b[38;5;28;01mif\u001b[39;00m \u001b[38;5;28misinstance\u001b[39m(key, Hashable):\n\u001b[1;32m--> 418\u001b[0m     \u001b[38;5;28;01mraise\u001b[39;00m \u001b[38;5;167;01mKeyError\u001b[39;00m(key)\n\u001b[0;32m    419\u001b[0m \u001b[38;5;28mself\u001b[39m\u001b[38;5;241m.\u001b[39m_check_indexing_error(key)\n\u001b[0;32m    420\u001b[0m \u001b[38;5;28;01mraise\u001b[39;00m \u001b[38;5;167;01mKeyError\u001b[39;00m(key)\n",
      "\u001b[1;31mKeyError\u001b[0m: 'CA'"
     ]
    }
   ],
   "source": [
    "print(state_data.loc['CA'])\n",
    "state_data.reset_index(inplace=True)\n",
    "print(state_data)"
   ]
  },
  {
   "cell_type": "code",
   "execution_count": 29,
   "id": "8c1e0230",
   "metadata": {
    "slideshow": {
     "slide_type": "slide"
    }
   },
   "outputs": [
    {
     "name": "stdout",
     "output_type": "stream",
     "text": [
      "New names: ['state', 'pop', 'new_size', 'bird']\n",
      "New names: ['state', 'pop', 'size', 'bird']\n",
      "  state  pop   size             bird\n",
      "0    CA   37  163.7            Quail\n",
      "1    MI  9.8   96.7  Redbreast Robin\n",
      "2    WI  5.7   65.5   American Robin\n",
      "3    MN  5.3   86.9             Loon\n",
      "\n",
      "  state  pop             bird\n",
      "0    CA   37            Quail\n",
      "1    MI  9.8  Redbreast Robin\n",
      "2    WI  5.7   American Robin\n",
      "3    MN  5.3             Loon\n",
      "\n",
      "  state  pop   size             bird\n",
      "0    CA   37  163.7            Quail\n",
      "1    MI  9.8   96.7  Redbreast Robin\n",
      "2    WI  5.7   65.5   American Robin\n"
     ]
    }
   ],
   "source": [
    "# Re-naming\n",
    "state_data.rename(columns={'size' : 'new_size'}, inplace=True)\n",
    "print(\"New names:\", state_data.columns.to_list())\n",
    "state_data.rename(columns={'new_size' : 'size'}, inplace=True)\n",
    "print(\"New names:\", state_data.columns.to_list())\n",
    "\n",
    "# Dropping observations (note the axis argument)\n",
    "print(state_data)\n",
    "print(\"\")\n",
    "print(state_data.drop('size', axis=1))\n",
    "print(\"\")\n",
    "\n",
    "print(state_data.drop(3, axis=0))"
   ]
  },
  {
   "cell_type": "code",
   "execution_count": null,
   "id": "9fa0b80b-45e2-4b53-939d-99695dafb32f",
   "metadata": {},
   "outputs": [],
   "source": []
  },
  {
   "cell_type": "code",
   "execution_count": 21,
   "id": "ebf9db6b",
   "metadata": {
    "scrolled": true,
    "slideshow": {
     "slide_type": "slide"
    }
   },
   "outputs": [
    {
     "name": "stdout",
     "output_type": "stream",
     "text": [
      "   sepal_length  sepal_width  petal_length  petal_width species\n",
      "0           5.1          3.5           1.4          0.2  setosa\n",
      "1           4.9          3.0           1.4          0.2  setosa\n",
      "2           4.7          3.2           1.3          0.2  setosa\n",
      "3           4.6          3.1           1.5          0.2  setosa\n",
      "4           5.0          3.6           1.4          0.2  setosa\n",
      "\n",
      "   sepal_length  sepal_width  petal_length species\n",
      "0           5.1          3.5           1.4  setosa\n",
      "1           4.9          3.0           1.4  setosa\n",
      "2           4.7          3.2           1.3  setosa\n",
      "3           4.6          3.1           1.5  setosa\n",
      "4           5.0          3.6           1.4  setosa\n",
      "\n",
      "         sepal_length  sepal_width  petal_length  petal_width\n",
      "species                                                      \n",
      "setosa            5.1          3.5           1.4          0.2\n",
      "setosa            4.9          3.0           1.4          0.2\n",
      "setosa            4.7          3.2           1.3          0.2\n",
      "setosa            4.6          3.1           1.5          0.2\n",
      "setosa            5.0          3.6           1.4          0.2\n",
      "\n",
      "   index species  sepal_length  sepal_width  petal_length  petal_width\n",
      "0      0  setosa           5.1          3.5           1.4          0.2\n",
      "1      5  setosa           5.4          3.9           1.7          0.4\n",
      "2     10  setosa           5.4          3.7           1.5          0.2\n",
      "3     14  setosa           5.8          4.0           1.2          0.2\n",
      "4     15  setosa           5.7          4.4           1.5          0.4\n",
      "  species  sepal_length  sepal_width  petal_length  petal_width\n",
      "0  setosa           5.1          3.5           1.4          0.2\n",
      "1  setosa           5.4          3.9           1.7          0.4\n",
      "2  setosa           5.4          3.7           1.5          0.2\n",
      "3  setosa           5.8          4.0           1.2          0.2\n",
      "4  setosa           5.7          4.4           1.5          0.4\n"
     ]
    }
   ],
   "source": [
    "# Import dataset\n",
    "import pandas as pd\n",
    "import seaborn as sns\n",
    "iris = sns.load_dataset('iris')\n",
    "print(iris.head())\n",
    "print(\"\")\n",
    "\n",
    "# Can we drop the petal width column?\n",
    "print(iris.drop('petal_width', axis=1).head())\n",
    "print(\"\")\n",
    "\n",
    "# Can we create an index by species? Can we reset it?\n",
    "iris.set_index('species', inplace=True)\n",
    "print(iris.head())\n",
    "iris.reset_index(inplace=True)\n",
    "print(\"\")\n",
    "\n",
    "# Can we select rows with sepal length >5? What about virginica with sepal length >5?\n",
    "iris = iris[iris.sepal_length > 5]\n",
    "iris.reset_index(inplace=True)\n",
    "print(iris.head())\n",
    "iris = iris.drop('index', axis=1)\n",
    "print(iris.head())\n",
    "\n",
    "# iris = iris[(iris.sepal_length > 5) & (iris.species == 'virginica')]\n",
    "# print(iris.tail(1))"
   ]
  },
  {
   "cell_type": "markdown",
   "id": "01df5dd5",
   "metadata": {
    "slideshow": {
     "slide_type": "slide"
    }
   },
   "source": [
    "### Have a great weekend!"
   ]
  }
 ],
 "metadata": {
  "celltoolbar": "Slideshow",
  "kernelspec": {
   "display_name": "Python 3 (ipykernel)",
   "language": "python",
   "name": "python3"
  },
  "language_info": {
   "codemirror_mode": {
    "name": "ipython",
    "version": 3
   },
   "file_extension": ".py",
   "mimetype": "text/x-python",
   "name": "python",
   "nbconvert_exporter": "python",
   "pygments_lexer": "ipython3",
   "version": "3.11.5"
  }
 },
 "nbformat": 4,
 "nbformat_minor": 5
}
