{
 "cells": [
  {
   "cell_type": "markdown",
   "id": "2587f25a",
   "metadata": {
    "slideshow": {
     "slide_type": "slide"
    }
   },
   "source": [
    "## Discussion #1\n",
    "\n",
    "Files needed = None\n",
    "\n",
    "OH: Mondays and Wednesdays 9:15-10:15am in 6473 Sewell Social Sciences\n",
    "\n",
    "Email: minnie.cui@wisc.edu"
   ]
  },
  {
   "cell_type": "markdown",
   "id": "281a69a6",
   "metadata": {
    "slideshow": {
     "slide_type": "slide"
    }
   },
   "source": [
    "### This week we saw:\n",
    "* Coding Practices\n",
    "* Assignment\n",
    "* Calculation\n",
    "* Scalars\n",
    "* Data Structures"
   ]
  },
  {
   "cell_type": "markdown",
   "id": "50857e6c",
   "metadata": {
    "slideshow": {
     "slide_type": "slide"
    }
   },
   "source": [
    "## Good Coding Practices\n",
    "\n",
    "Remember that isn't a computer science class; we want to learn how to do interesting things with data. But, we should still keep good coding practices.\n",
    "\n",
    "Python developers recommend [PEP-8](https://www.python.org/dev/peps/pep-0008) to keep everything consistent and readable.\n",
    "\n",
    "You don't need to follow these guidlines exactly (I don't!), but you should keep things clear and readable."
   ]
  },
  {
   "cell_type": "markdown",
   "id": "668fdf24",
   "metadata": {
    "slideshow": {
     "slide_type": "slide"
    }
   },
   "source": [
    "### Spacing\n",
    "\n",
    "1. Line of code should be limited 79 characters (so you don't have to scroll)\n",
    "\n",
    "2. Blank lines can be used to group related chunks of code\n",
    "\n",
    "3. Add spaces before and after assignment (=) and comparisons (==, !=, <, >)\n",
    "\n",
    "5. Add spaces after commas"
   ]
  },
  {
   "cell_type": "code",
   "execution_count": null,
   "id": "4c5f6d44",
   "metadata": {
    "slideshow": {
     "slide_type": "fragment"
    }
   },
   "outputs": [],
   "source": [
    "# Example of (3)\n",
    "x = 1 + 5\n",
    "\n",
    "if x < 10:\n",
    "    print(x)\n",
    "\n",
    "# Example of (4)\n",
    "print('The value of x is', x)\n",
    "\n",
    "x_values = [1, 3, 6, 9]"
   ]
  },
  {
   "cell_type": "markdown",
   "id": "29db6f2a",
   "metadata": {
    "slideshow": {
     "slide_type": "slide"
    }
   },
   "source": [
    "### Comments\n",
    "\n",
    "1. Use comments when needed; you don't need to comment on the trivial (I tend to do this)\n",
    "\n",
    "2. Comments should be complete sentences: capitalize the first letter and use a period at the end\n",
    "\n",
    "3. Add comments on the line before code rather than to the right of the code\n",
    "\n",
    "4. Use docstrings for functions (we'll get to this later!)"
   ]
  },
  {
   "cell_type": "code",
   "execution_count": null,
   "id": "596d4278",
   "metadata": {
    "slideshow": {
     "slide_type": "fragment"
    }
   },
   "outputs": [],
   "source": [
    "\"\"\"\n",
    "Triple quotes can have multiline comments. This chunk of code\n",
    "gives an example of calculation with good and bad comments. \n",
    "\n",
    "You can use multiline comments to write code descriptions. \n",
    "Writing code descriptions can help you remember what was \n",
    "written a long time ago or help you transfer the code to \n",
    "a collaborator!\n",
    "\n",
    "Author:       Minnie Cui\n",
    "Date:         January 18, 2024\n",
    "Desc:         ECON570 Discussion 1\n",
    "Last updated: ---\n",
    "\"\"\"\n",
    "\n",
    "# Your comment should go here\n",
    "x = 1 + 5 # Your comment should not go here\n",
    "\n",
    "# You should not have a comment for this line\n",
    "x = x + 1\n",
    "\n",
    "###########################################################\n",
    "## Code chunks can be separated by comments like this... ##\n",
    "###########################################################\n",
    "\n",
    "#------------------------------#\n",
    "# ... or by comments like this #\n",
    "#------------------------------#\n",
    "\n",
    "# Feel free to mix and match as you please!\n"
   ]
  },
  {
   "cell_type": "markdown",
   "id": "60ee386a",
   "metadata": {
    "slideshow": {
     "slide_type": "slide"
    }
   },
   "source": [
    "### Naming Conventions\n",
    "\n",
    "The name of the game is consistency! Keep your naming conventions the same throughout your code. Write code as if you are writing for someone else to take over the coding task!\n",
    "\n",
    "I tend to...\n",
    "1. ...use all lower case letters and separate words with underscores\n",
    "2. ...use all upper case letters to denote constants\n",
    "3. ...keep variable and function names clear to their tasks so I don't need to read the entire document to figure out what they do"
   ]
  },
  {
   "cell_type": "code",
   "execution_count": 1,
   "id": "4452c6f0",
   "metadata": {
    "slideshow": {
     "slide_type": "fragment"
    }
   },
   "outputs": [
    {
     "name": "stdout",
     "output_type": "stream",
     "text": [
      "My future value is 4953.027093724828\n"
     ]
    }
   ],
   "source": [
    "# Variables for interest calculation\n",
    "EULER = 2.71828\n",
    "present_value = 1000\n",
    "years = 40\n",
    "r = 0.04\n",
    "\n",
    "# Calculate continually compounding interest\n",
    "future_value = present_value * EULER**(r * years)\n",
    "print(\"My future value is\", future_value)"
   ]
  },
  {
   "cell_type": "code",
   "execution_count": 3,
   "id": "cdc18546",
   "metadata": {
    "slideshow": {
     "slide_type": "slide"
    }
   },
   "outputs": [
    {
     "ename": "TypeError",
     "evalue": "unsupported operand type(s) for +: 'int' and 'str'",
     "output_type": "error",
     "traceback": [
      "\u001b[1;31m---------------------------------------------------------------------------\u001b[0m",
      "\u001b[1;31mTypeError\u001b[0m                                 Traceback (most recent call last)",
      "Cell \u001b[1;32mIn[3], line 9\u001b[0m\n\u001b[0;32m      6\u001b[0m WHATISTHISTHING\u001b[38;5;241m=\u001b[39m whatisthisthing\u001b[38;5;241m+\u001b[39m    \u001b[38;5;241m5\u001b[39m \u001b[38;5;66;03m# what am I doing over here?\u001b[39;00m\n\u001b[0;32m      8\u001b[0m \u001b[38;5;66;03m# increment by two\u001b[39;00m\n\u001b[1;32m----> 9\u001b[0m whatisthisthing \u001b[38;5;241m+\u001b[39m\u001b[38;5;241m=\u001b[39m\u001b[38;5;241m1\u001b[39m \u001b[38;5;241m+\u001b[39m\u001b[38;5;124m'\u001b[39m\u001b[38;5;124m2\u001b[39m\u001b[38;5;124m'\u001b[39m\n",
      "\u001b[1;31mTypeError\u001b[0m: unsupported operand type(s) for +: 'int' and 'str'"
     ]
    }
   ],
   "source": [
    "\"\"\"\n",
    "A quick practice example: what's wrong with this code?\n",
    "\"\"\"\n",
    "\n",
    "whatisthisthing = 100\n",
    "WHATISTHISTHING= whatisthisthing+    5 # what am I doing over here?\n",
    "#what it is and then add five to it, 105\n",
    "# increment by two\n",
    "whatisthisthing +=1 +'2'\n",
    "\n",
    "# Insert your comment here"
   ]
  },
  {
   "cell_type": "markdown",
   "id": "b984ff8e",
   "metadata": {
    "slideshow": {
     "slide_type": "slide"
    }
   },
   "source": [
    "## Assignment\n",
    "\n",
    "Assignment is when we set the value of a variable. This could be a string (a word), an integer or float (a number), or a data structure (a combination of many words/numbers/objects)."
   ]
  },
  {
   "cell_type": "code",
   "execution_count": 5,
   "id": "189223d1",
   "metadata": {
    "slideshow": {
     "slide_type": "fragment"
    }
   },
   "outputs": [],
   "source": [
    "# Assign a few variables\n",
    "x = 10\n",
    "my_name = \"Minnie\"\n",
    "some_items = [x, my_name]\n",
    "alphabet_dictionary = {'a' : 1, 'b' : 2, 'c' : 3}"
   ]
  },
  {
   "cell_type": "code",
   "execution_count": 6,
   "id": "304aba93",
   "metadata": {
    "slideshow": {
     "slide_type": "fragment"
    }
   },
   "outputs": [
    {
     "name": "stdout",
     "output_type": "stream",
     "text": [
      "10 :  <class 'int'>\n",
      "Minnie :  <class 'str'>\n",
      "[10, 'Minnie'] :  <class 'list'>\n",
      "{'a': 1, 'b': 2, 'c': 3} :  <class 'dict'>\n"
     ]
    }
   ],
   "source": [
    "# Types of variables\n",
    "print(x, \": \", type(x))\n",
    "print(my_name, \": \", type(my_name))\n",
    "print(some_items, \": \", type(some_items))\n",
    "print(alphabet_dictionary, \": \", type(alphabet_dictionary))"
   ]
  },
  {
   "cell_type": "markdown",
   "id": "9f7182cd",
   "metadata": {
    "slideshow": {
     "slide_type": "slide"
    }
   },
   "source": [
    "## Calculation\n",
    "\n",
    "We can do lots of stuff with Python. Let's focus on integers and float (numbers) first. We can add, subtract, multiply, divide, etc.\n",
    "\n",
    "*Note*: modular division gives us the remainder"
   ]
  },
  {
   "cell_type": "code",
   "execution_count": 7,
   "id": "be1e9d3d",
   "metadata": {
    "slideshow": {
     "slide_type": "fragment"
    }
   },
   "outputs": [
    {
     "name": "stdout",
     "output_type": "stream",
     "text": [
      "50\n",
      "500\n",
      "83.33333333333333\n",
      "83\n",
      "2\n"
     ]
    }
   ],
   "source": [
    "# Addition and subtraction\n",
    "x = 10\n",
    "y = x + 50\n",
    "y -= 10\n",
    "print(y)\n",
    "\n",
    "# Multiplication\n",
    "y = 10 * y\n",
    "print(y)\n",
    "\n",
    "# (Integer) division\n",
    "yd = y / 6  #integer division\n",
    "yi = y // 6 #integer\n",
    "print(yd)\n",
    "print(yi)\n",
    "\n",
    "# Modular division\n",
    "m = y % 3\n",
    "print(m)"
   ]
  },
  {
   "cell_type": "markdown",
   "id": "9c755699",
   "metadata": {
    "slideshow": {
     "slide_type": "slide"
    }
   },
   "source": [
    "### Strings\n",
    "\n",
    "We saw numbers (integers and floats) but we can also have strings (words). Assignment happens by putting single or double quotes around the word we want."
   ]
  },
  {
   "cell_type": "code",
   "execution_count": 10,
   "id": "ccbc8452",
   "metadata": {},
   "outputs": [
    {
     "name": "stdout",
     "output_type": "stream",
     "text": [
      "Minnie Cui\n",
      "MinnieMinnieMinnieMinnieMinnie\n"
     ]
    }
   ],
   "source": [
    "# Assign some strings\n",
    "first_name = \"Minnie\"\n",
    "last_name = \"Cui\"\n",
    "a_number = '130820'\n",
    "\n",
    "# There are some special characters\n",
    "quote_example = 'I\\'d like to take a nap' \n",
    "quote_example_2 = \"I'd like to take a nap\"\n",
    "\n",
    "# We can add and \"multiply\" strings...\n",
    "print(first_name , last_name)\n",
    "print(5 * first_name)"
   ]
  },
  {
   "cell_type": "code",
   "execution_count": 11,
   "id": "4003023e-aa71-4e90-97cd-c84162ab305e",
   "metadata": {},
   "outputs": [
    {
     "ename": "TypeError",
     "evalue": "unsupported operand type(s) for /: 'str' and 'int'",
     "output_type": "error",
     "traceback": [
      "\u001b[1;31m---------------------------------------------------------------------------\u001b[0m",
      "\u001b[1;31mTypeError\u001b[0m                                 Traceback (most recent call last)",
      "Cell \u001b[1;32mIn[11], line 2\u001b[0m\n\u001b[0;32m      1\u001b[0m \u001b[38;5;66;03m# ...we can't divide them...\u001b[39;00m\n\u001b[1;32m----> 2\u001b[0m \u001b[38;5;28mprint\u001b[39m(a_number \u001b[38;5;241m/\u001b[39m \u001b[38;5;241m5\u001b[39m)\n\u001b[0;32m      4\u001b[0m \u001b[38;5;66;03m# ...but we can cast some strings to numbers!\u001b[39;00m\n\u001b[0;32m      5\u001b[0m \u001b[38;5;28mprint\u001b[39m(\u001b[38;5;28mint\u001b[39m(a_number) \u001b[38;5;241m/\u001b[39m \u001b[38;5;241m5\u001b[39m)\n",
      "\u001b[1;31mTypeError\u001b[0m: unsupported operand type(s) for /: 'str' and 'int'"
     ]
    }
   ],
   "source": [
    "# ...we can't divide them...\n",
    "print(a_number / 5)\n",
    "\n",
    "# ...but we can cast some strings to numbers!\n",
    "print(int(a_number) / 5)"
   ]
  },
  {
   "cell_type": "code",
   "execution_count": 14,
   "id": "f0a62db3",
   "metadata": {
    "slideshow": {
     "slide_type": "slide"
    }
   },
   "outputs": [
    {
     "name": "stdout",
     "output_type": "stream",
     "text": [
      "Ruijing Hong\n",
      "RuijingRuijingRuijingRuijingRuijingRuijingRuijingRuijingRuijingRuijing\n"
     ]
    }
   ],
   "source": [
    "\"\"\"\n",
    "A few quick practice questions: \n",
    "\n",
    "Can you write code to repeat your name 10x? \n",
    "\n",
    "Can you divide your name?\n",
    "What is 1093 modulus 38?\n",
    "\"\"\"\n",
    "first = \"Ruijing\"\n",
    "last = \"Hong\"\n",
    "print(first , last)\n",
    "\n",
    "print(10*first)\n",
    "\n",
    "\n",
    "# Insert your code here"
   ]
  },
  {
   "cell_type": "markdown",
   "id": "4d90bd39",
   "metadata": {
    "slideshow": {
     "slide_type": "slide"
    }
   },
   "source": [
    "## Data Structures\n",
    "\n",
    "Data structures allow us to collect lots of items (such as scalars, the types we saw before). A few main structures are lists, tuples and dictionaries."
   ]
  },
  {
   "cell_type": "markdown",
   "id": "aa30b6ee",
   "metadata": {
    "slideshow": {
     "slide_type": "slide"
    }
   },
   "source": [
    "### Lists\n",
    "\n",
    "One data structure is a list. We create lists with comma-separated values between square brackets.\n",
    "\n",
    "We can access elements of the ordered list with square brackets (noting that Python is zero indexed). We can also change elements of a list since lists are mutable (changeable). It's easy to search for items in a list using *in*."
   ]
  },
  {
   "cell_type": "code",
   "execution_count": 17,
   "id": "a4a0ffe7",
   "metadata": {
    "slideshow": {
     "slide_type": "fragment"
    }
   },
   "outputs": [
    {
     "name": "stdout",
     "output_type": "stream",
     "text": [
      "The first element is: 2\n",
      "The third element is: Ashley\n",
      "The final element is: something else\n",
      "Is Minnie in the list? False\n",
      "Is Ashley in the list? True\n",
      "The third element is now: Ashley\n"
     ]
    }
   ],
   "source": [
    "# An example list\n",
    "mixed_list = [2, 3, \"Ashley\", 1.5, \"something else\"]  #do not need to be the same type\n",
    "print(\"The first element is:\", mixed_list[0])\n",
    "print(\"The third element is:\", mixed_list[2])\n",
    "print(\"The final element is:\", mixed_list[-1])\n",
    "\n",
    "# Checking elements in a list\n",
    "print(\"Is Minnie in the list?\", \"Minnie\" in mixed_list) #boolean\n",
    "print(\"Is Ashley in the list?\", \"Ashley\" in mixed_list)\n",
    "\n",
    "# Let's change an element\n",
    "mixed_list[2] = \"Ashley\"\n",
    "print(\"The third element is now:\", mixed_list[2])"
   ]
  },
  {
   "cell_type": "markdown",
   "id": "68896c57",
   "metadata": {
    "slideshow": {
     "slide_type": "slide"
    }
   },
   "source": [
    "### Tuples\n",
    "\n",
    "Another data structure is a tuple. We create lists with comma-separated values between parentheses.\n",
    "\n",
    "Again, we can access elements of the ordered tuple with square brackets, but we cannot change the elements of tuples. This is because they're immutable (unchangeable)."
   ]
  },
  {
   "cell_type": "code",
   "execution_count": 21,
   "id": "b4cb79c7",
   "metadata": {
    "slideshow": {
     "slide_type": "fragment"
    }
   },
   "outputs": [
    {
     "name": "stdout",
     "output_type": "stream",
     "text": [
      "The first element is: 2\n",
      "The third element is: Minnie\n",
      "The final element is: something else\n"
     ]
    },
    {
     "ename": "TypeError",
     "evalue": "'tuple' object does not support item assignment",
     "output_type": "error",
     "traceback": [
      "\u001b[1;31m---------------------------------------------------------------------------\u001b[0m",
      "\u001b[1;31mTypeError\u001b[0m                                 Traceback (most recent call last)",
      "Cell \u001b[1;32mIn[21], line 8\u001b[0m\n\u001b[0;32m      5\u001b[0m \u001b[38;5;28mprint\u001b[39m(\u001b[38;5;124m\"\u001b[39m\u001b[38;5;124mThe final element is:\u001b[39m\u001b[38;5;124m\"\u001b[39m, mixed_tuple[\u001b[38;5;28mlen\u001b[39m(mixed_tuple) \u001b[38;5;241m-\u001b[39m \u001b[38;5;241m1\u001b[39m])\n\u001b[0;32m      7\u001b[0m \u001b[38;5;66;03m# Let's try to change an element\u001b[39;00m\n\u001b[1;32m----> 8\u001b[0m mixed_tuple[\u001b[38;5;241m2\u001b[39m] \u001b[38;5;241m=\u001b[39m \u001b[38;5;124m\"\u001b[39m\u001b[38;5;124mAshley\u001b[39m\u001b[38;5;124m\"\u001b[39m\n",
      "\u001b[1;31mTypeError\u001b[0m: 'tuple' object does not support item assignment"
     ]
    }
   ],
   "source": [
    "# An example tuple\n",
    "mixed_tuple = (2, 3, \"Minnie\", 1.5, \"something else\")   #when you dont want to change the values at all\n",
    "print(\"The first element is:\", mixed_tuple[0])\n",
    "print(\"The third element is:\", mixed_tuple[2])\n",
    "print(\"The final element is:\", mixed_tuple[len(mixed_tuple) - 1])\n",
    "\n",
    "# Let's try to change an element\n",
    "mixed_tuple[2] = \"Ashley\""
   ]
  },
  {
   "cell_type": "markdown",
   "id": "00a80e2d",
   "metadata": {
    "slideshow": {
     "slide_type": "slide"
    }
   },
   "source": [
    "### Dictionaries\n",
    "\n",
    "A final data structure (for now) is a dictionary (often abbreviated *dict*). Dictionaries are unique key-value pairs created with curly brackets. It's easiest to see an example.\n",
    "\n",
    "We access elements a little differently here; we have to use the key name to access the value."
   ]
  },
  {
   "cell_type": "code",
   "execution_count": 26,
   "id": "89dcce35",
   "metadata": {
    "slideshow": {
     "slide_type": "fragment"
    }
   },
   "outputs": [
    {
     "name": "stdout",
     "output_type": "stream",
     "text": [
      "Roger's scores: [6, 4, 6, 6]\n",
      "Rafa's scores: [4, 6, 3]\n",
      "Andy's scores: injured\n"
     ]
    }
   ],
   "source": [
    "# An example dictionary\n",
    "scores = {'Roger' : [6, 4, 6, 6], 'Rafa' : [4, 6, 3], 'Andy' : 'injured'}\n",
    "print(\"Roger's scores:\", scores['Roger'])\n",
    "print(\"Rafa's scores:\", scores['Rafa'])\n",
    "print(\"Andy's scores:\", scores['Andy'])"
   ]
  },
  {
   "cell_type": "code",
   "execution_count": 30,
   "id": "3cdc96bb-6778-430a-82b5-cb145a33d379",
   "metadata": {},
   "outputs": [
    {
     "name": "stdout",
     "output_type": "stream",
     "text": [
      "Current keys are:  dict_keys(['Roger', 'Rafa', 'Andy', 'Novak'])\n"
     ]
    },
    {
     "ename": "TypeError",
     "evalue": "unhashable type: 'list'",
     "output_type": "error",
     "traceback": [
      "\u001b[1;31m---------------------------------------------------------------------------\u001b[0m",
      "\u001b[1;31mTypeError\u001b[0m                                 Traceback (most recent call last)",
      "Cell \u001b[1;32mIn[30], line 4\u001b[0m\n\u001b[0;32m      2\u001b[0m scores[\u001b[38;5;124m'\u001b[39m\u001b[38;5;124mNovak\u001b[39m\u001b[38;5;124m'\u001b[39m] \u001b[38;5;241m=\u001b[39m \u001b[38;5;241m3\u001b[39m\n\u001b[0;32m      3\u001b[0m \u001b[38;5;28mprint\u001b[39m(\u001b[38;5;124m\"\u001b[39m\u001b[38;5;124mCurrent keys are: \u001b[39m\u001b[38;5;124m\"\u001b[39m, scores\u001b[38;5;241m.\u001b[39mkeys())\n\u001b[1;32m----> 4\u001b[0m scores[\u001b[38;5;28mlist\u001b[39m(scores\u001b[38;5;241m.\u001b[39mkeys()), \u001b[38;5;241m0\u001b[39m]\n",
      "\u001b[1;31mTypeError\u001b[0m: unhashable type: 'list'"
     ]
    }
   ],
   "source": [
    "# We can add keys with values; we can't access at an index\n",
    "scores['Novak'] = 3\n",
    "print(\"Current keys are: \", scores.keys())\n",
    "scores[list(scores.keys()), 0]  ##\n",
    "\n",
    "#practice"
   ]
  },
  {
   "cell_type": "code",
   "execution_count": 34,
   "id": "e6aa38e4",
   "metadata": {
    "slideshow": {
     "slide_type": "slide"
    }
   },
   "outputs": [
    {
     "ename": "SyntaxError",
     "evalue": "unterminated string literal (detected at line 10) (2046812499.py, line 10)",
     "output_type": "error",
     "traceback": [
      "\u001b[1;36m  Cell \u001b[1;32mIn[34], line 10\u001b[1;36m\u001b[0m\n\u001b[1;33m    fam_names = {\"Ruijing\":23 ,\"mom\" :42, \"dad':40}\u001b[0m\n\u001b[1;37m                                          ^\u001b[0m\n\u001b[1;31mSyntaxError\u001b[0m\u001b[1;31m:\u001b[0m unterminated string literal (detected at line 10)\n"
     ]
    }
   ],
   "source": [
    "\"\"\"\n",
    "A few quick practice examples:\n",
    "\n",
    "Can you create a dictionary with your family members' names as the keys and your ages as the values?\n",
    "Now add someone random to the dictionary.\n",
    "For the next question, create a list and a tuple with your family members' names. \n",
    "Then, try to add someone to the list/tuple. Are there any problems?\n",
    "\"\"\"\n",
    "\n",
    "fam_names = {\"Ruijing\":23 ,\"mom\" :42, \"dad':40}\n",
    "print(fam_names)\n",
    "\n",
    "\n",
    "practice"
   ]
  },
  {
   "cell_type": "markdown",
   "id": "92563450",
   "metadata": {
    "slideshow": {
     "slide_type": "slide"
    }
   },
   "source": [
    "## Have a great weekend!"
   ]
  }
 ],
 "metadata": {
  "celltoolbar": "Slideshow",
  "kernelspec": {
   "display_name": "Python 3 (ipykernel)",
   "language": "python",
   "name": "python3"
  },
  "language_info": {
   "codemirror_mode": {
    "name": "ipython",
    "version": 3
   },
   "file_extension": ".py",
   "mimetype": "text/x-python",
   "name": "python",
   "nbconvert_exporter": "python",
   "pygments_lexer": "ipython3",
   "version": "3.11.5"
  },
  "vscode": {
   "interpreter": {
    "hash": "aee8b7b246df8f9039afb4144a1f6fd8d2ca17a180786b69acc140d282b71a49"
   }
  }
 },
 "nbformat": 4,
 "nbformat_minor": 5
}
