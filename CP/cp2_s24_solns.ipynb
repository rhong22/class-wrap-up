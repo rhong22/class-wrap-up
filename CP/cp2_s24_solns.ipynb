{
 "cells": [
  {
   "cell_type": "markdown",
   "metadata": {},
   "source": [
    "# Coding practice \\#2\n",
    "\n",
    "files needed = (`banks_and_branches.csv`, `nhe.csv`)\n",
    "\n",
    "Answer the questions below in a Jupyter notebook. You can modify this notebook by adding cells with your answers. It is recommended to try it on your own to practice the material in advance the exams."
   ]
  },
  {
   "cell_type": "markdown",
   "metadata": {},
   "source": [
    "## Exercise 0: Last, First\n",
    "Replace 'Last, First' above with your actual name. Enter it as your last name, first name."
   ]
  },
  {
   "cell_type": "code",
   "execution_count": 49,
   "metadata": {},
   "outputs": [],
   "source": [
    "# Load packages needed\n",
    "import os\n",
    "import pandas as pd\n",
    "import seaborn as sns\n",
    "import matplotlib.pyplot as plt\n",
    "%matplotlib inline"
   ]
  },
  {
   "cell_type": "markdown",
   "metadata": {},
   "source": [
    "## Exercise 1: Subsets\n",
    "Let's practice pulling subsets out of a DataFrame. We subset a lot. Our goal is to build some muscle memory, so that every time we need to subset the data, we do not need to go look up how to do it. \n",
    "\n",
    "To this end, first try the exercises below without consulting your notes or the internet. Identify where you need to improve and keep practicing! \n",
    "\n",
    "### Part (a):\n",
    "Create a DataFrame from the following dict: \n",
    "\n",
    "```python\n",
    "data_dict = {'animal':['koala', 'emu', 'platypus', 'kangaroo', 'capybara', 'frilled lizard'],\n",
    "             'order': ['Diprotodontia', 'Struthioniformes', 'Monotremata', 'Diprotodontia', 'Rodentia', 'Squamata'],\n",
    "             'class': ['Mammalia', ' Casuariiformes', 'Mammalia', 'Mammalia', 'Mammalia', 'Reptilia'],\n",
    "             'weight':[21, 86, 3.4, 62.5, 111.5, 1.3],\n",
    "            }\n",
    "```"
   ]
  },
  {
   "cell_type": "code",
   "execution_count": 32,
   "metadata": {},
   "outputs": [
    {
     "data": {
      "text/html": [
       "<div>\n",
       "<style scoped>\n",
       "    .dataframe tbody tr th:only-of-type {\n",
       "        vertical-align: middle;\n",
       "    }\n",
       "\n",
       "    .dataframe tbody tr th {\n",
       "        vertical-align: top;\n",
       "    }\n",
       "\n",
       "    .dataframe thead th {\n",
       "        text-align: right;\n",
       "    }\n",
       "</style>\n",
       "<table border=\"1\" class=\"dataframe\">\n",
       "  <thead>\n",
       "    <tr style=\"text-align: right;\">\n",
       "      <th></th>\n",
       "      <th>animal</th>\n",
       "      <th>order</th>\n",
       "      <th>class</th>\n",
       "      <th>weight</th>\n",
       "    </tr>\n",
       "  </thead>\n",
       "  <tbody>\n",
       "    <tr>\n",
       "      <th>0</th>\n",
       "      <td>koala</td>\n",
       "      <td>Diprotodontia</td>\n",
       "      <td>Mammalia</td>\n",
       "      <td>21.0</td>\n",
       "    </tr>\n",
       "    <tr>\n",
       "      <th>1</th>\n",
       "      <td>emu</td>\n",
       "      <td>Struthioniformes</td>\n",
       "      <td>Casuariiformes</td>\n",
       "      <td>86.0</td>\n",
       "    </tr>\n",
       "    <tr>\n",
       "      <th>2</th>\n",
       "      <td>platypus</td>\n",
       "      <td>Monotremata</td>\n",
       "      <td>Mammalia</td>\n",
       "      <td>3.4</td>\n",
       "    </tr>\n",
       "    <tr>\n",
       "      <th>3</th>\n",
       "      <td>kangaroo</td>\n",
       "      <td>Diprotodontia</td>\n",
       "      <td>Mammalia</td>\n",
       "      <td>62.5</td>\n",
       "    </tr>\n",
       "    <tr>\n",
       "      <th>4</th>\n",
       "      <td>capybara</td>\n",
       "      <td>Rodentia</td>\n",
       "      <td>Mammalia</td>\n",
       "      <td>111.5</td>\n",
       "    </tr>\n",
       "    <tr>\n",
       "      <th>5</th>\n",
       "      <td>frilled lizard</td>\n",
       "      <td>Squamata</td>\n",
       "      <td>Reptilia</td>\n",
       "      <td>1.3</td>\n",
       "    </tr>\n",
       "  </tbody>\n",
       "</table>\n",
       "</div>"
      ],
      "text/plain": [
       "           animal             order            class  weight\n",
       "0           koala     Diprotodontia         Mammalia    21.0\n",
       "1             emu  Struthioniformes   Casuariiformes    86.0\n",
       "2        platypus       Monotremata         Mammalia     3.4\n",
       "3        kangaroo     Diprotodontia         Mammalia    62.5\n",
       "4        capybara          Rodentia         Mammalia   111.5\n",
       "5  frilled lizard          Squamata         Reptilia     1.3"
      ]
     },
     "execution_count": 32,
     "metadata": {},
     "output_type": "execute_result"
    }
   ],
   "source": [
    "# Load dict \n",
    "data_dict = {'animal':['koala', 'emu', 'platypus', 'kangaroo', 'capybara', 'frilled lizard'],\n",
    "             'order': ['Diprotodontia', 'Struthioniformes', 'Monotremata', 'Diprotodontia', 'Rodentia', 'Squamata'],\n",
    "             'class': ['Mammalia', ' Casuariiformes', 'Mammalia', 'Mammalia', 'Mammalia', 'Reptilia'],\n",
    "            'weight':[21, 86, 3.4, 62.5, 111.5, 1.3],\n",
    "            }\n",
    "\n",
    "# Transform dict to pandas df \n",
    "data_df = pd.DataFrame(data_dict)\n",
    "data_df"
   ]
  },
  {
   "cell_type": "markdown",
   "metadata": {},
   "source": [
    "### Part (b): \n",
    "Create and print a DataFrame that includes all the information in the DataFrame from part (a), but also includes a column containing your own subjective ranking of how weird the animal is. This variable should have a minimum of 1 and a maximum of 6, with 1 indicating the weirdest animal and 6 the least weird, and there can be no ties."
   ]
  },
  {
   "cell_type": "code",
   "execution_count": 33,
   "metadata": {},
   "outputs": [
    {
     "data": {
      "text/html": [
       "<div>\n",
       "<style scoped>\n",
       "    .dataframe tbody tr th:only-of-type {\n",
       "        vertical-align: middle;\n",
       "    }\n",
       "\n",
       "    .dataframe tbody tr th {\n",
       "        vertical-align: top;\n",
       "    }\n",
       "\n",
       "    .dataframe thead th {\n",
       "        text-align: right;\n",
       "    }\n",
       "</style>\n",
       "<table border=\"1\" class=\"dataframe\">\n",
       "  <thead>\n",
       "    <tr style=\"text-align: right;\">\n",
       "      <th></th>\n",
       "      <th>animal</th>\n",
       "      <th>order</th>\n",
       "      <th>class</th>\n",
       "      <th>weight</th>\n",
       "      <th>weirdness</th>\n",
       "    </tr>\n",
       "  </thead>\n",
       "  <tbody>\n",
       "    <tr>\n",
       "      <th>0</th>\n",
       "      <td>koala</td>\n",
       "      <td>Diprotodontia</td>\n",
       "      <td>Mammalia</td>\n",
       "      <td>21.0</td>\n",
       "      <td>6</td>\n",
       "    </tr>\n",
       "    <tr>\n",
       "      <th>1</th>\n",
       "      <td>emu</td>\n",
       "      <td>Struthioniformes</td>\n",
       "      <td>Casuariiformes</td>\n",
       "      <td>86.0</td>\n",
       "      <td>4</td>\n",
       "    </tr>\n",
       "    <tr>\n",
       "      <th>2</th>\n",
       "      <td>platypus</td>\n",
       "      <td>Monotremata</td>\n",
       "      <td>Mammalia</td>\n",
       "      <td>3.4</td>\n",
       "      <td>1</td>\n",
       "    </tr>\n",
       "    <tr>\n",
       "      <th>3</th>\n",
       "      <td>kangaroo</td>\n",
       "      <td>Diprotodontia</td>\n",
       "      <td>Mammalia</td>\n",
       "      <td>62.5</td>\n",
       "      <td>5</td>\n",
       "    </tr>\n",
       "    <tr>\n",
       "      <th>4</th>\n",
       "      <td>capybara</td>\n",
       "      <td>Rodentia</td>\n",
       "      <td>Mammalia</td>\n",
       "      <td>111.5</td>\n",
       "      <td>3</td>\n",
       "    </tr>\n",
       "    <tr>\n",
       "      <th>5</th>\n",
       "      <td>frilled lizard</td>\n",
       "      <td>Squamata</td>\n",
       "      <td>Reptilia</td>\n",
       "      <td>1.3</td>\n",
       "      <td>2</td>\n",
       "    </tr>\n",
       "  </tbody>\n",
       "</table>\n",
       "</div>"
      ],
      "text/plain": [
       "           animal             order            class  weight  weirdness\n",
       "0           koala     Diprotodontia         Mammalia    21.0          6\n",
       "1             emu  Struthioniformes   Casuariiformes    86.0          4\n",
       "2        platypus       Monotremata         Mammalia     3.4          1\n",
       "3        kangaroo     Diprotodontia         Mammalia    62.5          5\n",
       "4        capybara          Rodentia         Mammalia   111.5          3\n",
       "5  frilled lizard          Squamata         Reptilia     1.3          2"
      ]
     },
     "execution_count": 33,
     "metadata": {},
     "output_type": "execute_result"
    }
   ],
   "source": [
    "# My weirdness order\n",
    "weirdness_order = [6, 4, 1, 5, 3, 2]\n",
    "\n",
    "# Add to data_df\n",
    "data_df['weirdness'] = weirdness_order\n",
    "data_df"
   ]
  },
  {
   "cell_type": "markdown",
   "metadata": {},
   "source": [
    "### Part (c):\n",
    "Print a Series containing the names of only the three weirdest non-reptiles (reptiles are class *Reptilia*), without directly referring to the animals by name or ``order``. Recall the `.sort_values` method. Using a markdown cell, explain what the numbers to the left of the animal names represent."
   ]
  },
  {
   "cell_type": "code",
   "execution_count": 34,
   "metadata": {},
   "outputs": [
    {
     "data": {
      "text/plain": [
       "2    platypus\n",
       "4    capybara\n",
       "1         emu\n",
       "Name: animal, dtype: object"
      ]
     },
     "execution_count": 34,
     "metadata": {},
     "output_type": "execute_result"
    }
   ],
   "source": [
    "# Subset of non-reptiles, ranked by weirdness \n",
    "animals_nr = data_df[(data_df['class'] != 'Reptilia')].sort_values('weirdness')\n",
    "\n",
    "# Select the three weirdest non-reptiles names\n",
    "animals_nr.head(3)['animal']"
   ]
  },
  {
   "cell_type": "markdown",
   "metadata": {},
   "source": [
    "The numbers to the left of the animal names in the above output are the index numbers corresponding to those animals in the original DataFrame. They were reordered when we used the `sort_values()` method."
   ]
  },
  {
   "cell_type": "markdown",
   "metadata": {},
   "source": [
    "### Part (d): \n",
    "Set the index of the DataFrame to `animal`. Then print the subset of the DataFrame containing only frilled lizards, koalas, and platypuses."
   ]
  },
  {
   "cell_type": "code",
   "execution_count": 35,
   "metadata": {},
   "outputs": [
    {
     "data": {
      "text/html": [
       "<div>\n",
       "<style scoped>\n",
       "    .dataframe tbody tr th:only-of-type {\n",
       "        vertical-align: middle;\n",
       "    }\n",
       "\n",
       "    .dataframe tbody tr th {\n",
       "        vertical-align: top;\n",
       "    }\n",
       "\n",
       "    .dataframe thead th {\n",
       "        text-align: right;\n",
       "    }\n",
       "</style>\n",
       "<table border=\"1\" class=\"dataframe\">\n",
       "  <thead>\n",
       "    <tr style=\"text-align: right;\">\n",
       "      <th></th>\n",
       "      <th>order</th>\n",
       "      <th>class</th>\n",
       "      <th>weight</th>\n",
       "      <th>weirdness</th>\n",
       "    </tr>\n",
       "    <tr>\n",
       "      <th>animal</th>\n",
       "      <th></th>\n",
       "      <th></th>\n",
       "      <th></th>\n",
       "      <th></th>\n",
       "    </tr>\n",
       "  </thead>\n",
       "  <tbody>\n",
       "    <tr>\n",
       "      <th>frilled lizard</th>\n",
       "      <td>Squamata</td>\n",
       "      <td>Reptilia</td>\n",
       "      <td>1.3</td>\n",
       "      <td>2</td>\n",
       "    </tr>\n",
       "    <tr>\n",
       "      <th>koala</th>\n",
       "      <td>Diprotodontia</td>\n",
       "      <td>Mammalia</td>\n",
       "      <td>21.0</td>\n",
       "      <td>6</td>\n",
       "    </tr>\n",
       "    <tr>\n",
       "      <th>platypus</th>\n",
       "      <td>Monotremata</td>\n",
       "      <td>Mammalia</td>\n",
       "      <td>3.4</td>\n",
       "      <td>1</td>\n",
       "    </tr>\n",
       "  </tbody>\n",
       "</table>\n",
       "</div>"
      ],
      "text/plain": [
       "                        order     class  weight  weirdness\n",
       "animal                                                    \n",
       "frilled lizard       Squamata  Reptilia     1.3          2\n",
       "koala           Diprotodontia  Mammalia    21.0          6\n",
       "platypus          Monotremata  Mammalia     3.4          1"
      ]
     },
     "execution_count": 35,
     "metadata": {},
     "output_type": "execute_result"
    }
   ],
   "source": [
    "# Set index to 'animal'\n",
    "data_df.set_index(['animal'], inplace = True)\n",
    "\n",
    "# Select only the animals of interest \n",
    "data_df.loc[['frilled lizard', 'koala', 'platypus']]\n",
    "# Alternative: data_df[data_df.index.isin(['frilled lizard', 'koala', 'platypus'])]"
   ]
  },
  {
   "cell_type": "markdown",
   "metadata": {},
   "source": [
    "### Part (e): \n",
    "Using the DataFrame from part (b), print out the average weirdness for mammals (class *Mammalia*) between 10 and 100 pounds. "
   ]
  },
  {
   "cell_type": "code",
   "execution_count": 36,
   "metadata": {},
   "outputs": [
    {
     "data": {
      "text/plain": [
       "5.5"
      ]
     },
     "execution_count": 36,
     "metadata": {},
     "output_type": "execute_result"
    }
   ],
   "source": [
    "# Select only mammals \n",
    "mammals = data_df[data_df['class'] == 'Mammalia']\n",
    "\n",
    "# Select mammals with weight > 10 and < 100 and take the mean of their weirdness index\n",
    "# NOTE: \"between 10 and 100 pounds\" means excluding endpoints!\n",
    "mammals[(mammals['weight'] > 10) & (mammals['weight'] < 100)]['weirdness'].mean()"
   ]
  },
  {
   "cell_type": "markdown",
   "metadata": {},
   "source": [
    "### Part (f):\n",
    "Using the DataFrame from part (b), print out the number of animals with weight above 4 pounds, filling in the XX the sentence \"There are XX animals in my DataFrame weighing above four pounds.\" "
   ]
  },
  {
   "cell_type": "code",
   "execution_count": 37,
   "metadata": {},
   "outputs": [
    {
     "name": "stdout",
     "output_type": "stream",
     "text": [
      "There are 4 animals in my DataFrame weighing above four pounds.\n"
     ]
    }
   ],
   "source": [
    "print('There are {0} animals in my DataFrame weighing above four pounds.'.format(data_df[data_df.weight > 4].shape[0]))"
   ]
  },
  {
   "cell_type": "markdown",
   "metadata": {},
   "source": [
    "### Part (g):\n",
    "Using the DataFrame from part (b), write code to determine whether the three *least weird* animals in your DataFrame weigh more or less than the average animal in the full dataset. Print one sentence clearly stating the results of this comparison."
   ]
  },
  {
   "cell_type": "code",
   "execution_count": 38,
   "metadata": {},
   "outputs": [
    {
     "name": "stdout",
     "output_type": "stream",
     "text": [
      "The least weird animals are heavier on average.\n"
     ]
    }
   ],
   "source": [
    "# Calculate the average weight of the three least weird animals in your dataframe \n",
    "mean_normies = data_df.sort_values('weirdness', ascending=False).head(3)['weight'].mean()\n",
    "\n",
    "# Calculate the average weight of all animals in the dataframe \n",
    "mean_all = data_df['weight'].mean()\n",
    "\n",
    "# Print a sentence that tells us whether the least weird animals in your dataframe weigh more or less than the average animal\n",
    "if mean_normies > mean_all:\n",
    "    print('The least weird animals are heavier on average.')\n",
    "else:\n",
    "    print('The least weird animals are lighter on average.')"
   ]
  },
  {
   "cell_type": "markdown",
   "metadata": {},
   "source": [
    "## Exercise 2: Importing data\n",
    "\n",
    "The file `banks_and_branches.csv` (on the course website for download) contains data on the number of commercial banking institutions, branches, and offices in the United States at the end of each year between 1934 and 2017. \n",
    "\n",
    "\\[The data are from Table CB01, which is maintained by the Federal Deposit Insurance Corporation (FDIC).  FDIC data can be downloaded from [here](https://www.fdic.gov/open/datatools.html). You are encouraged to browse around their website to see what's there &mdash; this might be a useful source for your final project.\\]\n",
    "\n",
    "Your task is to import this data into Python and get it into good shape. \n",
    "\n",
    "### Part (a):\n",
    "Import the data from `banks_and_branches.csv` into a pandas DataFrame called `banking_data`. If you open the .csv file in Excel or a similar program, you'll notice that there are notes in several of the cells at the beginning of the file. Write code that deletes those extraneous notes. This code should appear within the command you use to open the file."
   ]
  },
  {
   "cell_type": "code",
   "execution_count": 39,
   "metadata": {},
   "outputs": [
    {
     "data": {
      "text/html": [
       "<div>\n",
       "<style scoped>\n",
       "    .dataframe tbody tr th:only-of-type {\n",
       "        vertical-align: middle;\n",
       "    }\n",
       "\n",
       "    .dataframe tbody tr th {\n",
       "        vertical-align: top;\n",
       "    }\n",
       "\n",
       "    .dataframe thead th {\n",
       "        text-align: right;\n",
       "    }\n",
       "</style>\n",
       "<table border=\"1\" class=\"dataframe\">\n",
       "  <thead>\n",
       "    <tr style=\"text-align: right;\">\n",
       "      <th></th>\n",
       "      <th>Year</th>\n",
       "      <th>Institutions</th>\n",
       "      <th>Branches</th>\n",
       "      <th>Offices</th>\n",
       "    </tr>\n",
       "  </thead>\n",
       "  <tbody>\n",
       "    <tr>\n",
       "      <th>0</th>\n",
       "      <td>2017</td>\n",
       "      <td>4,918</td>\n",
       "      <td>79,163</td>\n",
       "      <td>84,081</td>\n",
       "    </tr>\n",
       "    <tr>\n",
       "      <th>1</th>\n",
       "      <td>2016</td>\n",
       "      <td>5,112</td>\n",
       "      <td>80,089</td>\n",
       "      <td>85,201</td>\n",
       "    </tr>\n",
       "    <tr>\n",
       "      <th>2</th>\n",
       "      <td>2015</td>\n",
       "      <td>5,340</td>\n",
       "      <td>81,541</td>\n",
       "      <td>86,881</td>\n",
       "    </tr>\n",
       "    <tr>\n",
       "      <th>3</th>\n",
       "      <td>2014</td>\n",
       "      <td>5,607</td>\n",
       "      <td>81,990</td>\n",
       "      <td>87,597</td>\n",
       "    </tr>\n",
       "    <tr>\n",
       "      <th>4</th>\n",
       "      <td>2013</td>\n",
       "      <td>5,847</td>\n",
       "      <td>82,735</td>\n",
       "      <td>88,582</td>\n",
       "    </tr>\n",
       "    <tr>\n",
       "      <th>...</th>\n",
       "      <td>...</td>\n",
       "      <td>...</td>\n",
       "      <td>...</td>\n",
       "      <td>...</td>\n",
       "    </tr>\n",
       "    <tr>\n",
       "      <th>79</th>\n",
       "      <td>1938</td>\n",
       "      <td>13,661</td>\n",
       "      <td>3,412</td>\n",
       "      <td>17,073</td>\n",
       "    </tr>\n",
       "    <tr>\n",
       "      <th>80</th>\n",
       "      <td>1937</td>\n",
       "      <td>13,797</td>\n",
       "      <td>3,381</td>\n",
       "      <td>17,178</td>\n",
       "    </tr>\n",
       "    <tr>\n",
       "      <th>81</th>\n",
       "      <td>1936</td>\n",
       "      <td>13,973</td>\n",
       "      <td>3,261</td>\n",
       "      <td>17,234</td>\n",
       "    </tr>\n",
       "    <tr>\n",
       "      <th>82</th>\n",
       "      <td>1935</td>\n",
       "      <td>14,125</td>\n",
       "      <td>3,112</td>\n",
       "      <td>17,237</td>\n",
       "    </tr>\n",
       "    <tr>\n",
       "      <th>83</th>\n",
       "      <td>1934</td>\n",
       "      <td>14,146</td>\n",
       "      <td>0</td>\n",
       "      <td>14,146</td>\n",
       "    </tr>\n",
       "  </tbody>\n",
       "</table>\n",
       "<p>84 rows × 4 columns</p>\n",
       "</div>"
      ],
      "text/plain": [
       "    Year Institutions Branches Offices\n",
       "0   2017        4,918   79,163  84,081\n",
       "1   2016        5,112   80,089  85,201\n",
       "2   2015        5,340   81,541  86,881\n",
       "3   2014        5,607   81,990  87,597\n",
       "4   2013        5,847   82,735  88,582\n",
       "..   ...          ...      ...     ...\n",
       "79  1938       13,661    3,412  17,073\n",
       "80  1937       13,797    3,381  17,178\n",
       "81  1936       13,973    3,261  17,234\n",
       "82  1935       14,125    3,112  17,237\n",
       "83  1934       14,146        0  14,146\n",
       "\n",
       "[84 rows x 4 columns]"
      ]
     },
     "execution_count": 39,
     "metadata": {},
     "output_type": "execute_result"
    }
   ],
   "source": [
    "# Import data using pandas \n",
    "banks = pd.read_csv('banks_and_branches.csv', header=6)\n",
    "banks"
   ]
  },
  {
   "cell_type": "markdown",
   "metadata": {},
   "source": [
    "### Part (b):\n",
    "1. Sort the data in ascending chronological order. Print the first and last dates in the data. Set the index to be the year column.\n",
    "2. Convert each of the column names to upper case using a list comprehension.\n",
    "3. Delete the `offices` column.\n",
    "4. Summarize the data in each column. Why does this look different from the usual `.describe` output? Print your answer in a markdown cell."
   ]
  },
  {
   "cell_type": "code",
   "execution_count": 40,
   "metadata": {},
   "outputs": [
    {
     "name": "stdout",
     "output_type": "stream",
     "text": [
      "The first year is 1934 and the last year is 2017.\n"
     ]
    },
    {
     "data": {
      "text/html": [
       "<div>\n",
       "<style scoped>\n",
       "    .dataframe tbody tr th:only-of-type {\n",
       "        vertical-align: middle;\n",
       "    }\n",
       "\n",
       "    .dataframe tbody tr th {\n",
       "        vertical-align: top;\n",
       "    }\n",
       "\n",
       "    .dataframe thead th {\n",
       "        text-align: right;\n",
       "    }\n",
       "</style>\n",
       "<table border=\"1\" class=\"dataframe\">\n",
       "  <thead>\n",
       "    <tr style=\"text-align: right;\">\n",
       "      <th></th>\n",
       "      <th>INSTITUTIONS</th>\n",
       "      <th>BRANCHES</th>\n",
       "    </tr>\n",
       "  </thead>\n",
       "  <tbody>\n",
       "    <tr>\n",
       "      <th>count</th>\n",
       "      <td>84</td>\n",
       "      <td>84</td>\n",
       "    </tr>\n",
       "    <tr>\n",
       "      <th>unique</th>\n",
       "      <td>82</td>\n",
       "      <td>84</td>\n",
       "    </tr>\n",
       "    <tr>\n",
       "      <th>top</th>\n",
       "      <td>13,124</td>\n",
       "      <td>0</td>\n",
       "    </tr>\n",
       "    <tr>\n",
       "      <th>freq</th>\n",
       "      <td>2</td>\n",
       "      <td>1</td>\n",
       "    </tr>\n",
       "  </tbody>\n",
       "</table>\n",
       "</div>"
      ],
      "text/plain": [
       "       INSTITUTIONS BRANCHES\n",
       "count            84       84\n",
       "unique           82       84\n",
       "top          13,124        0\n",
       "freq              2        1"
      ]
     },
     "execution_count": 40,
     "metadata": {},
     "output_type": "execute_result"
    }
   ],
   "source": [
    "# Part 1\n",
    "banks.sort_values('Year', inplace=True)\n",
    "print('The first year is {0:.0f} and the last year is {1:.0f}.'.format(banks.head(1)['Year'].mean(), banks.tail(1)['Year'].mean()))\n",
    "banks.set_index('Year', inplace=True)\n",
    "\n",
    "# Part 2\n",
    "banks.columns = [col.upper() for col in banks.columns]\n",
    "\n",
    "# Part 3\n",
    "banks.drop('OFFICES', axis=1, inplace=True)\n",
    "\n",
    "# Part 4\n",
    "banks.describe()"
   ]
  },
  {
   "cell_type": "code",
   "execution_count": 41,
   "metadata": {},
   "outputs": [
    {
     "data": {
      "text/plain": [
       "INSTITUTIONS    object\n",
       "BRANCHES        object\n",
       "dtype: object"
      ]
     },
     "execution_count": 41,
     "metadata": {},
     "output_type": "execute_result"
    }
   ],
   "source": [
    "# The output of .describe() looks weird... Let's take a look at what the variable types are \n",
    "banks.dtypes"
   ]
  },
  {
   "cell_type": "markdown",
   "metadata": {},
   "source": [
    "#### The variables 'INSTITUTIONS' and 'BRANCHES' are string types! We can't get summary statistics like mean, median, first and last quartile on a non-numeric variable. Let's fix these variables in the next question."
   ]
  },
  {
   "cell_type": "markdown",
   "metadata": {},
   "source": [
    "### Part (c):\n",
    "\n",
    "1. Use a loop to fix the `object` columns so they are of type `integer`. \\[Have a look at `str.replace()` and `.astype()`.\\]\n",
    "2. Summarize the data to confirm that they are fixed.\n",
    "3. Create a new column that calculates the number of branches per institution in each year. What is the average value across years?\n",
    "4. Save the results in a CSV called `bank_data.csv`. Save it to a subdirectory of your current working directory called `data`."
   ]
  },
  {
   "cell_type": "code",
   "execution_count": 42,
   "metadata": {},
   "outputs": [
    {
     "data": {
      "text/html": [
       "<div>\n",
       "<style scoped>\n",
       "    .dataframe tbody tr th:only-of-type {\n",
       "        vertical-align: middle;\n",
       "    }\n",
       "\n",
       "    .dataframe tbody tr th {\n",
       "        vertical-align: top;\n",
       "    }\n",
       "\n",
       "    .dataframe thead th {\n",
       "        text-align: right;\n",
       "    }\n",
       "</style>\n",
       "<table border=\"1\" class=\"dataframe\">\n",
       "  <thead>\n",
       "    <tr style=\"text-align: right;\">\n",
       "      <th></th>\n",
       "      <th>INSTITUTIONS</th>\n",
       "      <th>BRANCHES</th>\n",
       "    </tr>\n",
       "  </thead>\n",
       "  <tbody>\n",
       "    <tr>\n",
       "      <th>count</th>\n",
       "      <td>84.000000</td>\n",
       "      <td>84.000000</td>\n",
       "    </tr>\n",
       "    <tr>\n",
       "      <th>mean</th>\n",
       "      <td>11781.797619</td>\n",
       "      <td>35196.369048</td>\n",
       "    </tr>\n",
       "    <tr>\n",
       "      <th>std</th>\n",
       "      <td>2952.608770</td>\n",
       "      <td>28349.288436</td>\n",
       "    </tr>\n",
       "    <tr>\n",
       "      <th>min</th>\n",
       "      <td>4918.000000</td>\n",
       "      <td>0.000000</td>\n",
       "    </tr>\n",
       "    <tr>\n",
       "      <th>25%</th>\n",
       "      <td>9433.500000</td>\n",
       "      <td>6810.250000</td>\n",
       "    </tr>\n",
       "    <tr>\n",
       "      <th>50%</th>\n",
       "      <td>13312.500000</td>\n",
       "      <td>30774.500000</td>\n",
       "    </tr>\n",
       "    <tr>\n",
       "      <th>75%</th>\n",
       "      <td>13624.250000</td>\n",
       "      <td>59024.750000</td>\n",
       "    </tr>\n",
       "    <tr>\n",
       "      <th>max</th>\n",
       "      <td>14496.000000</td>\n",
       "      <td>83576.000000</td>\n",
       "    </tr>\n",
       "  </tbody>\n",
       "</table>\n",
       "</div>"
      ],
      "text/plain": [
       "       INSTITUTIONS      BRANCHES\n",
       "count     84.000000     84.000000\n",
       "mean   11781.797619  35196.369048\n",
       "std     2952.608770  28349.288436\n",
       "min     4918.000000      0.000000\n",
       "25%     9433.500000   6810.250000\n",
       "50%    13312.500000  30774.500000\n",
       "75%    13624.250000  59024.750000\n",
       "max    14496.000000  83576.000000"
      ]
     },
     "execution_count": 42,
     "metadata": {},
     "output_type": "execute_result"
    }
   ],
   "source": [
    "# Parts 1 and 2\n",
    "for col in banks.columns:\n",
    "    banks[col] = banks[col].str.replace(',','').astype(int)\n",
    "banks.describe()"
   ]
  },
  {
   "cell_type": "code",
   "execution_count": 43,
   "metadata": {},
   "outputs": [
    {
     "data": {
      "text/html": [
       "<div>\n",
       "<style scoped>\n",
       "    .dataframe tbody tr th:only-of-type {\n",
       "        vertical-align: middle;\n",
       "    }\n",
       "\n",
       "    .dataframe tbody tr th {\n",
       "        vertical-align: top;\n",
       "    }\n",
       "\n",
       "    .dataframe thead th {\n",
       "        text-align: right;\n",
       "    }\n",
       "</style>\n",
       "<table border=\"1\" class=\"dataframe\">\n",
       "  <thead>\n",
       "    <tr style=\"text-align: right;\">\n",
       "      <th></th>\n",
       "      <th>INSTITUTIONS</th>\n",
       "      <th>BRANCHES</th>\n",
       "      <th>inst_per_state</th>\n",
       "      <th>branch_inst_rat</th>\n",
       "    </tr>\n",
       "    <tr>\n",
       "      <th>Year</th>\n",
       "      <th></th>\n",
       "      <th></th>\n",
       "      <th></th>\n",
       "      <th></th>\n",
       "    </tr>\n",
       "  </thead>\n",
       "  <tbody>\n",
       "    <tr>\n",
       "      <th>1934</th>\n",
       "      <td>14146</td>\n",
       "      <td>0</td>\n",
       "      <td>11781.797619</td>\n",
       "      <td>0.000000</td>\n",
       "    </tr>\n",
       "    <tr>\n",
       "      <th>1935</th>\n",
       "      <td>14125</td>\n",
       "      <td>3112</td>\n",
       "      <td>11781.797619</td>\n",
       "      <td>0.220319</td>\n",
       "    </tr>\n",
       "    <tr>\n",
       "      <th>1936</th>\n",
       "      <td>13973</td>\n",
       "      <td>3261</td>\n",
       "      <td>11781.797619</td>\n",
       "      <td>0.233379</td>\n",
       "    </tr>\n",
       "    <tr>\n",
       "      <th>1937</th>\n",
       "      <td>13797</td>\n",
       "      <td>3381</td>\n",
       "      <td>11781.797619</td>\n",
       "      <td>0.245053</td>\n",
       "    </tr>\n",
       "    <tr>\n",
       "      <th>1938</th>\n",
       "      <td>13661</td>\n",
       "      <td>3412</td>\n",
       "      <td>11781.797619</td>\n",
       "      <td>0.249762</td>\n",
       "    </tr>\n",
       "    <tr>\n",
       "      <th>...</th>\n",
       "      <td>...</td>\n",
       "      <td>...</td>\n",
       "      <td>...</td>\n",
       "      <td>...</td>\n",
       "    </tr>\n",
       "    <tr>\n",
       "      <th>2013</th>\n",
       "      <td>5847</td>\n",
       "      <td>82735</td>\n",
       "      <td>11781.797619</td>\n",
       "      <td>14.149991</td>\n",
       "    </tr>\n",
       "    <tr>\n",
       "      <th>2014</th>\n",
       "      <td>5607</td>\n",
       "      <td>81990</td>\n",
       "      <td>11781.797619</td>\n",
       "      <td>14.622793</td>\n",
       "    </tr>\n",
       "    <tr>\n",
       "      <th>2015</th>\n",
       "      <td>5340</td>\n",
       "      <td>81541</td>\n",
       "      <td>11781.797619</td>\n",
       "      <td>15.269850</td>\n",
       "    </tr>\n",
       "    <tr>\n",
       "      <th>2016</th>\n",
       "      <td>5112</td>\n",
       "      <td>80089</td>\n",
       "      <td>11781.797619</td>\n",
       "      <td>15.666862</td>\n",
       "    </tr>\n",
       "    <tr>\n",
       "      <th>2017</th>\n",
       "      <td>4918</td>\n",
       "      <td>79163</td>\n",
       "      <td>11781.797619</td>\n",
       "      <td>16.096584</td>\n",
       "    </tr>\n",
       "  </tbody>\n",
       "</table>\n",
       "<p>84 rows × 4 columns</p>\n",
       "</div>"
      ],
      "text/plain": [
       "      INSTITUTIONS  BRANCHES  inst_per_state  branch_inst_rat\n",
       "Year                                                         \n",
       "1934         14146         0    11781.797619         0.000000\n",
       "1935         14125      3112    11781.797619         0.220319\n",
       "1936         13973      3261    11781.797619         0.233379\n",
       "1937         13797      3381    11781.797619         0.245053\n",
       "1938         13661      3412    11781.797619         0.249762\n",
       "...            ...       ...             ...              ...\n",
       "2013          5847     82735    11781.797619        14.149991\n",
       "2014          5607     81990    11781.797619        14.622793\n",
       "2015          5340     81541    11781.797619        15.269850\n",
       "2016          5112     80089    11781.797619        15.666862\n",
       "2017          4918     79163    11781.797619        16.096584\n",
       "\n",
       "[84 rows x 4 columns]"
      ]
     },
     "execution_count": 43,
     "metadata": {},
     "output_type": "execute_result"
    }
   ],
   "source": [
    "# Part 3\n",
    "banks['inst_per_state'] = banks['INSTITUTIONS'].mean()\n",
    "banks['branch_inst_rat'] = banks['BRANCHES']/banks['INSTITUTIONS']\n",
    "banks"
   ]
  },
  {
   "cell_type": "code",
   "execution_count": 44,
   "metadata": {},
   "outputs": [
    {
     "data": {
      "text/plain": [
       "4.066972781916531"
      ]
     },
     "execution_count": 44,
     "metadata": {},
     "output_type": "execute_result"
    }
   ],
   "source": [
    "# Mean across years\n",
    "banks['branch_inst_rat'].mean()"
   ]
  },
  {
   "cell_type": "code",
   "execution_count": 46,
   "metadata": {},
   "outputs": [],
   "source": [
    "# Part 4\n",
    "#banks.to_csv(os.getcwd() + '/data/' + 'bank_data.csv')"
   ]
  },
  {
   "cell_type": "markdown",
   "metadata": {},
   "source": [
    "## Exercise 3\n",
    "Let's work with some data on health expenditures. The data comes from the [Centers for Medicare and Medicaid Services (CMS)](https://www.cms.gov/research-statistics-data-and-systems/statistics-trends-and-reports/nationalhealthexpenddata/nationalhealthaccountshistorical). The goal is to brush up on our data cleaning skills, compute a few summary statistics, and make a simple visualization. \n",
    "\n",
    "### Part (a):\n",
    "1. The file `nhe.csv` contains a column with the year and the total amount spent on healthcare in billions of dollars in that year. Read it into a DataFrame and create a series of growth rates. Print out the first 10 observations. [Hint: Check out the `pct_change` method.]"
   ]
  },
  {
   "cell_type": "code",
   "execution_count": null,
   "metadata": {},
   "outputs": [],
   "source": []
  },
  {
   "cell_type": "code",
   "execution_count": 51,
   "metadata": {
    "scrolled": true
   },
   "outputs": [
    {
     "ename": "TypeError",
     "evalue": "unsupported operand type(s) for /: 'str' and 'str'",
     "output_type": "error",
     "traceback": [
      "\u001b[1;31m---------------------------------------------------------------------------\u001b[0m",
      "\u001b[1;31mTypeError\u001b[0m                                 Traceback (most recent call last)",
      "File \u001b[1;32mC:\\ProgramData\\Anaconda3\\Lib\\site-packages\\pandas\\core\\ops\\array_ops.py:220\u001b[0m, in \u001b[0;36m_na_arithmetic_op\u001b[1;34m(left, right, op, is_cmp)\u001b[0m\n\u001b[0;32m    219\u001b[0m \u001b[38;5;28;01mtry\u001b[39;00m:\n\u001b[1;32m--> 220\u001b[0m     result \u001b[38;5;241m=\u001b[39m func(left, right)\n\u001b[0;32m    221\u001b[0m \u001b[38;5;28;01mexcept\u001b[39;00m \u001b[38;5;167;01mTypeError\u001b[39;00m:\n",
      "File \u001b[1;32mC:\\ProgramData\\Anaconda3\\Lib\\site-packages\\pandas\\core\\computation\\expressions.py:242\u001b[0m, in \u001b[0;36mevaluate\u001b[1;34m(op, a, b, use_numexpr)\u001b[0m\n\u001b[0;32m    240\u001b[0m     \u001b[38;5;28;01mif\u001b[39;00m use_numexpr:\n\u001b[0;32m    241\u001b[0m         \u001b[38;5;66;03m# error: \"None\" not callable\u001b[39;00m\n\u001b[1;32m--> 242\u001b[0m         \u001b[38;5;28;01mreturn\u001b[39;00m _evaluate(op, op_str, a, b)  \u001b[38;5;66;03m# type: ignore[misc]\u001b[39;00m\n\u001b[0;32m    243\u001b[0m \u001b[38;5;28;01mreturn\u001b[39;00m _evaluate_standard(op, op_str, a, b)\n",
      "File \u001b[1;32mC:\\ProgramData\\Anaconda3\\Lib\\site-packages\\pandas\\core\\computation\\expressions.py:131\u001b[0m, in \u001b[0;36m_evaluate_numexpr\u001b[1;34m(op, op_str, a, b)\u001b[0m\n\u001b[0;32m    130\u001b[0m \u001b[38;5;28;01mif\u001b[39;00m result \u001b[38;5;129;01mis\u001b[39;00m \u001b[38;5;28;01mNone\u001b[39;00m:\n\u001b[1;32m--> 131\u001b[0m     result \u001b[38;5;241m=\u001b[39m _evaluate_standard(op, op_str, a, b)\n\u001b[0;32m    133\u001b[0m \u001b[38;5;28;01mreturn\u001b[39;00m result\n",
      "File \u001b[1;32mC:\\ProgramData\\Anaconda3\\Lib\\site-packages\\pandas\\core\\computation\\expressions.py:73\u001b[0m, in \u001b[0;36m_evaluate_standard\u001b[1;34m(op, op_str, a, b)\u001b[0m\n\u001b[0;32m     72\u001b[0m     _store_test_result(\u001b[38;5;28;01mFalse\u001b[39;00m)\n\u001b[1;32m---> 73\u001b[0m \u001b[38;5;28;01mreturn\u001b[39;00m op(a, b)\n",
      "\u001b[1;31mTypeError\u001b[0m: unsupported operand type(s) for /: 'str' and 'NoneType'",
      "\nDuring handling of the above exception, another exception occurred:\n",
      "\u001b[1;31mTypeError\u001b[0m                                 Traceback (most recent call last)",
      "Cell \u001b[1;32mIn[51], line 3\u001b[0m\n\u001b[0;32m      1\u001b[0m \u001b[38;5;66;03m# Import data using pandas \u001b[39;00m\n\u001b[0;32m      2\u001b[0m nhe \u001b[38;5;241m=\u001b[39m pd\u001b[38;5;241m.\u001b[39mread_csv(\u001b[38;5;124m'\u001b[39m\u001b[38;5;124mnhe.csv\u001b[39m\u001b[38;5;124m'\u001b[39m)\n\u001b[1;32m----> 3\u001b[0m nhe[\u001b[38;5;124m'\u001b[39m\u001b[38;5;124mgrowth\u001b[39m\u001b[38;5;124m'\u001b[39m] \u001b[38;5;241m=\u001b[39m nhe[\u001b[38;5;124m'\u001b[39m\u001b[38;5;124mnhe\u001b[39m\u001b[38;5;124m'\u001b[39m]\u001b[38;5;241m.\u001b[39mpct_change()\n\u001b[0;32m      4\u001b[0m nhe\u001b[38;5;241m.\u001b[39mhead(\u001b[38;5;241m10\u001b[39m)\n",
      "File \u001b[1;32mC:\\ProgramData\\Anaconda3\\Lib\\site-packages\\pandas\\core\\generic.py:11722\u001b[0m, in \u001b[0;36mNDFrame.pct_change\u001b[1;34m(self, periods, fill_method, limit, freq, **kwargs)\u001b[0m\n\u001b[0;32m  11720\u001b[0m shifted \u001b[38;5;241m=\u001b[39m data\u001b[38;5;241m.\u001b[39mshift(periods\u001b[38;5;241m=\u001b[39mperiods, freq\u001b[38;5;241m=\u001b[39mfreq, axis\u001b[38;5;241m=\u001b[39maxis, \u001b[38;5;241m*\u001b[39m\u001b[38;5;241m*\u001b[39mkwargs)\n\u001b[0;32m  11721\u001b[0m \u001b[38;5;66;03m# Unsupported left operand type for / (\"Self\")\u001b[39;00m\n\u001b[1;32m> 11722\u001b[0m rs \u001b[38;5;241m=\u001b[39m data \u001b[38;5;241m/\u001b[39m shifted \u001b[38;5;241m-\u001b[39m \u001b[38;5;241m1\u001b[39m  \u001b[38;5;66;03m# type: ignore[operator]\u001b[39;00m\n\u001b[0;32m  11723\u001b[0m \u001b[38;5;28;01mif\u001b[39;00m freq \u001b[38;5;129;01mis\u001b[39;00m \u001b[38;5;129;01mnot\u001b[39;00m \u001b[38;5;28;01mNone\u001b[39;00m:\n\u001b[0;32m  11724\u001b[0m     \u001b[38;5;66;03m# Shift method is implemented differently when freq is not None\u001b[39;00m\n\u001b[0;32m  11725\u001b[0m     \u001b[38;5;66;03m# We want to restore the original index\u001b[39;00m\n\u001b[0;32m  11726\u001b[0m     rs \u001b[38;5;241m=\u001b[39m rs\u001b[38;5;241m.\u001b[39mloc[\u001b[38;5;241m~\u001b[39mrs\u001b[38;5;241m.\u001b[39mindex\u001b[38;5;241m.\u001b[39mduplicated()]\n",
      "File \u001b[1;32mC:\\ProgramData\\Anaconda3\\Lib\\site-packages\\pandas\\core\\ops\\common.py:76\u001b[0m, in \u001b[0;36m_unpack_zerodim_and_defer.<locals>.new_method\u001b[1;34m(self, other)\u001b[0m\n\u001b[0;32m     72\u001b[0m             \u001b[38;5;28;01mreturn\u001b[39;00m \u001b[38;5;28mNotImplemented\u001b[39m\n\u001b[0;32m     74\u001b[0m other \u001b[38;5;241m=\u001b[39m item_from_zerodim(other)\n\u001b[1;32m---> 76\u001b[0m \u001b[38;5;28;01mreturn\u001b[39;00m method(\u001b[38;5;28mself\u001b[39m, other)\n",
      "File \u001b[1;32mC:\\ProgramData\\Anaconda3\\Lib\\site-packages\\pandas\\core\\arraylike.py:210\u001b[0m, in \u001b[0;36mOpsMixin.__truediv__\u001b[1;34m(self, other)\u001b[0m\n\u001b[0;32m    208\u001b[0m \u001b[38;5;129m@unpack_zerodim_and_defer\u001b[39m(\u001b[38;5;124m\"\u001b[39m\u001b[38;5;124m__truediv__\u001b[39m\u001b[38;5;124m\"\u001b[39m)\n\u001b[0;32m    209\u001b[0m \u001b[38;5;28;01mdef\u001b[39;00m \u001b[38;5;21m__truediv__\u001b[39m(\u001b[38;5;28mself\u001b[39m, other):\n\u001b[1;32m--> 210\u001b[0m     \u001b[38;5;28;01mreturn\u001b[39;00m \u001b[38;5;28mself\u001b[39m\u001b[38;5;241m.\u001b[39m_arith_method(other, operator\u001b[38;5;241m.\u001b[39mtruediv)\n",
      "File \u001b[1;32mC:\\ProgramData\\Anaconda3\\Lib\\site-packages\\pandas\\core\\series.py:5815\u001b[0m, in \u001b[0;36mSeries._arith_method\u001b[1;34m(self, other, op)\u001b[0m\n\u001b[0;32m   5813\u001b[0m \u001b[38;5;28;01mdef\u001b[39;00m \u001b[38;5;21m_arith_method\u001b[39m(\u001b[38;5;28mself\u001b[39m, other, op):\n\u001b[0;32m   5814\u001b[0m     \u001b[38;5;28mself\u001b[39m, other \u001b[38;5;241m=\u001b[39m \u001b[38;5;28mself\u001b[39m\u001b[38;5;241m.\u001b[39m_align_for_op(other)\n\u001b[1;32m-> 5815\u001b[0m     \u001b[38;5;28;01mreturn\u001b[39;00m base\u001b[38;5;241m.\u001b[39mIndexOpsMixin\u001b[38;5;241m.\u001b[39m_arith_method(\u001b[38;5;28mself\u001b[39m, other, op)\n",
      "File \u001b[1;32mC:\\ProgramData\\Anaconda3\\Lib\\site-packages\\pandas\\core\\base.py:1381\u001b[0m, in \u001b[0;36mIndexOpsMixin._arith_method\u001b[1;34m(self, other, op)\u001b[0m\n\u001b[0;32m   1378\u001b[0m     rvalues \u001b[38;5;241m=\u001b[39m np\u001b[38;5;241m.\u001b[39marange(rvalues\u001b[38;5;241m.\u001b[39mstart, rvalues\u001b[38;5;241m.\u001b[39mstop, rvalues\u001b[38;5;241m.\u001b[39mstep)\n\u001b[0;32m   1380\u001b[0m \u001b[38;5;28;01mwith\u001b[39;00m np\u001b[38;5;241m.\u001b[39merrstate(\u001b[38;5;28mall\u001b[39m\u001b[38;5;241m=\u001b[39m\u001b[38;5;124m\"\u001b[39m\u001b[38;5;124mignore\u001b[39m\u001b[38;5;124m\"\u001b[39m):\n\u001b[1;32m-> 1381\u001b[0m     result \u001b[38;5;241m=\u001b[39m ops\u001b[38;5;241m.\u001b[39marithmetic_op(lvalues, rvalues, op)\n\u001b[0;32m   1383\u001b[0m \u001b[38;5;28;01mreturn\u001b[39;00m \u001b[38;5;28mself\u001b[39m\u001b[38;5;241m.\u001b[39m_construct_result(result, name\u001b[38;5;241m=\u001b[39mres_name)\n",
      "File \u001b[1;32mC:\\ProgramData\\Anaconda3\\Lib\\site-packages\\pandas\\core\\ops\\array_ops.py:285\u001b[0m, in \u001b[0;36marithmetic_op\u001b[1;34m(left, right, op)\u001b[0m\n\u001b[0;32m    281\u001b[0m     _bool_arith_check(op, left, right)  \u001b[38;5;66;03m# type: ignore[arg-type]\u001b[39;00m\n\u001b[0;32m    283\u001b[0m     \u001b[38;5;66;03m# error: Argument 1 to \"_na_arithmetic_op\" has incompatible type\u001b[39;00m\n\u001b[0;32m    284\u001b[0m     \u001b[38;5;66;03m# \"Union[ExtensionArray, ndarray[Any, Any]]\"; expected \"ndarray[Any, Any]\"\u001b[39;00m\n\u001b[1;32m--> 285\u001b[0m     res_values \u001b[38;5;241m=\u001b[39m _na_arithmetic_op(left, right, op)  \u001b[38;5;66;03m# type: ignore[arg-type]\u001b[39;00m\n\u001b[0;32m    287\u001b[0m \u001b[38;5;28;01mreturn\u001b[39;00m res_values\n",
      "File \u001b[1;32mC:\\ProgramData\\Anaconda3\\Lib\\site-packages\\pandas\\core\\ops\\array_ops.py:229\u001b[0m, in \u001b[0;36m_na_arithmetic_op\u001b[1;34m(left, right, op, is_cmp)\u001b[0m\n\u001b[0;32m    221\u001b[0m \u001b[38;5;28;01mexcept\u001b[39;00m \u001b[38;5;167;01mTypeError\u001b[39;00m:\n\u001b[0;32m    222\u001b[0m     \u001b[38;5;28;01mif\u001b[39;00m \u001b[38;5;129;01mnot\u001b[39;00m is_cmp \u001b[38;5;129;01mand\u001b[39;00m (\n\u001b[0;32m    223\u001b[0m         left\u001b[38;5;241m.\u001b[39mdtype \u001b[38;5;241m==\u001b[39m \u001b[38;5;28mobject\u001b[39m \u001b[38;5;129;01mor\u001b[39;00m \u001b[38;5;28mgetattr\u001b[39m(right, \u001b[38;5;124m\"\u001b[39m\u001b[38;5;124mdtype\u001b[39m\u001b[38;5;124m\"\u001b[39m, \u001b[38;5;28;01mNone\u001b[39;00m) \u001b[38;5;241m==\u001b[39m \u001b[38;5;28mobject\u001b[39m\n\u001b[0;32m    224\u001b[0m     ):\n\u001b[1;32m   (...)\u001b[0m\n\u001b[0;32m    227\u001b[0m         \u001b[38;5;66;03m# Don't do this for comparisons, as that will handle complex numbers\u001b[39;00m\n\u001b[0;32m    228\u001b[0m         \u001b[38;5;66;03m#  incorrectly, see GH#32047\u001b[39;00m\n\u001b[1;32m--> 229\u001b[0m         result \u001b[38;5;241m=\u001b[39m _masked_arith_op(left, right, op)\n\u001b[0;32m    230\u001b[0m     \u001b[38;5;28;01melse\u001b[39;00m:\n\u001b[0;32m    231\u001b[0m         \u001b[38;5;28;01mraise\u001b[39;00m\n",
      "File \u001b[1;32mC:\\ProgramData\\Anaconda3\\Lib\\site-packages\\pandas\\core\\ops\\array_ops.py:165\u001b[0m, in \u001b[0;36m_masked_arith_op\u001b[1;34m(x, y, op)\u001b[0m\n\u001b[0;32m    163\u001b[0m     \u001b[38;5;66;03m# See GH#5284, GH#5035, GH#19448 for historical reference\u001b[39;00m\n\u001b[0;32m    164\u001b[0m     \u001b[38;5;28;01mif\u001b[39;00m mask\u001b[38;5;241m.\u001b[39many():\n\u001b[1;32m--> 165\u001b[0m         result[mask] \u001b[38;5;241m=\u001b[39m op(xrav[mask], yrav[mask])\n\u001b[0;32m    167\u001b[0m \u001b[38;5;28;01melse\u001b[39;00m:\n\u001b[0;32m    168\u001b[0m     \u001b[38;5;28;01mif\u001b[39;00m \u001b[38;5;129;01mnot\u001b[39;00m is_scalar(y):\n",
      "\u001b[1;31mTypeError\u001b[0m: unsupported operand type(s) for /: 'str' and 'str'"
     ]
    }
   ],
   "source": [
    "# Import data using pandas \n",
    "nhe = pd.read_csv('nhe.csv')\n",
    "nhe['growth'] = nhe['nhe'].pct_change()\n",
    "nhe.head(10)"
   ]
  },
  {
   "cell_type": "markdown",
   "metadata": {},
   "source": [
    "2. Something went wrong, right? There is a gremlin in the data. Find a way to use `read_csv()` to turn the bad data into `NaN`s. You may find `read_csv?` helpful. Replace any year that has a `NaN` with the expenditure in the year before. Now compute the growth rates. Print the first 5 years."
   ]
  },
  {
   "cell_type": "code",
   "execution_count": 26,
   "metadata": {},
   "outputs": [
    {
     "data": {
      "text/html": [
       "<div>\n",
       "<style scoped>\n",
       "    .dataframe tbody tr th:only-of-type {\n",
       "        vertical-align: middle;\n",
       "    }\n",
       "\n",
       "    .dataframe tbody tr th {\n",
       "        vertical-align: top;\n",
       "    }\n",
       "\n",
       "    .dataframe thead th {\n",
       "        text-align: right;\n",
       "    }\n",
       "</style>\n",
       "<table border=\"1\" class=\"dataframe\">\n",
       "  <thead>\n",
       "    <tr style=\"text-align: right;\">\n",
       "      <th></th>\n",
       "      <th>year</th>\n",
       "      <th>nhe</th>\n",
       "    </tr>\n",
       "  </thead>\n",
       "  <tbody>\n",
       "    <tr>\n",
       "      <th>5</th>\n",
       "      <td>1965</td>\n",
       "      <td>NaN</td>\n",
       "    </tr>\n",
       "  </tbody>\n",
       "</table>\n",
       "</div>"
      ],
      "text/plain": [
       "   year  nhe\n",
       "5  1965  NaN"
      ]
     },
     "execution_count": 26,
     "metadata": {},
     "output_type": "execute_result"
    }
   ],
   "source": [
    "# Fix the bad data!\n",
    "nhe = pd.read_csv('nhe.csv', na_values= ['.'])\n",
    "\n",
    "# Find the index(es) where the NaN is located\n",
    "fix_index = nhe[nhe['nhe'].isna()]\n",
    "fix_index"
   ]
  },
  {
   "cell_type": "code",
   "execution_count": 27,
   "metadata": {},
   "outputs": [
    {
     "data": {
      "text/html": [
       "<div>\n",
       "<style scoped>\n",
       "    .dataframe tbody tr th:only-of-type {\n",
       "        vertical-align: middle;\n",
       "    }\n",
       "\n",
       "    .dataframe tbody tr th {\n",
       "        vertical-align: top;\n",
       "    }\n",
       "\n",
       "    .dataframe thead th {\n",
       "        text-align: right;\n",
       "    }\n",
       "</style>\n",
       "<table border=\"1\" class=\"dataframe\">\n",
       "  <thead>\n",
       "    <tr style=\"text-align: right;\">\n",
       "      <th></th>\n",
       "      <th>year</th>\n",
       "      <th>nhe</th>\n",
       "      <th>growth</th>\n",
       "    </tr>\n",
       "  </thead>\n",
       "  <tbody>\n",
       "    <tr>\n",
       "      <th>0</th>\n",
       "      <td>1960</td>\n",
       "      <td>27.1</td>\n",
       "      <td>NaN</td>\n",
       "    </tr>\n",
       "    <tr>\n",
       "      <th>1</th>\n",
       "      <td>1961</td>\n",
       "      <td>29.1</td>\n",
       "      <td>7.380074</td>\n",
       "    </tr>\n",
       "    <tr>\n",
       "      <th>2</th>\n",
       "      <td>1962</td>\n",
       "      <td>31.8</td>\n",
       "      <td>9.278351</td>\n",
       "    </tr>\n",
       "    <tr>\n",
       "      <th>3</th>\n",
       "      <td>1963</td>\n",
       "      <td>34.6</td>\n",
       "      <td>8.805031</td>\n",
       "    </tr>\n",
       "    <tr>\n",
       "      <th>4</th>\n",
       "      <td>1964</td>\n",
       "      <td>38.2</td>\n",
       "      <td>10.404624</td>\n",
       "    </tr>\n",
       "    <tr>\n",
       "      <th>5</th>\n",
       "      <td>1965</td>\n",
       "      <td>38.2</td>\n",
       "      <td>0.000000</td>\n",
       "    </tr>\n",
       "    <tr>\n",
       "      <th>6</th>\n",
       "      <td>1966</td>\n",
       "      <td>45.8</td>\n",
       "      <td>19.895288</td>\n",
       "    </tr>\n",
       "    <tr>\n",
       "      <th>7</th>\n",
       "      <td>1967</td>\n",
       "      <td>51.2</td>\n",
       "      <td>11.790393</td>\n",
       "    </tr>\n",
       "    <tr>\n",
       "      <th>8</th>\n",
       "      <td>1968</td>\n",
       "      <td>58.0</td>\n",
       "      <td>13.281250</td>\n",
       "    </tr>\n",
       "    <tr>\n",
       "      <th>9</th>\n",
       "      <td>1969</td>\n",
       "      <td>65.4</td>\n",
       "      <td>12.758621</td>\n",
       "    </tr>\n",
       "  </tbody>\n",
       "</table>\n",
       "</div>"
      ],
      "text/plain": [
       "   year   nhe     growth\n",
       "0  1960  27.1        NaN\n",
       "1  1961  29.1   7.380074\n",
       "2  1962  31.8   9.278351\n",
       "3  1963  34.6   8.805031\n",
       "4  1964  38.2  10.404624\n",
       "5  1965  38.2   0.000000\n",
       "6  1966  45.8  19.895288\n",
       "7  1967  51.2  11.790393\n",
       "8  1968  58.0  13.281250\n",
       "9  1969  65.4  12.758621"
      ]
     },
     "execution_count": 27,
     "metadata": {},
     "output_type": "execute_result"
    }
   ],
   "source": [
    "# Obtain the values of its neighbors, fix the value\n",
    "nhe.loc[fix_index.index[0],'nhe'] = nhe.loc[fix_index.index[0]-1,'nhe']\n",
    "\n",
    "# Create the growth rate\n",
    "nhe['growth'] = nhe['nhe'].pct_change()*100\n",
    "nhe.head(10)"
   ]
  },
  {
   "cell_type": "markdown",
   "metadata": {},
   "source": [
    "### Part (b):\n",
    "1. Compute the mean growth rate for 1970&ndash;1990, including the endpoints.\n",
    "2. Compute the standard deviation of the growth rate for 1970&ndash;1990, including the endpoints.\n",
    "3. Repeat parts 1. and 2. for the period 1990&ndash;2010, including the endpoints.\n",
    "4. Print out your results in a few *neatly formatted* sentences. Comment on the differences between the two periods. \n",
    "\n"
   ]
  },
  {
   "cell_type": "code",
   "execution_count": 28,
   "metadata": {},
   "outputs": [
    {
     "name": "stdout",
     "output_type": "stream",
     "text": [
      "Mean growth rate for 1970-1990: 12.11 percent.\n",
      "Std. dev. of  growth rate for 1970-1990: 2.12 percent.\n",
      "Mean growth rate for 1990-2010: 6.88 percent.\n",
      "Std. dev. of growth rate for 1990-2010: 2.06 percent.\n"
     ]
    }
   ],
   "source": [
    "# Save periods of interest\n",
    "early_period = (nhe['year'] >= 1970) & (nhe['year']<= 1990)\n",
    "later_period = (nhe['year'] >= 1990) & (nhe['year'] <= 2010)\n",
    "\n",
    "# Part 1\n",
    "early_mean = nhe[early_period]['growth'].mean()\n",
    "print(\"Mean growth rate for 1970-1990: {0:.2f} percent.\".format(early_mean))\n",
    "\n",
    "# Part 2\n",
    "early_sd = nhe[early_period]['growth'].std()\n",
    "print(\"Std. dev. of  growth rate for 1970-1990: {0:.2f} percent.\".format(early_sd))\n",
    "\n",
    "# Part 3\n",
    "later_mean = nhe[later_period]['growth'].mean()\n",
    "later_sd = nhe[later_period]['growth'].std()\n",
    "print(\"Mean growth rate for 1990-2010: {0:.2f} percent.\".format(later_mean))\n",
    "print(\"Std. dev. of growth rate for 1990-2010: {0:.2f} percent.\".format(later_sd))"
   ]
  },
  {
   "cell_type": "markdown",
   "metadata": {},
   "source": [
    "#### Comment: The annual health spending growth rate for 1970-1990 was nearly double that for 1990-2010. Part of this slowdown is due to reforms in how Medicare reimbursed hospitals in the 1980s; part is due to the rise of managed care in the 1980s and 1990s. The volatility of annual spending growth was similar in the early and late periods."
   ]
  },
  {
   "cell_type": "markdown",
   "metadata": {},
   "source": [
    "### Part (c):\n",
    "Plot a histogram of health expenditure growth rates, with vertical lines at the 1970-1990 mean and the 1990-2010 mean. Make sure to appropriately label the plot, and label the vertical lines to make clear which is which. Please use green for the plot color."
   ]
  },
  {
   "cell_type": "code",
   "execution_count": 29,
   "metadata": {},
   "outputs": [
    {
     "data": {
      "image/png": "[encoded data removed]",
      "text/plain": [
       "<Figure size 1000x400 with 1 Axes>"
      ]
     },
     "metadata": {},
     "output_type": "display_data"
    }
   ],
   "source": [
    "# Set a variable for plot color so I can change it everywhere easily\n",
    "my_plot_color = 'green'\n",
    "\n",
    "# I am using the figsize parameter here. It takes (width, height) in inches. \n",
    "fig, ax = plt.subplots(1, 1, figsize=(10,4))  # one row, two columns of axes\n",
    "\n",
    "ax.hist(nhe['growth'].dropna(), bins=20, color=my_plot_color, alpha=0.25)        \n",
    "ax.set_xlabel('Annual growth rate')\n",
    "ax.set_title('Histogram of health expenditure growth rates')\n",
    "\n",
    "# Add a vertical line at the mean\n",
    "ax.axvline(x=early_mean, color='black', linewidth=0.75)  \n",
    "ax.axvline(x=later_mean, color='black', linewidth=0.75)  \n",
    "\n",
    "# Put text on the figure. \n",
    "ax.text(later_mean + .25, 6, 'Mean 1990-2010')            # text(x, y, string)\n",
    "ax.text(early_mean + .25, 5.5, 'Mean 1970-1990')            # text(x, y, string)\n",
    "\n",
    "ax.spines['top'].set_visible(False)\n",
    "ax.spines['right'].set_visible(False)\n",
    "\n",
    "plt.savefig('nhe_growth.pdf')\n",
    "plt.show()"
   ]
  },
  {
   "cell_type": "markdown",
   "metadata": {},
   "source": [
    "## Exercise 4: Assigning analysts\n",
    "\n",
    "*Source:* This is a modification of a problem that Google often uses as a coding exam to recruit software engineers.\n",
    "\n",
    "*Setup:* You are going to lead a team of analysts to summarize the determinants of health spending growth 1960-2019. Each team member will be responsible for a set of consecutive years to generate a report for the Biden administration. It's expensive to hire an analyst: each one receives a base salary of $\\$50,000$, plus a bonus of $\\$8,000$ per week of work. It is expected that if an analyst is given `Y` years of data to analyze, it will take her $$Y + 0.075*Y^2$$ weeks to complete the project. \n",
    "\n",
    "*How to assign years:* Each analyst will receive a \"cut\" of consecutive years to analyze. For example, if there are 6 team members, each team member will get a decade to analyze: 1960-1969, 1970-1979, 1980-1989, 1990-1999, 2000-2009, and 2010-2019. However, if there are 7 team members, you can't divide the years equally. This means you can't have a team of 7.\n",
    "\n",
    "*Your task:* You don’t know how many teammates you’ll have, but you’re told there is a total pool of 10 analysts, including you, and you are expected to hire at least 4 of them. Your job is to find the number of analysts that has the lowest cost. For example, if there are 4 team members, each of whom is responsible for 15 years, the total cost is $4 \\times (\\$50,000 + \\$8,000 \\times (15 + 0.075 \\times 15^2)) = \\$1,220,000$. Not bad for a federal project!\n",
    "\n",
    "You should write code to solve this problem. Here are the steps for the solution:\n",
    "\n",
    "1. Create a list with the years 1960-2019: `[1960, 1961, …, 2018, 2019]`.\n",
    "\n",
    "2. For each possible team size from 4-10 analysts, find the largest number of years you can analyze, from 1960-2019, with each analyst getting the same number of years. You should loop over team size possibilities and print out a nicely formatted answer like this: “If there are 6 team members, each team member will analyze 10 years.” If the years cannot be divided evenly, you don't need to print anything.\n",
    "\n",
    "3. For the subset of team sizes for which you can evenly divide all of the years, calculate the cost of paying the team using the formula above. \n",
    "\n",
    "4. What is the cost-minimizing team structure? Use your coding skills and Python functions to keep track of the costs, find the minimum, and print out the optimal team size. Do not do this manually."
   ]
  },
  {
   "cell_type": "code",
   "execution_count": null,
   "metadata": {},
   "outputs": [],
   "source": [
    "# 1. Create a list of years\n",
    "years = list(range(1960, 2020))\n",
    "team_sizes = []\n",
    "costs = []\n",
    "\n",
    "# 2-3. Loop over analysts\n",
    "for team_size in range(4, 11):\n",
    "    # Check if years can be divided evenly\n",
    "    if len(years) % team_size == 0:\n",
    "        # Years per analyst and costs\n",
    "        ypa = len(years) / team_size\n",
    "        cost = team_size * (50000 + 8000 * (ypa + .075 * ypa**2))\n",
    "        team_sizes.append(team_size)\n",
    "        costs.append(cost)\n",
    "        print(\"If there are {0} team members, each team member will analyze {1} years.\".format(team_size, int(ypa)))\n",
    "        print(\"A team size of {0} costs ${1:8,.2f}.\".format(team_size, cost))"
   ]
  },
  {
   "cell_type": "code",
   "execution_count": null,
   "metadata": {},
   "outputs": [],
   "source": [
    "# 4. Minimal cost\n",
    "min_index = costs.index(min(costs))\n",
    "print(\"The minimal cost is ${0:8,.2f} for a team of {1}.\".format(costs[min_index], team_sizes[min_index]))"
   ]
  },
  {
   "cell_type": "markdown",
   "metadata": {},
   "source": [
    "#### Below is an alternative solution using a written function to find the argmin"
   ]
  },
  {
   "cell_type": "code",
   "execution_count": null,
   "metadata": {},
   "outputs": [],
   "source": [
    "# Part 1\n",
    "years = list(range(1960, 2020))\n",
    "nyears = len(years)\n",
    "\n",
    "# Part 2\n",
    "nsize = list(range(4, 11))\n",
    "sizes = []\n",
    "for size in nsize:\n",
    "    if nyears%size == 0:\n",
    "        print('If there are ', size, 'team members, each team will analyze', nyears//size, 'years.')\n",
    "        sizes.append(size)\n",
    "#print(sizes)"
   ]
  },
  {
   "cell_type": "code",
   "execution_count": null,
   "metadata": {},
   "outputs": [],
   "source": [
    "# Part 3\n",
    "costs = []\n",
    "for size in sizes: \n",
    "    y = nyears//size\n",
    "    costs.append(size*(50000 + 8000*(y + 0.075*(y**2))))\n",
    "\n",
    "# Part 4\n",
    "def argmin(lst):\n",
    "  return lst.index(min(lst))\n",
    "print('The cost minimizing number of team members is', nsize[argmin(costs)])"
   ]
  }
 ],
 "metadata": {
  "celltoolbar": "Attachments",
  "hide_input": false,
  "kernelspec": {
   "display_name": "Python 3 (ipykernel)",
   "language": "python",
   "name": "python3"
  },
  "language_info": {
   "codemirror_mode": {
    "name": "ipython",
    "version": 3
   },
   "file_extension": ".py",
   "mimetype": "text/x-python",
   "name": "python",
   "nbconvert_exporter": "python",
   "pygments_lexer": "ipython3",
   "version": "3.11.5"
  },
  "vscode": {
   "interpreter": {
    "hash": "f69ee35a335ce46dbfcc15a86588d1f1659e6f49ff69fa44385d419280addd68"
   }
  }
 },
 "nbformat": 4,
 "nbformat_minor": 4
}
