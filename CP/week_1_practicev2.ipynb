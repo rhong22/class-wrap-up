{
 "cells": [
  {
   "cell_type": "markdown",
   "id": "98ccaedc-e5f4-4e0d-b280-f7beeb788717",
   "metadata": {},
   "source": [
    "#esc+M in markdown mode\n",
    "#enter edit mode"
   ]
  },
  {
   "cell_type": "markdown",
   "id": "7245f13f-ce88-44ca-896c-5ebf0bef74c0",
   "metadata": {},
   "source": [
    "# *Ruijing*"
   ]
  },
  {
   "cell_type": "markdown",
   "id": "3a80336f-f15e-4295-999e-5a65fc01ce99",
   "metadata": {},
   "source": [
    "* **Econ570**\n",
    "* Classics\n",
    "* ~~strikethru~~"
   ]
  },
  {
   "cell_type": "markdown",
   "id": "362afc5c-84dc-4c9e-b9f0-4d64409ee487",
   "metadata": {},
   "source": [
    "s= 'a string'\n",
    "print(s)"
   ]
  },
  {
   "cell_type": "markdown",
   "id": "0f72f7b6-9eff-4738-ae8c-6849679894fd",
   "metadata": {},
   "source": [
    "```python\n",
    "s = 'a string'\n",
    "print(s)\n",
    "```"
   ]
  },
  {
   "cell_type": "code",
   "execution_count": null,
   "id": "7a355a0b-bade-4100-b045-0bf2cd7f57f2",
   "metadata": {},
   "outputs": [],
   "source": []
  }
 ],
 "metadata": {
  "kernelspec": {
   "display_name": "Python 3 (ipykernel)",
   "language": "python",
   "name": "python3"
  },
  "language_info": {
   "codemirror_mode": {
    "name": "ipython",
    "version": 3
   },
   "file_extension": ".py",
   "mimetype": "text/x-python",
   "name": "python",
   "nbconvert_exporter": "python",
   "pygments_lexer": "ipython3",
   "version": "3.11.5"
  }
 },
 "nbformat": 4,
 "nbformat_minor": 5
}
