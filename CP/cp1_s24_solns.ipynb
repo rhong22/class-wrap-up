{
 "cells": [
  {
   "cell_type": "markdown",
   "metadata": {},
   "source": [
    "# Coding Practice \\#1\n",
    "\n",
    "file needed = None\n",
    "\n",
    "Answer the questions below in a Jupyter notebook. You can modify this notebook by adding cells with your answers. It is recommended to try it on your own to practice the material in advance the exams."
   ]
  },
  {
   "cell_type": "markdown",
   "metadata": {},
   "source": [
    "## Exercise 1: Cui, Minnie\n",
    "Replace 'Last, First' above with your actual name. Enter it as your last name, first name."
   ]
  },
  {
   "cell_type": "markdown",
   "metadata": {},
   "source": [
    "## Exercise 2: Warm-ups\n",
    "\n",
    "1. For each of the following objects, enter the type of the object next to it. Put your answers in bold italics to make them easy to find.\n",
    "\n",
    "   1. `770`  ***int***\n",
    "   \n",
    "   2. `(770, 'Hello')`  ***tuple***\n",
    "\n",
    "   3. `x = ['hello', 770, [5.2, ('section', [4])], ['loop', 5, ['if', 'else', 3]], 10.999]`  ***list***\n",
    "    \n",
    "   4. `x[2][1]`  ***tuple***"
   ]
  },
  {
   "cell_type": "markdown",
   "metadata": {},
   "source": [
    "2. Write code that modifies the below list of the Beatles' band members, replacing Pete Best with Ringo Starr. Print the resulting list.\n",
    "\n",
    "```python \n",
    "beatles = ['John Lennon', 'Paul McCartney', 'George Harrison', 'Pete Best']\n",
    "```"
   ]
  },
  {
   "cell_type": "code",
   "execution_count": 1,
   "metadata": {},
   "outputs": [
    {
     "data": {
      "text/plain": [
       "['John Lennon', 'Paul McCartney', 'George Harrison', 'Ringo Starr']"
      ]
     },
     "execution_count": 1,
     "metadata": {},
     "output_type": "execute_result"
    }
   ],
   "source": [
    "beatles = ['John Lennon', 'Paul McCartney', 'George Harrison', 'Pete Best']\n",
    "beatles[-1] = 'Ringo Starr'\n",
    "beatles"
   ]
  },
  {
   "cell_type": "markdown",
   "metadata": {},
   "source": [
    "3. Write code that iterates through the list you created in 2. to print out the sentence \"The Beatles were John Lennon and Paul McCartney and George Harrison and Ringo Starr.\""
   ]
  },
  {
   "cell_type": "code",
   "execution_count": 2,
   "metadata": {},
   "outputs": [
    {
     "name": "stdout",
     "output_type": "stream",
     "text": [
      "The Beatles were John Lennon and Paul McCartney and George Harrison and Ringo Starr.\n"
     ]
    }
   ],
   "source": [
    "beatles_members = ''\n",
    "for i, member in enumerate(beatles):\n",
    "    beatles_members += member\n",
    "    if i < len(beatles) - 1:\n",
    "        beatles_members += ' and '\n",
    "    else:\n",
    "        beatles_members += '.'\n",
    "\n",
    "print('The Beatles were', beatles_members)"
   ]
  },
  {
   "cell_type": "markdown",
   "metadata": {},
   "source": [
    "4. You are given the `data` dictionary below (source: [KFF](https://www.healthsystemtracker.org/chart-collection/u-s-spending-healthcare-changed-time/)). Notice that the health spending data are stored as strings. Fix `data` by replacing the strings with floats and then print the `dict`. Use a loop or a list comprehension.  \n",
    "\n",
    "```python\n",
    "data = {'year' : [1990, 2000, 2010], 'health_spend' : ['718.8', '1365.7', '2589.4']}\n",
    "```"
   ]
  },
  {
   "cell_type": "code",
   "execution_count": 3,
   "metadata": {},
   "outputs": [
    {
     "name": "stdout",
     "output_type": "stream",
     "text": [
      "{'year': [1990, 2000, 2010], 'health_spend': [718.8, 1365.7, 2589.4]}\n"
     ]
    }
   ],
   "source": [
    "data = {'year' : [1990, 2000, 2010], 'health_spend' : ['718.8', '1365.7', '2589.4']}\n",
    "\n",
    "for i in range(len(data['health_spend'])):\n",
    "    data['health_spend'][i] = float(data['health_spend'][i])\n",
    "\n",
    "print(data)"
   ]
  },
  {
   "cell_type": "markdown",
   "metadata": {},
   "source": [
    "5. We went through the example below in python_basics_3.ipynb. Rewrite the code so that it doesn't use `while`. You may use `if`, `for`, `else`, etc.\n",
    "\n",
    "```python \n",
    "count = 0\n",
    "while count < 3:\n",
    "    if count < 2:\n",
    "        print(\"Hip,\")\n",
    "    else:\n",
    "        print(\"Hooray!\")\n",
    "    count += 1\n",
    "```"
   ]
  },
  {
   "cell_type": "code",
   "execution_count": 4,
   "metadata": {},
   "outputs": [
    {
     "name": "stdout",
     "output_type": "stream",
     "text": [
      "Hip,\n",
      "Hip,\n",
      "Hooray!\n"
     ]
    }
   ],
   "source": [
    "for i in range(3):\n",
    "    if i < 2:\n",
    "        print('Hip,')\n",
    "    else:\n",
    "        print('Hooray!')"
   ]
  },
  {
   "cell_type": "markdown",
   "metadata": {},
   "source": [
    "## Exercise 3: U.S. Exports\n",
    "\n",
    "The next cell has a dictionary with nominal exports of goods (in millions of dollars) from the United States to all other countries in 2017.\n",
    "\n",
    "Run the cell below to read the dictionary into memory. "
   ]
  },
  {
   "cell_type": "code",
   "execution_count": 3,
   "metadata": {},
   "outputs": [],
   "source": [
    "us_exports_2017 = {'Argentina': 9585.957928, 'Serbia': 125.604552, 'Bulgaria': 381.490292, 'Bangladesh': 1473.961033, \n",
    "                   'Sierra Leone': 79.185252, 'Guyana': 377.349484, 'Turkey': 9741.491909, 'Syrian Arab Republic': 6.961023,\n",
    "                   'Saint Vincent and the Grenadines': 81.348131, 'Eritrea': 5.021254, 'Kosovo': 10.070786, 'Bermuda': 693.65006,\n",
    "                   'Zimbabwe': 39.926035, 'Suriname': 359.542397, 'Uganda': 107.869624, 'Palau': 19.432665, 'Guinea': 103.022431, \n",
    "                   'Heard Island and Mcdonald Islands': 0.125829, 'Mongolia': 82.192362, 'Botswana': 93.045279, 'Cameroon': 158.845783, \n",
    "                   'Ecuador': 4820.700634, 'Falkland Islands (Malvinas)': 0.482089, 'Iceland': 399.258756, 'South Korea': 48326.408702, \n",
    "                   'Hungary': 1888.233492, 'Comoros': 1.375097, 'Malta': 293.009573, 'Luxembourg': 1078.074731, 'Tonga': 16.719457, \n",
    "                   'Tanzania; United Republic of': 145.242068, 'Liberia': 138.340637, 'Mali': 62.01555, 'Algeria': 1059.840617, \n",
    "                   'South Africa': 5020.062464, 'Kyrgyzstan': 26.066859, 'Swaziland': 24.073435, 'Central African Republic': 11.178603, \n",
    "                   'Andorra': 3.285167, 'Seychelles': 15.488847, 'Other Countries': 0.0, 'Cook Islands': 5.243873, \n",
    "                   \"Lao People's Democratic Republic\": 25.67166, 'Ghana': 859.971235, 'Malaysia': 12964.461912, \n",
    "                   'Micronesia (Federated States of)': 44.827548, 'Indonesia': 6863.831289, 'Tajikistan': 17.911115, 'Gambia': 39.235769, \n",
    "                   'Thailand': 10991.613094, 'Cape Verde': 9.146393, 'West Bank': 2.19236, 'Sri Lanka': 336.25559, \n",
    "                   'Burma (Myanmar)': 211.368799, 'Lebanon': 1221.529041, 'Poland': 4523.318939, 'Austria': 4275.26315, \n",
    "                   'Panama': 6301.303156, 'Lithuania': 609.272207, 'Hong Kong': 39939.130227, 'Kenya': 454.453344, 'Netherlands': 41510.332962, \n",
    "                   'Dominican Republic': 7827.520352, 'Cayman Islands': 885.800982, 'Reunion': 8.376879, 'Belarus': 72.668182, \n",
    "                   'Burundi': 8.13276, 'Nigeria': 2170.069073, 'Martinique': 168.255979, 'Equatorial Guinea': 111.93615, 'Vatican City': 1.146853, \n",
    "                   'Taiwan': 25729.504439, 'Georgia': 382.865271, 'Aruba': 966.305683, 'Lesotho': 1.901616, 'Colombia': 13312.122946, \n",
    "                   'Curacao': 692.167798, 'Cuba': 291.276873, 'French Southern Territories': 2.842721, 'China': 129893.586716, \n",
    "                   'Norway': 5453.37072, 'Svalbard and Jan Mayen Island': 1.986719, \"CÃ´te d'Ivoire\": 319.964133, 'Uruguay': 1599.284155, \n",
    "                   'Montserrat': 9.708109, 'Madagascar': 53.367175, 'Vanuatu': 7.762425, 'Bhutan': 34.892754, 'Greenland': 9.884715, \n",
    "                   'Kuwait': 5143.414006, 'Iraq': 1204.721644, 'Senegal': 207.93405, 'Ukraine': 1787.9993, 'Haiti': 1410.575337, \n",
    "                   'Mauritius': 61.421605, 'Nicaragua': 1589.398811, 'Qatar': 3124.095821, 'Moldova; Republic of': 17.614764, \n",
    "                   'Samoa': 38.309271, 'Saint Kitts and Nevis': 243.537203, 'Ethiopia': 877.152409, 'French Polynesia': 119.798493, \n",
    "                   'Uzbekistan': 136.094699, 'East Germany': 0.0, 'Switzerland': 21684.835238, 'Rwanda': 66.140569, 'Solomon Islands': 9.303881, \n",
    "                   'Macedonia': 41.225784, 'Christmas Island': 0.476695, 'Sao Tome and Principe': 3.140792, 'Papua New Guinea': 105.851898, \n",
    "                   'Venezuela': 4133.114819, 'Iran': 136.000618, 'Grenada': 102.991413, 'New Caledonia': 59.362579, 'Kazakhstan': 552.092011, \n",
    "                   'Italy': 18404.689805, 'Paraguay': 2719.236832, 'Guinea Bissau': 3.751655, 'India': 25688.861698, 'Slovenia': 371.602049, \n",
    "                   'Canada': 282265.135262, 'United Arab Emirates': 20019.696481, 'Turks and Caicos Islands': 369.866125, \n",
    "                   'Croatia': 447.955755, 'Nepal': 75.851857, 'Congo': 117.378013, 'Saint Helena': 0.587754, \n",
    "                   'British Indian Ocean Territory': 36.334868, 'Singapore': 29805.915154, 'Slovakia': 441.620058, 'Faroe Islands': 2.034537, \n",
    "                   'Gaza Strip': 0.555101, 'Saint Lucia': 572.438902, 'Dominica': 178.447184, 'Bolivia': 594.703634, 'Chad': 31.338485, \n",
    "                   'British Virgin Islands': 377.227746, 'Wallis and Futuna': 0.300526, 'South Sudan': 13.57431, 'Kiribati': 4.928546, \n",
    "                   'Fiji': 66.551898, 'French Guiana': 162.74323, 'United Kingdom': 56257.922547, 'Finland': 1534.930626, 'Jordan': 1920.88633, \n",
    "                   'Serbia and Montenegro': 0.0, 'Norfolk Island': 0.138341, 'Pakistan': 2808.16696, 'Bahamas': 3057.271998, 'Mexico': 243314.438647,\n",
    "                   'Honduras': 5079.663953, 'Afghanistan': 941.42806, 'Anguilla': 59.409382, 'Romania': 954.684233, 'Spain': 11063.740551, \n",
    "                   'Tuvalu': 0.796156, 'Portugal': 1192.459324, 'Brunei': 121.111606, 'France': 33595.514399, 'Togo': 481.810854, \n",
    "                   'Chile': 13605.342592, 'Marshall Islands': 556.988101, 'Morocco': 2219.661823, 'Peru': 8662.61201, \n",
    "                   'Western Sahara': 0.418356, 'Angola': 809.444868, 'Malawi': 27.88084, 'Netherlands Antilles': 0.0, 'Belize': 294.920783, \n",
    "                   'Azerbaijan': 354.555299, 'Macau; SAR of China': 502.136131, 'Bahrain': 898.1564, 'Niue': 0.086722, 'North Korea': 0.00266, \n",
    "                   'Nauru': 0.198927, 'Cyprus': 82.40193, 'Gibraltar': 1126.417629, 'Somalia': 70.594917, 'Greece': 960.728649, \n",
    "                   'Gabon': 89.00649, 'Saudi Arabia': 16348.000104, 'Japan': 67605.076964, 'Mauritania': 127.77739, 'Estonia': 273.958646, \n",
    "                   'Tokelau Islands': 1.162557, 'Sint Maarten': 545.15619, 'Namibia': 118.561677, 'Australia': 24526.835921, \n",
    "                   'Maldives': 34.373287, 'Sudan': 69.654352, 'Djibouti': 157.467862, 'New Zealand': 3924.611227, 'East Timor': 2.565401, \n",
    "                   'Antigua and Barbuda': 425.623529, 'Czech Republic': 2273.780613, 'Guatemala': 6895.337671, 'Liechtenstein': 27.744402, \n",
    "                   'Belgium': 29923.692464, 'Mozambique': 179.126068, 'Monaco': 42.263572, 'Brazil': 37221.566249, 'Germany': 53896.753486, \n",
    "                   'Egypt': 3991.832766, 'San Marino': 2.109451, 'Yemen': 199.030638, 'Cocos (Keeling) Islands': 0.452079, \n",
    "                   'Israel': 12550.082579, 'Mayotte': 0.493107, 'Barbados': 525.452357, 'Philippines': 8450.925039, \n",
    "                   'Burkina Faso': 60.978397, 'Guadeloupe': 244.842196, 'Benin': 250.13587, 'Armenia': 55.005606, \n",
    "                   'Democratic Republic of Congo': 76.260999, 'Niger': 44.082049, 'Viet Nam': 8133.364685, 'Albania': 62.086804, \n",
    "                   'Montenegro': 9.148718, 'Cambodia': 400.220962, 'Bosnia and Herzegovina': 27.142924, 'El Salvador': 3057.896029, \n",
    "                   'Pitcairn Islands': 0.001431, 'Trinidad and Tobago': 1816.745419, 'Tunisia': 543.575125, 'Sweden': 3734.457331, \n",
    "                   'Zambia': 85.149483, 'Turkmenistan': 282.178944, 'Oman': 1985.049832, 'Denmark': 2210.191808, 'Latvia': 381.621395, \n",
    "                   'Ireland': 10707.555883, 'Libyan Arab Jamahiriya': 134.952674, 'Saint Pierre and Miquelon': 0.390569, \n",
    "                   'Costa Rica': 6169.60881, 'Jamaica': 2105.505325, 'Russia': 6998.497148}"
   ]
  },
  {
   "cell_type": "markdown",
   "metadata": {},
   "source": [
    "1. Print a list of the countries for which the US had greater exports than it did to Japan in 2017. Use flow control statements."
   ]
  },
  {
   "cell_type": "code",
   "execution_count": 4,
   "metadata": {},
   "outputs": [
    {
     "name": "stdout",
     "output_type": "stream",
     "text": [
      "67605.076964\n",
      "['China', 'Canada', 'Mexico']\n"
     ]
    }
   ],
   "source": [
    "# US exports to Japan\n",
    "jpn_exports = us_exports_2017['Japan']\n",
    "print(jpn_exports)\n",
    "\n",
    "# Init list of countries \n",
    "countries_list = []\n",
    "for country in us_exports_2017.keys():\n",
    "    if us_exports_2017[country] > jpn_exports:\n",
    "        countries_list.append(country)\n",
    "\n",
    "print(countries_list)"
   ]
  },
  {
   "cell_type": "markdown",
   "metadata": {},
   "source": [
    "2. What is the total value of U.S. exports of goods to the entire world? Print it as 'The United States exported $X trillion dollars of goods in 2017.' Format your string so that the number has one digit to the right of the decimal point. [Notice that the values are reported in millions, so you have to convert to trillions!]\n",
    "\\[Hint: look into `str.format()` and use the ``.values()`` method.\\]"
   ]
  },
  {
   "cell_type": "code",
   "execution_count": 6,
   "metadata": {},
   "outputs": [
    {
     "name": "stdout",
     "output_type": "stream",
     "text": [
      "The United States exported $1.5 trillion of goods in 2017.\n"
     ]
    }
   ],
   "source": [
    "total_exports = sum(us_exports_2017.values())\n",
    "print('The United States exported ${0:.1f} trillion of goods in 2017.'\n",
    "      .format(total_exports/1000000))"
   ]
  },
  {
   "cell_type": "markdown",
   "metadata": {},
   "source": [
    "3. What is the total value of U.S. exports of goods to the countries from 1. as a share of total exports? Print it as 'U.S. exports to its top trading partners accounted for X percent of total U.S. exports in 2017.' Format your string so the number has two decimal points. \\[Don't forget to multiply by 100 to get to percentage terms!\\]"
   ]
  },
  {
   "cell_type": "code",
   "execution_count": 7,
   "metadata": {},
   "outputs": [
    {
     "name": "stdout",
     "output_type": "stream",
     "text": [
      "U.S. exports to its top trading partners accounted for 42.39 percent of total U.S. exports in 2017.\n"
     ]
    }
   ],
   "source": [
    "total_exports_select = 0\n",
    "for country in countries_list:\n",
    "    total_exports_select += us_exports_2017[country]\n",
    "\n",
    "print('U.S. exports to its top trading partners accounted for {0:.2f} percent of total U.S. exports in 2017.'.format(total_exports_select/total_exports*100))"
   ]
  },
  {
   "cell_type": "markdown",
   "metadata": {},
   "source": [
    "# Exercise 4: Morse code (challenging)\n",
    "\n",
    "[Morse code](https://en.wikipedia.org/wiki/Morse_code) was designed for messaging over telegraph. It uses dots and dashes to signal letters. Below are two lists: `letters` contains the 26 letters of the alphabet and some punctuation marks. `morse` contains the Morse code translation for each letter and punctuation mark. Take this example:\n",
    "```python\n",
    "test = ['-.-.', '.-..', '---', '...', '.', '.......', '--.', '.-', '-', '.']\n",
    "```\n",
    "\n",
    "The first code is `'-.-.'` (dash-dot-dash-dot). That is the third entry in the `morse` list, which is `'c'`. The second is `'.-..'` which is `'l'`. Continuing for the rest of the codes, `test` translates to 'close gate'."
   ]
  },
  {
   "cell_type": "code",
   "execution_count": 8,
   "metadata": {},
   "outputs": [],
   "source": [
    "letters = ['a', 'b', 'c', 'd', 'e', 'f', 'g', 'h', 'i', 'j', 'k', 'l', 'm',\n",
    "           'n', 'o', 'p', 'q', 'r', 's', 't', 'u', 'v', 'w', 'x', 'y', 'z',\n",
    "           ' ', ',', '.']\n",
    "\n",
    "morse = ['.-', '-...', '-.-.', '-..', '.', '..-.', '--.', '....', '..', '.---', '-.-', '.-..', '--', \n",
    "         '-.', '---', '.--.', '--.-', '.-.', '...', '-', '..-', '...-', '.--', '-..-', '-.--', '--..',\n",
    "         '.......', '---..--', '.-.-.-']"
   ]
  },
  {
   "cell_type": "markdown",
   "metadata": {},
   "source": [
    "1. Create a \"decoder\" dictionary that holds the Roman letters and their Morse codes. We will use this to translate Morse code to Roman letters. Key idea: should the Morse codes be the keys or should the Roman letters be the keys?"
   ]
  },
  {
   "cell_type": "code",
   "execution_count": 9,
   "metadata": {},
   "outputs": [
    {
     "name": "stdout",
     "output_type": "stream",
     "text": [
      "{'.-': 'a', '-...': 'b', '-.-.': 'c', '-..': 'd', '.': 'e', '..-.': 'f', '--.': 'g', '....': 'h', '..': 'i', '.---': 'j', '-.-': 'k', '.-..': 'l', '--': 'm', '-.': 'n', '---': 'o', '.--.': 'p', '--.-': 'q', '.-.': 'r', '...': 's', '-': 't', '..-': 'u', '...-': 'v', '.--': 'w', '-..-': 'x', '-.--': 'y', '--..': 'z', '.......': ' ', '---..--': ',', '.-.-.-': '.'}\n"
     ]
    }
   ],
   "source": [
    "# Morse codes should be the keys because we're translating TO Roman letters \n",
    "decoder = dict(zip(morse, letters))\n",
    "print(decoder)"
   ]
  },
  {
   "cell_type": "markdown",
   "metadata": {},
   "source": [
    "2. Write a function that uses your decoder dictionary from above to decode the following list and print out the result as a string. You'll first need to deal with a bug. When you downloaded the encrypted code, it must have been taken from a PDF or something, and some of the '.' were output as ':' and some of the '-' were output as '_'. Fix the bug and decode the message. Hint: as an intermediate step, you could test your decoder on the `test` list above, which contains no bugs.\n",
    "\n",
    "```python\n",
    "to_decode = ['-', '..-', '.-.', '-.', '..', '-.', '--.', '.......', '.-', '-.', '-..', '.......', '-', '..-', '.-.', '-.', '..', '-.', '--.', '.......', '..', '-:', '.......', '-', '....', '.', '.......', '.--', '..', '-..', '.', '-.', '..', '-.', '--.', '.......', '--.', '_.--', '.-.', '.', '.......', '-', '....', '.', '....:..', '..-.', '.-', '.-..', '-.-.', '---', '-.', '.......', '-.-.', '.-', '-.', '-.', '---', '-', '.......', '....', '.', '.-', '.-.', '.......', '-', '....', '.', '.......', '..-.', '.-', '.-..', '-.-.', '---', '-.', '.', '.-.', '.......', '-', '....', '..', '-.', '--.', '..:', '.......', '..-.', '.-', '.-..', '.-..', '.......', '.-', '.--.', '._', '.-.', '-', '.......', '-', '....', '.', '.......', '-.-.', '.', '-.', '-', '.-.', '.', '.......', '-.-.', '.-', '-.', '-.', '___', '-', '.......', '....', '---', '.-..', '-..']\n",
    "```"
   ]
  },
  {
   "cell_type": "code",
   "execution_count": 10,
   "metadata": {},
   "outputs": [
    {
     "name": "stdout",
     "output_type": "stream",
     "text": [
      "close gate\n",
      "\n",
      "\n",
      "turning and turning in the widening gyre the falcon cannot hear the falconer things fall apart the centre cannot hold\n"
     ]
    }
   ],
   "source": [
    "test = ['-.-.', '.-..', '---', '...', '.', '.......', '--.', '.-', '-', '.']\n",
    "to_decode = ['-', '..-', '.-.', '-.', '..', '-.', '--.', '.......', '.-', '-.', '-..', '.......', '-', '..-', '.-.', '-.', '..', '-.', '--.', '.......', '..', '-:', '.......', '-', '....', '.', '.......', '.--', '..', '-..', '.', '-.', '..', '-.', '--.', '.......', '--.', '_.--', '.-.', '.', '.......', '-', '....', '.', '....:..', '..-.', '.-', '.-..', '-.-.', '---', '-.', '.......', '-.-.', '.-', '-.', '-.', '---', '-', '.......', '....', '.', '.-', '.-.', '.......', '-', '....', '.', '.......', '..-.', '.-', '.-..', '-.-.', '---', '-.', '.', '.-.', '.......', '-', '....', '..', '-.', '--.', '..:', '.......', '..-.', '.-', '.-..', '.-..', '.......', '.-', '.--.', '._', '.-.', '-', '.......', '-', '....', '.', '.......', '-.-.', '.', '-.', '-', '.-.', '.', '.......', '-.-.', '.-', '-.', '-.', '___', '-', '.......', '....', '---', '.-..', '-..']\n",
    "\n",
    "def morse_to_roman(code, decoder_dict):\n",
    "    decoded_str = ''\n",
    "    for c in code:\n",
    "        c = c.replace(':', '.')\n",
    "        c = c.replace('_','-')\n",
    "        decoded_str += decoder_dict[c]\n",
    "    return decoded_str\n",
    "\n",
    "print(morse_to_roman(test, decoder)) \n",
    "print('\\n')\n",
    "print(morse_to_roman(to_decode, decoder)) "
   ]
  },
  {
   "cell_type": "markdown",
   "metadata": {},
   "source": [
    "3. Create an \"encoder\" dictionary that holds Roman letters and their Morse codes. Our goal is the opposite this time: we want to translate Roman letters to Morse code. Key idea: should the Morse codes be the keys or should the Roman letters be the keys?"
   ]
  },
  {
   "cell_type": "code",
   "execution_count": 12,
   "metadata": {},
   "outputs": [
    {
     "name": "stdout",
     "output_type": "stream",
     "text": [
      "{'a': '.-', 'b': '-...', 'c': '-.-.', 'd': '-..', 'e': '.', 'f': '..-.', 'g': '--.', 'h': '....', 'i': '..', 'j': '.---', 'k': '-.-', 'l': '.-..', 'm': '--', 'n': '-.', 'o': '---', 'p': '.--.', 'q': '--.-', 'r': '.-.', 's': '...', 't': '-', 'u': '..-', 'v': '...-', 'w': '.--', 'x': '-..-', 'y': '-.--', 'z': '--..', ' ': '.......', ',': '---..--', '.': '.-.-.-'}\n"
     ]
    }
   ],
   "source": [
    "# Roman letters should be keys because we're translating TO Morse codes\n",
    "encoder = dict(zip(letters, morse))  \n",
    "print(encoder)"
   ]
  },
  {
   "cell_type": "markdown",
   "metadata": {},
   "source": [
    "4. Encode the following string into Morse code. Your result should be a list, where each element of the list is the Morse code for one letter. Print out the list. Hint: Beware of capitalization!\n",
    "\n",
    "```python\n",
    "to_encode = \"Oh, once upon a midnight eerie, I woke with something in my head. I could not escape the memory of a phone call and of what you said.\"\n",
    "```"
   ]
  },
  {
   "cell_type": "code",
   "execution_count": 13,
   "metadata": {},
   "outputs": [
    {
     "name": "stdout",
     "output_type": "stream",
     "text": [
      "['---', '....', '---..--', '.......', '---', '-.', '-.-.', '.', '.......', '..-', '.--.', '---', '-.', '.......', '.-', '.......', '--', '..', '-..', '-.', '..', '--.', '....', '-', '.......', '.', '.', '.-.', '..', '.', '---..--', '.......', '..', '.......', '.--', '---', '-.-', '.', '.......', '.--', '..', '-', '....', '.......', '...', '---', '--', '.', '-', '....', '..', '-.', '--.', '.......', '..', '-.', '.......', '--', '-.--', '.......', '....', '.', '.-', '-..', '.-.-.-', '.......', '..', '.......', '-.-.', '---', '..-', '.-..', '-..', '.......', '-.', '---', '-', '.......', '.', '...', '-.-.', '.-', '.--.', '.', '.......', '-', '....', '.', '.......', '--', '.', '--', '---', '.-.', '-.--', '.......', '---', '..-.', '.......', '.-', '.......', '.--.', '....', '---', '-.', '.', '.......', '-.-.', '.-', '.-..', '.-..', '.......', '.-', '-.', '-..', '.......', '---', '..-.', '.......', '.--', '....', '.-', '-', '.......', '-.--', '---', '..-', '.......', '...', '.-', '..', '-..', '.-.-.-']\n"
     ]
    }
   ],
   "source": [
    "to_encode = \"Oh, once upon a midnight eerie, I woke with something in my head. I could not escape the memory of a phone call and of what you said.\"\n",
    "\n",
    "def roman_to_morse(sentence, encoder_dict):\n",
    "    encoded_str = []\n",
    "    for l in sentence.lower():\n",
    "        encoded_str.append(encoder_dict[l])\n",
    "    return encoded_str\n",
    "\n",
    "encoded = roman_to_morse(to_encode, encoder)\n",
    "print(encoded)"
   ]
  }
 ],
 "metadata": {
  "celltoolbar": "Attachments",
  "hide_input": false,
  "kernelspec": {
   "display_name": "Python 3 (ipykernel)",
   "language": "python",
   "name": "python3"
  },
  "language_info": {
   "codemirror_mode": {
    "name": "ipython",
    "version": 3
   },
   "file_extension": ".py",
   "mimetype": "text/x-python",
   "name": "python",
   "nbconvert_exporter": "python",
   "pygments_lexer": "ipython3",
   "version": "3.11.5"
  },
  "varInspector": {
   "cols": {
    "lenName": 16,
    "lenType": 16,
    "lenVar": 40
   },
   "kernels_config": {
    "python": {
     "delete_cmd_postfix": "",
     "delete_cmd_prefix": "del ",
     "library": "var_list.py",
     "varRefreshCmd": "print(var_dic_list())"
    },
    "r": {
     "delete_cmd_postfix": ") ",
     "delete_cmd_prefix": "rm(",
     "library": "var_list.r",
     "varRefreshCmd": "cat(var_dic_list()) "
    }
   },
   "types_to_exclude": [
    "module",
    "function",
    "builtin_function_or_method",
    "instance",
    "_Feature"
   ],
   "window_display": false
  },
  "vscode": {
   "interpreter": {
    "hash": "aee8b7b246df8f9039afb4144a1f6fd8d2ca17a180786b69acc140d282b71a49"
   }
  }
 },
 "nbformat": 4,
 "nbformat_minor": 4
}
