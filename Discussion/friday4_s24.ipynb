{
 "cells": [
  {
   "cell_type": "markdown",
   "id": "d590850d",
   "metadata": {
    "slideshow": {
     "slide_type": "slide"
    }
   },
   "source": [
    "## Discussion #4\n",
    "\n",
    "Files needed = None\n",
    "\n",
    "OH: Mondays and Wednesdays 9:15-10:15am in 6473 Sewell Social Sciences\n",
    "\n",
    "Email: minnie.cui@wisc.edu\n",
    "\n",
    "**Reminder:** Project team rosters is due tonight, and coding practice #2 is uploaded!"
   ]
  },
  {
   "cell_type": "markdown",
   "id": "dd32f3c3",
   "metadata": {
    "slideshow": {
     "slide_type": "slide"
    }
   },
   "source": [
    "#### This week we saw:\n",
    "- More pandas\n",
    "- Reading files"
   ]
  },
  {
   "cell_type": "markdown",
   "id": "05b5840c",
   "metadata": {
    "slideshow": {
     "slide_type": "slide"
    }
   },
   "source": [
    "## Pandas\n",
    "\n",
    "Last week we covered a bunch of useful methods and functions in `pandas`, such as `head`, `tail`, `shape`, `iloc`, `loc`, `rename`, etc. We'll cover a few more today."
   ]
  },
  {
   "cell_type": "code",
   "execution_count": 5,
   "id": "d14e98ef",
   "metadata": {
    "slideshow": {
     "slide_type": "fragment"
    }
   },
   "outputs": [
    {
     "name": "stdout",
     "output_type": "stream",
     "text": [
      "\n",
      "state     object\n",
      "pop      float64\n",
      "size     float64\n",
      "bird      object\n",
      "dtype: object\n"
     ]
    },
    {
     "data": {
      "text/html": [
       "<div>\n",
       "<style scoped>\n",
       "    .dataframe tbody tr th:only-of-type {\n",
       "        vertical-align: middle;\n",
       "    }\n",
       "\n",
       "    .dataframe tbody tr th {\n",
       "        vertical-align: top;\n",
       "    }\n",
       "\n",
       "    .dataframe thead th {\n",
       "        text-align: right;\n",
       "    }\n",
       "</style>\n",
       "<table border=\"1\" class=\"dataframe\">\n",
       "  <thead>\n",
       "    <tr style=\"text-align: right;\">\n",
       "      <th></th>\n",
       "      <th>pop</th>\n",
       "      <th>size</th>\n",
       "    </tr>\n",
       "  </thead>\n",
       "  <tbody>\n",
       "    <tr>\n",
       "      <th>count</th>\n",
       "      <td>4.000000</td>\n",
       "      <td>4.00000</td>\n",
       "    </tr>\n",
       "    <tr>\n",
       "      <th>mean</th>\n",
       "      <td>14.450000</td>\n",
       "      <td>103.20000</td>\n",
       "    </tr>\n",
       "    <tr>\n",
       "      <th>std</th>\n",
       "      <td>15.170256</td>\n",
       "      <td>42.38506</td>\n",
       "    </tr>\n",
       "    <tr>\n",
       "      <th>min</th>\n",
       "      <td>5.300000</td>\n",
       "      <td>65.50000</td>\n",
       "    </tr>\n",
       "    <tr>\n",
       "      <th>25%</th>\n",
       "      <td>5.600000</td>\n",
       "      <td>81.55000</td>\n",
       "    </tr>\n",
       "    <tr>\n",
       "      <th>50%</th>\n",
       "      <td>7.750000</td>\n",
       "      <td>91.80000</td>\n",
       "    </tr>\n",
       "    <tr>\n",
       "      <th>75%</th>\n",
       "      <td>16.600000</td>\n",
       "      <td>113.45000</td>\n",
       "    </tr>\n",
       "    <tr>\n",
       "      <th>max</th>\n",
       "      <td>37.000000</td>\n",
       "      <td>163.70000</td>\n",
       "    </tr>\n",
       "  </tbody>\n",
       "</table>\n",
       "</div>"
      ],
      "text/plain": [
       "             pop       size\n",
       "count   4.000000    4.00000\n",
       "mean   14.450000  103.20000\n",
       "std    15.170256   42.38506\n",
       "min     5.300000   65.50000\n",
       "25%     5.600000   81.55000\n",
       "50%     7.750000   91.80000\n",
       "75%    16.600000  113.45000\n",
       "max    37.000000  163.70000"
      ]
     },
     "execution_count": 5,
     "metadata": {},
     "output_type": "execute_result"
    }
   ],
   "source": [
    "# Import libraries\n",
    "import pandas as pd\n",
    "\n",
    "# Generate data\n",
    "state_data = {'state':['CA','MI','WI','MN'], \n",
    "              'pop':[37, 9.8, 5.7, '5.3'], \n",
    "              'size':[163.7, 96.7, 65.5, 86.9], \n",
    "              'bird':['Quail', 'Redbreast Robin', 'American Robin', 'Loon']\n",
    "             }\n",
    "state_data = pd.DataFrame(state_data)\n",
    "\n",
    "# Try out some functions\n",
    "# print(state_data.dtypes)\n",
    "state_data['pop'] = state_data['pop'].astype(float)\n",
    "#print(\"\")\n",
    "print(state_data.dtypes)\n",
    "# print(state_data.head(2))\n",
    "# print(\"\")\n",
    "# print(state_data.tail(2))\n",
    "# print(\"\")\n",
    "# print(state_data.sample(2))\n",
    "state_data.describe()"
   ]
  },
  {
   "cell_type": "code",
   "execution_count": 6,
   "id": "77ec15ec",
   "metadata": {},
   "outputs": [
    {
     "name": "stdout",
     "output_type": "stream",
     "text": [
      "{'state': 'state', 'pop': 'population', 'size': 'size', 'bird': 'bird'}\n"
     ]
    },
    {
     "data": {
      "text/html": [
       "<div>\n",
       "<style scoped>\n",
       "    .dataframe tbody tr th:only-of-type {\n",
       "        vertical-align: middle;\n",
       "    }\n",
       "\n",
       "    .dataframe tbody tr th {\n",
       "        vertical-align: top;\n",
       "    }\n",
       "\n",
       "    .dataframe thead th {\n",
       "        text-align: right;\n",
       "    }\n",
       "</style>\n",
       "<table border=\"1\" class=\"dataframe\">\n",
       "  <thead>\n",
       "    <tr style=\"text-align: right;\">\n",
       "      <th></th>\n",
       "      <th>state</th>\n",
       "      <th>population</th>\n",
       "      <th>size</th>\n",
       "      <th>bird</th>\n",
       "    </tr>\n",
       "  </thead>\n",
       "  <tbody>\n",
       "    <tr>\n",
       "      <th>0</th>\n",
       "      <td>CA</td>\n",
       "      <td>37.0</td>\n",
       "      <td>163.7</td>\n",
       "      <td>Quail</td>\n",
       "    </tr>\n",
       "    <tr>\n",
       "      <th>1</th>\n",
       "      <td>MI</td>\n",
       "      <td>9.8</td>\n",
       "      <td>96.7</td>\n",
       "      <td>Redbreast Robin</td>\n",
       "    </tr>\n",
       "  </tbody>\n",
       "</table>\n",
       "</div>"
      ],
      "text/plain": [
       "  state  population   size             bird\n",
       "0    CA        37.0  163.7            Quail\n",
       "1    MI         9.8   96.7  Redbreast Robin"
      ]
     },
     "execution_count": 6,
     "metadata": {},
     "output_type": "execute_result"
    }
   ],
   "source": [
    "# Renaming, can also manually write it \n",
    "old_names = state_data.columns.to_list()\n",
    "new_names = state_data.columns.to_list()\n",
    "new_names[1] = 'population'\n",
    "names = dict(zip(old_names, new_names))    #zip parallelizes iteratbles \n",
    "print(names)\n",
    "\n",
    "state_data = state_data.rename(columns=names)\n",
    "state_data.head(2)"
   ]
  },
  {
   "cell_type": "code",
   "execution_count": 7,
   "id": "a142fd65",
   "metadata": {
    "slideshow": {
     "slide_type": "slide"
    }
   },
   "outputs": [
    {
     "name": "stdout",
     "output_type": "stream",
     "text": [
      "  state  population   size             bird\n",
      "0    CA        37.0  163.7            Quail\n",
      "1    MI         9.8   96.7  Redbreast Robin\n",
      "2    WI         5.7   65.5   American Robin\n",
      "3    MN         5.3   86.9             Loon\n",
      "\n",
      "Sum across columns\n",
      "0    200.7\n",
      "1    106.5\n",
      "2     71.2\n",
      "3     92.2\n",
      "dtype: float64\n",
      "\n",
      "Sum across rows\n",
      "population     57.8\n",
      "size          412.8\n",
      "dtype: float64\n",
      "\n",
      "Sum up population\n",
      "57.8\n"
     ]
    }
   ],
   "source": [
    "print(state_data)\n",
    "print(\"\")\n",
    "\n",
    "# Sums \n",
    "print('Sum across columns')\n",
    "print(state_data[['population', 'size']].sum(axis=1))  #axis = 1 sum across column, row is preserved; axis = 0  sum across rows\n",
    "\n",
    "print('\\nSum across rows')\n",
    "# ['population', 'size']\n",
    "print(state_data[['population', 'size']].sum(axis=0)) #default\n",
    "\n",
    "print('\\nSum up population')\n",
    "print(state_data['population'].sum())"
   ]
  },
  {
   "cell_type": "code",
   "execution_count": 8,
   "id": "96156b85",
   "metadata": {
    "slideshow": {
     "slide_type": "slide"
    }
   },
   "outputs": [
    {
     "name": "stdout",
     "output_type": "stream",
     "text": [
      "\n",
      "Mean of each column\n",
      "\n",
      "Mean population and size\n",
      "population     14.45\n",
      "size          103.20\n",
      "dtype: float64\n"
     ]
    }
   ],
   "source": [
    "# Means\n",
    "print('\\nMean of each column')\n",
    "#print(state_data.mean(axis=0)) \n",
    "\n",
    "print('\\nMean population and size')\n",
    "print(state_data[['population', 'size']].mean(axis=0))  #must specify names"
   ]
  },
  {
   "cell_type": "markdown",
   "id": "e3e64a06",
   "metadata": {
    "slideshow": {
     "slide_type": "slide"
    }
   },
   "source": [
    "We can use TAB completion to check out all the methods available or the [documentation](https://pandas.pydata.org/pandas-docs/stable/generated/pandas.DataFrame.html).\n",
    "\n",
    "For example: `sum`, `mean`, `var`, `std`, `skew`, `rank`, `quantile`, `mode`, `min`, `max`, `kurtosis`, etc."
   ]
  },
  {
   "cell_type": "code",
   "execution_count": 9,
   "id": "c3624d22-3220-438f-b86a-c638ddca4dd7",
   "metadata": {},
   "outputs": [
    {
     "ename": "SyntaxError",
     "evalue": "invalid syntax (927745020.py, line 1)",
     "output_type": "error",
     "traceback": [
      "\u001b[1;36m  Cell \u001b[1;32mIn[9], line 1\u001b[1;36m\u001b[0m\n\u001b[1;33m    state_data.\u001b[0m\n\u001b[1;37m               ^\u001b[0m\n\u001b[1;31mSyntaxError\u001b[0m\u001b[1;31m:\u001b[0m invalid syntax\n"
     ]
    }
   ],
   "source": [
    "state_data."
   ]
  },
  {
   "cell_type": "markdown",
   "id": "bc979533",
   "metadata": {
    "slideshow": {
     "slide_type": "slide"
    }
   },
   "source": [
    "## Reading/Writing Data\n",
    "\n",
    "We can use `pd.read_csv('filename.csv')` or `pd.read_excel('filename.xlsx')` to read in data from CSVs and Excel spreadsheets. It's super important to remember to be in the right directory! We can use the `os` package to get our current working directory or change directories.\n",
    "\n",
    "Some useful options are `sheet_name` (for Excel files), `header` (to skip rows to the column names), `index_col` (to automatically generate an index), `na_values` (for specific missing values), and `usecols` (to select a few columns)."
   ]
  },
  {
   "cell_type": "code",
   "execution_count": null,
   "id": "dd31b700-71b7-4e74-8c5c-c61eacde53f9",
   "metadata": {},
   "outputs": [],
   "source": []
  },
  {
   "cell_type": "markdown",
   "id": "78d96050",
   "metadata": {
    "slideshow": {
     "slide_type": "slide"
    }
   },
   "source": [
    "## Example: Pisa Data\n",
    "\n",
    "Many thanks to Greg for this example! The [pisa](https://www.oecd.org/pisa/) test is a test given to 15-year olds around the world. It evaluates reading, math, and science skills. \n",
    "\n",
    "In a web browser, go to [dx.doi.org/10.1787/888932937035](http://dx.doi.org/10.1787/888932937035) and download the spreadsheet with pisa scores by country. Check out the (very messy) data.\n",
    "\n",
    "This was formatted as a spreadsheet rather than something easy for a computer to read (\"rectangular\" data). We'll need to wrangle it into shape.\n",
    "\n",
    "Then, use `read_excel()` to create a DataFrame named `pisa` with countries, the mean scores in math, reading, and science. You can also read the file directly from the Internet!\n",
    "\n",
    "   1. Notice the last few rows of the data. Do we want to include these? Check out the `skipfooter` option. Use the documentation for `read_excel()` to learn more.  \n",
    "   2. There's also something strange at the top of the spreadsheet. Check out the `skiprows` option.\n",
    "   3. You can select the columns you want from the spreadsheet with the `usecols` option. Or, you could just delete columns you don't want once you've loaded the data."
   ]
  },
  {
   "cell_type": "code",
   "execution_count": null,
   "id": "8b23ccb0-5711-4220-b2fb-40746f14c840",
   "metadata": {},
   "outputs": [],
   "source": [
    "# Run this first to install requirements needed on Winstat\n",
    "!pip install xlrd\n",
    "# After you run this cell, click Kernel --> Restart Kernel and clear all outputs \n",
    "# Then run the code cell below again"
   ]
  },
  {
   "cell_type": "code",
   "execution_count": 3,
   "id": "3403fd0c",
   "metadata": {
    "scrolled": true,
    "slideshow": {
     "slide_type": "subslide"
    }
   },
   "outputs": [
    {
     "name": "stdout",
     "output_type": "stream",
     "text": [
      "{'Unnamed: 0': 'Country', 'Mathematics   ': 'Mathematics   ', 'Reading  ': 'Reading  ', 'Science  ': 'Science  '}\n"
     ]
    },
    {
     "data": {
      "text/html": [
       "<div>\n",
       "<style scoped>\n",
       "    .dataframe tbody tr th:only-of-type {\n",
       "        vertical-align: middle;\n",
       "    }\n",
       "\n",
       "    .dataframe tbody tr th {\n",
       "        vertical-align: top;\n",
       "    }\n",
       "\n",
       "    .dataframe thead th {\n",
       "        text-align: right;\n",
       "    }\n",
       "</style>\n",
       "<table border=\"1\" class=\"dataframe\">\n",
       "  <thead>\n",
       "    <tr style=\"text-align: right;\">\n",
       "      <th></th>\n",
       "      <th>Country</th>\n",
       "      <th>Mathematics</th>\n",
       "      <th>Reading</th>\n",
       "      <th>Science</th>\n",
       "    </tr>\n",
       "  </thead>\n",
       "  <tbody>\n",
       "    <tr>\n",
       "      <th>0</th>\n",
       "      <td>NaN</td>\n",
       "      <td>Mean score in PISA 2012</td>\n",
       "      <td>Mean score in PISA 2012</td>\n",
       "      <td>Mean score in PISA 2012</td>\n",
       "    </tr>\n",
       "    <tr>\n",
       "      <th>1</th>\n",
       "      <td>NaN</td>\n",
       "      <td>NaN</td>\n",
       "      <td>NaN</td>\n",
       "      <td>NaN</td>\n",
       "    </tr>\n",
       "    <tr>\n",
       "      <th>2</th>\n",
       "      <td>OECD average</td>\n",
       "      <td>494.046447</td>\n",
       "      <td>496.462864</td>\n",
       "      <td>501.159793</td>\n",
       "    </tr>\n",
       "    <tr>\n",
       "      <th>3</th>\n",
       "      <td>NaN</td>\n",
       "      <td>NaN</td>\n",
       "      <td>NaN</td>\n",
       "      <td>NaN</td>\n",
       "    </tr>\n",
       "    <tr>\n",
       "      <th>4</th>\n",
       "      <td>Shanghai-China</td>\n",
       "      <td>612.675536</td>\n",
       "      <td>569.588408</td>\n",
       "      <td>580.117831</td>\n",
       "    </tr>\n",
       "  </tbody>\n",
       "</table>\n",
       "</div>"
      ],
      "text/plain": [
       "          Country           Mathematics                   Reading    \\\n",
       "0             NaN  Mean score in PISA 2012  Mean score in PISA 2012   \n",
       "1             NaN                      NaN                      NaN   \n",
       "2    OECD average               494.046447               496.462864   \n",
       "3             NaN                      NaN                      NaN   \n",
       "4  Shanghai-China               612.675536               569.588408   \n",
       "\n",
       "                 Science    \n",
       "0  Mean score in PISA 2012  \n",
       "1                      NaN  \n",
       "2               501.159793  \n",
       "3                      NaN  \n",
       "4               580.117831  "
      ]
     },
     "execution_count": 3,
     "metadata": {},
     "output_type": "execute_result"
    }
   ],
   "source": [
    "# Reading from a link\n",
    "import pandas as pd\n",
    "url = 'http://dx.doi.org/10.1787/888932937035'\n",
    "pisa = pd.read_excel(url,\n",
    "                     skiprows=18,             # skip the first 18 rows\n",
    "                     skipfooter=7,            # skip the last 7 rows\n",
    "                     usecols=[0,1,9,13],      # select columns of interest\n",
    "                     )\n",
    "\n",
    "# Renaming\n",
    "old_names = pisa.columns.to_list()\n",
    "new_names = pisa.columns.to_list()\n",
    "new_names[0] = \"Country\"\n",
    "names = dict(zip(old_names, new_names))\n",
    "print(names)\n",
    "pisa = pisa.rename(columns=names)\n",
    "\n",
    "# Display\n",
    "pisa.head()"
   ]
  },
  {
   "cell_type": "markdown",
   "id": "0f7fb910",
   "metadata": {
    "slideshow": {
     "slide_type": "subslide"
    }
   },
   "source": [
    "There are lots of `NaN`s (missing values). How do we handle those?\n",
    "\n",
    "Look up `dropna()` in the pandas documentation. Clean up your DataFrame. Drop any rows that have *at least one* `NaN`. Save the result into a new DataFrame named `pisa2`.\n",
    "\n",
    "How many rows are in `pisa2`? "
   ]
  },
  {
   "cell_type": "code",
   "execution_count": 4,
   "id": "f05f91cd",
   "metadata": {
    "slideshow": {
     "slide_type": "fragment"
    }
   },
   "outputs": [
    {
     "name": "stdout",
     "output_type": "stream",
     "text": [
      "(69, 4)\n",
      "(66, 4)\n"
     ]
    },
    {
     "data": {
      "text/html": [
       "<div>\n",
       "<style scoped>\n",
       "    .dataframe tbody tr th:only-of-type {\n",
       "        vertical-align: middle;\n",
       "    }\n",
       "\n",
       "    .dataframe tbody tr th {\n",
       "        vertical-align: top;\n",
       "    }\n",
       "\n",
       "    .dataframe thead th {\n",
       "        text-align: right;\n",
       "    }\n",
       "</style>\n",
       "<table border=\"1\" class=\"dataframe\">\n",
       "  <thead>\n",
       "    <tr style=\"text-align: right;\">\n",
       "      <th></th>\n",
       "      <th>Country</th>\n",
       "      <th>Mathematics</th>\n",
       "      <th>Reading</th>\n",
       "      <th>Science</th>\n",
       "    </tr>\n",
       "  </thead>\n",
       "  <tbody>\n",
       "    <tr>\n",
       "      <th>2</th>\n",
       "      <td>OECD average</td>\n",
       "      <td>494.046447</td>\n",
       "      <td>496.462864</td>\n",
       "      <td>501.159793</td>\n",
       "    </tr>\n",
       "    <tr>\n",
       "      <th>4</th>\n",
       "      <td>Shanghai-China</td>\n",
       "      <td>612.675536</td>\n",
       "      <td>569.588408</td>\n",
       "      <td>580.117831</td>\n",
       "    </tr>\n",
       "    <tr>\n",
       "      <th>5</th>\n",
       "      <td>Singapore</td>\n",
       "      <td>573.468314</td>\n",
       "      <td>542.215834</td>\n",
       "      <td>551.493157</td>\n",
       "    </tr>\n",
       "    <tr>\n",
       "      <th>6</th>\n",
       "      <td>Hong Kong-China</td>\n",
       "      <td>561.241096</td>\n",
       "      <td>544.600086</td>\n",
       "      <td>554.937434</td>\n",
       "    </tr>\n",
       "    <tr>\n",
       "      <th>7</th>\n",
       "      <td>Chinese Taipei</td>\n",
       "      <td>559.824796</td>\n",
       "      <td>523.118904</td>\n",
       "      <td>523.314904</td>\n",
       "    </tr>\n",
       "  </tbody>\n",
       "</table>\n",
       "</div>"
      ],
      "text/plain": [
       "           Country Mathematics      Reading     Science  \n",
       "2     OECD average     494.046447  496.462864  501.159793\n",
       "4   Shanghai-China     612.675536  569.588408  580.117831\n",
       "5        Singapore     573.468314  542.215834  551.493157\n",
       "6  Hong Kong-China     561.241096  544.600086  554.937434\n",
       "7   Chinese Taipei     559.824796  523.118904  523.314904"
      ]
     },
     "execution_count": 4,
     "metadata": {},
     "output_type": "execute_result"
    }
   ],
   "source": [
    "# Drop missing values\n",
    "pisa2 = pisa.dropna()\n",
    "print(pisa.shape)        #shape of original dataset\n",
    "print(pisa2.shape)\n",
    "pisa2.head(5)"
   ]
  },
  {
   "cell_type": "markdown",
   "id": "466307a0",
   "metadata": {
    "slideshow": {
     "slide_type": "subslide"
    }
   },
   "source": [
    "Using `pisa2`, make the country names the index."
   ]
  },
  {
   "cell_type": "code",
   "execution_count": 5,
   "id": "93a993d9",
   "metadata": {
    "slideshow": {
     "slide_type": "fragment"
    }
   },
   "outputs": [
    {
     "name": "stdout",
     "output_type": "stream",
     "text": [
      "               Mathematics      Reading     Science  \n",
      "Country                                              \n",
      "OECD average       494.046447  496.462864  501.159793\n",
      "Shanghai-China     612.675536  569.588408  580.117831\n"
     ]
    }
   ],
   "source": [
    "# Set the index to country, avoid counting index num\n",
    "pisa2 = pisa2.set_index('Country')\n",
    "print(pisa2.head(2))"
   ]
  },
  {
   "cell_type": "markdown",
   "id": "339561b7",
   "metadata": {
    "slideshow": {
     "slide_type": "subslide"
    }
   },
   "source": [
    "Using `pisa2`, print out the ratios of the United States pisa scores (math, reading, science) relative to the OECD average."
   ]
  },
  {
   "cell_type": "code",
   "execution_count": 6,
   "id": "30e92a46",
   "metadata": {
    "slideshow": {
     "slide_type": "fragment"
    }
   },
   "outputs": [
    {
     "data": {
      "text/plain": [
       "Mathematics       0.974335\n",
       "Reading           1.002254\n",
       "Science           0.992517\n",
       "dtype: object"
      ]
     },
     "execution_count": 6,
     "metadata": {},
     "output_type": "execute_result"
    }
   ],
   "source": [
    "# Print the US relative to the average -- ratio\n",
    "pisa2.loc['United States'] / pisa2.loc['OECD average']    "
   ]
  },
  {
   "cell_type": "code",
   "execution_count": 9,
   "id": "559714b8",
   "metadata": {
    "slideshow": {
     "slide_type": "fragment"
    }
   },
   "outputs": [
    {
     "name": "stdout",
     "output_type": "stream",
     "text": [
      "Country           object\n",
      "Mathematics       object\n",
      "Reading           object\n",
      "Science           object\n",
      "dtype: object\n",
      "Math    object\n",
      "Read    object\n",
      "Sci     object\n",
      "dtype: object\n",
      "Math    float64\n",
      "Read    float64\n",
      "Sci     float64\n",
      "dtype: object\n"
     ]
    }
   ],
   "source": [
    "# Are all the columns floats? If they weren't, how would we convert them?\n",
    "print(pisa.dtypes)\n",
    "\n",
    "pisa2.columns= [\"Math\", \"Read\", \"Sci\"]\n",
    "print(pisa2.dtypes)\n",
    "pisa2 = pisa2[[\"Math\", \"Read\", \"Sci\"]].apply(pd.to_numeric)    \n",
    "print(pisa2.dtypes)\n",
    "# Insert your comments here. "
   ]
  },
  {
   "cell_type": "markdown",
   "id": "dd6e7de8-4978-4744-b19a-20189f06aa1e",
   "metadata": {},
   "source": [
    "## Some skills you'll need as you begin your project proposals...\n",
    "\n",
    "When putting your proposals together with your project teams, keep in mind a few things to make your work look clear and professional."
   ]
  },
  {
   "cell_type": "markdown",
   "id": "05689332-4bc0-4d50-b8ef-7f02640617cc",
   "metadata": {},
   "source": [
    "### Word and Latex templates on Canvas\n",
    "\n",
    "You can submit your proposal in Word or Latex. We've put together some templates for you to follow in the [Project Information](https://canvas.wisc.edu/courses/398123/pages/project-information) page on Canvas. \n",
    "\n",
    "Latex is one of the most popular typesetting programs. It's great for formatting papers and reports and I'd recommend looking into it. Of course, you can make a professional document in Word as well. Feel free to reach out if you have any questions on Latex."
   ]
  },
  {
   "cell_type": "markdown",
   "id": "4a5eca92-ee8e-496a-bfb7-a361d39196da",
   "metadata": {},
   "source": [
    "### Proper bibliographic citation \n",
    "\n",
    "You need to cite **all** referenced work in your proposal (and final reports)! Below is an example of proper citation: \n",
    "\n",
    "One of the most commonly known habits of opossums is “playing dead” or, as it is frequently called, “playing possum” (Cui 2024). This is real, although the opossum is not playing, which suggests there is some intent at work.\n",
    "\n",
    "An opossum, when confronted with a threat, will often hiss or bare its teeth. Or more likely, run. But if it is surprised by a predator, it will enter a catatonic state. It basically faints and is in a state of unconsciousness. The opossum has no control over this; it’s involuntary.\n",
    "\n",
    "#### Bibliography\n",
    "Cui, M. (2024). Opossums play dead when confronted. *Journal of Opossums Habits 3*(32), 123-4. "
   ]
  },
  {
   "cell_type": "code",
   "execution_count": null,
   "id": "900919d2-ce05-4bcd-92b4-9ab9e4312bed",
   "metadata": {},
   "outputs": [],
   "source": [
    "#APA, Chicago"
   ]
  },
  {
   "cell_type": "markdown",
   "id": "1459e890",
   "metadata": {
    "slideshow": {
     "slide_type": "slide"
    }
   },
   "source": [
    "## Have a great weekend!"
   ]
  }
 ],
 "metadata": {
  "celltoolbar": "Slideshow",
  "kernelspec": {
   "display_name": "Python 3 (ipykernel)",
   "language": "python",
   "name": "python3"
  },
  "language_info": {
   "codemirror_mode": {
    "name": "ipython",
    "version": 3
   },
   "file_extension": ".py",
   "mimetype": "text/x-python",
   "name": "python",
   "nbconvert_exporter": "python",
   "pygments_lexer": "ipython3",
   "version": "3.11.5"
  }
 },
 "nbformat": 4,
 "nbformat_minor": 5
}
