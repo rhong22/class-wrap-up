{
 "cells": [
  {
   "cell_type": "markdown",
   "id": "157996e1",
   "metadata": {
    "slideshow": {
     "slide_type": "slide"
    }
   },
   "source": [
    "## Discussion #3\n",
    "\n",
    "Files needed = None\n",
    "\n",
    "OH: Mondays and Wednesdays 9:15-10:15am in 6473 Sewell Social Sciences\n",
    "\n",
    "Email: minnie.cui@wisc.edu\n",
    "\n",
    "**Reminder: coding practice #1 solutions will be released tonight!**"
   ]
  },
  {
   "cell_type": "markdown",
   "id": "e6fa61db",
   "metadata": {
    "slideshow": {
     "slide_type": "slide"
    }
   },
   "source": [
    "### This week we saw:\n",
    "- Slicing (covered last week)\n",
    "- Functions\n",
    "- Packages\n",
    "- Pandas"
   ]
  },
  {
   "cell_type": "markdown",
   "id": "d47eb9f9-f44e-40b0-8e82-6bdacae6d7b3",
   "metadata": {},
   "source": [
    "## Functions\n",
    "\n",
    "We've seen some built-in functions in Python, like `len`, `range`, `str.lower()`, and others. But, we can write our own functions too. There are inputs (arguments) and outputs (returns) to every function. The syntax is `def function_name:` and then write your code within using tabs. Notice that some objects only live within the scope of the function. For example, `EULER` will only be within the function; I can't get that value outside of the function. We can pass arguments with keywords rather than ordered and we can set default arguments (e.g., `type_type=\"seconds\"`)."
   ]
  },
  {
   "cell_type": "code",
   "execution_count": 2,
   "id": "e2e70c0c-550e-4070-b0b9-9c3936e3a6cf",
   "metadata": {},
   "outputs": [
    {
     "name": "stdout",
     "output_type": "stream",
     "text": [
      "My future value is $4,953.03\n"
     ]
    }
   ],
   "source": [
    "# Continually compounding interest\n",
    "# apply nested function \n",
    "def compound_interest(present_value, years, r):\n",
    "    # Get future value\n",
    "    EULER = 2.71828\n",
    "    return present_value * EULER**(r * years)\n",
    "\n",
    "# Call function\n",
    "future_value = compound_interest(1000, 40, 0.04)\n",
    "print(\"My future value is ${0:4,.2f}\".format(future_value))   #.2f 2 digits after the peeriod, need this for exam!"
   ]
  },
  {
   "cell_type": "code",
   "execution_count": 11,
   "id": "52f67a75-89ae-4bb4-a946-82f3478dc0c1",
   "metadata": {},
   "outputs": [
    {
     "name": "stdout",
     "output_type": "stream",
     "text": [
      "2.3180555555555555\n",
      "64800\n"
     ]
    }
   ],
   "source": [
    "# Can we write a function that takes a seconds and converts them to hours or hours and converts them to seconds?\n",
    "# Hint: two arguments, one numeric and one to indicate a type, followed by a comparison\n",
    "\n",
    "# Values\n",
    "seconds = 8345\n",
    "hours = 18\n",
    "\n",
    "def convert_times (time, time_type):\n",
    "    if time_type ==\"seconds\":\n",
    "        return time / (60*60)\n",
    "    elif time_type == \"hours\":\n",
    "        return time* (60*60)\n",
    "    else:\n",
    "        return \"Invalid time type\"\n",
    "\n",
    "print(convert_times(seconds, \"seconds\"))\n",
    "print(convert_times(hours, \"hours\"))\n",
    "# Insert your code here"
   ]
  },
  {
   "cell_type": "code",
   "execution_count": 12,
   "id": "ab4cac03",
   "metadata": {
    "slideshow": {
     "slide_type": "fragment"
    }
   },
   "outputs": [
    {
     "name": "stdout",
     "output_type": "stream",
     "text": [
      "2.3180555555555555\n",
      "2.3180555555555555\n",
      "2.3180555555555555\n",
      "2.3180555555555555\n",
      "8345.0\n"
     ]
    }
   ],
   "source": [
    "# Values\n",
    "seconds = 8345\n",
    "\n",
    "# Function definition\n",
    "def convert_time(time, time_type=\"seconds\"):\n",
    "    if time_type == \"seconds\":\n",
    "        return time / (60 * 60)\n",
    "    elif time_type == \"hours\":\n",
    "        return time * (60 * 60)\n",
    "    else:\n",
    "        return \"I don't know what to return\"\n",
    "\n",
    "print(convert_time(time=seconds, time_type=\"seconds\"))\n",
    "print(convert_time(seconds, time_type=\"seconds\"))\n",
    "print(convert_time(time_type=\"seconds\", time=seconds))\n",
    "print(convert_time(time=seconds))\n",
    "\n",
    "# Bonus: what does this do? \n",
    "print(convert_time(2.3180555555555555, \"hours\"))\n",
    "\n",
    "# Insert your comments here "
   ]
  },
  {
   "cell_type": "markdown",
   "id": "6d227101",
   "metadata": {
    "slideshow": {
     "slide_type": "slide"
    }
   },
   "source": [
    "## Packages: Pandas\n",
    "\n",
    "There are lots of useful tools built in Python that are wrapped in nicely in *packages*. Once we install packages, we have access to all of their functions and interfaces. Every time we want to use a package, we have to `import` it. We saw some stuff with `pandas` this week, which is an amazing package for all of our data analysis.\n",
    "\n",
    "`pandas` stores data in `DataFrame` or `Series`. You can think of it as a kind of table or spreadsheet (a `Series` is a one-dimensional `DataFrame`). Some useful attributes include `shape`, `columns`, and `index`. We can access particular columns and rows just like before with slicing (or names!). We can change the index and delete observations.\n",
    "\n",
    "`pandas` has great [documentation](https://pandas.pydata.org/docs/). There are lots of different functions that you can use."
   ]
  },
  {
   "cell_type": "code",
   "execution_count": 13,
   "id": "306d2b3f",
   "metadata": {
    "slideshow": {
     "slide_type": "fragment"
    }
   },
   "outputs": [
    {
     "name": "stdout",
     "output_type": "stream",
     "text": [
      "Shape is: (4, 4)\n",
      "Index is: [0, 1, 2, 3]\n",
      "Columns are: ['state', 'pop', 'size', 'bird']\n"
     ]
    }
   ],
   "source": [
    "# Import libraries\n",
    "import pandas as pd\n",
    "\n",
    "# Generate data\n",
    "state_data = {'state':['CA','MI','WI','MN'], \n",
    "              'pop':[37,9.8,5.7, '5.3'], \n",
    "              'size':[163.7, 96.7, 65.5, 86.9], \n",
    "              'bird':['Quail', 'Redbreast Robin', 'American Robin', 'Loon']\n",
    "             }\n",
    "state_data = pd.DataFrame(state_data)\n",
    "\n",
    "# Try out some functions\n",
    "print(\"Shape is:\", state_data.shape)\n",
    "print(\"Index is:\", state_data.index.to_list())\n",
    "print(\"Columns are:\", state_data.columns.to_list())"
   ]
  },
  {
   "cell_type": "code",
   "execution_count": 14,
   "id": "27a9a7fb",
   "metadata": {
    "slideshow": {
     "slide_type": "slide"
    }
   },
   "outputs": [
    {
     "name": "stdout",
     "output_type": "stream",
     "text": [
      "  state  pop   size             bird\n",
      "0    CA   37  163.7            Quail\n",
      "1    MI  9.8   96.7  Redbreast Robin\n",
      "2    WI  5.7   65.5   American Robin\n",
      "3    MN  5.3   86.9             Loon\n",
      "\n",
      "  state  pop  size  bird\n",
      "3    MN  5.3  86.9  Loon\n",
      "\n",
      "  state  pop   size            bird\n",
      "0    CA   37  163.7           Quail\n",
      "2    WI  5.7   65.5  American Robin\n"
     ]
    }
   ],
   "source": [
    "# Accessing rows and columns\n",
    "print(state_data)\n",
    "# print(state_data.bird)\n",
    "# print(state_data['bird'])     #need this if there's a space in betweeen, if \"size\" is a column name, use this method as well\n",
    "# print(state_data.iloc[:,3])   all rowss associated with the third variable \n",
    "# print(state_data.iloc[:,:])   all rows and all column, unconventional \n",
    "print(\"\")\n",
    "\n",
    "# Filtering\n",
    "print(state_data[state_data['bird'] == \"Loon\"])\n",
    "print(\"\")\n",
    "print(state_data[(state_data['state'] == \"WI\") | (state_data['bird'] == 'Quail')])"
   ]
  },
  {
   "cell_type": "code",
   "execution_count": 15,
   "id": "5a7ac2f3",
   "metadata": {
    "slideshow": {
     "slide_type": "slide"
    }
   },
   "outputs": [
    {
     "name": "stdout",
     "output_type": "stream",
     "text": [
      "  state  pop   size             bird\n",
      "0    CA   37  163.7            Quail\n",
      "1    MI  9.8   96.7  Redbreast Robin\n",
      "2    WI  5.7   65.5   American Robin\n",
      "3    MN  5.3   86.9             Loon\n",
      "       pop   size             bird\n",
      "state                             \n",
      "CA      37  163.7            Quail\n",
      "MI     9.8   96.7  Redbreast Robin\n",
      "WI     5.7   65.5   American Robin\n",
      "MN     5.3   86.9             Loon\n",
      "  state  pop   size             bird\n",
      "0    CA   37  163.7            Quail\n",
      "1    MI  9.8   96.7  Redbreast Robin\n",
      "2    WI  5.7   65.5   American Robin\n",
      "3    MN  5.3   86.9             Loon\n"
     ]
    }
   ],
   "source": [
    "# Re-indexing (note the inplace argument), will use a lot \n",
    "print(state_data)\n",
    "state_data.set_index('state', inplace=True)     #inplace=True doesnt save the index,  or use state_index = state_data.set_index('state')\n",
    "print(state_data)\n",
    "# print(state_data.loc['CA'])\n",
    "state_data.reset_index(inplace=True)\n",
    "print(state_data)"
   ]
  },
  {
   "cell_type": "code",
   "execution_count": 16,
   "id": "8c1e0230",
   "metadata": {
    "slideshow": {
     "slide_type": "slide"
    }
   },
   "outputs": [
    {
     "name": "stdout",
     "output_type": "stream",
     "text": [
      "New names: ['state', 'pop', 'new_size', 'bird']\n",
      "New names: ['state', 'pop', 'size', 'bird']\n",
      "  state  pop   size             bird\n",
      "0    CA   37  163.7            Quail\n",
      "1    MI  9.8   96.7  Redbreast Robin\n",
      "2    WI  5.7   65.5   American Robin\n",
      "3    MN  5.3   86.9             Loon\n",
      "\n",
      "  state  pop             bird\n",
      "0    CA   37            Quail\n",
      "1    MI  9.8  Redbreast Robin\n",
      "2    WI  5.7   American Robin\n",
      "3    MN  5.3             Loon\n",
      "\n",
      "  state  pop   size             bird\n",
      "0    CA   37  163.7            Quail\n",
      "1    MI  9.8   96.7  Redbreast Robin\n",
      "2    WI  5.7   65.5   American Robin\n"
     ]
    }
   ],
   "source": [
    "# Re-naming\n",
    "state_data.rename(columns={'size' : 'new_size'}, inplace=True)\n",
    "print(\"New names:\", state_data.columns.to_list())\n",
    "state_data.rename(columns={'new_size' : 'size'}, inplace=True)\n",
    "print(\"New names:\", state_data.columns.to_list())\n",
    "\n",
    "# Dropping observations (note the axis argument)\n",
    "print(state_data)\n",
    "print(\"\")\n",
    "print(state_data.drop('size', axis=1))      #drop size from axis =1, size becomes narrowes; axis = 1 means drops variables(size is dropped)\n",
    "print(\"\")\n",
    "print(state_data.drop(3, axis=0))      #axis = 0  looks rows and drop 3rd column, dop obsservations, "
   ]
  },
  {
   "cell_type": "code",
   "execution_count": 18,
   "id": "ebf9db6b",
   "metadata": {
    "scrolled": true,
    "slideshow": {
     "slide_type": "slide"
    }
   },
   "outputs": [
    {
     "name": "stdout",
     "output_type": "stream",
     "text": [
      "   sepal_length  sepal_width  petal_length  petal_width species\n",
      "0           5.1          3.5           1.4          0.2  setosa\n",
      "1           4.9          3.0           1.4          0.2  setosa\n",
      "2           4.7          3.2           1.3          0.2  setosa\n",
      "3           4.6          3.1           1.5          0.2  setosa\n",
      "4           5.0          3.6           1.4          0.2  setosa\n",
      "5           5.4          3.9           1.7          0.4  setosa\n",
      "6           4.6          3.4           1.4          0.3  setosa\n",
      "7           5.0          3.4           1.5          0.2  setosa\n",
      "8           4.4          2.9           1.4          0.2  setosa\n",
      "9           4.9          3.1           1.5          0.1  setosa\n",
      "\n",
      "   sepal_length  sepal_width  petal_length species\n",
      "0           5.1          3.5           1.4  setosa\n",
      "1           4.9          3.0           1.4  setosa\n",
      "2           4.7          3.2           1.3  setosa\n",
      "3           4.6          3.1           1.5  setosa\n",
      "4           5.0          3.6           1.4  setosa\n",
      "\n",
      "         sepal_length  sepal_width  petal_length  petal_width\n",
      "species                                                      \n",
      "setosa            5.1          3.5           1.4          0.2\n",
      "setosa            4.9          3.0           1.4          0.2\n",
      "setosa            4.7          3.2           1.3          0.2\n",
      "setosa            4.6          3.1           1.5          0.2\n",
      "setosa            5.0          3.6           1.4          0.2\n",
      "\n",
      "   index species  sepal_length  sepal_width  petal_length  petal_width\n",
      "0      0  setosa           5.1          3.5           1.4          0.2\n",
      "1      5  setosa           5.4          3.9           1.7          0.4\n",
      "2     10  setosa           5.4          3.7           1.5          0.2\n",
      "3     14  setosa           5.8          4.0           1.2          0.2\n",
      "4     15  setosa           5.7          4.4           1.5          0.4\n",
      "  species  sepal_length  sepal_width  petal_length  petal_width\n",
      "0  setosa           5.1          3.5           1.4          0.2\n",
      "1  setosa           5.4          3.9           1.7          0.4\n",
      "2  setosa           5.4          3.7           1.5          0.2\n",
      "3  setosa           5.8          4.0           1.2          0.2\n",
      "4  setosa           5.7          4.4           1.5          0.4\n"
     ]
    }
   ],
   "source": [
    "# Import dataset\n",
    "import pandas as pd\n",
    "import seaborn as sns\n",
    "iris = sns.load_dataset('iris')\n",
    "print(iris.head(10))    #prints top five obs\n",
    "print(\"\")\n",
    "\n",
    "# Can we drop the petal width column?\n",
    "print(iris.drop('petal_width', axis=1).head())\n",
    "print(\"\")\n",
    "\n",
    "# Can we create an index by species? Can we reset it?\n",
    "iris.set_index('species', inplace=True)\n",
    "print(iris.head())\n",
    "iris.reset_index(inplace=True)\n",
    "print(\"\")\n",
    "\n",
    "# Can we select rows with sepal length >5? What about virginica with sepal length >5?\n",
    "iris = iris[iris.sepal_length > 5]\n",
    "iris.reset_index(inplace=True)\n",
    "print(iris.head())\n",
    "iris = iris.drop('index', axis=1)\n",
    "print(iris.head())\n",
    "\n",
    "# iris = iris[(iris.sepal_length > 5) & (iris.species == 'virginica')]  filters length>5\n",
    "# print(iris.tail(1))  drops index variable name    : tail gives the bottom observation  "
   ]
  },
  {
   "cell_type": "markdown",
   "id": "01df5dd5",
   "metadata": {
    "slideshow": {
     "slide_type": "slide"
    }
   },
   "source": [
    "### Have a great weekend!"
   ]
  }
 ],
 "metadata": {
  "celltoolbar": "Slideshow",
  "kernelspec": {
   "display_name": "Python 3 (ipykernel)",
   "language": "python",
   "name": "python3"
  },
  "language_info": {
   "codemirror_mode": {
    "name": "ipython",
    "version": 3
   },
   "file_extension": ".py",
   "mimetype": "text/x-python",
   "name": "python",
   "nbconvert_exporter": "python",
   "pygments_lexer": "ipython3",
   "version": "3.11.5"
  }
 },
 "nbformat": 4,
 "nbformat_minor": 5
}
