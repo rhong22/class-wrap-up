{
 "cells": [
  {
   "cell_type": "code",
   "execution_count": null,
   "id": "0aa7f4f6-a219-4d6f-81e5-832872c7bdd7",
   "metadata": {},
   "outputs": [],
   "source": [
    "#Item 2 Q1, Q2\n",
    "def longest_valid_dyck_substring_length(s):\n",
    "    stack = []\n",
    "    max_length = 0\n",
    "    current_length = 0\n",
    "    max_valid_substr = \"\"\n",
    "\n",
    "    for char in s:\n",
    "        if char in '{[(':\n",
    "            stack.append(char)\n",
    "        elif char in ')}]':\n",
    "            if stack and ((char == '}' and stack[-1] == '{') or (char == ']' and stack[-1] == '[') or (char == ')' and stack[-1] == '(')):\n",
    "                stack.pop()\n",
    "                current_length += 2\n",
    "            else:\n",
    "                current_length = 0\n",
    "                stack = []\n",
    "        else:  # If character is a letter\n",
    "            current_length += 1\n",
    "            if current_length > max_length:\n",
    "                max_length = current_length\n",
    "                max_valid_substr = s[s.index(char) - current_length + 1:s.index(char) + 1]\n",
    "\n",
    "    return max_length, max_valid_substr\n",
    "\n",
    "# Example usage:\n",
    "s1 ='egc[]aGMgzROGwVvc[{(Y{}{})[(){}V]wJX()}](Kf[F]())m)()l)(W){}DgrFPRMSSr[B]X(y{}{}V)zz{}pZ[]j[]T(({}[]V))gqif()DOhW[()]eptUavfWuM([])WggiZvN{}(q)()Y{}Tq'\n",
    "\n",
    "\n",
    "length, substring = longest_valid_dyck_substring_length(s1)\n",
    "print(\"Substring:\", substring)\n",
    "print(\"Length:\", length)\n"
   ]
  },
  {
   "cell_type": "code",
   "execution_count": null,
   "id": "fbfdce78-33f0-4442-8488-32cb41848446",
   "metadata": {},
   "outputs": [],
   "source": []
  },
  {
   "cell_type": "code",
   "execution_count": null,
   "id": "0698321f-c0da-4101-b4f7-b097f1bea5ea",
   "metadata": {},
   "outputs": [],
   "source": []
  },
  {
   "cell_type": "code",
   "execution_count": null,
   "id": "2acdd861-c564-4ea9-902d-413a23b53c91",
   "metadata": {},
   "outputs": [],
   "source": [
    "def longest_substring(s):\n",
    "    max_length = 0\n",
    "    current_length = 0\n",
    "    stack = []\n",
    "\n",
    "    for char in s:\n",
    "        if char == '{' or char == '[' or char == '(':\n",
    "            stack.append(char)\n",
    "            current_length +=1\n",
    "        elif char == '}' or char == ']' or char == ')':\n",
    "            if stack and ((char == '}' and stack[-1] == '{') or\n",
    "                          (char == ']' and stack [-1] == '[') or \n",
    "                          (char == ')' and stack [-1] == '(')):\n",
    "                stack.pop()\n",
    "                current_length += 1\n",
    "            else:\n",
    "                max_length = max(max_length, current_length)\n",
    "                current_length = 0\n",
    "                stack = []\n",
    "        else:\n",
    "            current_length += 1\n",
    "    max_length = max(max_length, current_length)\n",
    "    return max_length\n",
    "\n",
    "s2 = 'egc[]aGMgzROGwVvc[{(Y{}{})[(){}V]wJX()}](Kf[F]())m)()l)(W){}DgrFPRMSSr[B]X(y{}{}V)zz{}pZ[]j[]T(({}[]V))gqif()DOhW[()]eptUavfWuM([])WggiZvN{}(q)()Y{}Tq'\n",
    "longest_substring(s2)"
   ]
  }
 ],
 "metadata": {
  "kernelspec": {
   "display_name": "Python 3 (ipykernel)",
   "language": "python",
   "name": "python3"
  },
  "language_info": {
   "codemirror_mode": {
    "name": "ipython",
    "version": 3
   },
   "file_extension": ".py",
   "mimetype": "text/x-python",
   "name": "python",
   "nbconvert_exporter": "python",
   "pygments_lexer": "ipython3",
   "version": "3.11.5"
  }
 },
 "nbformat": 4,
 "nbformat_minor": 5
}
