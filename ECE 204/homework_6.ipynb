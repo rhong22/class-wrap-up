{
 "cells": [
  {
   "cell_type": "markdown",
   "metadata": {},
   "source": [
    "# Homework 6\n",
    "## ECE204 Data Science & Engineering"
   ]
  },
  {
   "cell_type": "markdown",
   "metadata": {},
   "source": [
    "*This notebook uses `X` for multiple problems, and that variable may end up being used for the wrong problem. To start fresh, restart the kernel in the Kernel menu or with the <span class=\"jp-RefreshIcon jp-Icon jp-Icon-16 jp-ToolbarButtonComponent-icon\"></span> button above.*"
   ]
  },
  {
   "cell_type": "markdown",
   "metadata": {},
   "source": [
    "### Import Statements"
   ]
  },
  {
   "cell_type": "code",
   "execution_count": 24,
   "metadata": {},
   "outputs": [],
   "source": [
    "import numpy as np\n",
    "import pandas as pd\n",
    "from sklearn.preprocessing import StandardScaler\n"
   ]
  },
  {
   "cell_type": "markdown",
   "metadata": {},
   "source": [
    "---\n",
    "**Problem 1.** On the MNIST dataset, **find the number of principle components that are required to explain Y%** (Y is given to you in Canvas) **of the variance.**"
   ]
  },
  {
   "cell_type": "code",
   "execution_count": 4,
   "metadata": {},
   "outputs": [
    {
     "data": {
      "text/plain": [
       "(70000, 784)"
      ]
     },
     "execution_count": 4,
     "metadata": {},
     "output_type": "execute_result"
    }
   ],
   "source": [
    "data = np.load(\"mnist.npz\")\n",
    "X = data[\"X\"]\n",
    "X.shape"
   ]
  },
  {
   "cell_type": "code",
   "execution_count": 5,
   "metadata": {},
   "outputs": [
    {
     "data": {
      "text/plain": [
       "(260, 0.9800213049893107)"
      ]
     },
     "execution_count": 5,
     "metadata": {},
     "output_type": "execute_result"
    }
   ],
   "source": [
    "# On the MNIST dataset, how many principal components are needed to explain 98% of the variance?\n",
    "from sklearn.decomposition import PCA\n",
    "est = PCA()\n",
    "est.fit(X)\n",
    "\n",
    "est = PCA(n_components = 0.98)\n",
    "X_low = est.fit_transform(X)\n",
    "est.n_components_, est.explained_variance_ratio_.sum()"
   ]
  },
  {
   "cell_type": "code",
   "execution_count": null,
   "metadata": {},
   "outputs": [],
   "source": [
    "#solution\n",
    "from sklearn.decomposition import PCA\n",
    "est = PCA(n_components=0.98, random_state=42)\n",
    "est.fit(X)\n",
    "est.n_components_"
   ]
  },
  {
   "cell_type": "markdown",
   "metadata": {},
   "source": [
    "---\n",
    "**Problem 2.** Consider the MNIST dataset again. The data shape should indicate there are 70,000 samples with 784 features each. Now suppose we want to reduce the number of dimensions in this dataset by an order of magnitude, and find out how the total explained variance changes going from one case to the next.\n",
    "\n",
    "Specifically, run PCA independently 3 times on this data reducing the data to the dimensions assigned to you in Canvas. **How much variance is explained by this many principal components?**"
   ]
  },
  {
   "cell_type": "code",
   "execution_count": 10,
   "metadata": {},
   "outputs": [],
   "source": [
    "data = np.load(\"mnist.npz\")\n",
    "X = data[\"X\"]"
   ]
  },
  {
   "cell_type": "code",
   "execution_count": 11,
   "metadata": {},
   "outputs": [
    {
     "data": {
      "text/plain": [
       "(200, 0.9661476597998437)"
      ]
     },
     "execution_count": 11,
     "metadata": {},
     "output_type": "execute_result"
    }
   ],
   "source": [
    "est = PCA(n_components = 200)\n",
    "X_pca = est.fit_transform(X)\n",
    "est.n_components_, est.explained_variance_ratio_.sum()\n"
   ]
  },
  {
   "cell_type": "code",
   "execution_count": null,
   "metadata": {},
   "outputs": [],
   "source": [
    "#solution\n",
    "pca_200 = PCA(n_components = 200, random_state=42)\n",
    "pca_200.fit(X)\n",
    "print(pca_200.explained_variance_ratio_.sum())"
   ]
  },
  {
   "cell_type": "markdown",
   "metadata": {},
   "source": [
    "---\n",
    "**Problem 3.** Suppose you have a dataset with a large number of dimensions, and want to perform clustering on it in a lower dimensional space.\n",
    "\n",
    "On the MNIST dataset, **reduce the number of dimensions to 3 (from 784) using PCA, and then run KMeans clustering on this reduced dataset assuming 10 clusters** since we have the prior knowledge that there are 10 categories of digits in MNIST, 0-9.\n",
    "\n",
    "**Which cluster centers are obtained through this process?** The cluster centers below are accurate to at least one unit.\n",
    "\n",
    "`Note:` Set `random_state=42` in both KMeans and PCA. e.g., `PCA(n_components=x, random_state=42)`. This is similar to setting a random seed.\n",
    "\n"
   ]
  },
  {
   "cell_type": "code",
   "execution_count": 29,
   "metadata": {},
   "outputs": [
    {
     "data": {
      "text/plain": [
       "(70000, 784)"
      ]
     },
     "execution_count": 29,
     "metadata": {},
     "output_type": "execute_result"
    }
   ],
   "source": [
    "data = np.load(\"mnist.npz\")\n",
    "X = data[\"X\"]\n",
    "X.shape"
   ]
  },
  {
   "cell_type": "code",
   "execution_count": 30,
   "metadata": {},
   "outputs": [
    {
     "name": "stderr",
     "output_type": "stream",
     "text": [
      "C:\\ProgramData\\Anaconda3\\Lib\\site-packages\\sklearn\\cluster\\_kmeans.py:870: FutureWarning: The default value of `n_init` will change from 10 to 'auto' in 1.4. Set the value of `n_init` explicitly to suppress the warning\n",
      "  warnings.warn(\n"
     ]
    },
    {
     "data": {
      "text/plain": [
       "array([[-7.58683735e+02, -2.33321712e+02, -7.04933734e+01, ...,\n",
       "        -2.31426506e-01,  1.62249856e-01,  4.82899168e-01],\n",
       "       [ 3.60288002e+02,  1.29771508e+02,  1.85582068e+02, ...,\n",
       "         3.50673420e-01, -4.36276158e-01, -1.76766091e-01],\n",
       "       [-2.62820786e+02,  5.91740685e+02,  1.88293071e+02, ...,\n",
       "        -4.61508060e-02,  1.64696914e-01, -8.66408599e-01],\n",
       "       ...,\n",
       "       [ 5.86209020e+01, -1.51941978e+02,  5.13846494e+02, ...,\n",
       "        -5.58573933e-01, -6.68478628e-01,  5.91936112e-01],\n",
       "       [ 5.86822764e+01, -1.78972582e+02,  3.55067020e+01, ...,\n",
       "         2.00352871e-01, -2.00666516e-01, -5.50890380e-02],\n",
       "       [-7.28298897e+02, -4.92471764e+02,  2.38227370e+02, ...,\n",
       "        -4.56349272e-01, -1.89333647e-01,  4.70560751e-01]])"
      ]
     },
     "execution_count": 30,
     "metadata": {},
     "output_type": "execute_result"
    }
   ],
   "source": [
    "from sklearn.cluster import KMeans\n",
    "\n",
    "pca = PCA(n_components=3, random_state=42).fit_transform(X)\n",
    "kmeans = KMeans (n_clusters = 10, random_state=42 )\n",
    "labels_hat = kmeans.fit_predict(X_low)\n",
    "\n",
    "cluster_centers = kmeans.cluster_centers_\n",
    "cluster_centers"
   ]
  },
  {
   "cell_type": "code",
   "execution_count": 33,
   "metadata": {},
   "outputs": [
    {
     "name": "stderr",
     "output_type": "stream",
     "text": [
      "C:\\ProgramData\\Anaconda3\\Lib\\site-packages\\sklearn\\cluster\\_kmeans.py:870: FutureWarning: The default value of `n_init` will change from 10 to 'auto' in 1.4. Set the value of `n_init` explicitly to suppress the warning\n",
      "  warnings.warn(\n"
     ]
    },
    {
     "name": "stdout",
     "output_type": "stream",
     "text": [
      "Cluster centers are: [[ -95.  653.  338.]\n",
      " [ 763. -113.  703.]\n",
      " [ 206. -388. -738.]\n",
      " [-810. -415.  116.]\n",
      " [ 394.   59.  -16.]\n",
      " [1229. -271. -162.]\n",
      " [  68.  747. -382.]\n",
      " [-458.  283. -197.]\n",
      " [   8. -593. -126.]\n",
      " [-148. -144.  489.]]\n"
     ]
    }
   ],
   "source": [
    "#solution\n",
    "import numpy as np\n",
    "from sklearn.decomposition import PCA\n",
    "from sklearn.cluster import KMeans\n",
    "\n",
    "data = np.load(\"mnist.npz\")\n",
    "X = data[\"X\"]\n",
    "X.shape\n",
    "\n",
    "# Reduce the number of dimensions in this dataset to 3\n",
    "pca = PCA(n_components = 3, random_state=42)\n",
    "X_pca = pca.fit_transform(X)\n",
    "\n",
    "# Perform clustering on this reduced dataset with K=10\n",
    "km = KMeans(n_clusters = 10, random_state=42)\n",
    "km_fit = km.fit(X_pca)\n",
    "print(\"Cluster centers are:\", km_fit.cluster_centers_.round(0))"
   ]
  },
  {
   "cell_type": "markdown",
   "metadata": {},
   "source": [
    "---\n",
    "**Problem 4.**\n",
    "1. Perform PCA on the data (`X`) in `synthetic1.csv` with `n_components=1`. <br>\n",
    "2. Now, get the inverse transform on the transformed data to reconstruct your input to it's original dimensions. Let's call this reconstructed data `X_hat`. <br>\n",
    "\n",
    "**For sanity check**: What shape is the data in `X`, and what is the shape of `X_hat` = inverse_transform(fit_transform(X))? Ideally, `X_hat` should be similar to `X`.\n",
    "\n",
    "**Mark all answers that are true.** <br>\n",
    "\n",
    "`NOTE:` To visualize the data, make a scatter plot."
   ]
  },
  {
   "cell_type": "code",
   "execution_count": 26,
   "metadata": {},
   "outputs": [
    {
     "name": "stdout",
     "output_type": "stream",
     "text": [
      "Shape of X: (400, 2)\n"
     ]
    },
    {
     "data": {
      "image/png": "[encoded data removed]",
      "text/plain": [
       "<Figure size 640x480 with 1 Axes>"
      ]
     },
     "metadata": {},
     "output_type": "display_data"
    }
   ],
   "source": [
    "df_s1 = pd.read_csv(\"synthetic1.csv\")\n",
    "\n",
    "# Use X for PCA \n",
    "X = df_s1.values\n",
    "print(\"Shape of X:\", X.shape)\n",
    "\n",
    "df_s1.head()\n",
    "ax = df_s1.plot.scatter(x = \"x0\", y = \"x1\")"
   ]
  },
  {
   "cell_type": "code",
   "execution_count": 269,
   "metadata": {},
   "outputs": [
    {
     "name": "stdout",
     "output_type": "stream",
     "text": [
      "Shape of X: (400, 2)\n",
      "Shape of X_hat: (400, 2)\n"
     ]
    },
    {
     "data": {
      "image/png": "[encoded data removed]",
      "text/plain": [
       "<Figure size 640x480 with 1 Axes>"
      ]
     },
     "metadata": {},
     "output_type": "display_data"
    }
   ],
   "source": [
    "import matplotlib.pyplot as plt\n",
    "from sklearn.decomposition import PCA\n",
    "\n",
    "pca = PCA(n_components=1)\n",
    "\n",
    "X_transformed = pca.fit_transform(X)\n",
    "\n",
    "# Inverse transform to reconstruct original data\n",
    "X_hat = pca.inverse_transform(X_transformed)\n",
    "\n",
    "print(\"Shape of X:\", X.shape)\n",
    "print(\"Shape of X_hat:\", X_hat.shape)\n",
    "\n",
    "# original and reconstructed plots\n",
    "plt.scatter(X[:, 0], X[:, 1], label='Original Data')\n",
    "plt.scatter(X_hat[:, 0], X_hat[:, 1], label='Reconstructed Data')\n",
    "plt.xlabel('Feature 1')\n",
    "plt.ylabel('Feature 2')\n",
    "plt.legend()\n",
    "plt.title('Original vs Reconstructed Data')\n",
    "plt.show()"
   ]
  },
  {
   "cell_type": "code",
   "execution_count": 27,
   "metadata": {},
   "outputs": [
    {
     "data": {
      "text/plain": [
       "<Axes: xlabel='0'>"
      ]
     },
     "execution_count": 27,
     "metadata": {},
     "output_type": "execute_result"
    },
    {
     "data": {
      "image/png": "[encoded data removed]",
      "text/plain": [
       "<Figure size 640x480 with 1 Axes>"
      ]
     },
     "metadata": {},
     "output_type": "display_data"
    }
   ],
   "source": [
    "#solution\n",
    "from sklearn.decomposition import PCA\n",
    "est = pca = PCA(n_components=1, random_state=42)\n",
    "X_transformed = pca.fit_transform(X)\n",
    "X_hat = X_hat = pca.inverse_transform(X_transformed)\n",
    "\n",
    "pd.DataFrame(X_hat).plot(x=0, y=1, style=\"o\")"
   ]
  },
  {
   "cell_type": "markdown",
   "metadata": {},
   "source": [
    "---\n",
    "**Problem 5. Which feature in `cars.csv` has the variance with the highest numerical value?**\n"
   ]
  },
  {
   "cell_type": "code",
   "execution_count": 44,
   "metadata": {},
   "outputs": [
    {
     "data": {
      "text/html": [
       "<div>\n",
       "<style scoped>\n",
       "    .dataframe tbody tr th:only-of-type {\n",
       "        vertical-align: middle;\n",
       "    }\n",
       "\n",
       "    .dataframe tbody tr th {\n",
       "        vertical-align: top;\n",
       "    }\n",
       "\n",
       "    .dataframe thead th {\n",
       "        text-align: right;\n",
       "    }\n",
       "</style>\n",
       "<table border=\"1\" class=\"dataframe\">\n",
       "  <thead>\n",
       "    <tr style=\"text-align: right;\">\n",
       "      <th></th>\n",
       "      <th>Acceleration</th>\n",
       "      <th>Cylinders</th>\n",
       "      <th>Displacement</th>\n",
       "      <th>Horsepower</th>\n",
       "      <th>Miles_per_Gallon</th>\n",
       "      <th>Weight_in_lbs</th>\n",
       "    </tr>\n",
       "  </thead>\n",
       "  <tbody>\n",
       "    <tr>\n",
       "      <th>0</th>\n",
       "      <td>12.0</td>\n",
       "      <td>8</td>\n",
       "      <td>307.0</td>\n",
       "      <td>130.0</td>\n",
       "      <td>18.0</td>\n",
       "      <td>3504</td>\n",
       "    </tr>\n",
       "    <tr>\n",
       "      <th>1</th>\n",
       "      <td>11.5</td>\n",
       "      <td>8</td>\n",
       "      <td>350.0</td>\n",
       "      <td>165.0</td>\n",
       "      <td>15.0</td>\n",
       "      <td>3693</td>\n",
       "    </tr>\n",
       "    <tr>\n",
       "      <th>2</th>\n",
       "      <td>11.0</td>\n",
       "      <td>8</td>\n",
       "      <td>318.0</td>\n",
       "      <td>150.0</td>\n",
       "      <td>18.0</td>\n",
       "      <td>3436</td>\n",
       "    </tr>\n",
       "    <tr>\n",
       "      <th>3</th>\n",
       "      <td>12.0</td>\n",
       "      <td>8</td>\n",
       "      <td>304.0</td>\n",
       "      <td>150.0</td>\n",
       "      <td>16.0</td>\n",
       "      <td>3433</td>\n",
       "    </tr>\n",
       "    <tr>\n",
       "      <th>4</th>\n",
       "      <td>10.5</td>\n",
       "      <td>8</td>\n",
       "      <td>302.0</td>\n",
       "      <td>140.0</td>\n",
       "      <td>17.0</td>\n",
       "      <td>3449</td>\n",
       "    </tr>\n",
       "  </tbody>\n",
       "</table>\n",
       "</div>"
      ],
      "text/plain": [
       "   Acceleration  Cylinders  Displacement  Horsepower  Miles_per_Gallon  \\\n",
       "0          12.0          8         307.0       130.0              18.0   \n",
       "1          11.5          8         350.0       165.0              15.0   \n",
       "2          11.0          8         318.0       150.0              18.0   \n",
       "3          12.0          8         304.0       150.0              16.0   \n",
       "4          10.5          8         302.0       140.0              17.0   \n",
       "\n",
       "   Weight_in_lbs  \n",
       "0           3504  \n",
       "1           3693  \n",
       "2           3436  \n",
       "3           3433  \n",
       "4           3449  "
      ]
     },
     "execution_count": 44,
     "metadata": {},
     "output_type": "execute_result"
    }
   ],
   "source": [
    "df_cars = pd.read_csv(\"cars.csv\")\n",
    "df_cars.head()"
   ]
  },
  {
   "cell_type": "code",
   "execution_count": 47,
   "metadata": {},
   "outputs": [
    {
     "data": {
      "text/plain": [
       "'Weight_in_lbs'"
      ]
     },
     "execution_count": 47,
     "metadata": {},
     "output_type": "execute_result"
    }
   ],
   "source": [
    "variances = df_cars.var()\n",
    "highest_variance_feature = variances.idxmax()\n",
    "highest_variance_feature \n"
   ]
  },
  {
   "cell_type": "code",
   "execution_count": null,
   "metadata": {},
   "outputs": [],
   "source": [
    "#solution\n",
    "de_cars.std()"
   ]
  },
  {
   "cell_type": "markdown",
   "metadata": {},
   "source": [
    "---\n",
    "**Problem 6.** Perform PCA on the `cars.csv` dataset, and find 6 principal components. The data can be transformed by PCA into 6 dimensions. <br>\n",
    "Now, perform the inverse transform on the transformed data (e.g., `X_hat = inverse_transform(transform(X))`).\n",
    "\n",
    "**Is the approximation `X_hat` equal to the original data `X`, and why?**\n",
    "\n",
    "`NOTE:` To check if they are same, we can just subtract the two vectors and find the absolute sum. Round the sum to 2 decimal place and check if its 0.0. If this sum is zero, we'll know that they are same."
   ]
  },
  {
   "cell_type": "code",
   "execution_count": 19,
   "metadata": {},
   "outputs": [],
   "source": [
    "df_cars = pd.read_csv(\"cars.csv\")\n",
    "X = df_cars.values"
   ]
  },
  {
   "cell_type": "code",
   "execution_count": 274,
   "metadata": {},
   "outputs": [
    {
     "name": "stdout",
     "output_type": "stream",
     "text": [
      "X_hat is equal to the original data X.\n"
     ]
    }
   ],
   "source": [
    "# PCA with 6 principal components\n",
    "pca = PCA(n_components=6)\n",
    "\n",
    "# inverse transform to reconstruct the original data\n",
    "X_hat = pca.inverse_transform(X_pca)\n",
    "\n",
    "# Check if X_hat is equal to the original data X\n",
    "absolute_sum = np.sum(np.abs(X - X_hat))\n",
    "if round(absolute_sum, 2) == 0.0:\n",
    "    print(\"X_hat is equal to the original data X.\")\n",
    "else:\n",
    "    print(\"X_hat is not equal to the original data X.\")"
   ]
  },
  {
   "cell_type": "code",
   "execution_count": 21,
   "metadata": {},
   "outputs": [
    {
     "name": "stdout",
     "output_type": "stream",
     "text": [
      "Explained Variance: 1.0\n"
     ]
    },
    {
     "data": {
      "text/plain": [
       "array([-0.,  0.,  0.,  0., -0.,  0.])"
      ]
     },
     "execution_count": 21,
     "metadata": {},
     "output_type": "execute_result"
    }
   ],
   "source": [
    "#solution\n",
    "from sklearn.decomposition import PCA\n",
    "est = PCA(n_components=6, random_state=42)\n",
    "\n",
    "X_hat = est.inverse_transform(est.fit_transform(X))\n",
    "\n",
    "#check\n",
    "print(\"Explained Variance:\", est.explained_variance_ratio_.sum())\n",
    "\n",
    "sum(X_hat - X).round(2)"
   ]
  },
  {
   "cell_type": "markdown",
   "metadata": {},
   "source": [
    "---\n",
    "**Problem 7.** Import the data in the `cars.csv` dataset.\n",
    "\n",
    "`Part 1` Find the number of principle components required to explain Y% (Y is given to you in Canvas) of the variance.<br>\n",
    "\n",
    "`Part 2` Standardize the original data using [`StandardScaler`](https://scikit-learn.org/stable/modules/generated/sklearn.preprocessing.StandardScaler.html). Now find the number of principle components required to explain Y% of the variance.\n",
    "\n",
    "**Does standardizing the data change the number of principal components required to explain Y% of the variance in Parts I and II? If so, please elaborate on why. If not, does this result match your expectations?**"
   ]
  },
  {
   "cell_type": "code",
   "execution_count": 22,
   "metadata": {},
   "outputs": [
    {
     "data": {
      "text/html": [
       "<div>\n",
       "<style scoped>\n",
       "    .dataframe tbody tr th:only-of-type {\n",
       "        vertical-align: middle;\n",
       "    }\n",
       "\n",
       "    .dataframe tbody tr th {\n",
       "        vertical-align: top;\n",
       "    }\n",
       "\n",
       "    .dataframe thead th {\n",
       "        text-align: right;\n",
       "    }\n",
       "</style>\n",
       "<table border=\"1\" class=\"dataframe\">\n",
       "  <thead>\n",
       "    <tr style=\"text-align: right;\">\n",
       "      <th></th>\n",
       "      <th>Acceleration</th>\n",
       "      <th>Cylinders</th>\n",
       "      <th>Displacement</th>\n",
       "      <th>Horsepower</th>\n",
       "      <th>Miles_per_Gallon</th>\n",
       "      <th>Weight_in_lbs</th>\n",
       "    </tr>\n",
       "  </thead>\n",
       "  <tbody>\n",
       "    <tr>\n",
       "      <th>0</th>\n",
       "      <td>12.0</td>\n",
       "      <td>8</td>\n",
       "      <td>307.0</td>\n",
       "      <td>130.0</td>\n",
       "      <td>18.0</td>\n",
       "      <td>3504</td>\n",
       "    </tr>\n",
       "    <tr>\n",
       "      <th>1</th>\n",
       "      <td>11.5</td>\n",
       "      <td>8</td>\n",
       "      <td>350.0</td>\n",
       "      <td>165.0</td>\n",
       "      <td>15.0</td>\n",
       "      <td>3693</td>\n",
       "    </tr>\n",
       "    <tr>\n",
       "      <th>2</th>\n",
       "      <td>11.0</td>\n",
       "      <td>8</td>\n",
       "      <td>318.0</td>\n",
       "      <td>150.0</td>\n",
       "      <td>18.0</td>\n",
       "      <td>3436</td>\n",
       "    </tr>\n",
       "    <tr>\n",
       "      <th>3</th>\n",
       "      <td>12.0</td>\n",
       "      <td>8</td>\n",
       "      <td>304.0</td>\n",
       "      <td>150.0</td>\n",
       "      <td>16.0</td>\n",
       "      <td>3433</td>\n",
       "    </tr>\n",
       "    <tr>\n",
       "      <th>4</th>\n",
       "      <td>10.5</td>\n",
       "      <td>8</td>\n",
       "      <td>302.0</td>\n",
       "      <td>140.0</td>\n",
       "      <td>17.0</td>\n",
       "      <td>3449</td>\n",
       "    </tr>\n",
       "  </tbody>\n",
       "</table>\n",
       "</div>"
      ],
      "text/plain": [
       "   Acceleration  Cylinders  Displacement  Horsepower  Miles_per_Gallon  \\\n",
       "0          12.0          8         307.0       130.0              18.0   \n",
       "1          11.5          8         350.0       165.0              15.0   \n",
       "2          11.0          8         318.0       150.0              18.0   \n",
       "3          12.0          8         304.0       150.0              16.0   \n",
       "4          10.5          8         302.0       140.0              17.0   \n",
       "\n",
       "   Weight_in_lbs  \n",
       "0           3504  \n",
       "1           3693  \n",
       "2           3436  \n",
       "3           3433  \n",
       "4           3449  "
      ]
     },
     "execution_count": 22,
     "metadata": {},
     "output_type": "execute_result"
    }
   ],
   "source": [
    "df_cars = pd.read_csv(\"cars.csv\")\n",
    "X = df_cars.values\n",
    "df_cars.head()"
   ]
  },
  {
   "cell_type": "code",
   "execution_count": 276,
   "metadata": {},
   "outputs": [
    {
     "data": {
      "text/plain": [
       "(1, 0.9975535062891329)"
      ]
     },
     "execution_count": 276,
     "metadata": {},
     "output_type": "execute_result"
    }
   ],
   "source": [
    "#Part-1: Find the number of principal components required to explain 99% of the variance.\n",
    "\n",
    "from sklearn.decomposition import PCA\n",
    "embedding = PCA()\n",
    "embedding.fit(X)\n",
    "\n",
    "embedding = PCA(n_components = 0.99)\n",
    "X_low = embedding.fit_transform(X)\n",
    "embedding.n_components_, embedding.explained_variance_ratio_.sum()\n"
   ]
  },
  {
   "cell_type": "code",
   "execution_count": 23,
   "metadata": {},
   "outputs": [
    {
     "data": {
      "text/plain": [
       "1"
      ]
     },
     "execution_count": 23,
     "metadata": {},
     "output_type": "execute_result"
    }
   ],
   "source": [
    "#OR\n",
    "est = PCA(n_components=0.99, random_state=42)\n",
    "est.fit(X)\n",
    "est.n_components_\n"
   ]
  },
  {
   "cell_type": "code",
   "execution_count": 61,
   "metadata": {},
   "outputs": [
    {
     "data": {
      "text/plain": [
       "(5, 0.9939530000311947)"
      ]
     },
     "execution_count": 61,
     "metadata": {},
     "output_type": "execute_result"
    }
   ],
   "source": [
    "#Part-2 \n",
    "from sklearn.decomposition import PCA\n",
    "\n",
    "scaler = StandardScaler()\n",
    "X_scaled = scaler.fit_transform(X)\n",
    "\n",
    "embedding = PCA()\n",
    "embedding.fit(X_scaled)\n",
    "\n",
    "embedding = PCA(n_components = 0.99)\n",
    "X_low = embedding.fit_transform(X_scaled)\n",
    "embedding.n_components_, embedding.explained_variance_ratio_.sum()\n"
   ]
  },
  {
   "cell_type": "code",
   "execution_count": null,
   "metadata": {},
   "outputs": [],
   "source": [
    "#part 2 solution \n",
    "SS = StandardScaler()\n",
    "X_norm = SS.fit_transform(X)\n",
    "\n",
    "pca= PCA(0.95, random_state=42)\n",
    "pca.fit(X_norm)\n",
    "pca.n_components_"
   ]
  },
  {
   "cell_type": "code",
   "execution_count": null,
   "metadata": {},
   "outputs": [],
   "source": []
  },
  {
   "cell_type": "code",
   "execution_count": null,
   "metadata": {},
   "outputs": [],
   "source": []
  },
  {
   "cell_type": "code",
   "execution_count": 282,
   "metadata": {},
   "outputs": [
    {
     "data": {
      "text/plain": [
       "95"
      ]
     },
     "execution_count": 282,
     "metadata": {},
     "output_type": "execute_result"
    }
   ],
   "source": [
    "#item 2 Q1, Q2\n",
    "def longest_substring(s):\n",
    "    max_length = 0\n",
    "    current_length = 0\n",
    "    stack = []\n",
    "\n",
    "    for char in s:\n",
    "        if char == '{' or char == '[' or char == '(':\n",
    "            stack.append(char)\n",
    "            current_length +=1\n",
    "        elif char == '}' or char == ']' or char == ')':\n",
    "            if stack and ((char == '}' and stack[-1] == '{') or\n",
    "                          (char == ']' and stack [-1] == '[') or \n",
    "                          (char == ')' and stack [-1] == '(')):\n",
    "                stack.pop()\n",
    "                current_length += 1\n",
    "            else:\n",
    "                max_length = max(max_length, current_length)\n",
    "                current_length = 0\n",
    "                stack = []\n",
    "        else:\n",
    "            current_length += 1\n",
    "    max_length = max(max_length, current_length)\n",
    "    return max_length\n",
    "\n",
    "s2 = 'egc[]aGMgzROGwVvc[{(Y{}{})[(){}V]wJX()}](Kf[F]())m)()l)(W){}DgrFPRMSSr[B]X(y{}{}V)zz{}pZ[]j[]T(({}[]V))gqif()DOhW[()]eptUavfWuM([])WggiZvN{}(q)()Y{}Tq'\n",
    "longest_substring(s2)"
   ]
  },
  {
   "cell_type": "code",
   "execution_count": 158,
   "metadata": {},
   "outputs": [
    {
     "data": {
      "text/plain": [
       "35"
      ]
     },
     "execution_count": 158,
     "metadata": {},
     "output_type": "execute_result"
    }
   ],
   "source": [
    "\n",
    "import numpy as np\n",
    "from sklearn.decomposition import PCA\n",
    "\n",
    "def num_components_for_variance(data, k):\n",
    "    pca = PCA()\n",
    "    pca.fit(data)\n",
    "    cumulative_variance = np.cumsum(pca.explained_variance_ratio_)\n",
    "    num_components = np.argmax(cumulative_variance >= k) + 1\n",
    "    return num_components\n",
    "\n",
    "# Generate some random data\n",
    "num_samples = 2000\n",
    "num_features = 40\n",
    "random_data = np.random.rand(num_samples, num_features)\n",
    "\n",
    "# Set the desired minimum variance (e.g., 0.9 for 90% variance)\n",
    "k = 0.9\n",
    "\n",
    "required_components = num_components_for_variance(random_data, k)\n",
    "required_components"
   ]
  },
  {
   "cell_type": "markdown",
   "metadata": {},
   "source": [
    "---"
   ]
  }
 ],
 "metadata": {
  "kernelspec": {
   "display_name": "Python 3 (ipykernel)",
   "language": "python",
   "name": "python3"
  },
  "language_info": {
   "codemirror_mode": {
    "name": "ipython",
    "version": 3
   },
   "file_extension": ".py",
   "mimetype": "text/x-python",
   "name": "python",
   "nbconvert_exporter": "python",
   "pygments_lexer": "ipython3",
   "version": "3.11.5"
  }
 },
 "nbformat": 4,
 "nbformat_minor": 4
}
