{
 "cells": [
  {
   "cell_type": "markdown",
   "metadata": {},
   "source": [
    "# Coding practice \\#2\n",
    "\n",
    "files needed = (`banks_and_branches.csv`, `nhe.csv`)\n",
    "\n",
    "Answer the questions below in a Jupyter notebook. You can modify this notebook by adding cells with your answers. It is recommended to try it on your own to practice the material in advance the exams."
   ]
  },
  {
   "cell_type": "markdown",
   "metadata": {},
   "source": [
    "## Exercise 0: Last, First\n",
    "Replace 'Last, First' above with your actual name. Enter it as your last name, first name."
   ]
  },
  {
   "cell_type": "markdown",
   "metadata": {},
   "source": [
    "## Exercise 1: Subsets\n",
    "Let's practice pulling subsets out of a DataFrame. We subset a lot. Our goal is to build some muscle memory, so that every time we need to subset the data, we do not need to go look up how to do it. \n",
    "\n",
    "To this end, first try the exercises below without consulting your notes or the internet. Identify where you need to improve and keep practicing! \n",
    "\n",
    "### Part (a):\n",
    "Create a DataFrame from the following dict: \n",
    "\n",
    "```python\n",
    "data_dict = {'animal':['koala', 'emu', 'platypus', 'kangaroo', 'capybara', 'frilled lizard'],\n",
    "             'order': ['Diprotodontia', 'Struthioniformes', 'Monotremata', 'Diprotodontia', 'Rodentia', 'Squamata'],\n",
    "             'class': ['Mammalia', ' Casuariiformes', 'Mammalia', 'Mammalia', 'Mammalia', 'Reptilia'],\n",
    "             'weight':[21, 86, 3.4, 62.5, 111.5, 1.3],\n",
    "            }\n",
    "```"
   ]
  },
  {
   "cell_type": "markdown",
   "metadata": {},
   "source": [
    "### Part (b): \n",
    "Create and print a DataFrame that includes all the information in the DataFrame from part (a), but also includes a column containing your own subjective ranking of how weird the animal is. This variable should have a minimum of 1 and a maximum of 6, with 1 indicating the weirdest animal and 6 the least weird, and there can be no ties."
   ]
  },
  {
   "cell_type": "markdown",
   "metadata": {},
   "source": [
    "### Part (c):\n",
    "Print a Series containing the names of only the three weirdest non-reptiles (reptiles are class *Reptilia*), without directly referring to the animals by name or ``order``. Recall the `.sort_values` method. Using a markdown cell, explain what the numbers to the left of the animal names represent."
   ]
  },
  {
   "cell_type": "markdown",
   "metadata": {},
   "source": [
    "### Part (d): \n",
    "Set the index of the DataFrame to `animal`. Then print the subset of the DataFrame containing only frilled lizards, koalas, and platypuses."
   ]
  },
  {
   "cell_type": "markdown",
   "metadata": {},
   "source": [
    "### Part (e): \n",
    "Using the DataFrame from part (b), print out the average weirdness for mammals (class *Mammalia*) between 10 and 100 pounds. "
   ]
  },
  {
   "cell_type": "markdown",
   "metadata": {},
   "source": [
    "### Part (f):\n",
    "Using the DataFrame from part (b), print out the number of animals with weight above 4 pounds, filling in the XX the sentence \"There are XX animals in my DataFrame weighing above four pounds.\" "
   ]
  },
  {
   "cell_type": "markdown",
   "metadata": {},
   "source": [
    "### Part (g):\n",
    "Using the DataFrame from part (b), write code to determine whether the three *least weird* animals in your DataFrame weigh more or less than the average animal in the full dataset. Print one sentence clearly stating the results of this comparison."
   ]
  },
  {
   "cell_type": "markdown",
   "metadata": {},
   "source": [
    "## Exercise 2: Importing data\n",
    "\n",
    "The file `banks_and_branches.csv` (on the course website for download) contains data on the number of commercial banking institutions, branches, and offices in the United States at the end of each year between 1934 and 2017. \n",
    "\n",
    "\\[The data are from Table CB01, which is maintained by the Federal Deposit Insurance Corporation (FDIC).  FDIC data can be downloaded from [here](https://www.fdic.gov/open/datatools.html). You are encouraged to browse around their website to see what's there &mdash; this might be a useful source for your final project.\\]\n",
    "\n",
    "Your task is to import this data into Python and get it into good shape. \n",
    "\n",
    "### Part (a):\n",
    "Import the data from `banks_and_branches.csv` into a pandas DataFrame called `banking_data`. If you open the .csv file in Excel or a similar program, you'll notice that there are notes in several of the cells at the beginning of the file. Write code that deletes those extraneous notes. This code should appear within the command you use to open the file."
   ]
  },
  {
   "cell_type": "markdown",
   "metadata": {},
   "source": [
    "### Part (b):\n",
    "1. Sort the data in ascending chronological order. Print the first and last dates in the data. Set the index to be the year column.\n",
    "2. Convert each of the column names to upper case using a list comprehension.\n",
    "3. Delete the `offices` column.\n",
    "4. Summarize the data in each column. Why does this look different from the usual `.describe` output? Print your answer in a markdown cell."
   ]
  },
  {
   "cell_type": "markdown",
   "metadata": {},
   "source": [
    "### Part (c):\n",
    "\n",
    "1. Use a loop to fix the `object` columns so they are of type `integer`. \\[Have a look at `str.replace()` and `.astype()`.\\]\n",
    "2. Summarize the data to confirm that they are fixed.\n",
    "3. Create a new column that calculates the number of branches per institution in each year. What is the average value across years?\n",
    "4. Save the results in a CSV called `bank_data.csv`. Save it to a subdirectory of your current working directory called `data`."
   ]
  },
  {
   "cell_type": "markdown",
   "metadata": {},
   "source": [
    "## Exercise 3\n",
    "Let's work with some data on health expenditures. The data comes from the [Centers for Medicare and Medicaid Services (CMS)](https://www.cms.gov/research-statistics-data-and-systems/statistics-trends-and-reports/nationalhealthexpenddata/nationalhealthaccountshistorical). The goal is to brush up on our data cleaning skills, compute a few summary statistics, and make a simple visualization. \n",
    "\n",
    "### Part (a):\n",
    "1. The file `nhe.csv` contains a column with the year and the total amount spent on healthcare in billions of dollars in that year. Read it into a DataFrame and create a series of growth rates. Print out the first 10 observations. [Hint: Check out the `pct_change` method.]"
   ]
  },
  {
   "cell_type": "markdown",
   "metadata": {},
   "source": [
    "2. Something went wrong, right? There is a gremlin in the data. Find a way to use `read_csv()` to turn the bad data into `NaN`s. You may find `read_csv?` helpful. Replace any year that has a `NaN` with the expenditure in the year before. Now compute the growth rates. Print the first 5 years."
   ]
  },
  {
   "cell_type": "markdown",
   "metadata": {},
   "source": [
    "### Part (b):\n",
    "1. Compute the mean growth rate for 1970&ndash;1990, including the endpoints.\n",
    "2. Compute the standard deviation of the growth rate for 1970&ndash;1990, including the endpoints.\n",
    "3. Repeat parts 1. and 2. for the period 1990&ndash;2010, including the endpoints.\n",
    "4. Print out your results in a few *neatly formatted* sentences. Comment on the differences between the two periods. \n",
    "\n"
   ]
  },
  {
   "cell_type": "markdown",
   "metadata": {},
   "source": [
    "### Part (c):\n",
    "Plot a histogram of health expenditure growth rates, with vertical lines at the 1970-1990 mean and the 1990-2010 mean. Make sure to appropriately label the plot, and label the vertical lines to make clear which is which. Please use green for the plot color."
   ]
  },
  {
   "cell_type": "markdown",
   "metadata": {},
   "source": [
    "## Exercise 4: Assigning analysts\n",
    "\n",
    "*Source:* This is a modification of a problem that Google often uses as a coding exam to recruit software engineers.\n",
    "\n",
    "*Setup:* You are going to lead a team of analysts to summarize the determinants of health spending growth 1960-2019. Each team member will be responsible for a set of consecutive years to generate a report for the Biden administration. It's expensive to hire an analyst: each one receives a base salary of $\\$50,000$, plus a bonus of $\\$8,000$ per week of work. It is expected that if an analyst is given `Y` years of data to analyze, it will take her $$Y + 0.075*Y^2$$ weeks to complete the project. \n",
    "\n",
    "*How to assign years:* Each analyst will receive a \"cut\" of consecutive years to analyze. For example, if there are 6 team members, each team member will get a decade to analyze: 1960-1969, 1970-1979, 1980-1989, 1990-1999, 2000-2009, and 2010-2019. However, if there are 7 team members, you can't divide the years equally. This means you can't have a team of 7.\n",
    "\n",
    "*Your task:* You don’t know how many teammates you’ll have, but you’re told there is a total pool of 10 analysts, including you, and you are expected to hire at least 4 of them. Your job is to find the number of analysts that has the lowest cost. For example, if there are 4 team members, each of whom is responsible for 15 years, the total cost is $4 \\times (\\$50,000 + \\$8,000 \\times (15 + 0.075 \\times 15^2)) = \\$1,220,000$. Not bad for a federal project!\n",
    "\n",
    "You should write code to solve this problem. Here are the steps for the solution:\n",
    "\n",
    "1. Create a list with the years 1960-2019: `[1960, 1961, …, 2018, 2019]`.\n",
    "\n",
    "2. For each possible team size from 4-10 analysts, find the largest number of years you can analyze, from 1960-2019, with each analyst getting the same number of years. You should loop over team size possibilities and print out a nicely formatted answer like this: “If there are 6 team members, each team member will analyze 10 years.” If the years cannot be divided evenly, you don't need to print anything.\n",
    "\n",
    "3. For the subset of team sizes for which you can evenly divide all of the years, calculate the cost of paying the team using the formula above. \n",
    "\n",
    "4. What is the cost-minimizing team structure? Use your coding skills and Python functions to keep track of the costs, find the minimum, and print out the optimal team size. Do not do this manually."
   ]
  }
 ],
 "metadata": {
  "celltoolbar": "Attachments",
  "hide_input": false,
  "kernelspec": {
   "display_name": "Python 3 (ipykernel)",
   "language": "python",
   "name": "python3"
  },
  "language_info": {
   "codemirror_mode": {
    "name": "ipython",
    "version": 3
   },
   "file_extension": ".py",
   "mimetype": "text/x-python",
   "name": "python",
   "nbconvert_exporter": "python",
   "pygments_lexer": "ipython3",
   "version": "3.11.5"
  },
  "vscode": {
   "interpreter": {
    "hash": "f69ee35a335ce46dbfcc15a86588d1f1659e6f49ff69fa44385d419280addd68"
   }
  }
 },
 "nbformat": 4,
 "nbformat_minor": 4
}
