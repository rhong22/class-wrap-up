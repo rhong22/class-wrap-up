{
 "cells": [
  {
   "cell_type": "markdown",
   "metadata": {},
   "source": [
    "# Linear regression\n",
    "\n",
    "files needed = ('sleep75.dta', 'wage1.dta')\n",
    "\n",
    "This notebook introduces us to the statsmodels package [(docs)](https://devdocs.io/statsmodels/), which provides functions for formulating and estimating statistical models. This notebook will not address the models, per se, but will focus on how to put econometrics to work in python.\n",
    "\n",
    "Many of you have used STATA before. STATA is a great package for econometrics. Python can do most of what STATA can do, but STATA will have more specialized routines available. As python's popularity grows, the kinds of models you can estimate in it will grow as well.    \n",
    "\n",
    "If STATA is your thing, this [page](http://rlhick.people.wm.edu/posts/comparing-stata-and-ipython-commands-for-ols-models.html) on Rob Hicks' website is a nice STATA-to-python concordance.  "
   ]
  },
  {
   "cell_type": "code",
   "execution_count": 6,
   "metadata": {},
   "outputs": [],
   "source": [
    "import pandas as pd                    # for data handling\n",
    "import numpy as np                     # for numerical methods and data structures\n",
    "import matplotlib.pyplot as plt        # for plotting\n",
    "\n",
    "\n",
    "# The new packages...\n",
    "import statsmodels.api as sm           # provides statistical models like ols, gmm, anova, etc...\n",
    "import statsmodels.formula.api as smf  # provides a way to directly spec models from formulas"
   ]
  },
  {
   "cell_type": "markdown",
   "metadata": {},
   "source": [
    "### Reading Stata data files\n",
    "\n",
    "Jeff Wooldridge's econometrics textbooks are an academic staple. Our plan today is to work through some of the problems in the Wooldridge textbook as a way to introduce regression in python. \n",
    "\n",
    "On the plus side, the data that correspond to the Wooldridge problems are available to download and they are **ALREADY CLEANED.** \\[I contemplated adding some junk to the files to make it more interesting...\\]\n",
    "\n",
    "On the minus side, the files are in STATA's .dta format. \n",
    "\n",
    "Lucky for us, pandas has a method that [reads stata files](http://pandas.pydata.org/pandas-docs/stable/generated/pandas.read_stata.html). It also has methods for SQL, SAS, JSON,..."
   ]
  },
  {
   "cell_type": "code",
   "execution_count": 16,
   "metadata": {},
   "outputs": [
    {
     "data": {
      "text/html": [
       "<div>\n",
       "<style scoped>\n",
       "    .dataframe tbody tr th:only-of-type {\n",
       "        vertical-align: middle;\n",
       "    }\n",
       "\n",
       "    .dataframe tbody tr th {\n",
       "        vertical-align: top;\n",
       "    }\n",
       "\n",
       "    .dataframe thead th {\n",
       "        text-align: right;\n",
       "    }\n",
       "</style>\n",
       "<table border=\"1\" class=\"dataframe\">\n",
       "  <thead>\n",
       "    <tr style=\"text-align: right;\">\n",
       "      <th></th>\n",
       "      <th>age</th>\n",
       "      <th>black</th>\n",
       "      <th>case</th>\n",
       "      <th>clerical</th>\n",
       "      <th>construc</th>\n",
       "      <th>educ</th>\n",
       "      <th>earns74</th>\n",
       "      <th>gdhlth</th>\n",
       "      <th>inlf</th>\n",
       "      <th>leis1</th>\n",
       "      <th>...</th>\n",
       "      <th>spwrk75</th>\n",
       "      <th>totwrk</th>\n",
       "      <th>union</th>\n",
       "      <th>worknrm</th>\n",
       "      <th>workscnd</th>\n",
       "      <th>exper</th>\n",
       "      <th>yngkid</th>\n",
       "      <th>yrsmarr</th>\n",
       "      <th>hrwage</th>\n",
       "      <th>agesq</th>\n",
       "    </tr>\n",
       "  </thead>\n",
       "  <tbody>\n",
       "    <tr>\n",
       "      <th>0</th>\n",
       "      <td>32.0</td>\n",
       "      <td>0.0</td>\n",
       "      <td>1.0</td>\n",
       "      <td>0.0</td>\n",
       "      <td>0.0</td>\n",
       "      <td>12.0</td>\n",
       "      <td>0.0</td>\n",
       "      <td>0.0</td>\n",
       "      <td>1.0</td>\n",
       "      <td>3529.0</td>\n",
       "      <td>...</td>\n",
       "      <td>0.0</td>\n",
       "      <td>3438.0</td>\n",
       "      <td>0.0</td>\n",
       "      <td>3438.0</td>\n",
       "      <td>0.0</td>\n",
       "      <td>14.0</td>\n",
       "      <td>0.0</td>\n",
       "      <td>13.0</td>\n",
       "      <td>7.070004</td>\n",
       "      <td>1024.0</td>\n",
       "    </tr>\n",
       "    <tr>\n",
       "      <th>1</th>\n",
       "      <td>31.0</td>\n",
       "      <td>0.0</td>\n",
       "      <td>2.0</td>\n",
       "      <td>0.0</td>\n",
       "      <td>0.0</td>\n",
       "      <td>14.0</td>\n",
       "      <td>9500.0</td>\n",
       "      <td>1.0</td>\n",
       "      <td>1.0</td>\n",
       "      <td>2140.0</td>\n",
       "      <td>...</td>\n",
       "      <td>0.0</td>\n",
       "      <td>5020.0</td>\n",
       "      <td>0.0</td>\n",
       "      <td>5020.0</td>\n",
       "      <td>0.0</td>\n",
       "      <td>11.0</td>\n",
       "      <td>0.0</td>\n",
       "      <td>0.0</td>\n",
       "      <td>1.429999</td>\n",
       "      <td>961.0</td>\n",
       "    </tr>\n",
       "    <tr>\n",
       "      <th>2</th>\n",
       "      <td>44.0</td>\n",
       "      <td>0.0</td>\n",
       "      <td>3.0</td>\n",
       "      <td>0.0</td>\n",
       "      <td>0.0</td>\n",
       "      <td>17.0</td>\n",
       "      <td>42500.0</td>\n",
       "      <td>1.0</td>\n",
       "      <td>1.0</td>\n",
       "      <td>4595.0</td>\n",
       "      <td>...</td>\n",
       "      <td>1.0</td>\n",
       "      <td>2815.0</td>\n",
       "      <td>0.0</td>\n",
       "      <td>2815.0</td>\n",
       "      <td>0.0</td>\n",
       "      <td>21.0</td>\n",
       "      <td>0.0</td>\n",
       "      <td>0.0</td>\n",
       "      <td>20.530001</td>\n",
       "      <td>1936.0</td>\n",
       "    </tr>\n",
       "    <tr>\n",
       "      <th>3</th>\n",
       "      <td>30.0</td>\n",
       "      <td>0.0</td>\n",
       "      <td>4.0</td>\n",
       "      <td>0.0</td>\n",
       "      <td>0.0</td>\n",
       "      <td>12.0</td>\n",
       "      <td>42500.0</td>\n",
       "      <td>1.0</td>\n",
       "      <td>1.0</td>\n",
       "      <td>3211.0</td>\n",
       "      <td>...</td>\n",
       "      <td>1.0</td>\n",
       "      <td>3786.0</td>\n",
       "      <td>0.0</td>\n",
       "      <td>3786.0</td>\n",
       "      <td>0.0</td>\n",
       "      <td>12.0</td>\n",
       "      <td>0.0</td>\n",
       "      <td>12.0</td>\n",
       "      <td>9.619998</td>\n",
       "      <td>900.0</td>\n",
       "    </tr>\n",
       "    <tr>\n",
       "      <th>4</th>\n",
       "      <td>64.0</td>\n",
       "      <td>0.0</td>\n",
       "      <td>5.0</td>\n",
       "      <td>0.0</td>\n",
       "      <td>0.0</td>\n",
       "      <td>14.0</td>\n",
       "      <td>2500.0</td>\n",
       "      <td>1.0</td>\n",
       "      <td>1.0</td>\n",
       "      <td>4052.0</td>\n",
       "      <td>...</td>\n",
       "      <td>1.0</td>\n",
       "      <td>2580.0</td>\n",
       "      <td>0.0</td>\n",
       "      <td>2580.0</td>\n",
       "      <td>0.0</td>\n",
       "      <td>44.0</td>\n",
       "      <td>0.0</td>\n",
       "      <td>33.0</td>\n",
       "      <td>2.750000</td>\n",
       "      <td>4096.0</td>\n",
       "    </tr>\n",
       "  </tbody>\n",
       "</table>\n",
       "<p>5 rows × 34 columns</p>\n",
       "</div>"
      ],
      "text/plain": [
       "    age  black  case  clerical  construc  educ  earns74  gdhlth  inlf   leis1  \\\n",
       "0  32.0    0.0   1.0       0.0       0.0  12.0      0.0     0.0   1.0  3529.0   \n",
       "1  31.0    0.0   2.0       0.0       0.0  14.0   9500.0     1.0   1.0  2140.0   \n",
       "2  44.0    0.0   3.0       0.0       0.0  17.0  42500.0     1.0   1.0  4595.0   \n",
       "3  30.0    0.0   4.0       0.0       0.0  12.0  42500.0     1.0   1.0  3211.0   \n",
       "4  64.0    0.0   5.0       0.0       0.0  14.0   2500.0     1.0   1.0  4052.0   \n",
       "\n",
       "   ...  spwrk75  totwrk  union  worknrm  workscnd  exper  yngkid  yrsmarr  \\\n",
       "0  ...      0.0  3438.0    0.0   3438.0       0.0   14.0     0.0     13.0   \n",
       "1  ...      0.0  5020.0    0.0   5020.0       0.0   11.0     0.0      0.0   \n",
       "2  ...      1.0  2815.0    0.0   2815.0       0.0   21.0     0.0      0.0   \n",
       "3  ...      1.0  3786.0    0.0   3786.0       0.0   12.0     0.0     12.0   \n",
       "4  ...      1.0  2580.0    0.0   2580.0       0.0   44.0     0.0     33.0   \n",
       "\n",
       "      hrwage   agesq  \n",
       "0   7.070004  1024.0  \n",
       "1   1.429999   961.0  \n",
       "2  20.530001  1936.0  \n",
       "3   9.619998   900.0  \n",
       "4   2.750000  4096.0  \n",
       "\n",
       "[5 rows x 34 columns]"
      ]
     },
     "execution_count": 16,
     "metadata": {},
     "output_type": "execute_result"
    }
   ],
   "source": [
    "# Use pandas read_stata method to get the stata formatted data file into a DataFrame.\n",
    "sleep = pd.read_stata('sleep75.dta')\n",
    "\n",
    "# Take a look...so clean!\n",
    "sleep.head()"
   ]
  },
  {
   "cell_type": "code",
   "execution_count": 17,
   "metadata": {},
   "outputs": [
    {
     "name": "stdout",
     "output_type": "stream",
     "text": [
      "<class 'pandas.core.frame.DataFrame'>\n",
      "RangeIndex: 706 entries, 0 to 705\n",
      "Data columns (total 34 columns):\n",
      " #   Column    Non-Null Count  Dtype  \n",
      "---  ------    --------------  -----  \n",
      " 0   age       706 non-null    float32\n",
      " 1   black     706 non-null    float32\n",
      " 2   case      706 non-null    float32\n",
      " 3   clerical  706 non-null    float32\n",
      " 4   construc  706 non-null    float32\n",
      " 5   educ      706 non-null    float32\n",
      " 6   earns74   706 non-null    float32\n",
      " 7   gdhlth    706 non-null    float32\n",
      " 8   inlf      706 non-null    float32\n",
      " 9   leis1     706 non-null    float32\n",
      " 10  leis2     706 non-null    float32\n",
      " 11  leis3     706 non-null    float32\n",
      " 12  smsa      706 non-null    float32\n",
      " 13  lhrwage   532 non-null    float32\n",
      " 14  lothinc   706 non-null    float32\n",
      " 15  male      706 non-null    float32\n",
      " 16  marr      706 non-null    float32\n",
      " 17  prot      706 non-null    float32\n",
      " 18  rlxall    706 non-null    float32\n",
      " 19  selfe     706 non-null    float32\n",
      " 20  sleep     706 non-null    float32\n",
      " 21  slpnaps   706 non-null    float32\n",
      " 22  south     706 non-null    float32\n",
      " 23  spsepay   706 non-null    float32\n",
      " 24  spwrk75   706 non-null    float32\n",
      " 25  totwrk    706 non-null    float32\n",
      " 26  union     706 non-null    float32\n",
      " 27  worknrm   706 non-null    float32\n",
      " 28  workscnd  706 non-null    float32\n",
      " 29  exper     706 non-null    float32\n",
      " 30  yngkid    706 non-null    float32\n",
      " 31  yrsmarr   706 non-null    float32\n",
      " 32  hrwage    532 non-null    float32\n",
      " 33  agesq     706 non-null    float32\n",
      "dtypes: float32(34)\n",
      "memory usage: 93.9 KB\n"
     ]
    }
   ],
   "source": [
    "sleep.info()"
   ]
  },
  {
   "cell_type": "markdown",
   "metadata": {},
   "source": [
    "### Directly specifying and estimating models with the formula.api\n",
    "\n",
    "The `statsmodels` package provides us with a formulaic syntax for defining models that uses strings. The basic syntax is \n",
    "```\n",
    "y ~ x1 + x2\n",
    "```\n",
    "which describes the model \n",
    "\n",
    "$y = \\beta_0 + \\beta_1x_1 + \\beta_2x_2 + \\epsilon$.\n",
    "\n",
    "Notice that I did not specify the constant. Statsmodels takes care of that automatically.\n",
    "\n",
    "\n",
    "The work flow is:\n",
    "1. Specify the regression: sort out the dependent and independent variables\n",
    "2. Create the model with statsmodel\n",
    "3. Fit the model and obtain results\n",
    "\n",
    "To do this, we use the `statsmodels.formula.api` methods, which we imported as `smf`. "
   ]
  },
  {
   "cell_type": "markdown",
   "metadata": {},
   "source": [
    "## 1. Specify the regression\n",
    "\n",
    "How do hours of sleep vary with working? Do we trade off sleep for work? We control for education and age.\n",
    "\n",
    "$$ sleep = \\beta_0 + \\beta_1 totwrk + \\beta_2 educ + \\beta_3 age + \\epsilon. $$\n",
    "\n",
    "\\[This is in problem 3, chapter 3 of Wooldridge.\\]"
   ]
  },
  {
   "cell_type": "markdown",
   "metadata": {},
   "source": [
    "## 2. Create the model\n",
    "\n",
    "Using the statsmodel syntax, we have \n",
    "\n",
    "```python\n",
    "sleep ~ totwrk + educ + age\n",
    "```\n",
    "\n",
    "Remember, the constant is automatically added. \n",
    "\n",
    "We use the `.ols()` method of statsmodels. This is the *ordinary least squares* model. "
   ]
  },
  {
   "cell_type": "code",
   "execution_count": 18,
   "metadata": {},
   "outputs": [
    {
     "data": {
      "text/plain": [
       "statsmodels.regression.linear_model.OLS"
      ]
     },
     "execution_count": 18,
     "metadata": {},
     "output_type": "execute_result"
    }
   ],
   "source": [
    "sleep_model = smf.ols('sleep ~ totwrk + educ + age', data=sleep)\n",
    "type(sleep_model)"
   ]
  },
  {
   "cell_type": "markdown",
   "metadata": {},
   "source": [
    "The model object contains information about the regression model. Things like:\n",
    "\n",
    "* sleep_model.exog_names\n",
    "* sleep_model.endog_names\n",
    "* sleep_model.nobs\n",
    "\n",
    "Check the documentation or try `sleep_model.` and then `TAB`. "
   ]
  },
  {
   "cell_type": "code",
   "execution_count": 19,
   "metadata": {},
   "outputs": [
    {
     "data": {
      "text/plain": [
       "['Intercept', 'totwrk', 'educ', 'age']"
      ]
     },
     "execution_count": 19,
     "metadata": {},
     "output_type": "execute_result"
    }
   ],
   "source": [
    "sleep_model.exog_names"
   ]
  },
  {
   "cell_type": "markdown",
   "metadata": {},
   "source": [
    "## 3. Estimate the model\n",
    "\n",
    "Step \\#2 set up the model, but did not estimate the coefficients. To estimate the model, we use the `.fit()` method of the OLS model object. "
   ]
  },
  {
   "cell_type": "code",
   "execution_count": 20,
   "metadata": {},
   "outputs": [
    {
     "data": {
      "text/plain": [
       "statsmodels.regression.linear_model.RegressionResultsWrapper"
      ]
     },
     "execution_count": 20,
     "metadata": {},
     "output_type": "execute_result"
    }
   ],
   "source": [
    "results = sleep_model.fit()\n",
    "type(results)"
   ]
  },
  {
   "cell_type": "markdown",
   "metadata": {},
   "source": [
    "Another object! This time, a `RegressionResultsWrapper`. This object hold all the, well, results. Try `results.` and `TAB` again to see what lives in there."
   ]
  },
  {
   "cell_type": "code",
   "execution_count": 21,
   "metadata": {},
   "outputs": [
    {
     "name": "stdout",
     "output_type": "stream",
     "text": [
      "                            OLS Regression Results                            \n",
      "==============================================================================\n",
      "Dep. Variable:                  sleep   R-squared:                       0.113\n",
      "Model:                            OLS   Adj. R-squared:                  0.110\n",
      "Method:                 Least Squares   F-statistic:                     29.92\n",
      "Date:                Tue, 30 Apr 2024   Prob (F-statistic):           3.28e-18\n",
      "Time:                        21:34:10   Log-Likelihood:                -5263.1\n",
      "No. Observations:                 706   AIC:                         1.053e+04\n",
      "Df Residuals:                     702   BIC:                         1.055e+04\n",
      "Df Model:                           3                                         \n",
      "Covariance Type:            nonrobust                                         \n",
      "==============================================================================\n",
      "                 coef    std err          t      P>|t|      [0.025      0.975]\n",
      "------------------------------------------------------------------------------\n",
      "Intercept   3638.2453    112.275     32.405      0.000    3417.810    3858.681\n",
      "totwrk        -0.1484      0.017     -8.888      0.000      -0.181      -0.116\n",
      "educ         -11.1338      5.885     -1.892      0.059     -22.687       0.420\n",
      "age            2.1999      1.446      1.522      0.129      -0.639       5.038\n",
      "==============================================================================\n",
      "Omnibus:                       68.731   Durbin-Watson:                   1.943\n",
      "Prob(Omnibus):                  0.000   Jarque-Bera (JB):              185.551\n",
      "Skew:                          -0.496   Prob(JB):                     5.11e-41\n",
      "Kurtosis:                       5.308   Cond. No.                     1.66e+04\n",
      "==============================================================================\n",
      "\n",
      "Notes:\n",
      "[1] Standard Errors assume that the covariance matrix of the errors is correctly specified.\n",
      "[2] The condition number is large, 1.66e+04. This might indicate that there are\n",
      "strong multicollinearity or other numerical problems.\n"
     ]
    }
   ],
   "source": [
    "print(results.summary())"
   ]
  },
  {
   "cell_type": "markdown",
   "metadata": {},
   "source": [
    "The more you work, the less you sleep. I feel better already.\n",
    "\n",
    "We can retrieve individual results from the RegressionResultsWrapper object. "
   ]
  },
  {
   "cell_type": "code",
   "execution_count": 22,
   "metadata": {},
   "outputs": [
    {
     "name": "stdout",
     "output_type": "stream",
     "text": [
      "The parameters are: \n",
      " Intercept    3638.245312\n",
      "totwrk         -0.148373\n",
      "educ          -11.133813\n",
      "age             2.199885\n",
      "dtype: float64 \n",
      "\n",
      "The confidence intervals are:\n",
      "                      0            1\n",
      "Intercept  3417.810077  3858.680546\n",
      "totwrk       -0.181149    -0.115598\n",
      "educ        -22.687288     0.419661\n",
      "age          -0.638561     5.038331 \n",
      "\n",
      "The r-squared is: 0.11336395596679805\n"
     ]
    }
   ],
   "source": [
    "print('The parameters are: \\n', results.params, '\\n')\n",
    "print('The confidence intervals are:\\n', results.conf_int(), '\\n')\n",
    "print('The r-squared is:', results.rsquared)"
   ]
  },
  {
   "cell_type": "markdown",
   "metadata": {},
   "source": [
    "### Doing it all at once\n",
    "\n",
    "We can chain together the three steps into one line of code. "
   ]
  },
  {
   "cell_type": "code",
   "execution_count": 23,
   "metadata": {},
   "outputs": [
    {
     "name": "stdout",
     "output_type": "stream",
     "text": [
      "                            OLS Regression Results                            \n",
      "==============================================================================\n",
      "Dep. Variable:                  sleep   R-squared:                       0.113\n",
      "Model:                            OLS   Adj. R-squared:                  0.110\n",
      "Method:                 Least Squares   F-statistic:                     29.92\n",
      "Date:                Tue, 30 Apr 2024   Prob (F-statistic):           3.28e-18\n",
      "Time:                        21:34:14   Log-Likelihood:                -5263.1\n",
      "No. Observations:                 706   AIC:                         1.053e+04\n",
      "Df Residuals:                     702   BIC:                         1.055e+04\n",
      "Df Model:                           3                                         \n",
      "Covariance Type:            nonrobust                                         \n",
      "==============================================================================\n",
      "                 coef    std err          t      P>|t|      [0.025      0.975]\n",
      "------------------------------------------------------------------------------\n",
      "Intercept   3638.2453    112.275     32.405      0.000    3417.810    3858.681\n",
      "totwrk        -0.1484      0.017     -8.888      0.000      -0.181      -0.116\n",
      "educ         -11.1338      5.885     -1.892      0.059     -22.687       0.420\n",
      "age            2.1999      1.446      1.522      0.129      -0.639       5.038\n",
      "==============================================================================\n",
      "Omnibus:                       68.731   Durbin-Watson:                   1.943\n",
      "Prob(Omnibus):                  0.000   Jarque-Bera (JB):              185.551\n",
      "Skew:                          -0.496   Prob(JB):                     5.11e-41\n",
      "Kurtosis:                       5.308   Cond. No.                     1.66e+04\n",
      "==============================================================================\n",
      "\n",
      "Notes:\n",
      "[1] Standard Errors assume that the covariance matrix of the errors is correctly specified.\n",
      "[2] The condition number is large, 1.66e+04. This might indicate that there are\n",
      "strong multicollinearity or other numerical problems.\n"
     ]
    }
   ],
   "source": [
    "res = smf.ols('sleep ~ totwrk + educ + age', data=sleep).fit()\n",
    "print(res.summary())"
   ]
  },
  {
   "cell_type": "markdown",
   "metadata": {},
   "source": [
    "## Transforming data"
   ]
  },
  {
   "cell_type": "markdown",
   "metadata": {},
   "source": [
    "#### logs \n",
    "\n",
    "Logs get used a lot in econometrics. Regressing the log of a variable on the log of another variable means that the estimated coefficient is interpreted as an elasticity. \n",
    "\n",
    "We use the `np.log( )` method directly in the regression specification syntax. Note that we loaded the numpy package above as np. Let's modify our model and use the logarithm of age\n",
    "\n",
    "$$ sleep = \\beta_0 + \\beta_1 totwrk + \\beta_2 educ + \\beta_3 \\log(age)  + \\epsilon. $$\n",
    "\n",
    "The notation is \n",
    "\n",
    "```python\n",
    "sleep ~ totwrk + educ + np.log(age)\n",
    "```\n"
   ]
  },
  {
   "cell_type": "code",
   "execution_count": 24,
   "metadata": {},
   "outputs": [
    {
     "name": "stdout",
     "output_type": "stream",
     "text": [
      "                            OLS Regression Results                            \n",
      "==============================================================================\n",
      "Dep. Variable:                  sleep   R-squared:                       0.113\n",
      "Model:                            OLS   Adj. R-squared:                  0.109\n",
      "Method:                 Least Squares   F-statistic:                     29.79\n",
      "Date:                Tue, 30 Apr 2024   Prob (F-statistic):           3.91e-18\n",
      "Time:                        21:34:17   Log-Likelihood:                -5263.3\n",
      "No. Observations:                 706   AIC:                         1.053e+04\n",
      "Df Residuals:                     702   BIC:                         1.055e+04\n",
      "Df Model:                           3                                         \n",
      "Covariance Type:            nonrobust                                         \n",
      "===============================================================================\n",
      "                  coef    std err          t      P>|t|      [0.025      0.975]\n",
      "-------------------------------------------------------------------------------\n",
      "Intercept    3440.9308    239.448     14.370      0.000    2970.811    3911.050\n",
      "totwrk         -0.1489      0.017     -8.924      0.000      -0.182      -0.116\n",
      "educ          -11.3493      5.881     -1.930      0.054     -22.896       0.197\n",
      "np.log(age)    79.2414     56.612      1.400      0.162     -31.908     190.391\n",
      "==============================================================================\n",
      "Omnibus:                       68.734   Durbin-Watson:                   1.944\n",
      "Prob(Omnibus):                  0.000   Jarque-Bera (JB):              184.854\n",
      "Skew:                          -0.497   Prob(JB):                     7.24e-41\n",
      "Kurtosis:                       5.301   Cond. No.                     3.61e+04\n",
      "==============================================================================\n",
      "\n",
      "Notes:\n",
      "[1] Standard Errors assume that the covariance matrix of the errors is correctly specified.\n",
      "[2] The condition number is large, 3.61e+04. This might indicate that there are\n",
      "strong multicollinearity or other numerical problems.\n"
     ]
    }
   ],
   "source": [
    "res = smf.ols('sleep ~ totwrk + educ + np.log(age)', data=sleep).fit()\n",
    "print(res.summary())"
   ]
  },
  {
   "cell_type": "markdown",
   "metadata": {},
   "source": [
    "## Top Hat Practice Exercise\n",
    "\n",
    "Take a few minutes and try the following. Feel free to chat with those around you if you get stuck. I am here, too. \n",
    "\n",
    "Wooldridge problem C2 in chapter 6. \n",
    "\n",
    "1. Load wage1.dta\n",
    "2. Scatter plot log(wage) against educ. "
   ]
  },
  {
   "cell_type": "code",
   "execution_count": 25,
   "metadata": {},
   "outputs": [
    {
     "data": {
      "text/html": [
       "<div>\n",
       "<style scoped>\n",
       "    .dataframe tbody tr th:only-of-type {\n",
       "        vertical-align: middle;\n",
       "    }\n",
       "\n",
       "    .dataframe tbody tr th {\n",
       "        vertical-align: top;\n",
       "    }\n",
       "\n",
       "    .dataframe thead th {\n",
       "        text-align: right;\n",
       "    }\n",
       "</style>\n",
       "<table border=\"1\" class=\"dataframe\">\n",
       "  <thead>\n",
       "    <tr style=\"text-align: right;\">\n",
       "      <th></th>\n",
       "      <th>wage</th>\n",
       "      <th>educ</th>\n",
       "      <th>exper</th>\n",
       "      <th>tenure</th>\n",
       "      <th>nonwhite</th>\n",
       "      <th>female</th>\n",
       "      <th>married</th>\n",
       "      <th>numdep</th>\n",
       "      <th>smsa</th>\n",
       "      <th>northcen</th>\n",
       "      <th>...</th>\n",
       "      <th>trcommpu</th>\n",
       "      <th>trade</th>\n",
       "      <th>services</th>\n",
       "      <th>profserv</th>\n",
       "      <th>profocc</th>\n",
       "      <th>clerocc</th>\n",
       "      <th>servocc</th>\n",
       "      <th>lwage</th>\n",
       "      <th>expersq</th>\n",
       "      <th>tenursq</th>\n",
       "    </tr>\n",
       "  </thead>\n",
       "  <tbody>\n",
       "    <tr>\n",
       "      <th>0</th>\n",
       "      <td>3.10</td>\n",
       "      <td>11.0</td>\n",
       "      <td>2.0</td>\n",
       "      <td>0.0</td>\n",
       "      <td>0.0</td>\n",
       "      <td>1.0</td>\n",
       "      <td>0.0</td>\n",
       "      <td>2.0</td>\n",
       "      <td>1.0</td>\n",
       "      <td>0.0</td>\n",
       "      <td>...</td>\n",
       "      <td>0.0</td>\n",
       "      <td>0.0</td>\n",
       "      <td>0.0</td>\n",
       "      <td>0.0</td>\n",
       "      <td>0.0</td>\n",
       "      <td>0.0</td>\n",
       "      <td>0.0</td>\n",
       "      <td>1.131402</td>\n",
       "      <td>4.0</td>\n",
       "      <td>0.0</td>\n",
       "    </tr>\n",
       "    <tr>\n",
       "      <th>1</th>\n",
       "      <td>3.24</td>\n",
       "      <td>12.0</td>\n",
       "      <td>22.0</td>\n",
       "      <td>2.0</td>\n",
       "      <td>0.0</td>\n",
       "      <td>1.0</td>\n",
       "      <td>1.0</td>\n",
       "      <td>3.0</td>\n",
       "      <td>1.0</td>\n",
       "      <td>0.0</td>\n",
       "      <td>...</td>\n",
       "      <td>0.0</td>\n",
       "      <td>0.0</td>\n",
       "      <td>1.0</td>\n",
       "      <td>0.0</td>\n",
       "      <td>0.0</td>\n",
       "      <td>0.0</td>\n",
       "      <td>1.0</td>\n",
       "      <td>1.175573</td>\n",
       "      <td>484.0</td>\n",
       "      <td>4.0</td>\n",
       "    </tr>\n",
       "    <tr>\n",
       "      <th>2</th>\n",
       "      <td>3.00</td>\n",
       "      <td>11.0</td>\n",
       "      <td>2.0</td>\n",
       "      <td>0.0</td>\n",
       "      <td>0.0</td>\n",
       "      <td>0.0</td>\n",
       "      <td>0.0</td>\n",
       "      <td>2.0</td>\n",
       "      <td>0.0</td>\n",
       "      <td>0.0</td>\n",
       "      <td>...</td>\n",
       "      <td>0.0</td>\n",
       "      <td>1.0</td>\n",
       "      <td>0.0</td>\n",
       "      <td>0.0</td>\n",
       "      <td>0.0</td>\n",
       "      <td>0.0</td>\n",
       "      <td>0.0</td>\n",
       "      <td>1.098612</td>\n",
       "      <td>4.0</td>\n",
       "      <td>0.0</td>\n",
       "    </tr>\n",
       "    <tr>\n",
       "      <th>3</th>\n",
       "      <td>6.00</td>\n",
       "      <td>8.0</td>\n",
       "      <td>44.0</td>\n",
       "      <td>28.0</td>\n",
       "      <td>0.0</td>\n",
       "      <td>0.0</td>\n",
       "      <td>1.0</td>\n",
       "      <td>0.0</td>\n",
       "      <td>1.0</td>\n",
       "      <td>0.0</td>\n",
       "      <td>...</td>\n",
       "      <td>0.0</td>\n",
       "      <td>0.0</td>\n",
       "      <td>0.0</td>\n",
       "      <td>0.0</td>\n",
       "      <td>0.0</td>\n",
       "      <td>1.0</td>\n",
       "      <td>0.0</td>\n",
       "      <td>1.791759</td>\n",
       "      <td>1936.0</td>\n",
       "      <td>784.0</td>\n",
       "    </tr>\n",
       "    <tr>\n",
       "      <th>4</th>\n",
       "      <td>5.30</td>\n",
       "      <td>12.0</td>\n",
       "      <td>7.0</td>\n",
       "      <td>2.0</td>\n",
       "      <td>0.0</td>\n",
       "      <td>0.0</td>\n",
       "      <td>1.0</td>\n",
       "      <td>1.0</td>\n",
       "      <td>0.0</td>\n",
       "      <td>0.0</td>\n",
       "      <td>...</td>\n",
       "      <td>0.0</td>\n",
       "      <td>0.0</td>\n",
       "      <td>0.0</td>\n",
       "      <td>0.0</td>\n",
       "      <td>0.0</td>\n",
       "      <td>0.0</td>\n",
       "      <td>0.0</td>\n",
       "      <td>1.667707</td>\n",
       "      <td>49.0</td>\n",
       "      <td>4.0</td>\n",
       "    </tr>\n",
       "  </tbody>\n",
       "</table>\n",
       "<p>5 rows × 24 columns</p>\n",
       "</div>"
      ],
      "text/plain": [
       "   wage  educ  exper  tenure  nonwhite  female  married  numdep  smsa  \\\n",
       "0  3.10  11.0    2.0     0.0       0.0     1.0      0.0     2.0   1.0   \n",
       "1  3.24  12.0   22.0     2.0       0.0     1.0      1.0     3.0   1.0   \n",
       "2  3.00  11.0    2.0     0.0       0.0     0.0      0.0     2.0   0.0   \n",
       "3  6.00   8.0   44.0    28.0       0.0     0.0      1.0     0.0   1.0   \n",
       "4  5.30  12.0    7.0     2.0       0.0     0.0      1.0     1.0   0.0   \n",
       "\n",
       "   northcen  ...  trcommpu  trade  services  profserv  profocc  clerocc  \\\n",
       "0       0.0  ...       0.0    0.0       0.0       0.0      0.0      0.0   \n",
       "1       0.0  ...       0.0    0.0       1.0       0.0      0.0      0.0   \n",
       "2       0.0  ...       0.0    1.0       0.0       0.0      0.0      0.0   \n",
       "3       0.0  ...       0.0    0.0       0.0       0.0      0.0      1.0   \n",
       "4       0.0  ...       0.0    0.0       0.0       0.0      0.0      0.0   \n",
       "\n",
       "   servocc     lwage  expersq  tenursq  \n",
       "0      0.0  1.131402      4.0      0.0  \n",
       "1      1.0  1.175573    484.0      4.0  \n",
       "2      0.0  1.098612      4.0      0.0  \n",
       "3      0.0  1.791759   1936.0    784.0  \n",
       "4      0.0  1.667707     49.0      4.0  \n",
       "\n",
       "[5 rows x 24 columns]"
      ]
     },
     "execution_count": 25,
     "metadata": {},
     "output_type": "execute_result"
    }
   ],
   "source": [
    "wage1 = pd.read_stata('wage1.dta')\n",
    "\n",
    "wage1.head()"
   ]
  },
  {
   "cell_type": "raw",
   "metadata": {},
   "source": [
    "fig, ax = plt.subplots(figsize=(10,6))\n",
    "\n",
    "ax.scatter(wage1['educ'], wage1['lwage'], marker='o', alpha = 0.5 )\n",
    "\n",
    "ax.set_xlabel('education', fontsize=16)\n",
    "ax.set_ylabel('log wage', fontsize=16)\n",
    "\n",
    "ax.spines['right'].set_visible(False)\n",
    "ax.spines['top'].set_visible(False)\n"
   ]
  },
  {
   "cell_type": "markdown",
   "metadata": {},
   "source": [
    "3. Estimate \n",
    "$$ \\log(wage) = \\beta_0 + \\beta_1 educ + \\epsilon$$\n",
    "\n",
    "**Name your results object** `prac_results`. "
   ]
  },
  {
   "cell_type": "code",
   "execution_count": 27,
   "metadata": {},
   "outputs": [
    {
     "name": "stdout",
     "output_type": "stream",
     "text": [
      "                            OLS Regression Results                            \n",
      "==============================================================================\n",
      "Dep. Variable:           np.log(wage)   R-squared:                       0.186\n",
      "Model:                            OLS   Adj. R-squared:                  0.184\n",
      "Method:                 Least Squares   F-statistic:                     119.6\n",
      "Date:                Tue, 30 Apr 2024   Prob (F-statistic):           3.27e-25\n",
      "Time:                        21:34:39   Log-Likelihood:                -359.38\n",
      "No. Observations:                 526   AIC:                             722.8\n",
      "Df Residuals:                     524   BIC:                             731.3\n",
      "Df Model:                           1                                         \n",
      "Covariance Type:            nonrobust                                         \n",
      "==============================================================================\n",
      "                 coef    std err          t      P>|t|      [0.025      0.975]\n",
      "------------------------------------------------------------------------------\n",
      "Intercept      0.5838      0.097      5.998      0.000       0.393       0.775\n",
      "educ           0.0827      0.008     10.935      0.000       0.068       0.098\n",
      "==============================================================================\n",
      "Omnibus:                       11.804   Durbin-Watson:                   1.801\n",
      "Prob(Omnibus):                  0.003   Jarque-Bera (JB):               13.811\n",
      "Skew:                           0.268   Prob(JB):                      0.00100\n",
      "Kurtosis:                       3.586   Cond. No.                         60.2\n",
      "==============================================================================\n",
      "\n",
      "Notes:\n",
      "[1] Standard Errors assume that the covariance matrix of the errors is correctly specified.\n"
     ]
    }
   ],
   "source": [
    "prac_results = smf.ols('np.log(wage) ~ educ', data=wage1).fit()\n",
    "print(prac_results.summary())"
   ]
  },
  {
   "cell_type": "markdown",
   "metadata": {},
   "source": [
    "## More Data transformations\n",
    "Statsmodels can handle common (and less common) regression tasks. Here are a few more. You can always check the documentation for more!\n",
    "\n",
    "#### Interacting variables\n",
    "Use `*` to interact two variables. Patsy will also **include the two variables individually**. Let's interact education and age. The model is now\n",
    "\n",
    "$$ sleep = \\beta_0 + \\beta_1 totwrk + \\beta_2 educ + \\beta_3 age + \\beta_4 age\\times educ + \\epsilon. $$\n",
    "\n",
    "which is \n",
    "\n",
    "```python\n",
    "'sleep ~ totwrk + educ*age'\n",
    "```\n",
    "\n",
    "Notice that I did not include education and age separately. "
   ]
  },
  {
   "cell_type": "code",
   "execution_count": 28,
   "metadata": {},
   "outputs": [
    {
     "name": "stdout",
     "output_type": "stream",
     "text": [
      "                            OLS Regression Results                            \n",
      "==============================================================================\n",
      "Dep. Variable:                  sleep   R-squared:                       0.119\n",
      "Model:                            OLS   Adj. R-squared:                  0.114\n",
      "Method:                 Least Squares   F-statistic:                     23.67\n",
      "Date:                Tue, 30 Apr 2024   Prob (F-statistic):           2.24e-18\n",
      "Time:                        21:34:44   Log-Likelihood:                -5260.9\n",
      "No. Observations:                 706   AIC:                         1.053e+04\n",
      "Df Residuals:                     701   BIC:                         1.055e+04\n",
      "Df Model:                           4                                         \n",
      "Covariance Type:            nonrobust                                         \n",
      "==============================================================================\n",
      "                 coef    std err          t      P>|t|      [0.025      0.975]\n",
      "------------------------------------------------------------------------------\n",
      "Intercept   3081.4242    286.426     10.758      0.000    2519.069    3643.780\n",
      "totwrk        -0.1444      0.017     -8.618      0.000      -0.177      -0.112\n",
      "educ          31.5246     21.032      1.499      0.134      -9.769      72.818\n",
      "age           14.9293      6.197      2.409      0.016       2.763      27.096\n",
      "educ:age      -1.0065      0.477     -2.112      0.035      -1.942      -0.071\n",
      "==============================================================================\n",
      "Omnibus:                       66.086   Durbin-Watson:                   1.933\n",
      "Prob(Omnibus):                  0.000   Jarque-Bera (JB):              178.298\n",
      "Skew:                          -0.475   Prob(JB):                     1.92e-39\n",
      "Kurtosis:                       5.271   Cond. No.                     4.32e+04\n",
      "==============================================================================\n",
      "\n",
      "Notes:\n",
      "[1] Standard Errors assume that the covariance matrix of the errors is correctly specified.\n",
      "[2] The condition number is large, 4.32e+04. This might indicate that there are\n",
      "strong multicollinearity or other numerical problems.\n"
     ]
    }
   ],
   "source": [
    "res = smf.ols('sleep ~ totwrk + educ*age', data=sleep).fit()\n",
    "print(res.summary())"
   ]
  },
  {
   "cell_type": "markdown",
   "metadata": {},
   "source": [
    "#### Fixed effects\n",
    "When I was a kid, we called these dummy variables. Gender is coded {0,1} in the variable 'male'. Stats models uses the syntax `C()` where the `C` stands for 'categorical.' "
   ]
  },
  {
   "cell_type": "code",
   "execution_count": 15,
   "metadata": {},
   "outputs": [
    {
     "data": {
      "text/plain": [
       "0    1.0\n",
       "1    1.0\n",
       "2    1.0\n",
       "3    0.0\n",
       "4    1.0\n",
       "Name: male, dtype: float32"
      ]
     },
     "execution_count": 15,
     "metadata": {},
     "output_type": "execute_result"
    }
   ],
   "source": [
    "# Take a peek at 'male'. It's zeros and ones. \n",
    "sleep['male'].head()"
   ]
  },
  {
   "cell_type": "markdown",
   "metadata": {},
   "source": [
    "By adding a fixed effect for gender, the model is \n",
    "\n",
    "$$ sleep = \\beta_0 + \\beta_1 totwrk + \\beta_2 educ + \\beta_3 age + \\beta_4 I(\\text{male}=1) + \\epsilon. $$\n",
    "\n",
    "where $I(\\text{male}=1)$ is an indicator function that is equal to one if 'male' is equal to one. The model syntax is \n",
    "\n",
    "```python\n",
    "sleep ~ totwrk + educ + age + C(male)\n",
    "```"
   ]
  },
  {
   "cell_type": "code",
   "execution_count": 29,
   "metadata": {},
   "outputs": [
    {
     "name": "stdout",
     "output_type": "stream",
     "text": [
      "                            OLS Regression Results                            \n",
      "==============================================================================\n",
      "Dep. Variable:                  sleep   R-squared:                       0.122\n",
      "Model:                            OLS   Adj. R-squared:                  0.117\n",
      "Method:                 Least Squares   F-statistic:                     24.26\n",
      "Date:                Tue, 30 Apr 2024   Prob (F-statistic):           8.02e-19\n",
      "Time:                        21:37:35   Log-Likelihood:                -5259.8\n",
      "No. Observations:                 706   AIC:                         1.053e+04\n",
      "Df Residuals:                     701   BIC:                         1.055e+04\n",
      "Df Model:                           4                                         \n",
      "Covariance Type:            nonrobust                                         \n",
      "==================================================================================\n",
      "                     coef    std err          t      P>|t|      [0.025      0.975]\n",
      "----------------------------------------------------------------------------------\n",
      "Intercept       3642.4666    111.844     32.567      0.000    3422.877    3862.056\n",
      "C(male)[T.1.0]    87.9933     34.323      2.564      0.011      20.604     155.382\n",
      "totwrk            -0.1658      0.018     -9.230      0.000      -0.201      -0.131\n",
      "educ             -11.7561      5.866     -2.004      0.045     -23.274      -0.238\n",
      "age                1.9643      1.443      1.361      0.174      -0.869       4.797\n",
      "==============================================================================\n",
      "Omnibus:                       65.308   Durbin-Watson:                   1.942\n",
      "Prob(Omnibus):                  0.000   Jarque-Bera (JB):              174.107\n",
      "Skew:                          -0.473   Prob(JB):                     1.56e-38\n",
      "Kurtosis:                       5.241   Cond. No.                     1.66e+04\n",
      "==============================================================================\n",
      "\n",
      "Notes:\n",
      "[1] Standard Errors assume that the covariance matrix of the errors is correctly specified.\n",
      "[2] The condition number is large, 1.66e+04. This might indicate that there are\n",
      "strong multicollinearity or other numerical problems.\n"
     ]
    }
   ],
   "source": [
    "res = smf.ols('sleep ~ totwrk + educ + age + C(male)', data=sleep).fit()\n",
    "print(res.summary())"
   ]
  },
  {
   "cell_type": "markdown",
   "metadata": {},
   "source": [
    "The 'T.1.0' notation is a bit confusing in this context. It means it is giving the value for coefficient on the 'male'=1.0 variable. Since we have included a constant, one of the categories gets dropped. In this case, the intercept is the 'male'=0 case. \n",
    "\n",
    "To see things more clearly, let's recode the male variable. "
   ]
  },
  {
   "cell_type": "code",
   "execution_count": 14,
   "metadata": {},
   "outputs": [
    {
     "name": "stdout",
     "output_type": "stream",
     "text": [
      "                            OLS Regression Results                            \n",
      "==============================================================================\n",
      "Dep. Variable:                  sleep   R-squared:                       0.122\n",
      "Model:                            OLS   Adj. R-squared:                  0.117\n",
      "Method:                 Least Squares   F-statistic:                     24.26\n",
      "Date:                Tue, 30 Apr 2024   Prob (F-statistic):           8.02e-19\n",
      "Time:                        21:33:57   Log-Likelihood:                -5259.8\n",
      "No. Observations:                 706   AIC:                         1.053e+04\n",
      "Df Residuals:                     701   BIC:                         1.055e+04\n",
      "Df Model:                           4                                         \n",
      "Covariance Type:            nonrobust                                         \n",
      "=====================================================================================\n",
      "                        coef    std err          t      P>|t|      [0.025      0.975]\n",
      "-------------------------------------------------------------------------------------\n",
      "Intercept          3642.4666    111.844     32.567      0.000    3422.877    3862.056\n",
      "C(gender)[T.male]    87.9933     34.323      2.564      0.011      20.604     155.382\n",
      "totwrk               -0.1658      0.018     -9.230      0.000      -0.201      -0.131\n",
      "educ                -11.7561      5.866     -2.004      0.045     -23.274      -0.238\n",
      "age                   1.9643      1.443      1.361      0.174      -0.869       4.797\n",
      "==============================================================================\n",
      "Omnibus:                       65.308   Durbin-Watson:                   1.942\n",
      "Prob(Omnibus):                  0.000   Jarque-Bera (JB):              174.107\n",
      "Skew:                          -0.473   Prob(JB):                     1.56e-38\n",
      "Kurtosis:                       5.241   Cond. No.                     1.66e+04\n",
      "==============================================================================\n",
      "\n",
      "Notes:\n",
      "[1] Standard Errors assume that the covariance matrix of the errors is correctly specified.\n",
      "[2] The condition number is large, 1.66e+04. This might indicate that there are\n",
      "strong multicollinearity or other numerical problems.\n"
     ]
    }
   ],
   "source": [
    "sleep['gender'] = sleep['male'].replace({1.0:'male', 0.0:'female'})\n",
    "\n",
    "res = smf.ols('sleep ~ totwrk + educ + age + C(gender)', data=sleep).fit()\n",
    "print(res.summary())"
   ]
  },
  {
   "cell_type": "markdown",
   "metadata": {},
   "source": [
    "## Top Hat Practice Exercise\n",
    "\n",
    "Take a few minutes and try the following. Feel free to chat with those around you if you get stuck. The TA and I are here, too. \n",
    "\n",
    "We will continue with the example from before (Wooldridge problem C2 in chapter 6)."
   ]
  },
  {
   "cell_type": "markdown",
   "metadata": {},
   "source": [
    "4. Scatter plot the residuals (y axis) against education (x axis). The residuals are in the results object from the fit method. \n",
    "\n",
    "In part 3. from the earlier exercise, I used \n",
    "```python\n",
    "prac_results = smf.ols('np.log(wage) ~ educ', data=wage1).fit()\n",
    "```\n",
    "\n",
    "so the residuals are in `prac_results.resid`. Try inspecting `prac_results.resid` first. What kind of object is it?"
   ]
  },
  {
   "cell_type": "code",
   "execution_count": 30,
   "metadata": {},
   "outputs": [
    {
     "data": {
      "image/png": "[encoded data removed]",
      "text/plain": [
       "<Figure size 1000x600 with 1 Axes>"
      ]
     },
     "metadata": {},
     "output_type": "display_data"
    }
   ],
   "source": [
    "fig, ax = plt.subplots(figsize=(10,6))\n",
    "\n",
    "ax.scatter(wage1['educ'], prac_results.resid, marker='o', alpha = 0.5 )\n",
    "\n",
    "ax.set_xlabel('education', fontsize=16)\n",
    "ax.set_ylabel('residual', fontsize=16)\n",
    "\n",
    "ax.spines['top'].set_visible(False)\n",
    "ax.spines['right'].set_visible(False)"
   ]
  },
  {
   "cell_type": "markdown",
   "metadata": {},
   "source": [
    "5. Looks heteroskedastic. We can change the covariance matrix type (which will correct the standard error calculation) using the `cov_type` parameter [(docs)](https://www.statsmodels.org/dev/generated/statsmodels.regression.linear_model.OLS.fit.html#statsmodels.regression.linear_model.OLS.fit). The types of covariance matrices are described in the [docs](https://www.statsmodels.org/dev/generated/statsmodels.regression.linear_model.RegressionResults.html).\n",
    "\n",
    "Try 'HC3' for your covariance matrix type.\n",
    "\n",
    "Note: If you have not had econometrics yet, this probably doesn't make much sense to you. That's okay&mdash;just follow along with us and we can discuss more offline. "
   ]
  },
  {
   "cell_type": "code",
   "execution_count": 19,
   "metadata": {},
   "outputs": [
    {
     "name": "stdout",
     "output_type": "stream",
     "text": [
      "                            OLS Regression Results                            \n",
      "==============================================================================\n",
      "Dep. Variable:           np.log(wage)   R-squared:                       0.186\n",
      "Model:                            OLS   Adj. R-squared:                  0.184\n",
      "Method:                 Least Squares   F-statistic:                     111.7\n",
      "Date:                Fri, 12 Apr 2024   Prob (F-statistic):           8.48e-24\n",
      "Time:                        07:44:03   Log-Likelihood:                -359.38\n",
      "No. Observations:                 526   AIC:                             722.8\n",
      "Df Residuals:                     524   BIC:                             731.3\n",
      "Df Model:                           1                                         \n",
      "Covariance Type:                  HC3                                         \n",
      "==============================================================================\n",
      "                 coef    std err          z      P>|z|      [0.025      0.975]\n",
      "------------------------------------------------------------------------------\n",
      "Intercept      0.5838      0.099      5.872      0.000       0.389       0.779\n",
      "educ           0.0827      0.008     10.569      0.000       0.067       0.098\n",
      "==============================================================================\n",
      "Omnibus:                       11.804   Durbin-Watson:                   1.801\n",
      "Prob(Omnibus):                  0.003   Jarque-Bera (JB):               13.811\n",
      "Skew:                           0.268   Prob(JB):                      0.00100\n",
      "Kurtosis:                       3.586   Cond. No.                         60.2\n",
      "==============================================================================\n",
      "\n",
      "Notes:\n",
      "[1] Standard Errors are heteroscedasticity robust (HC3)\n"
     ]
    }
   ],
   "source": [
    "prac_results_h3 = smf.ols('np.log(wage) ~ educ', data=wage1).fit(cov_type='HC3')\n",
    "print(prac_results_h3.summary())"
   ]
  },
  {
   "cell_type": "code",
   "execution_count": 20,
   "metadata": {},
   "outputs": [
    {
     "name": "stdout",
     "output_type": "stream",
     "text": [
      "                            OLS Regression Results                            \n",
      "==============================================================================\n",
      "Dep. Variable:           np.log(wage)   R-squared:                       0.186\n",
      "Model:                            OLS   Adj. R-squared:                  0.184\n",
      "Method:                 Least Squares   F-statistic:                     119.6\n",
      "Date:                Fri, 12 Apr 2024   Prob (F-statistic):           3.27e-25\n",
      "Time:                        07:44:03   Log-Likelihood:                -359.38\n",
      "No. Observations:                 526   AIC:                             722.8\n",
      "Df Residuals:                     524   BIC:                             731.3\n",
      "Df Model:                           1                                         \n",
      "Covariance Type:            nonrobust                                         \n",
      "==============================================================================\n",
      "                 coef    std err          t      P>|t|      [0.025      0.975]\n",
      "------------------------------------------------------------------------------\n",
      "Intercept      0.5838      0.097      5.998      0.000       0.393       0.775\n",
      "educ           0.0827      0.008     10.935      0.000       0.068       0.098\n",
      "==============================================================================\n",
      "Omnibus:                       11.804   Durbin-Watson:                   1.801\n",
      "Prob(Omnibus):                  0.003   Jarque-Bera (JB):               13.811\n",
      "Skew:                           0.268   Prob(JB):                      0.00100\n",
      "Kurtosis:                       3.586   Cond. No.                         60.2\n",
      "==============================================================================\n",
      "\n",
      "Notes:\n",
      "[1] Standard Errors assume that the covariance matrix of the errors is correctly specified.\n"
     ]
    }
   ],
   "source": [
    "# How does this differ from the estimation with non-robust standard errors? \n",
    "\n",
    "print(prac_results.summary())"
   ]
  },
  {
   "cell_type": "markdown",
   "metadata": {},
   "source": [
    "6. Let's add some more regressors. Estimate\n",
    "$$ \\log(wage) = \\beta_0 + \\beta_1 educ + \\beta_2 exper + \\beta_3 exper^2 + \\beta_4I_m + \\epsilon$$\n",
    "\n",
    "where $I_m$ is a variable equal to 1 if the worker is a married."
   ]
  },
  {
   "cell_type": "code",
   "execution_count": 21,
   "metadata": {},
   "outputs": [
    {
     "name": "stdout",
     "output_type": "stream",
     "text": [
      "                            OLS Regression Results                            \n",
      "==============================================================================\n",
      "Dep. Variable:           np.log(wage)   R-squared:                       0.310\n",
      "Model:                            OLS   Adj. R-squared:                  0.304\n",
      "Method:                 Least Squares   F-statistic:                     54.50\n",
      "Date:                Fri, 12 Apr 2024   Prob (F-statistic):           2.22e-38\n",
      "Time:                        07:44:03   Log-Likelihood:                -315.96\n",
      "No. Observations:                 526   AIC:                             641.9\n",
      "Df Residuals:                     521   BIC:                             663.3\n",
      "Df Model:                           4                                         \n",
      "Covariance Type:                  HC3                                         \n",
      "======================================================================================\n",
      "                         coef    std err          z      P>|z|      [0.025      0.975]\n",
      "--------------------------------------------------------------------------------------\n",
      "Intercept              0.1427      0.108      1.316      0.188      -0.070       0.355\n",
      "C(married)[T.1.0]      0.1192      0.044      2.723      0.006       0.033       0.205\n",
      "educ                   0.0877      0.008     11.019      0.000       0.072       0.103\n",
      "exper                  0.0351      0.005      6.448      0.000       0.024       0.046\n",
      "np.power(exper, 2)    -0.0006      0.000     -5.298      0.000      -0.001      -0.000\n",
      "==============================================================================\n",
      "Omnibus:                        5.419   Durbin-Watson:                   1.792\n",
      "Prob(Omnibus):                  0.067   Jarque-Bera (JB):                7.126\n",
      "Skew:                           0.046   Prob(JB):                       0.0284\n",
      "Kurtosis:                       3.563   Cond. No.                     4.25e+03\n",
      "==============================================================================\n",
      "\n",
      "Notes:\n",
      "[1] Standard Errors are heteroscedasticity robust (HC3)\n",
      "[2] The condition number is large, 4.25e+03. This might indicate that there are\n",
      "strong multicollinearity or other numerical problems.\n"
     ]
    }
   ],
   "source": [
    "prac_results_extended = smf.ols('np.log(wage) ~ educ + exper + np.power(exper,2) + C(married)', data=wage1).fit(cov_type='HC3')\n",
    "print(prac_results_extended.summary())"
   ]
  },
  {
   "cell_type": "markdown",
   "metadata": {},
   "source": [
    "### Plotting the regression line \n",
    "\n",
    "Recall that seaborn gives us an easy way to compute a regplot but will not give us the coefficients of the regression line. Here, we explore how to compute the regression and plot the line. The pros: we know exactly what regression we are using and we can control it. Cons: its more coding. This is the usual tradeoff of doing more work to ensure that we understand exactly what is being done. \n",
    "\n",
    "In a two-variable regression (or in a scatter plot) we can plot the regression line. We use the data and the estimated coefficients. The estimated coefficients are in the results object `params`. \n",
    "\n",
    "If you finish early, try these next two problems on your own (don't look at my code). We will go through them in class together. "
   ]
  },
  {
   "cell_type": "markdown",
   "metadata": {},
   "source": [
    "7. Scatter plot the data (this is the same as part 2.) and add the regression line for the model\n",
    "\n",
    "$$log(y) = \\beta_0 + \\beta_1 edu + \\epsilon.$$\n",
    "\n",
    "Again, this is the regression from part 3. You might still have the results in `prac_results`.\n",
    "\n",
    "\n",
    "To plot the regression line you will need to create some x data and then apply the parameters. I used something like this\n",
    "```python\n",
    "y = [p.Intercept + p.educ*i for i in x]\n",
    "```\n",
    "where `p` hold the parameters from my results and x holds a few x data points. "
   ]
  },
  {
   "cell_type": "code",
   "execution_count": 22,
   "metadata": {},
   "outputs": [],
   "source": [
    "# Just in case we changed some stuff above, re-run the regression.\n",
    "prac_results = smf.ols('np.log(wage) ~ educ', data=wage1).fit()"
   ]
  },
  {
   "cell_type": "code",
   "execution_count": 23,
   "metadata": {},
   "outputs": [
    {
     "name": "stdout",
     "output_type": "stream",
     "text": [
      "Intercept    0.583773\n",
      "educ         0.082744\n",
      "dtype: float64\n",
      "<class 'pandas.core.series.Series'>\n"
     ]
    }
   ],
   "source": [
    "# Create the line of best fit to plot\n",
    "p = prac_results.params                                # params from the model fit\n",
    "print(p)\n",
    "print(type(p))"
   ]
  },
  {
   "cell_type": "code",
   "execution_count": 24,
   "metadata": {},
   "outputs": [],
   "source": [
    "# I'm drawing a line, so I only need two points. \n",
    "x = [wage1['educ'].min(), wage1['educ'].max()]\n",
    "\n",
    "y = [p.Intercept + p.educ*i for i in x]    "
   ]
  },
  {
   "cell_type": "code",
   "execution_count": 25,
   "metadata": {},
   "outputs": [
    {
     "data": {
      "image/png": "[encoded data removed]",
      "text/plain": [
       "<Figure size 1000x600 with 1 Axes>"
      ]
     },
     "metadata": {},
     "output_type": "display_data"
    }
   ],
   "source": [
    "fig, ax = plt.subplots(figsize=(10,6))\n",
    "\n",
    "# Plot the data\n",
    "ax.scatter(wage1['educ'], wage1['lwage'], marker='o', alpha = 0.5 )\n",
    "\n",
    "# Plot the regression line.\n",
    "ax.plot(x,y, color='black')\n",
    "\n",
    "ax.set_xlabel('education', fontsize=14)\n",
    "ax.set_ylabel('log wage', fontsize=14)\n",
    "\n",
    "ax.spines['top'].set_visible(False)\n",
    "ax.spines['right'].set_visible(False)"
   ]
  },
  {
   "cell_type": "markdown",
   "metadata": {},
   "source": [
    "8. Add the equation for the regression line to the figure. "
   ]
  },
  {
   "cell_type": "code",
   "execution_count": 26,
   "metadata": {},
   "outputs": [
    {
     "data": {
      "image/png": "[encoded data removed]",
      "text/plain": [
       "<Figure size 1000x600 with 1 Axes>"
      ]
     },
     "metadata": {},
     "output_type": "display_data"
    }
   ],
   "source": [
    "fig, ax = plt.subplots(figsize=(10,6))\n",
    "\n",
    "# Plot the data\n",
    "ax.scatter(wage1['educ'], wage1['lwage'], marker='o', alpha = 0.5 )\n",
    "# Plot the regression line.\n",
    "ax.plot(x,y, color='black')\n",
    "\n",
    "# build the string\n",
    "text = 'regression line: \\nlog(w) = {0:.2} + {1:.2} educ'.format(p.Intercept, p.educ)\n",
    "\n",
    "ax.text(0.5, 2.5, text, fontsize=14)\n",
    "\n",
    "ax.set_xlabel('education', fontsize=14)\n",
    "ax.set_ylabel('log wage', fontsize=14)\n",
    "\n",
    "ax.spines['top'].set_visible(False)\n",
    "ax.spines['right'].set_visible(False)"
   ]
  }
 ],
 "metadata": {
  "celltoolbar": "Attachments",
  "kernelspec": {
   "display_name": "Python 3 (ipykernel)",
   "language": "python",
   "name": "python3"
  },
  "language_info": {
   "codemirror_mode": {
    "name": "ipython",
    "version": 3
   },
   "file_extension": ".py",
   "mimetype": "text/x-python",
   "name": "python",
   "nbconvert_exporter": "python",
   "pygments_lexer": "ipython3",
   "version": "3.11.5"
  },
  "varInspector": {
   "cols": {
    "lenName": 16,
    "lenType": 16,
    "lenVar": 40
   },
   "kernels_config": {
    "python": {
     "delete_cmd_postfix": "",
     "delete_cmd_prefix": "del ",
     "library": "var_list.py",
     "varRefreshCmd": "print(var_dic_list())"
    },
    "r": {
     "delete_cmd_postfix": ") ",
     "delete_cmd_prefix": "rm(",
     "library": "var_list.r",
     "varRefreshCmd": "cat(var_dic_list()) "
    }
   },
   "types_to_exclude": [
    "module",
    "function",
    "builtin_function_or_method",
    "instance",
    "_Feature"
   ],
   "window_display": false
  }
 },
 "nbformat": 4,
 "nbformat_minor": 4
}
