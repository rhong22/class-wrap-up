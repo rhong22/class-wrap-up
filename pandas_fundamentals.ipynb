{
 "cells": [
  {
   "cell_type": "markdown",
   "metadata": {},
   "source": [
    "## Pandas and packages\n",
    "\n",
    "files needed = none\n",
    "\n",
    "We have a handle on python now: we understand the data structures and enough about working with them to move on to stuff more directly relevant to data analysis. That means digging into *pandas*, the package that provides the core data structures and functions for data work. \n",
    "\n",
    "Pandas is a package. We haven't discussed packages in any detail yet. Let's brush up on packages before we jump into pandas.  "
   ]
  },
  {
   "cell_type": "markdown",
   "metadata": {},
   "source": [
    "## Packages\n",
    "\n",
    "We can think of 'python' as a set of core libraries (the python standard libraries) that contain the basic python data structures (`int`, `str`, `list`, `dict`, etc.) and functions (`print()`, `len()`, `sum()`, etc). We can add additional data structures and functions to core python. Developers group related functions and data structures into *packages*, which we add to core python to increase its functionality. \n",
    "\n",
    "On winstat, we are working with the [Anaconda](https://www.anaconda.com/download) distribution of python. The Anaconda distribution bundles together basic python with common and useful packages such as\n",
    "* numpy: functions for numerical computing (`ln()`, `exp()`, `sqrt()`,...) \n",
    "* scipy: functions for math and engineering (statistical functions, signal processing, linear algebra...)\n",
    "* matplotlib: a plotting interface (bar, scatter, time series plots,...)\n",
    "* pandas: functions and data structures for data analysis (data management, merging, grouping...)\n",
    "\n",
    "At the end of the semester, when you move away from winstat, you can install Anaconda (it's free) on your own computer and continue your python adventures. \n",
    "\n",
    "Anaconda already *installed* the packages for us, but we still need to tell python that we want to use the packages. This way, we only load into memory the packages we need. \n",
    "\n",
    "To add a package we use the `import` statement. For example, to load the numpy package, we use:\n",
    "```python\n",
    "import numpy as np\n",
    "```\n",
    "The statement says to add the numpy package (import it) and to give it a shortened name of `np`. We don't have to use the name np&mdash;we could name it George&mdash;but np is short and informative. Many packages have \"agreed upon\" short names: numpy is `np`, pandas is `pd`, and matplotlib.pyplot is `plt`.\n",
    "\n",
    "Why do we want a shorter name than numpy? When we use a function from the numpy package, we use the dot notation. Here, we use the [log function](https://docs.scipy.org/doc/numpy/reference/generated/numpy.log.html):\n",
    "```python\n",
    "y = 10\n",
    "x = np.log(y)\n",
    "```\n",
    "The `np.` tells python to look for the `log()` function in the package called `np`. Python knows that `np` means numpy, and everything works. \\[See why calling it George would have looked strange?\\]\n",
    "\n",
    "We only need to import a package once. We typically group all of our imports at the beginning of the code. Here we go:\n"
   ]
  },
  {
   "cell_type": "code",
   "execution_count": 3,
   "metadata": {},
   "outputs": [],
   "source": [
    "import pandas as pd     #load the pandas package and call it pd\n",
    "import numpy as np      #load the pandas package and call it np"
   ]
  },
  {
   "cell_type": "markdown",
   "metadata": {},
   "source": [
    "When you run the cell, you might notice that the text to the left of the cell looked like `In[*]` for a while. That * means that python was working. It takes a few seconds to load all those functions. Now run `whos` to see what's in the namespace:"
   ]
  },
  {
   "cell_type": "code",
   "execution_count": 4,
   "metadata": {},
   "outputs": [
    {
     "name": "stdout",
     "output_type": "stream",
     "text": [
      "Variable   Type      Data/Info\n",
      "------------------------------\n",
      "np         module    <module 'numpy' from 'C:\\<...>ges\\\\numpy\\\\__init__.py'>\n",
      "pd         module    <module 'pandas' from 'C:<...>es\\\\pandas\\\\__init__.py'>\n"
     ]
    }
   ],
   "source": [
    "whos"
   ]
  },
  {
   "cell_type": "markdown",
   "metadata": {},
   "source": [
    "We see two `module` variables ready for action. As usual, we can use `?` to check them out."
   ]
  },
  {
   "cell_type": "markdown",
   "metadata": {},
   "source": [
    "A full list of the packages included in the Anaconda distribution is [here](https://docs.anaconda.com/anaconda/packages/py3.9_win-64/). If we need a package that is not already a part of Anaconda, we will need to install it. More on that later, but the **big idea** is that python can be extended by installing and adding packages. "
   ]
  },
  {
   "cell_type": "markdown",
   "metadata": {},
   "source": [
    "## Pandas\n",
    "Pandas (*pan*el *da*ta) is our workhorse package for data analysis. In addition to all the things we can do with core python, pandas gives us many  powerful functions and data types that we can use for working with data. If you are familiar with STATA, you will find many parallels between python and STATA. This makes sense: both are meant to handle panel data. Pandas was invented by Wes McKinney (sound familiar?) at the [quantitative hedge fund AQR](https://www.aqr.com/). One of the reasons we have chosen python for this course is its prevalence in the financial sector. \n",
    "\n",
    "To make the pandas package available, we `import` it into our code. We have already imported it above, but we can do it again. It won't hurt.  "
   ]
  },
  {
   "cell_type": "code",
   "execution_count": 5,
   "metadata": {},
   "outputs": [],
   "source": [
    "# The most common short name for pandas is pd. We will go with that.\n",
    "import pandas as pd  "
   ]
  },
  {
   "cell_type": "markdown",
   "metadata": {},
   "source": [
    "### Pandas data structures: DataFrames\n",
    "Pandas is built around two main data structures: the *series* and the *dataframe*. A dataframe is a 'rectangular' data structure, like a Microsoft Excel spreadsheet. It is made up of rows and columns. \\[But it is much, much, more powerful than a spreadsheet.\\] \n",
    "\n",
    "Let's create a dataframe. To keep things simple (they will get complicated later!) we will create a dataframe from a dict. "
   ]
  },
  {
   "cell_type": "code",
   "execution_count": 6,
   "metadata": {},
   "outputs": [
    {
     "name": "stdout",
     "output_type": "stream",
     "text": [
      "First, print the dict:\n",
      "{'year': [1990, 1995, 2000, 2005], 'gdp': [5.9, 7.6, 10.2, 13.0], 'cons': [3.8, 4.9, 6.8, 8.7]}\n",
      "\n",
      "Next, print the DataFrame and its type\n",
      "\n",
      "   year   gdp  cons\n",
      "0  1990   5.9   3.8\n",
      "1  1995   7.6   4.9\n",
      "2  2000  10.2   6.8\n",
      "3  2005  13.0   8.7\n",
      "\n",
      " <class 'pandas.core.frame.DataFrame'>\n"
     ]
    }
   ],
   "source": [
    "data_dict = {'year': [1990, 1995, 2000, 2005], 'gdp':[5.9, 7.6, 10.2, 13.0], 'cons':[3.8, 4.9, 6.8, 8.7]}\n",
    "print('First, print the dict:')\n",
    "print(data_dict)            \n",
    "\n",
    "# We create a data frame called 'df' from the dict. \n",
    "# We use the 'pd.' syntax to call the DataFrame constructor.\n",
    "df = pd.DataFrame(data_dict)   \n",
    "\n",
    "print('\\nNext, print the DataFrame and its type\\n')\n",
    "print(df)                     \n",
    "print('\\n', type(df))"
   ]
  },
  {
   "cell_type": "markdown",
   "metadata": {},
   "source": [
    "Nice. Compared to the dict, the dataframe is much easier to read when printed. Let's break it down: \n",
    "```python\n",
    "df = pd.DataFrame(data_dict)\n",
    "```\n",
    "We are creating a DataFrame object. We can see that when we print out `df`'s type. The stuff to the left of DataFrame in the print out is the hierarchy: `DataFrame` is part of the `frame` group which is part of the `core` group of the package `pandas`. The hierarchy is not important for our work.\n",
    "\n",
    "We will use this function sometimes, but, more often, we will be building our DataFrames from spreadsheets, csv files, or api (application programming interface) calls directly to servers to retrieve data. Very powerful stuff.  "
   ]
  },
  {
   "cell_type": "markdown",
   "metadata": {},
   "source": [
    "### Columns and rows in a DataFrame\n",
    "A DataFrame is made up of columns and rows. How big is our DataFrame? We use the `shape` attribute of a DataFrame to see this. \\[Reminder: *attributes* and *methods* are associated with objects. Attributes return features of the object and methods are like functions that act on the object. Hence, attributes don't need parentheses to be called.\\]"
   ]
  },
  {
   "cell_type": "code",
   "execution_count": 7,
   "metadata": {},
   "outputs": [
    {
     "name": "stdout",
     "output_type": "stream",
     "text": [
      "The shape is: (4, 3)\n",
      "The size is: 12\n"
     ]
    }
   ],
   "source": [
    "# .shape returns the (rows, columns) of the DataFrame\n",
    "print('The shape is:', df.shape)   \n",
    "\n",
    "# I often mess up and try this when what I really want the shape of a DataFrame. What is it telling us?\n",
    "print('The size is:', df.size)    #total number of populated values"
   ]
  },
  {
   "cell_type": "markdown",
   "metadata": {},
   "source": [
    "What type does `df.shape` return? \n",
    "\n",
    "Back to our DataFrame. Let's print if out again, but this time, without the print function."
   ]
  },
  {
   "cell_type": "code",
   "execution_count": 8,
   "metadata": {},
   "outputs": [
    {
     "data": {
      "text/html": [
       "<div>\n",
       "<style scoped>\n",
       "    .dataframe tbody tr th:only-of-type {\n",
       "        vertical-align: middle;\n",
       "    }\n",
       "\n",
       "    .dataframe tbody tr th {\n",
       "        vertical-align: top;\n",
       "    }\n",
       "\n",
       "    .dataframe thead th {\n",
       "        text-align: right;\n",
       "    }\n",
       "</style>\n",
       "<table border=\"1\" class=\"dataframe\">\n",
       "  <thead>\n",
       "    <tr style=\"text-align: right;\">\n",
       "      <th></th>\n",
       "      <th>year</th>\n",
       "      <th>gdp</th>\n",
       "      <th>cons</th>\n",
       "    </tr>\n",
       "  </thead>\n",
       "  <tbody>\n",
       "    <tr>\n",
       "      <th>0</th>\n",
       "      <td>1990</td>\n",
       "      <td>5.9</td>\n",
       "      <td>3.8</td>\n",
       "    </tr>\n",
       "    <tr>\n",
       "      <th>1</th>\n",
       "      <td>1995</td>\n",
       "      <td>7.6</td>\n",
       "      <td>4.9</td>\n",
       "    </tr>\n",
       "    <tr>\n",
       "      <th>2</th>\n",
       "      <td>2000</td>\n",
       "      <td>10.2</td>\n",
       "      <td>6.8</td>\n",
       "    </tr>\n",
       "    <tr>\n",
       "      <th>3</th>\n",
       "      <td>2005</td>\n",
       "      <td>13.0</td>\n",
       "      <td>8.7</td>\n",
       "    </tr>\n",
       "  </tbody>\n",
       "</table>\n",
       "</div>"
      ],
      "text/plain": [
       "   year   gdp  cons\n",
       "0  1990   5.9   3.8\n",
       "1  1995   7.6   4.9\n",
       "2  2000  10.2   6.8\n",
       "3  2005  13.0   8.7"
      ]
     },
     "execution_count": 8,
     "metadata": {},
     "output_type": "execute_result"
    }
   ],
   "source": [
    "df"
   ]
  },
  {
   "cell_type": "markdown",
   "metadata": {},
   "source": [
    "The jupyter notebook adds some shading and formatting, making it even easier to read. I still often use the `print()` function. Old habits die hard.\n"
   ]
  },
  {
   "cell_type": "markdown",
   "metadata": {},
   "source": [
    "### The DataFrame Index\n",
    "The left-most 'column' of numbers is not a column. It is the *index* that pandas assigned to our DataFrame: similar to the row 'numbers' of a spreadsheet. I put numbers in quotes, because an index can be more than just a sequence of integers. In this DataFrame, it makes sense for our index to be the year variable. A little later, we will discuss changing the index. For now, we will go with what pandas gave us.  \n",
    "\n",
    "The index is important; we will work on it more in a bit. "
   ]
  },
  {
   "cell_type": "markdown",
   "metadata": {},
   "source": [
    "### Pandas data structures: Series\n",
    "We reference a column in the DataFrame by its name. Notice the similarity to the syntax for referencing a dict key. \n",
    "\n",
    "```python \n",
    "df['gdp']\n",
    "```"
   ]
  },
  {
   "cell_type": "code",
   "execution_count": 9,
   "metadata": {},
   "outputs": [
    {
     "name": "stdout",
     "output_type": "stream",
     "text": [
      "0     5.9\n",
      "1     7.6\n",
      "2    10.2\n",
      "3    13.0\n",
      "Name: gdp, dtype: float64\n"
     ]
    }
   ],
   "source": [
    "print(df['gdp'])   #slice a column"
   ]
  },
  {
   "cell_type": "markdown",
   "metadata": {},
   "source": [
    "When we print the column, we get the index, the column, and the type of data contained in the column. The gdp data in the column are floats. Suppose we instead ask for the type of the column itself &mdash; not what's in the column. This reveals the second major data structure in  pandas:"
   ]
  },
  {
   "cell_type": "code",
   "execution_count": 10,
   "metadata": {},
   "outputs": [
    {
     "name": "stdout",
     "output_type": "stream",
     "text": [
      "0     5.9\n",
      "1     7.6\n",
      "2    10.2\n",
      "3    13.0\n",
      "Name: gdp, dtype: float64\n",
      "<class 'pandas.core.series.Series'>\n"
     ]
    }
   ],
   "source": [
    "gdp = df['gdp']\n",
    "print(gdp)\n",
    "print(type(gdp))"
   ]
  },
  {
   "cell_type": "markdown",
   "metadata": {},
   "source": [
    "When we extract a single column from a DataFrame, we are given a **Series**."
   ]
  },
  {
   "cell_type": "code",
   "execution_count": 11,
   "metadata": {},
   "outputs": [
    {
     "name": "stdout",
     "output_type": "stream",
     "text": [
      "<class 'pandas.core.series.Series'>\n"
     ]
    }
   ],
   "source": [
    "print(type(df['gdp']))"
   ]
  },
  {
   "cell_type": "markdown",
   "metadata": {},
   "source": [
    "We can think of a Series as a DataFrame with only one column: It is one column and an index. In the same way, we can think of a DataFrame as a collection of Series that all have the same index. "
   ]
  },
  {
   "cell_type": "markdown",
   "metadata": {},
   "source": [
    "### Learning more about a DataFrame\n",
    "We have seen the `size` and `shape` methods of DataFrame. Let's look at a few more. If we want to see what variables we have in the DataFrame (imagine you are working with a dataset containing 1,000 variables...) we use the `columns` attribute."
   ]
  },
  {
   "cell_type": "code",
   "execution_count": 12,
   "metadata": {},
   "outputs": [
    {
     "name": "stdout",
     "output_type": "stream",
     "text": [
      "Index(['year', 'gdp', 'cons'], dtype='object')\n",
      "<class 'pandas.core.indexes.base.Index'>\n"
     ]
    }
   ],
   "source": [
    "print(df.columns)\n",
    "print(type(df.columns))"
   ]
  },
  {
   "cell_type": "markdown",
   "metadata": {},
   "source": [
    "So the `columns` attribute returns the list of columns in a somewhat complicated way. (It is returning an Index object that is useful in some situations.)  We can use the `tolist()` method to create a list object. We can do something similar to the index as well. The `axes` attribute tells us about both at once."
   ]
  },
  {
   "cell_type": "code",
   "execution_count": 30,
   "metadata": {},
   "outputs": [
    {
     "name": "stdout",
     "output_type": "stream",
     "text": [
      "['year', 'gdp', 'cons']\n"
     ]
    }
   ],
   "source": [
    "print(df.columns.tolist())     ## a list of columns, use this"
   ]
  },
  {
   "cell_type": "code",
   "execution_count": 14,
   "metadata": {},
   "outputs": [
    {
     "name": "stdout",
     "output_type": "stream",
     "text": [
      "[0, 1, 2, 3]\n"
     ]
    }
   ],
   "source": [
    "print(df.index.tolist())       ## index attributes in a list"
   ]
  },
  {
   "cell_type": "code",
   "execution_count": 15,
   "metadata": {},
   "outputs": [
    {
     "name": "stdout",
     "output_type": "stream",
     "text": [
      "[RangeIndex(start=0, stop=4, step=1), Index(['year', 'gdp', 'cons'], dtype='object')]\n"
     ]
    }
   ],
   "source": [
    "print(df.axes)"
   ]
  },
  {
   "cell_type": "markdown",
   "metadata": {},
   "source": [
    "We can learn about the data types in DataFrame with `dtypes` \\[note the 's'\\]. \n",
    "\n",
    "This is a very important attribute of DataFrame. This is the first thing I check when working with a new dataset. "
   ]
  },
  {
   "cell_type": "code",
   "execution_count": 16,
   "metadata": {},
   "outputs": [
    {
     "name": "stdout",
     "output_type": "stream",
     "text": [
      "year      int64\n",
      "gdp     float64\n",
      "cons    float64\n",
      "dtype: object\n"
     ]
    }
   ],
   "source": [
    "print(df.dtypes)"
   ]
  },
  {
   "cell_type": "markdown",
   "metadata": {},
   "source": [
    "### Top Hat Exercise: DataFrames\n",
    "Take a few minutes and try the following. Feel free to chat with those around you if you get stuck. I am here, too. \n",
    "\n",
    "Below is a dict with data about U.S. states. \n",
    "\n",
    "```python\n",
    "state_data = {'state':['CA','MI','WI','MN'], 'pop':[37,9.8,5.7, '5.3'], \n",
    "              'size':[163.7, 96.7, 65.5, 86.9], 'bird':['Quail', 'Redbreast Robin', 'American Robin', 'Loon']}\n",
    "```\n"
   ]
  },
  {
   "cell_type": "code",
   "execution_count": 17,
   "metadata": {},
   "outputs": [],
   "source": [
    "state_data = {'state':['CA','MI','WI','MN'], 'pop':[37,9.8,5.7, '5.3'], \n",
    "              'size':[163.7, 96.7, 65.5, 86.9], 'bird':['Quail', 'Redbreast Robin', 'American Robin', 'Loon']}"
   ]
  },
  {
   "cell_type": "markdown",
   "metadata": {},
   "source": [
    "1. Convert the dict to a DataFrame named `states`\n",
    "2. What are the types of the variables? Does anything look funny?"
   ]
  },
  {
   "cell_type": "code",
   "execution_count": 18,
   "metadata": {},
   "outputs": [
    {
     "data": {
      "text/html": [
       "<div>\n",
       "<style scoped>\n",
       "    .dataframe tbody tr th:only-of-type {\n",
       "        vertical-align: middle;\n",
       "    }\n",
       "\n",
       "    .dataframe tbody tr th {\n",
       "        vertical-align: top;\n",
       "    }\n",
       "\n",
       "    .dataframe thead th {\n",
       "        text-align: right;\n",
       "    }\n",
       "</style>\n",
       "<table border=\"1\" class=\"dataframe\">\n",
       "  <thead>\n",
       "    <tr style=\"text-align: right;\">\n",
       "      <th></th>\n",
       "      <th>state</th>\n",
       "      <th>pop</th>\n",
       "      <th>size</th>\n",
       "      <th>bird</th>\n",
       "    </tr>\n",
       "  </thead>\n",
       "  <tbody>\n",
       "    <tr>\n",
       "      <th>0</th>\n",
       "      <td>CA</td>\n",
       "      <td>37</td>\n",
       "      <td>163.7</td>\n",
       "      <td>Quail</td>\n",
       "    </tr>\n",
       "    <tr>\n",
       "      <th>1</th>\n",
       "      <td>MI</td>\n",
       "      <td>9.8</td>\n",
       "      <td>96.7</td>\n",
       "      <td>Redbreast Robin</td>\n",
       "    </tr>\n",
       "    <tr>\n",
       "      <th>2</th>\n",
       "      <td>WI</td>\n",
       "      <td>5.7</td>\n",
       "      <td>65.5</td>\n",
       "      <td>American Robin</td>\n",
       "    </tr>\n",
       "    <tr>\n",
       "      <th>3</th>\n",
       "      <td>MN</td>\n",
       "      <td>5.3</td>\n",
       "      <td>86.9</td>\n",
       "      <td>Loon</td>\n",
       "    </tr>\n",
       "  </tbody>\n",
       "</table>\n",
       "</div>"
      ],
      "text/plain": [
       "  state  pop   size             bird\n",
       "0    CA   37  163.7            Quail\n",
       "1    MI  9.8   96.7  Redbreast Robin\n",
       "2    WI  5.7   65.5   American Robin\n",
       "3    MN  5.3   86.9             Loon"
      ]
     },
     "execution_count": 18,
     "metadata": {},
     "output_type": "execute_result"
    }
   ],
   "source": [
    "states = pd.DataFrame(state_data)\n",
    "states"
   ]
  },
  {
   "cell_type": "code",
   "execution_count": 19,
   "metadata": {},
   "outputs": [
    {
     "name": "stdout",
     "output_type": "stream",
     "text": [
      "state     object\n",
      "pop       object\n",
      "size     float64\n",
      "bird      object\n",
      "dtype: object\n"
     ]
    }
   ],
   "source": [
    "print(states.dtypes)  #object is string, pop is an object/string rather than float"
   ]
  },
  {
   "cell_type": "markdown",
   "metadata": {},
   "source": [
    "3. How many rows and columns are in this DataFrame? \n",
    "4. Print out the index as a list.\n",
    "4. Print out the columns as a list."
   ]
  },
  {
   "cell_type": "code",
   "execution_count": 20,
   "metadata": {},
   "outputs": [
    {
     "data": {
      "text/plain": [
       "(4, 4)"
      ]
     },
     "execution_count": 20,
     "metadata": {},
     "output_type": "execute_result"
    }
   ],
   "source": [
    "states.shape"
   ]
  },
  {
   "cell_type": "code",
   "execution_count": 21,
   "metadata": {},
   "outputs": [
    {
     "data": {
      "text/plain": [
       "<bound method RangeIndex.tolist of RangeIndex(start=0, stop=4, step=1)>"
      ]
     },
     "execution_count": 21,
     "metadata": {},
     "output_type": "execute_result"
    }
   ],
   "source": [
    "states.index.tolist"
   ]
  },
  {
   "cell_type": "code",
   "execution_count": 22,
   "metadata": {},
   "outputs": [
    {
     "data": {
      "text/plain": [
       "<bound method IndexOpsMixin.tolist of Index(['year', 'gdp', 'cons'], dtype='object')>"
      ]
     },
     "execution_count": 22,
     "metadata": {},
     "output_type": "execute_result"
    }
   ],
   "source": [
    "column_list = df.columns.tolist\n",
    "column_list"
   ]
  },
  {
   "cell_type": "markdown",
   "metadata": {},
   "source": [
    "### More on dataframe columns\n",
    "To extract a column from a DataFrame, we have been using `states['bird']`. This is the preferred way to do so, in that it always works. You will come across two other ways to extract a column. \n",
    "1. The first uses a `.` like: `states.bird`. \n",
    "2. The second uses the `iloc` method `states.iloc[:,3]`."
   ]
  },
  {
   "cell_type": "code",
   "execution_count": 23,
   "metadata": {},
   "outputs": [
    {
     "name": "stdout",
     "output_type": "stream",
     "text": [
      "0              Quail\n",
      "1    Redbreast Robin\n",
      "2     American Robin\n",
      "3               Loon\n",
      "Name: bird, dtype: object\n"
     ]
    }
   ],
   "source": [
    "print(states['bird'])"
   ]
  },
  {
   "cell_type": "code",
   "execution_count": 24,
   "metadata": {},
   "outputs": [
    {
     "name": "stdout",
     "output_type": "stream",
     "text": [
      "0              Quail\n",
      "1    Redbreast Robin\n",
      "2     American Robin\n",
      "3               Loon\n",
      "Name: bird, dtype: object\n"
     ]
    }
   ],
   "source": [
    "print(states.bird)  #use this"
   ]
  },
  {
   "cell_type": "code",
   "execution_count": 25,
   "metadata": {},
   "outputs": [
    {
     "name": "stdout",
     "output_type": "stream",
     "text": [
      "0              Quail\n",
      "1    Redbreast Robin\n",
      "2     American Robin\n",
      "3               Loon\n",
      "Name: bird, dtype: object\n"
     ]
    }
   ],
   "source": [
    "# iloc works like a 2-D slice with iloc[rows, cols]. \n",
    "print(states.iloc[:,3])  #index location, slice a column"
   ]
  },
  {
   "cell_type": "markdown",
   "metadata": {},
   "source": [
    "All three lines of code returned the same column. Why do I not recommend the second two approaches?  \n",
    "\n",
    "Let's try to grab the 'size' column using the second method. "
   ]
  },
  {
   "cell_type": "code",
   "execution_count": 26,
   "metadata": {},
   "outputs": [
    {
     "name": "stdout",
     "output_type": "stream",
     "text": [
      "16\n",
      "0    163.7\n",
      "1     96.7\n",
      "2     65.5\n",
      "3     86.9\n",
      "Name: size, dtype: float64\n"
     ]
    }
   ],
   "source": [
    "# Ask for the column 'size'.\n",
    "print(states.size)          #Not the best,print out df size   \n",
    "print(states['size'])       #Use this"
   ]
  },
  {
   "cell_type": "markdown",
   "metadata": {},
   "source": [
    "Well, that's not what I expected. On further review, however, it is exactly what I should have expected. `size` is an attribute of DataFrame. We saw this earlier: It returns the number of elements in the DataFrame. Any column name that conflicts with a DataFrame method or attribute is going to cause problems. \n",
    "\n",
    "What about `iloc`? `iloc` references a column by its position. This is not very robust. What if I change my code and add an extra column to the beginning of the DataFrame? What if I change my code to sort the columns alphabetically? The 'bird' column would no longer be the fourth column and `states.iloc[:,3]` will no longer return the 'bird' column.  We might still use `iloc` here and there, but we do so at our own peril. "
   ]
  },
  {
   "cell_type": "markdown",
   "metadata": {},
   "source": [
    "### Subsets of columns\n",
    "\n",
    "Okay, back to referencing columns. We can take several columns by passing a list of the column names.  "
   ]
  },
  {
   "cell_type": "code",
   "execution_count": 27,
   "metadata": {},
   "outputs": [
    {
     "name": "stdout",
     "output_type": "stream",
     "text": [
      "  state             bird  pop\n",
      "0    CA            Quail   37\n",
      "1    MI  Redbreast Robin  9.8\n",
      "2    WI   American Robin  5.7\n",
      "3    MN             Loon  5.3\n",
      "<class 'pandas.core.frame.DataFrame'>\n"
     ]
    }
   ],
   "source": [
    "cols_to_get = ['state', 'bird', 'pop']\n",
    "got_cols = states[cols_to_get]         #no need to call df = pd.\n",
    "\n",
    "print(got_cols)\n",
    "print(type(got_cols))"
   ]
  },
  {
   "cell_type": "markdown",
   "metadata": {},
   "source": [
    "This and the one below look the same in colab"
   ]
  },
  {
   "cell_type": "markdown",
   "metadata": {},
   "source": [
    "When we take more than one column, we are creating a DataFrame object. A more compact notation creates the list in place."
   ]
  },
  {
   "cell_type": "code",
   "execution_count": 28,
   "metadata": {},
   "outputs": [
    {
     "data": {
      "text/html": [
       "<div>\n",
       "<style scoped>\n",
       "    .dataframe tbody tr th:only-of-type {\n",
       "        vertical-align: middle;\n",
       "    }\n",
       "\n",
       "    .dataframe tbody tr th {\n",
       "        vertical-align: top;\n",
       "    }\n",
       "\n",
       "    .dataframe thead th {\n",
       "        text-align: right;\n",
       "    }\n",
       "</style>\n",
       "<table border=\"1\" class=\"dataframe\">\n",
       "  <thead>\n",
       "    <tr style=\"text-align: right;\">\n",
       "      <th></th>\n",
       "      <th>state</th>\n",
       "      <th>bird</th>\n",
       "      <th>pop</th>\n",
       "    </tr>\n",
       "  </thead>\n",
       "  <tbody>\n",
       "    <tr>\n",
       "      <th>0</th>\n",
       "      <td>CA</td>\n",
       "      <td>Quail</td>\n",
       "      <td>37</td>\n",
       "    </tr>\n",
       "    <tr>\n",
       "      <th>1</th>\n",
       "      <td>MI</td>\n",
       "      <td>Redbreast Robin</td>\n",
       "      <td>9.8</td>\n",
       "    </tr>\n",
       "    <tr>\n",
       "      <th>2</th>\n",
       "      <td>WI</td>\n",
       "      <td>American Robin</td>\n",
       "      <td>5.7</td>\n",
       "    </tr>\n",
       "    <tr>\n",
       "      <th>3</th>\n",
       "      <td>MN</td>\n",
       "      <td>Loon</td>\n",
       "      <td>5.3</td>\n",
       "    </tr>\n",
       "  </tbody>\n",
       "</table>\n",
       "</div>"
      ],
      "text/plain": [
       "  state             bird  pop\n",
       "0    CA            Quail   37\n",
       "1    MI  Redbreast Robin  9.8\n",
       "2    WI   American Robin  5.7\n",
       "3    MN             Loon  5.3"
      ]
     },
     "execution_count": 28,
     "metadata": {},
     "output_type": "execute_result"
    }
   ],
   "source": [
    "got_cols_2 = states[['state', 'bird', 'pop']]     #double [[  ]] \n",
    "got_cols_2"
   ]
  },
  {
   "cell_type": "markdown",
   "metadata": {},
   "source": [
    "What happens if I use single, rather than double, brackets?"
   ]
  },
  {
   "cell_type": "code",
   "execution_count": 29,
   "metadata": {},
   "outputs": [
    {
     "ename": "KeyError",
     "evalue": "('state', 'bird', 'pop')",
     "output_type": "error",
     "traceback": [
      "\u001b[1;31m---------------------------------------------------------------------------\u001b[0m",
      "\u001b[1;31mKeyError\u001b[0m                                  Traceback (most recent call last)",
      "File \u001b[1;32mC:\\ProgramData\\Anaconda3\\Lib\\site-packages\\pandas\\core\\indexes\\base.py:3790\u001b[0m, in \u001b[0;36mIndex.get_loc\u001b[1;34m(self, key)\u001b[0m\n\u001b[0;32m   3789\u001b[0m \u001b[38;5;28;01mtry\u001b[39;00m:\n\u001b[1;32m-> 3790\u001b[0m     \u001b[38;5;28;01mreturn\u001b[39;00m \u001b[38;5;28mself\u001b[39m\u001b[38;5;241m.\u001b[39m_engine\u001b[38;5;241m.\u001b[39mget_loc(casted_key)\n\u001b[0;32m   3791\u001b[0m \u001b[38;5;28;01mexcept\u001b[39;00m \u001b[38;5;167;01mKeyError\u001b[39;00m \u001b[38;5;28;01mas\u001b[39;00m err:\n",
      "File \u001b[1;32mindex.pyx:152\u001b[0m, in \u001b[0;36mpandas._libs.index.IndexEngine.get_loc\u001b[1;34m()\u001b[0m\n",
      "File \u001b[1;32mindex.pyx:181\u001b[0m, in \u001b[0;36mpandas._libs.index.IndexEngine.get_loc\u001b[1;34m()\u001b[0m\n",
      "File \u001b[1;32mpandas\\_libs\\hashtable_class_helper.pxi:7080\u001b[0m, in \u001b[0;36mpandas._libs.hashtable.PyObjectHashTable.get_item\u001b[1;34m()\u001b[0m\n",
      "File \u001b[1;32mpandas\\_libs\\hashtable_class_helper.pxi:7088\u001b[0m, in \u001b[0;36mpandas._libs.hashtable.PyObjectHashTable.get_item\u001b[1;34m()\u001b[0m\n",
      "\u001b[1;31mKeyError\u001b[0m: ('state', 'bird', 'pop')",
      "\nThe above exception was the direct cause of the following exception:\n",
      "\u001b[1;31mKeyError\u001b[0m                                  Traceback (most recent call last)",
      "Cell \u001b[1;32mIn[29], line 1\u001b[0m\n\u001b[1;32m----> 1\u001b[0m got_cols_2 \u001b[38;5;241m=\u001b[39m states[\u001b[38;5;124m'\u001b[39m\u001b[38;5;124mstate\u001b[39m\u001b[38;5;124m'\u001b[39m, \u001b[38;5;124m'\u001b[39m\u001b[38;5;124mbird\u001b[39m\u001b[38;5;124m'\u001b[39m, \u001b[38;5;124m'\u001b[39m\u001b[38;5;124mpop\u001b[39m\u001b[38;5;124m'\u001b[39m]   \u001b[38;5;66;03m#3 objects, each needs own []\u001b[39;00m\n\u001b[0;32m      2\u001b[0m got_cols_2\n",
      "File \u001b[1;32mC:\\ProgramData\\Anaconda3\\Lib\\site-packages\\pandas\\core\\frame.py:3896\u001b[0m, in \u001b[0;36mDataFrame.__getitem__\u001b[1;34m(self, key)\u001b[0m\n\u001b[0;32m   3894\u001b[0m \u001b[38;5;28;01mif\u001b[39;00m \u001b[38;5;28mself\u001b[39m\u001b[38;5;241m.\u001b[39mcolumns\u001b[38;5;241m.\u001b[39mnlevels \u001b[38;5;241m>\u001b[39m \u001b[38;5;241m1\u001b[39m:\n\u001b[0;32m   3895\u001b[0m     \u001b[38;5;28;01mreturn\u001b[39;00m \u001b[38;5;28mself\u001b[39m\u001b[38;5;241m.\u001b[39m_getitem_multilevel(key)\n\u001b[1;32m-> 3896\u001b[0m indexer \u001b[38;5;241m=\u001b[39m \u001b[38;5;28mself\u001b[39m\u001b[38;5;241m.\u001b[39mcolumns\u001b[38;5;241m.\u001b[39mget_loc(key)\n\u001b[0;32m   3897\u001b[0m \u001b[38;5;28;01mif\u001b[39;00m is_integer(indexer):\n\u001b[0;32m   3898\u001b[0m     indexer \u001b[38;5;241m=\u001b[39m [indexer]\n",
      "File \u001b[1;32mC:\\ProgramData\\Anaconda3\\Lib\\site-packages\\pandas\\core\\indexes\\base.py:3797\u001b[0m, in \u001b[0;36mIndex.get_loc\u001b[1;34m(self, key)\u001b[0m\n\u001b[0;32m   3792\u001b[0m     \u001b[38;5;28;01mif\u001b[39;00m \u001b[38;5;28misinstance\u001b[39m(casted_key, \u001b[38;5;28mslice\u001b[39m) \u001b[38;5;129;01mor\u001b[39;00m (\n\u001b[0;32m   3793\u001b[0m         \u001b[38;5;28misinstance\u001b[39m(casted_key, abc\u001b[38;5;241m.\u001b[39mIterable)\n\u001b[0;32m   3794\u001b[0m         \u001b[38;5;129;01mand\u001b[39;00m \u001b[38;5;28many\u001b[39m(\u001b[38;5;28misinstance\u001b[39m(x, \u001b[38;5;28mslice\u001b[39m) \u001b[38;5;28;01mfor\u001b[39;00m x \u001b[38;5;129;01min\u001b[39;00m casted_key)\n\u001b[0;32m   3795\u001b[0m     ):\n\u001b[0;32m   3796\u001b[0m         \u001b[38;5;28;01mraise\u001b[39;00m InvalidIndexError(key)\n\u001b[1;32m-> 3797\u001b[0m     \u001b[38;5;28;01mraise\u001b[39;00m \u001b[38;5;167;01mKeyError\u001b[39;00m(key) \u001b[38;5;28;01mfrom\u001b[39;00m \u001b[38;5;21;01merr\u001b[39;00m\n\u001b[0;32m   3798\u001b[0m \u001b[38;5;28;01mexcept\u001b[39;00m \u001b[38;5;167;01mTypeError\u001b[39;00m:\n\u001b[0;32m   3799\u001b[0m     \u001b[38;5;66;03m# If we have a listlike key, _check_indexing_error will raise\u001b[39;00m\n\u001b[0;32m   3800\u001b[0m     \u001b[38;5;66;03m#  InvalidIndexError. Otherwise we fall through and re-raise\u001b[39;00m\n\u001b[0;32m   3801\u001b[0m     \u001b[38;5;66;03m#  the TypeError.\u001b[39;00m\n\u001b[0;32m   3802\u001b[0m     \u001b[38;5;28mself\u001b[39m\u001b[38;5;241m.\u001b[39m_check_indexing_error(key)\n",
      "\u001b[1;31mKeyError\u001b[0m: ('state', 'bird', 'pop')"
     ]
    }
   ],
   "source": [
    "got_cols_2 = states['state', 'bird', 'pop']   #3 objects, each needs own []\n",
    "got_cols_2"
   ]
  },
  {
   "cell_type": "markdown",
   "metadata": {},
   "source": [
    "Python kicked up an error! It was expecting a valid single reference, which `'state', 'bird', 'pop'` is not and `['state', 'bird', 'pop']` is."
   ]
  },
  {
   "cell_type": "markdown",
   "metadata": {},
   "source": [
    "### Renaming columns\n",
    "Often data sets come with poor variable names. How do we rename a column?\n",
    "If we are only changing a few variables, the dictionary approach works well. "
   ]
  },
  {
   "cell_type": "code",
   "execution_count": null,
   "metadata": {},
   "outputs": [],
   "source": [
    "# Is it population or state soda? Let's get a better name on that variable. \n",
    "states = states.rename(columns={'pop':'population'})    #old:new name ; need states = \n",
    "states"
   ]
  },
  {
   "cell_type": "markdown",
   "metadata": {},
   "source": [
    "The only column that was changed was the `pop` column. Let's take a closer look at the syntax. \n",
    "```python\n",
    "states = states.rename(columns={'pop':'population'})\n",
    "```\n",
    "1. We are calling the `rename()` method for the DataFrame object `states`\n",
    "2. We pass to `rename()` the argument `columns` (passing `index` would rename the index)\n",
    "3. We use a dict to give the `{old name : new name}` key-value pairs\n",
    "\n",
    "Notice that we had to assign the result of `state.rename()` back to states. The `rename()` method does not act on the original data, but creates a copy, which we assign back to the `states` variable. \n",
    "\n",
    "We can ask `rename()` to perform the action on the original data with the `inplace` argument. \\[You can see if a method supports in-place operations by [checking the documentation](https://pandas.pydata.org/pandas-docs/stable/generated/pandas.DataFrame.rename.html), or using ? in jupyter notebook.\\] Remember, `inplace = True` is used when we don't want to make a new copy of our data through assignment to a new variable. Think about this as eliminating lines like `states = states.rename(...)`."
   ]
  },
  {
   "cell_type": "code",
   "execution_count": null,
   "metadata": {},
   "outputs": [],
   "source": [
    "#Let's rename population again...\n",
    "states.rename(columns={'population':'people'}, inplace=True)\n",
    "states"
   ]
  },
  {
   "cell_type": "markdown",
   "metadata": {},
   "source": [
    "### More on DataFrame Rows\n",
    "Now we know how to manipulate columns. How do we take a row, or a subset of rows? We can resort to `iloc` again..."
   ]
  },
  {
   "cell_type": "code",
   "execution_count": null,
   "metadata": {},
   "outputs": [],
   "source": [
    "# Take the third row, all columns\n",
    "print(states.iloc[2,:])      "
   ]
  },
  {
   "cell_type": "markdown",
   "metadata": {},
   "source": [
    "...but this is still subject to problems with reordering rows. It is also less likely that we want to take a row in a specific position. It is more likely we want a row corresponding to a set of characteristics. "
   ]
  },
  {
   "cell_type": "code",
   "execution_count": null,
   "metadata": {},
   "outputs": [],
   "source": [
    "states"
   ]
  },
  {
   "cell_type": "code",
   "execution_count": null,
   "metadata": {},
   "outputs": [],
   "source": [
    "# Take the row corresponding to Wisconsin.\n",
    "states[states['state']=='WI']   "
   ]
  },
  {
   "cell_type": "code",
   "execution_count": null,
   "metadata": {},
   "outputs": [],
   "source": [
    "states[states.state == \"WI\"] "
   ]
  },
  {
   "cell_type": "markdown",
   "metadata": {},
   "source": [
    "That's a one-row DataFrame.\n",
    "\n",
    "Let's break that down. First, we ask which rows have STATE equal to WI. "
   ]
  },
  {
   "cell_type": "code",
   "execution_count": null,
   "metadata": {},
   "outputs": [],
   "source": [
    "temp = states['state']=='WI'\n",
    "temp"
   ]
  },
  {
   "cell_type": "code",
   "execution_count": null,
   "metadata": {},
   "outputs": [],
   "source": [
    "states[temp]"
   ]
  },
  {
   "cell_type": "markdown",
   "metadata": {},
   "source": [
    "That is returning a Series of bools. When we give the Series to the DataFrame, it only grabs the rows that are true. \n",
    "\n",
    "We will use this technique&mdash;choosing a subset of data based on a conditional statement&mdash;often. Do not worry, there will be plenty of practice!"
   ]
  },
  {
   "cell_type": "markdown",
   "metadata": {},
   "source": [
    "### Changing the row index\n",
    "We can simplify our lives and get rid of an index that doesn't tell us anything useful about the data by changing the index.  The unit of observation in `states` is a state. That seems like a good index. "
   ]
  },
  {
   "cell_type": "code",
   "execution_count": null,
   "metadata": {},
   "outputs": [],
   "source": [
    "# Make the column named 'STATE' the new index.\n",
    "# Save the DataFrame with the new index to a different variable. \n",
    "states_new_index = states.set_index('state')   \n",
    "                                              \n",
    "print(states_new_index)\n",
    "print('\\n')\n",
    "print(states)"
   ]
  },
  {
   "cell_type": "markdown",
   "metadata": {},
   "source": [
    "The index is now the state abreviations and not the squence of integers. What does this buy us? A simpler way to reference a column using the `loc` method. This is **loc**, not iloc! `iloc` indicates reference by integer position, hence the name.\n",
    "\n",
    "\\[Again, notice that `set_index` did not operate in place. It created a copy that I assigned to the new variable. `set_index` also takes the `inplace` argument.\\]\n",
    "\n",
    "Let's use `loc` to extract the data for Wisconsin."
   ]
  },
  {
   "cell_type": "code",
   "execution_count": null,
   "metadata": {},
   "outputs": [],
   "source": [
    "\"\"\"\n",
    "states_undo.set.index('state', inplace = True)\n",
    "state_undo\n",
    "\"\"\"\n",
    "#try this later "
   ]
  },
  {
   "cell_type": "code",
   "execution_count": null,
   "metadata": {},
   "outputs": [],
   "source": [
    "print(states_new_index.loc['WI'])   # ask for the row corresponding to WI\n"
   ]
  },
  {
   "cell_type": "markdown",
   "metadata": {},
   "source": [
    "Very nice. Even if the order of the rows changed, that line of code still works. \n",
    "\n",
    "Suppose you regret your choice of index. Are you ruined? Nope. "
   ]
  },
  {
   "cell_type": "code",
   "execution_count": null,
   "metadata": {},
   "outputs": [],
   "source": [
    "# Reset the index to integers and return STATE to a column.\n",
    "states_undo = states_new_index.reset_index()    \n",
    "states_undo"
   ]
  },
  {
   "cell_type": "code",
   "execution_count": null,
   "metadata": {},
   "outputs": [],
   "source": []
  },
  {
   "cell_type": "markdown",
   "metadata": {},
   "source": [
    "### Deleting rows and columns\n",
    "To remove a row or column, we use the `drop()` method. The drop method is our first introduction to the **axis** argument. DataFrames have two axes. We have been calling them rows and columns, but pandas thinks of them as rows = 0 and columns = 1. \n",
    "\n",
    "In the following, we want to remove the column 'SIZE', but there could be a row index 'SIZE', too, so we need to tell `drop` where to look for 'SIZE'. Again, we use inplace if we don't want to create a copy."
   ]
  },
  {
   "cell_type": "code",
   "execution_count": null,
   "metadata": {},
   "outputs": [],
   "source": [
    "states_subset = states.drop('size', axis = 1)  #drop column\n",
    "states_subset"
   ]
  },
  {
   "cell_type": "markdown",
   "metadata": {},
   "source": [
    "Deleting a row works just as you would expect..."
   ]
  },
  {
   "cell_type": "code",
   "execution_count": null,
   "metadata": {},
   "outputs": [],
   "source": [
    "# Why is this code not very robust?    #Dropping row, set axis = 0\n",
    "states_no_mn = states.drop(3, axis = 0)   \n",
    "states_no_mn"
   ]
  },
  {
   "cell_type": "markdown",
   "metadata": {},
   "source": [
    "Again, if the ordering of the rows in our DataFrame changes, then dropping row 3 may result WI, or MI, or CA."
   ]
  },
  {
   "cell_type": "markdown",
   "metadata": {},
   "source": [
    "### Top Hat Exercise: Creating DataFrames\n",
    "Take a few minutes and try the following. Feel free to chat with those around you if you get stuck. The TA and I are here, too. \n",
    "\n",
    "1. Explain why `states = states[['state', 'size', 'bird', 'pop']]` reordered the DataFrame `states`. \n",
    "2. Create a new DataFrame from the dict `data_dict` we used earlier. Name it data.\n"
   ]
  },
  {
   "cell_type": "code",
   "execution_count": 32,
   "metadata": {},
   "outputs": [
    {
     "data": {
      "text/html": [
       "<div>\n",
       "<style scoped>\n",
       "    .dataframe tbody tr th:only-of-type {\n",
       "        vertical-align: middle;\n",
       "    }\n",
       "\n",
       "    .dataframe tbody tr th {\n",
       "        vertical-align: top;\n",
       "    }\n",
       "\n",
       "    .dataframe thead th {\n",
       "        text-align: right;\n",
       "    }\n",
       "</style>\n",
       "<table border=\"1\" class=\"dataframe\">\n",
       "  <thead>\n",
       "    <tr style=\"text-align: right;\">\n",
       "      <th></th>\n",
       "      <th>state</th>\n",
       "      <th>size</th>\n",
       "      <th>bird</th>\n",
       "      <th>pop</th>\n",
       "    </tr>\n",
       "  </thead>\n",
       "  <tbody>\n",
       "    <tr>\n",
       "      <th>0</th>\n",
       "      <td>CA</td>\n",
       "      <td>163.7</td>\n",
       "      <td>Quail</td>\n",
       "      <td>37</td>\n",
       "    </tr>\n",
       "    <tr>\n",
       "      <th>1</th>\n",
       "      <td>MI</td>\n",
       "      <td>96.7</td>\n",
       "      <td>Redbreast Robin</td>\n",
       "      <td>9.8</td>\n",
       "    </tr>\n",
       "    <tr>\n",
       "      <th>2</th>\n",
       "      <td>WI</td>\n",
       "      <td>65.5</td>\n",
       "      <td>American Robin</td>\n",
       "      <td>5.7</td>\n",
       "    </tr>\n",
       "    <tr>\n",
       "      <th>3</th>\n",
       "      <td>MN</td>\n",
       "      <td>86.9</td>\n",
       "      <td>Loon</td>\n",
       "      <td>5.3</td>\n",
       "    </tr>\n",
       "  </tbody>\n",
       "</table>\n",
       "</div>"
      ],
      "text/plain": [
       "  state   size             bird  pop\n",
       "0    CA  163.7            Quail   37\n",
       "1    MI   96.7  Redbreast Robin  9.8\n",
       "2    WI   65.5   American Robin  5.7\n",
       "3    MN   86.9             Loon  5.3"
      ]
     },
     "execution_count": 32,
     "metadata": {},
     "output_type": "execute_result"
    }
   ],
   "source": [
    "states = states[['state', 'size', 'bird', 'pop']]\n",
    "states"
   ]
  },
  {
   "cell_type": "markdown",
   "metadata": {},
   "source": [
    "3. Change the index to be the year variable and print the DataFrame"
   ]
  },
  {
   "cell_type": "code",
   "execution_count": 42,
   "metadata": {},
   "outputs": [],
   "source": [
    "data = pd.DataFrame(data_dict)\n",
    "data.set_index('year', inplace = True)"
   ]
  },
  {
   "cell_type": "markdown",
   "metadata": {},
   "source": [
    "4. Change the remaining column names to 'consumption' and 'gross domestic product'"
   ]
  },
  {
   "cell_type": "code",
   "execution_count": 50,
   "metadata": {},
   "outputs": [
    {
     "data": {
      "text/html": [
       "<div>\n",
       "<style scoped>\n",
       "    .dataframe tbody tr th:only-of-type {\n",
       "        vertical-align: middle;\n",
       "    }\n",
       "\n",
       "    .dataframe tbody tr th {\n",
       "        vertical-align: top;\n",
       "    }\n",
       "\n",
       "    .dataframe thead th {\n",
       "        text-align: right;\n",
       "    }\n",
       "</style>\n",
       "<table border=\"1\" class=\"dataframe\">\n",
       "  <thead>\n",
       "    <tr style=\"text-align: right;\">\n",
       "      <th></th>\n",
       "      <th>gross domestic product</th>\n",
       "      <th>consumption</th>\n",
       "    </tr>\n",
       "    <tr>\n",
       "      <th>year</th>\n",
       "      <th></th>\n",
       "      <th></th>\n",
       "    </tr>\n",
       "  </thead>\n",
       "  <tbody>\n",
       "    <tr>\n",
       "      <th>1990</th>\n",
       "      <td>5.9</td>\n",
       "      <td>3.8</td>\n",
       "    </tr>\n",
       "    <tr>\n",
       "      <th>1995</th>\n",
       "      <td>7.6</td>\n",
       "      <td>4.9</td>\n",
       "    </tr>\n",
       "    <tr>\n",
       "      <th>2000</th>\n",
       "      <td>10.2</td>\n",
       "      <td>6.8</td>\n",
       "    </tr>\n",
       "    <tr>\n",
       "      <th>2005</th>\n",
       "      <td>13.0</td>\n",
       "      <td>8.7</td>\n",
       "    </tr>\n",
       "  </tbody>\n",
       "</table>\n",
       "</div>"
      ],
      "text/plain": [
       "      gross domestic product  consumption\n",
       "year                                     \n",
       "1990                     5.9          3.8\n",
       "1995                     7.6          4.9\n",
       "2000                    10.2          6.8\n",
       "2005                    13.0          8.7"
      ]
     },
     "execution_count": 50,
     "metadata": {},
     "output_type": "execute_result"
    }
   ],
   "source": [
    "#4\n",
    "data.rename(columns={'cons':'consumption', 'gdp':'gross domestic product'}, inplace = True)\n",
    "data"
   ]
  },
  {
   "cell_type": "markdown",
   "metadata": {},
   "source": [
    "5. Extract the rows corresponding to 1990 and 2000 and assign them to a DataFrame named `data_dec`. Hint: When we wanted to take to columns, we passed a list of the column names..."
   ]
  },
  {
   "cell_type": "code",
   "execution_count": 38,
   "metadata": {},
   "outputs": [
    {
     "data": {
      "text/html": [
       "<div>\n",
       "<style scoped>\n",
       "    .dataframe tbody tr th:only-of-type {\n",
       "        vertical-align: middle;\n",
       "    }\n",
       "\n",
       "    .dataframe tbody tr th {\n",
       "        vertical-align: top;\n",
       "    }\n",
       "\n",
       "    .dataframe thead th {\n",
       "        text-align: right;\n",
       "    }\n",
       "</style>\n",
       "<table border=\"1\" class=\"dataframe\">\n",
       "  <thead>\n",
       "    <tr style=\"text-align: right;\">\n",
       "      <th></th>\n",
       "      <th>gross domestic product</th>\n",
       "      <th>consumption</th>\n",
       "    </tr>\n",
       "    <tr>\n",
       "      <th>year</th>\n",
       "      <th></th>\n",
       "      <th></th>\n",
       "    </tr>\n",
       "  </thead>\n",
       "  <tbody>\n",
       "    <tr>\n",
       "      <th>1990</th>\n",
       "      <td>5.9</td>\n",
       "      <td>3.8</td>\n",
       "    </tr>\n",
       "    <tr>\n",
       "      <th>1995</th>\n",
       "      <td>7.6</td>\n",
       "      <td>4.9</td>\n",
       "    </tr>\n",
       "    <tr>\n",
       "      <th>2000</th>\n",
       "      <td>10.2</td>\n",
       "      <td>6.8</td>\n",
       "    </tr>\n",
       "  </tbody>\n",
       "</table>\n",
       "</div>"
      ],
      "text/plain": [
       "      gross domestic product  consumption\n",
       "year                                     \n",
       "1990                     5.9          3.8\n",
       "1995                     7.6          4.9\n",
       "2000                    10.2          6.8"
      ]
     },
     "execution_count": 38,
     "metadata": {},
     "output_type": "execute_result"
    }
   ],
   "source": [
    "data_dec = data.loc['1990':'2000']\n",
    "data_dec"
   ]
  },
  {
   "cell_type": "markdown",
   "metadata": {},
   "source": [
    "6. Create `data_dec_2` from `data` by deleting the 1995 and 2005 rows. Print it out."
   ]
  },
  {
   "cell_type": "code",
   "execution_count": 52,
   "metadata": {},
   "outputs": [
    {
     "data": {
      "text/html": [
       "<div>\n",
       "<style scoped>\n",
       "    .dataframe tbody tr th:only-of-type {\n",
       "        vertical-align: middle;\n",
       "    }\n",
       "\n",
       "    .dataframe tbody tr th {\n",
       "        vertical-align: top;\n",
       "    }\n",
       "\n",
       "    .dataframe thead th {\n",
       "        text-align: right;\n",
       "    }\n",
       "</style>\n",
       "<table border=\"1\" class=\"dataframe\">\n",
       "  <thead>\n",
       "    <tr style=\"text-align: right;\">\n",
       "      <th></th>\n",
       "      <th>gross domestic product</th>\n",
       "      <th>consumption</th>\n",
       "    </tr>\n",
       "    <tr>\n",
       "      <th>year</th>\n",
       "      <th></th>\n",
       "      <th></th>\n",
       "    </tr>\n",
       "  </thead>\n",
       "  <tbody>\n",
       "    <tr>\n",
       "      <th>1990</th>\n",
       "      <td>5.9</td>\n",
       "      <td>3.8</td>\n",
       "    </tr>\n",
       "    <tr>\n",
       "      <th>2000</th>\n",
       "      <td>10.2</td>\n",
       "      <td>6.8</td>\n",
       "    </tr>\n",
       "  </tbody>\n",
       "</table>\n",
       "</div>"
      ],
      "text/plain": [
       "      gross domestic product  consumption\n",
       "year                                     \n",
       "1990                     5.9          3.8\n",
       "2000                    10.2          6.8"
      ]
     },
     "execution_count": 52,
     "metadata": {},
     "output_type": "execute_result"
    }
   ],
   "source": [
    "data_dec_2 = data.drop([1995,2005], axis = 0)\n",
    "data_dec_2"
   ]
  },
  {
   "cell_type": "code",
   "execution_count": null,
   "metadata": {},
   "outputs": [],
   "source": [
    "state_data = {'state': ['CA', 'MI', 'WI', 'WI'],\n",
    " 'pop': [37, 9.8, 5.7, '5.7'],\n",
    " 'size': [163.7, 96.7, 65.5, 65.5],\n",
    " 'bird': ['Quail', 'Redbreast Robin', 'American Robin', 'American Robin']}\n",
    "\n",
    "states = pd.DataFrame(state_data)\n",
    "states"
   ]
  },
  {
   "cell_type": "code",
   "execution_count": null,
   "metadata": {},
   "outputs": [],
   "source": [
    "states.set_index('state', inplace = True)\n",
    "states\n",
    "\n",
    "#not a good df"
   ]
  },
  {
   "cell_type": "code",
   "execution_count": null,
   "metadata": {},
   "outputs": [],
   "source": []
  },
  {
   "cell_type": "code",
   "execution_count": null,
   "metadata": {},
   "outputs": [],
   "source": []
  },
  {
   "cell_type": "code",
   "execution_count": null,
   "metadata": {},
   "outputs": [],
   "source": []
  },
  {
   "cell_type": "code",
   "execution_count": null,
   "metadata": {},
   "outputs": [],
   "source": []
  }
 ],
 "metadata": {
  "celltoolbar": "Attachments",
  "kernelspec": {
   "display_name": "Python 3 (ipykernel)",
   "language": "python",
   "name": "python3"
  },
  "language_info": {
   "codemirror_mode": {
    "name": "ipython",
    "version": 3
   },
   "file_extension": ".py",
   "mimetype": "text/x-python",
   "name": "python",
   "nbconvert_exporter": "python",
   "pygments_lexer": "ipython3",
   "version": "3.11.5"
  },
  "varInspector": {
   "cols": {
    "lenName": 16,
    "lenType": 16,
    "lenVar": 40
   },
   "kernels_config": {
    "python": {
     "delete_cmd_postfix": "",
     "delete_cmd_prefix": "del ",
     "library": "var_list.py",
     "varRefreshCmd": "print(var_dic_list())"
    },
    "r": {
     "delete_cmd_postfix": ") ",
     "delete_cmd_prefix": "rm(",
     "library": "var_list.r",
     "varRefreshCmd": "cat(var_dic_list()) "
    }
   },
   "types_to_exclude": [
    "module",
    "function",
    "builtin_function_or_method",
    "instance",
    "_Feature"
   ],
   "window_display": false
  }
 },
 "nbformat": 4,
 "nbformat_minor": 4
}
