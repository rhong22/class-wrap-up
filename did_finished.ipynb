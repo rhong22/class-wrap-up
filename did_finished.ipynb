{
 "cells": [
  {
   "cell_type": "markdown",
   "id": "cbff4027",
   "metadata": {},
   "source": [
    "# Difference in differences\n",
    "\n",
    "Let's practice our regression in python by replicating Card and Krueger (1994), \"Minimum wages and employment,\" one of the most famous difference-in-differences regressions in the literature. \n",
    "\n",
    "The data are available from [Card's website](https://davidcard.berkeley.edu/data_sets.html). Download the zip file and unzip it into your working directory. \n",
    "\n",
    "The paper is also at [Card's website](https://davidcard.berkeley.edu/papers/njmin-aer.pdf). I'm pretty sure he is breaking copyright law here...\n",
    "\n",
    "There are several people on the web who have attempted this replication. I found [Aaron Mamula's](https://aaronmams.github.io/Card-Krueger-Replication/) work useful. "
   ]
  },
  {
   "cell_type": "markdown",
   "id": "7fd79b52",
   "metadata": {},
   "source": [
    "## Background\n",
    "\n",
    "How does the minimum wage affect unemployment? Theory predicts that a binding minimum wage should decrease employment in occupations or worker types whose equilibrium wage would be less than the minimum wage. This paper looks at a change in the minimum wage in New Jersey from \\\\$4.25 to \\\\$5.05 in 1992. Pennsylvania, a neighboring state, did not change its minimum wage. So the first difference is 'before vs. after 1992' and second difference is 'PA vs. NJ'. \n",
    "\n",
    "Card and Krueger collected data from fast-food restaurants before and after the policy change. Fast food is a good industry to study because they hire a lot of low-wage workers, including teenagers, who are mostly likely be affected by the change in policy. "
   ]
  },
  {
   "cell_type": "code",
   "execution_count": 1,
   "id": "40c3082b",
   "metadata": {},
   "outputs": [],
   "source": [
    "import pandas as pd                    # for data handling\n",
    "import numpy as np                     # for numerical methods and data structures\n",
    "from pandas import option_context\n",
    "\n",
    "import statsmodels.formula.api as smf "
   ]
  },
  {
   "cell_type": "markdown",
   "id": "c3f773fb",
   "metadata": {},
   "source": [
    "## Loading the data\n",
    "\n",
    "Card and Krueger were using SAS. Getting the data into a DataFrame takes a bit of hassle. One can dig out the variable names from the codebook and create the list below. \n",
    "\n",
    "For practice, you could try reading in the codebook and use `readline()` and the like to extract the variable names and create the list. "
   ]
  },
  {
   "cell_type": "code",
   "execution_count": 2,
   "id": "b92f11a4",
   "metadata": {},
   "outputs": [],
   "source": [
    "c = ['SHEET', 'CHAIN', 'CO_OWNED', 'STATE', 'SOUTHJ','CENTRALJ','NORTHJ','PA1','PA2','SHORE','NCALLS','EMPFT','EMPPT',\n",
    "'NMGRS' ,'WAGE_ST','INCTIME','FIRSTINC','BONUS','PCTAFF','MEALS','OPEN','HRSOPEN','PSODA','PFRY','PENTREE','NREGS',\n",
    "'NREGS11','TYPE2','STATUS2','DATE2','NCALLS2','EMPFT2','EMPPT2','NMGRS2','WAGE_ST2','INCTIME2','FIRSTIN2','SPECIAL2',\n",
    "'MEALS2','OPEN2R','HRSOPEN2','PSODA2','PFRY2','PENTREE2','NREGS2','NREGS112']"
   ]
  },
  {
   "cell_type": "markdown",
   "id": "44627254",
   "metadata": {},
   "source": [
    "The data file is in fixed-width format. I'm using `pd.read_fwf()` to read in the file. Pandas will guess at the layout (how many columns define a variable), and it got it right this time. If pandas cannot figure it out, you can pass it a column spec. ([docs](https://pandas.pydata.org/docs/reference/api/pandas.read_fwf.html))\n",
    "\n",
    "I'm only keeping the columns I need. The I'm recoding the state variable so I don't have to remember that `NJ = 1`."
   ]
  },
  {
   "cell_type": "code",
   "execution_count": 3,
   "id": "97186084",
   "metadata": {},
   "outputs": [
    {
     "data": {
      "text/html": [
       "<div>\n",
       "<style scoped>\n",
       "    .dataframe tbody tr th:only-of-type {\n",
       "        vertical-align: middle;\n",
       "    }\n",
       "\n",
       "    .dataframe tbody tr th {\n",
       "        vertical-align: top;\n",
       "    }\n",
       "\n",
       "    .dataframe thead th {\n",
       "        text-align: right;\n",
       "    }\n",
       "</style>\n",
       "<table border=\"1\" class=\"dataframe\">\n",
       "  <thead>\n",
       "    <tr style=\"text-align: right;\">\n",
       "      <th></th>\n",
       "      <th>SHEET</th>\n",
       "      <th>STATE</th>\n",
       "      <th>EMPFT</th>\n",
       "      <th>EMPPT</th>\n",
       "      <th>EMPFT2</th>\n",
       "      <th>EMPPT2</th>\n",
       "      <th>NMGRS</th>\n",
       "      <th>NMGRS2</th>\n",
       "      <th>STATUS2</th>\n",
       "      <th>WAGE_ST</th>\n",
       "      <th>WAGE_ST2</th>\n",
       "      <th>CO_OWNED</th>\n",
       "      <th>CHAIN</th>\n",
       "      <th>SOUTHJ</th>\n",
       "      <th>CENTRALJ</th>\n",
       "      <th>NORTHJ</th>\n",
       "      <th>PA1</th>\n",
       "      <th>PA2</th>\n",
       "      <th>SHORE</th>\n",
       "    </tr>\n",
       "  </thead>\n",
       "  <tbody>\n",
       "    <tr>\n",
       "      <th>0</th>\n",
       "      <td>46</td>\n",
       "      <td>PA</td>\n",
       "      <td>30.0</td>\n",
       "      <td>15.0</td>\n",
       "      <td>3.5</td>\n",
       "      <td>35.0</td>\n",
       "      <td>3.0</td>\n",
       "      <td>3.0</td>\n",
       "      <td>1</td>\n",
       "      <td>NaN</td>\n",
       "      <td>4.30</td>\n",
       "      <td>0</td>\n",
       "      <td>1</td>\n",
       "      <td>0</td>\n",
       "      <td>0</td>\n",
       "      <td>0</td>\n",
       "      <td>1</td>\n",
       "      <td>0</td>\n",
       "      <td>0</td>\n",
       "    </tr>\n",
       "    <tr>\n",
       "      <th>1</th>\n",
       "      <td>49</td>\n",
       "      <td>PA</td>\n",
       "      <td>6.5</td>\n",
       "      <td>6.5</td>\n",
       "      <td>0.0</td>\n",
       "      <td>15.0</td>\n",
       "      <td>4.0</td>\n",
       "      <td>4.0</td>\n",
       "      <td>1</td>\n",
       "      <td>NaN</td>\n",
       "      <td>4.45</td>\n",
       "      <td>0</td>\n",
       "      <td>2</td>\n",
       "      <td>0</td>\n",
       "      <td>0</td>\n",
       "      <td>0</td>\n",
       "      <td>1</td>\n",
       "      <td>0</td>\n",
       "      <td>0</td>\n",
       "    </tr>\n",
       "    <tr>\n",
       "      <th>2</th>\n",
       "      <td>506</td>\n",
       "      <td>PA</td>\n",
       "      <td>3.0</td>\n",
       "      <td>7.0</td>\n",
       "      <td>3.0</td>\n",
       "      <td>7.0</td>\n",
       "      <td>2.0</td>\n",
       "      <td>4.0</td>\n",
       "      <td>1</td>\n",
       "      <td>NaN</td>\n",
       "      <td>5.00</td>\n",
       "      <td>1</td>\n",
       "      <td>2</td>\n",
       "      <td>0</td>\n",
       "      <td>0</td>\n",
       "      <td>0</td>\n",
       "      <td>1</td>\n",
       "      <td>0</td>\n",
       "      <td>0</td>\n",
       "    </tr>\n",
       "  </tbody>\n",
       "</table>\n",
       "</div>"
      ],
      "text/plain": [
       "   SHEET STATE  EMPFT  EMPPT  EMPFT2  EMPPT2  NMGRS  NMGRS2  STATUS2  WAGE_ST  \\\n",
       "0     46    PA   30.0   15.0     3.5    35.0    3.0     3.0        1      NaN   \n",
       "1     49    PA    6.5    6.5     0.0    15.0    4.0     4.0        1      NaN   \n",
       "2    506    PA    3.0    7.0     3.0     7.0    2.0     4.0        1      NaN   \n",
       "\n",
       "   WAGE_ST2  CO_OWNED  CHAIN  SOUTHJ  CENTRALJ  NORTHJ  PA1  PA2  SHORE  \n",
       "0      4.30         0      1       0         0       0    1    0      0  \n",
       "1      4.45         0      2       0         0       0    1    0      0  \n",
       "2      5.00         1      2       0         0       0    1    0      0  "
      ]
     },
     "execution_count": 3,
     "metadata": {},
     "output_type": "execute_result"
    }
   ],
   "source": [
    "ck = pd.read_fwf('njmin/public.dat', header=None, na_values='.', names=c)\n",
    "ck = ck[['SHEET', 'STATE', 'EMPFT', 'EMPPT', 'EMPFT2', 'EMPPT2', 'NMGRS', 'NMGRS2', \n",
    "         'STATUS2', 'WAGE_ST', 'WAGE_ST2', 'CO_OWNED', 'CHAIN', \n",
    "         'SOUTHJ', 'CENTRALJ', 'NORTHJ', 'PA1', 'PA2', 'SHORE']]\n",
    "ck['STATE'] = ck['STATE'].replace({1:'NJ', 0:'PA'})\n",
    "\n",
    "ck.head(3)"
   ]
  },
  {
   "cell_type": "markdown",
   "id": "5bb33b79",
   "metadata": {},
   "source": [
    "### Create the full time equivalent variable\n",
    "\n",
    "The total employment variable is full-time employees, plus managers, plus one-half the part-time employees. "
   ]
  },
  {
   "cell_type": "code",
   "execution_count": 4,
   "id": "5c9a6e95",
   "metadata": {},
   "outputs": [],
   "source": [
    "ck['FTE_before'] =   ck['EMPFT'] +  ck['NMGRS'] + 0.5*ck['EMPPT']\n",
    "ck['FTE_after'] = ck['EMPFT2'] + ck['NMGRS2'] + 0.5*ck['EMPPT2']"
   ]
  },
  {
   "cell_type": "markdown",
   "id": "f52c37c8",
   "metadata": {},
   "source": [
    "### CK's Table 3 \n",
    "\n",
    "Here is the northwest corner of table 3. \n",
    "\n",
    "|          | PA | NJ | NJ-PA|\n",
    "-----------|----|----|------|\n",
    "|FTE before| 23.33|20.44 | -2.89| \n",
    "|          |(1.35)|(0.51)|(1.44)|\n",
    "|FTE after| 21.17|21.03 | -0.14| \n",
    "|          |(0.94)|(0.52)|(1.07)|"
   ]
  },
  {
   "cell_type": "code",
   "execution_count": 5,
   "id": "f1d3e134",
   "metadata": {},
   "outputs": [
    {
     "data": {
      "text/html": [
       "<div>\n",
       "<style scoped>\n",
       "    .dataframe tbody tr th:only-of-type {\n",
       "        vertical-align: middle;\n",
       "    }\n",
       "\n",
       "    .dataframe tbody tr th {\n",
       "        vertical-align: top;\n",
       "    }\n",
       "\n",
       "    .dataframe thead th {\n",
       "        text-align: right;\n",
       "    }\n",
       "</style>\n",
       "<table border=\"1\" class=\"dataframe\">\n",
       "  <thead>\n",
       "    <tr style=\"text-align: right;\">\n",
       "      <th></th>\n",
       "      <th>STATE</th>\n",
       "      <th>PA</th>\n",
       "      <th>NJ</th>\n",
       "      <th>NJ-PA</th>\n",
       "    </tr>\n",
       "  </thead>\n",
       "  <tbody>\n",
       "    <tr>\n",
       "      <th rowspan=\"2\" valign=\"top\">FTE_before</th>\n",
       "      <th>mean</th>\n",
       "      <td>23.33</td>\n",
       "      <td>20.41</td>\n",
       "      <td>-2.92</td>\n",
       "    </tr>\n",
       "    <tr>\n",
       "      <th>sem</th>\n",
       "      <td>1.35</td>\n",
       "      <td>0.51</td>\n",
       "      <td>1.44</td>\n",
       "    </tr>\n",
       "    <tr>\n",
       "      <th rowspan=\"2\" valign=\"top\">FTE_after</th>\n",
       "      <th>mean</th>\n",
       "      <td>21.17</td>\n",
       "      <td>21.03</td>\n",
       "      <td>-0.14</td>\n",
       "    </tr>\n",
       "    <tr>\n",
       "      <th>sem</th>\n",
       "      <td>0.94</td>\n",
       "      <td>0.52</td>\n",
       "      <td>1.08</td>\n",
       "    </tr>\n",
       "  </tbody>\n",
       "</table>\n",
       "</div>"
      ],
      "text/plain": [
       "STATE               PA     NJ  NJ-PA\n",
       "FTE_before mean  23.33  20.41  -2.92\n",
       "           sem    1.35   0.51   1.44\n",
       "FTE_after  mean  21.17  21.03  -0.14\n",
       "           sem    0.94   0.52   1.08"
      ]
     },
     "metadata": {},
     "output_type": "display_data"
    }
   ],
   "source": [
    "ck['NJ-PA'] = ck['FTE_before'] - ck['FTE_after']\n",
    "t3 = ck[['STATE', 'FTE_before', 'FTE_after']].groupby('STATE').agg(['mean', 'sem']).transpose()\n",
    "t3 = t3[['PA', 'NJ']]\n",
    "t3['NJ-PA'] = t3['NJ'] - t3['PA']\n",
    "\n",
    "# Fix the standard error of the mean differences\n",
    "t3.loc[('FTE_before', 'sem'), 'NJ-PA'] = (t3.loc[('FTE_before', 'sem'), 'PA']**2 + t3.loc[('FTE_before', 'sem'), 'NJ']**2)**(0.5)\n",
    "t3.loc[('FTE_after', 'sem'),  'NJ-PA'] = (t3.loc[('FTE_after', 'sem'),  'PA']**2 + t3.loc[('FTE_after',  'sem'), 'NJ']**2)**(0.5)\n",
    "\n",
    "with option_context('display.precision', 2):\n",
    "    display(t3)"
   ]
  },
  {
   "cell_type": "markdown",
   "id": "ff6ff560",
   "metadata": {},
   "source": [
    "The difference between the PA and NJ stores actually shrinks after NJ raises its minimum wage. NJ stores are, on average, hiring more people and PA stores are hiring fewer people. \n",
    "\n",
    "Interesting first cut of the data. The next step is to control for some other variables and see if the result holds up. "
   ]
  },
  {
   "cell_type": "markdown",
   "id": "319fb5f9",
   "metadata": {},
   "source": [
    "### CK's Table 4, model 1\n",
    "\n",
    "Here goes the first regression. \n",
    "\n",
    "$$\\Delta E_i = a + b \\text{NJ}_i+\\epsilon_i$$\n",
    "\n",
    "where $\\Delta E_i$ is the change in employment before and after the minimum wage change and NJ is equal to 1 if the store is in New Jersey and 0 otherwise. "
   ]
  },
  {
   "cell_type": "code",
   "execution_count": 6,
   "id": "f41654e3",
   "metadata": {},
   "outputs": [],
   "source": [
    "# I'm trying to follow the sample selection given in the notes of table 4. I have 6 too few stores. Not sure why.\n",
    "rd = ck[(ck['FTE_after'].isna()==False) & (ck['FTE_before'].isna()==False) & (ck['WAGE_ST'].isna()==False) & (ck['WAGE_ST2'].isna()==False) ].copy()\n",
    "\n",
    "rd['Emp_diff'] = rd['FTE_after'] - rd['FTE_before']"
   ]
  },
  {
   "cell_type": "code",
   "execution_count": 7,
   "id": "b7919d52",
   "metadata": {},
   "outputs": [
    {
     "name": "stdout",
     "output_type": "stream",
     "text": [
      "                            OLS Regression Results                            \n",
      "==============================================================================\n",
      "Dep. Variable:               Emp_diff   R-squared:                       0.011\n",
      "Model:                            OLS   Adj. R-squared:                  0.008\n",
      "Method:                 Least Squares   F-statistic:                     3.773\n",
      "Date:                Fri, 12 Apr 2024   Prob (F-statistic):             0.0529\n",
      "Time:                        08:03:49   Log-Likelihood:                -1256.9\n",
      "No. Observations:                 351   AIC:                             2518.\n",
      "Df Residuals:                     349   BIC:                             2526.\n",
      "Df Model:                           1                                         \n",
      "Covariance Type:            nonrobust                                         \n",
      "=============================================================================================================\n",
      "                                                coef    std err          t      P>|t|      [0.025      0.975]\n",
      "-------------------------------------------------------------------------------------------------------------\n",
      "Intercept                                    -1.8788      1.073     -1.752      0.081      -3.988       0.231\n",
      "C(STATE, Treatment(reference='PA'))[T.NJ]     2.3119      1.190      1.942      0.053      -0.029       4.653\n",
      "==============================================================================\n",
      "Omnibus:                       39.407   Durbin-Watson:                   2.128\n",
      "Prob(Omnibus):                  0.000   Jarque-Bera (JB):              103.223\n",
      "Skew:                          -0.527   Prob(JB):                     3.85e-23\n",
      "Kurtosis:                       5.439   Cond. No.                         4.41\n",
      "==============================================================================\n",
      "\n",
      "Notes:\n",
      "[1] Standard Errors assume that the covariance matrix of the errors is correctly specified.\n"
     ]
    }
   ],
   "source": [
    "res1 = smf.ols(\"Emp_diff ~ C(STATE, Treatment(reference='PA'))\", data=rd).fit()\n",
    "ser1 = res1.scale**0.5\n",
    "print(res1.summary())"
   ]
  },
  {
   "cell_type": "markdown",
   "id": "9f37978b",
   "metadata": {},
   "source": [
    "Increasing the minimum wage did not cause employment to fall. That result earned this paper 5k Google Scholar citations. \n",
    "\n",
    "My results are close, but not identical to those in the published paper. I don't have the sample selection correct. I suspect I could run the SAS code and figure it out...\n",
    "\n",
    "## Bonus Practice to Try at Home\n",
    "1. Try some of the other regressions in table 4. For models (iii)&ndash;(v) you will need to create the gap measure. It is defined on page 779.    \n",
    "    You likely won't get the coefficient exactly right&mdash;I haven't been able to match the sample correctly. But your numbers should be in the ball park. \n",
    "2. Once you have estimated a couple models, try putting the results into a table similar to table 4. \n",
    "\n",
    "* `CHAIN` is the control for chain stores, it takes values 1, 2, 3, or 4.\n",
    "* `CO_OWNED` is the control for company ownership (rather than franchise). It takes 0 or 1 as values.\n",
    "* `WAGE_ST` is the wage in the \"before\" period.\n",
    "* `SOUTHJ`, `CENTRALJ`, `NORTHJ`, `PA1`, `PA2`, `SHORE` are the controls for regions. Each takes 0 or 1 as values."
   ]
  },
  {
   "cell_type": "markdown",
   "id": "10fa6c2f",
   "metadata": {},
   "source": [
    "### Model 2"
   ]
  },
  {
   "cell_type": "code",
   "execution_count": 8,
   "id": "f3c9cece",
   "metadata": {},
   "outputs": [
    {
     "name": "stdout",
     "output_type": "stream",
     "text": [
      "                            OLS Regression Results                            \n",
      "==============================================================================\n",
      "Dep. Variable:               Emp_diff   R-squared:                       0.021\n",
      "Model:                            OLS   Adj. R-squared:                  0.007\n",
      "Method:                 Least Squares   F-statistic:                     1.483\n",
      "Date:                Fri, 12 Apr 2024   Prob (F-statistic):              0.195\n",
      "Time:                        08:03:49   Log-Likelihood:                -1255.1\n",
      "No. Observations:                 351   AIC:                             2522.\n",
      "Df Residuals:                     345   BIC:                             2545.\n",
      "Df Model:                           5                                         \n",
      "Covariance Type:            nonrobust                                         \n",
      "=============================================================================================================\n",
      "                                                coef    std err          t      P>|t|      [0.025      0.975]\n",
      "-------------------------------------------------------------------------------------------------------------\n",
      "Intercept                                    -1.4080      1.209     -1.164      0.245      -3.787       0.971\n",
      "C(STATE, Treatment(reference='PA'))[T.NJ]     2.3194      1.197      1.938      0.053      -0.034       4.673\n",
      "C(CHAIN)[T.2]                                 0.1696      1.296      0.131      0.896      -2.380       2.719\n",
      "C(CHAIN)[T.3]                                -2.1435      1.321     -1.623      0.106      -4.741       0.454\n",
      "C(CHAIN)[T.4]                                -0.8225      1.491     -0.552      0.581      -3.754       2.109\n",
      "CO_OWNED                                      0.3514      1.098      0.320      0.749      -1.809       2.512\n",
      "==============================================================================\n",
      "Omnibus:                       42.947   Durbin-Watson:                   2.134\n",
      "Prob(Omnibus):                  0.000   Jarque-Bera (JB):              113.927\n",
      "Skew:                          -0.573   Prob(JB):                     1.82e-25\n",
      "Kurtosis:                       5.545   Cond. No.                         5.75\n",
      "==============================================================================\n",
      "\n",
      "Notes:\n",
      "[1] Standard Errors assume that the covariance matrix of the errors is correctly specified.\n"
     ]
    }
   ],
   "source": [
    "res2 = smf.ols(\"Emp_diff ~ C(STATE, Treatment(reference='PA')) + C(CHAIN) + CO_OWNED\", data=rd).fit()\n",
    "ser2 = res2.scale**0.5\n",
    "print(res2.summary())"
   ]
  },
  {
   "cell_type": "markdown",
   "id": "1a8540c2",
   "metadata": {},
   "source": [
    "### Model 3"
   ]
  },
  {
   "cell_type": "code",
   "execution_count": 9,
   "id": "39b9d655",
   "metadata": {},
   "outputs": [
    {
     "name": "stderr",
     "output_type": "stream",
     "text": [
      "C:\\Users\\local_swanson25\\Temp\\56\\ipykernel_8644\\2767915847.py:2: FutureWarning: Setting an item of incompatible dtype is deprecated and will raise in a future error of pandas. Value '[0.01       0.01       0.01       0.01       0.01       0.01\n",
      " 0.01       0.01       0.01       0.01       0.01       0.01\n",
      " 0.01       0.01       0.01       0.01       0.01       0.01\n",
      " 0.01       0.01       0.01       0.01       0.01       0.01\n",
      " 0.01       0.01       0.01       0.01       0.01       0.01\n",
      " 0.01       0.01       0.01       0.01       0.01       0.01\n",
      " 0.01       0.01       0.01       0.01       0.01       0.12222222\n",
      " 0.06315789 0.18823529 0.06315789 0.12222222 0.15560641 0.18823529\n",
      " 0.18823529 0.15560641 0.12222222 0.09782609 0.12222222 0.15560641\n",
      " 0.18823529 0.18823529 0.13483146 0.16091954 0.12222222 0.06315789\n",
      " 0.12222222 0.12222222 0.02020202 0.12222222 0.18823529 0.12222222\n",
      " 0.18823529 0.12222222 0.18823529 0.18823529 0.12222222 0.06315789\n",
      " 0.18823529 0.18823529 0.18823529 0.12222222 0.12222222 0.18823529\n",
      " 0.18823529 0.18823529 0.18823529 0.18823529 0.18823529 0.18823529\n",
      " 0.18823529 0.18823529 0.06315789 0.06315789 0.14772727 0.09307359\n",
      " 0.18823529 0.18823529 0.18823529 0.18823529 0.18823529 0.06315789\n",
      " 0.06315789 0.18823529 0.18823529 0.06315789 0.12222222 0.18823529\n",
      " 0.18823529 0.12222222 0.12222222 0.12222222 0.06315789 0.09307359\n",
      " 0.18823529 0.12222222 0.06315789 0.18823529 0.05208333 0.12222222\n",
      " 0.08137045 0.03696099 0.12222222 0.12222222 0.06315789 0.06315789\n",
      " 0.18823529 0.18823529 0.06315789 0.04123711 0.06315789 0.09307359\n",
      " 0.18823529 0.18823529 0.12222222 0.12222222 0.09307359 0.12222222\n",
      " 0.06315789 0.06315789 0.03696099 0.12222222 0.18823529 0.16091954\n",
      " 0.18823529 0.12222222 0.18823529 0.18823529 0.18823529 0.06315789\n",
      " 0.09307359 0.18823529 0.12222222 0.12222222 0.12222222 0.10989011\n",
      " 0.09307359 0.12222222 0.18823529 0.18823529 0.16091954 0.18823529\n",
      " 0.18823529 0.09782609 0.18823529 0.06315789 0.06315789 0.18823529\n",
      " 0.12222222 0.12222222 0.18823529 0.06315789 0.08602151 0.18823529\n",
      " 0.06315789 0.18823529 0.12222222 0.18823529 0.12222222 0.06315789\n",
      " 0.15560641 0.12222222 0.03696099 0.18823529 0.18823529 0.18823529\n",
      " 0.18823529 0.18823529 0.13483146 0.09307359 0.18823529 0.18823529\n",
      " 0.18823529 0.12222222 0.06315789 0.06315789 0.12222222 0.06315789\n",
      " 0.18823529 0.06315789 0.10989011 0.05208333 0.18823529 0.16091954\n",
      " 0.12222222 0.15034169 0.18823529 0.18823529 0.18823529 0.09307359\n",
      " 0.09307359 0.18823529 0.06315789 0.09307359 0.06315789 0.12222222\n",
      " 0.18823529 0.12222222 0.03696099 0.18823529 0.18823529 0.09307359\n",
      " 0.06315789 0.06315789 0.18823529 0.18823529 0.18823529 0.18823529\n",
      " 0.18823529 0.18823529 0.12222222 0.18823529 0.04123711 0.12222222\n",
      " 0.18823529 0.09307359 0.12222222 0.12222222 0.18823529 0.18823529\n",
      " 0.18823529 0.09307359 0.03696099 0.18823529 0.06315789 0.03696099\n",
      " 0.12222222 0.18823529 0.06315789 0.16898148 0.18823529 0.12222222\n",
      " 0.12222222 0.18823529 0.18823529 0.18823529 0.18823529 0.18823529\n",
      " 0.18823529 0.09307359 0.06315789 0.02020202 0.06315789 0.18823529\n",
      " 0.06315789 0.09307359]' has dtype incompatible with int64, please explicitly cast to a compatible dtype first.\n",
      "  rd.loc[ (rd['WAGE_ST']<5.05) & (rd['STATE']=='NJ'), 'gap'] = (5.05-rd['WAGE_ST'])/rd['WAGE_ST']\n"
     ]
    }
   ],
   "source": [
    "rd['gap'] = 0\n",
    "rd.loc[ (rd['WAGE_ST']<5.05) & (rd['STATE']=='NJ'), 'gap'] = (5.05-rd['WAGE_ST'])/rd['WAGE_ST']"
   ]
  },
  {
   "cell_type": "code",
   "execution_count": 10,
   "id": "32cffc0e",
   "metadata": {},
   "outputs": [
    {
     "name": "stdout",
     "output_type": "stream",
     "text": [
      "                            OLS Regression Results                            \n",
      "==============================================================================\n",
      "Dep. Variable:               Emp_diff   R-squared:                       0.021\n",
      "Model:                            OLS   Adj. R-squared:                  0.019\n",
      "Method:                 Least Squares   F-statistic:                     7.638\n",
      "Date:                Fri, 12 Apr 2024   Prob (F-statistic):            0.00602\n",
      "Time:                        08:03:49   Log-Likelihood:                -1255.0\n",
      "No. Observations:                 351   AIC:                             2514.\n",
      "Df Residuals:                     349   BIC:                             2522.\n",
      "Df Model:                           1                                         \n",
      "Covariance Type:            nonrobust                                         \n",
      "==============================================================================\n",
      "                 coef    std err          t      P>|t|      [0.025      0.975]\n",
      "------------------------------------------------------------------------------\n",
      "Intercept     -1.4309      0.694     -2.062      0.040      -2.796      -0.066\n",
      "gap           16.8358      6.092      2.764      0.006       4.854      28.817\n",
      "==============================================================================\n",
      "Omnibus:                       39.631   Durbin-Watson:                   2.149\n",
      "Prob(Omnibus):                  0.000   Jarque-Bera (JB):              104.133\n",
      "Skew:                          -0.529   Prob(JB):                     2.44e-23\n",
      "Kurtosis:                       5.450   Cond. No.                         13.3\n",
      "==============================================================================\n",
      "\n",
      "Notes:\n",
      "[1] Standard Errors assume that the covariance matrix of the errors is correctly specified.\n"
     ]
    }
   ],
   "source": [
    "res3 = smf.ols(\"Emp_diff ~ gap\", data=rd).fit()\n",
    "ser3 = res3.scale**0.5\n",
    "print(res3.summary())"
   ]
  },
  {
   "cell_type": "markdown",
   "id": "db5e2b08",
   "metadata": {},
   "source": [
    "### Model 4"
   ]
  },
  {
   "cell_type": "code",
   "execution_count": 11,
   "id": "6ff661cf",
   "metadata": {},
   "outputs": [
    {
     "name": "stdout",
     "output_type": "stream",
     "text": [
      "                            OLS Regression Results                            \n",
      "==============================================================================\n",
      "Dep. Variable:               Emp_diff   R-squared:                       0.029\n",
      "Model:                            OLS   Adj. R-squared:                  0.015\n",
      "Method:                 Least Squares   F-statistic:                     2.065\n",
      "Date:                Fri, 12 Apr 2024   Prob (F-statistic):             0.0693\n",
      "Time:                        08:03:49   Log-Likelihood:                -1253.6\n",
      "No. Observations:                 351   AIC:                             2519.\n",
      "Df Residuals:                     345   BIC:                             2542.\n",
      "Df Model:                           5                                         \n",
      "Covariance Type:            nonrobust                                         \n",
      "=================================================================================\n",
      "                    coef    std err          t      P>|t|      [0.025      0.975]\n",
      "---------------------------------------------------------------------------------\n",
      "Intercept        -1.1310      0.959     -1.180      0.239      -3.016       0.755\n",
      "C(CHAIN)[T.2]     0.3326      1.287      0.258      0.796      -2.199       2.864\n",
      "C(CHAIN)[T.3]    -1.7904      1.317     -1.360      0.175      -4.380       0.799\n",
      "C(CHAIN)[T.4]    -0.2497      1.505     -0.166      0.868      -3.211       2.711\n",
      "gap              16.0698      6.238      2.576      0.010       3.800      28.340\n",
      "CO_OWNED          0.4834      1.096      0.441      0.660      -1.673       2.640\n",
      "==============================================================================\n",
      "Omnibus:                       42.491   Durbin-Watson:                   2.150\n",
      "Prob(Omnibus):                  0.000   Jarque-Bera (JB):              112.637\n",
      "Skew:                          -0.567   Prob(JB):                     3.48e-25\n",
      "Kurtosis:                       5.533   Cond. No.                         15.5\n",
      "==============================================================================\n",
      "\n",
      "Notes:\n",
      "[1] Standard Errors assume that the covariance matrix of the errors is correctly specified.\n"
     ]
    }
   ],
   "source": [
    "res4 = smf.ols(\"Emp_diff ~ gap + C(CHAIN) + CO_OWNED\", data=rd).fit()\n",
    "ser4 = res4.scale**0.5\n",
    "print(res4.summary())"
   ]
  },
  {
   "cell_type": "markdown",
   "id": "c7a6b487",
   "metadata": {},
   "source": [
    "### Model 5"
   ]
  },
  {
   "cell_type": "code",
   "execution_count": 12,
   "id": "8d94c866",
   "metadata": {},
   "outputs": [
    {
     "name": "stdout",
     "output_type": "stream",
     "text": [
      "                            OLS Regression Results                            \n",
      "==============================================================================\n",
      "Dep. Variable:               Emp_diff   R-squared:                       0.050\n",
      "Model:                            OLS   Adj. R-squared:                  0.022\n",
      "Method:                 Least Squares   F-statistic:                     1.786\n",
      "Date:                Fri, 12 Apr 2024   Prob (F-statistic):             0.0619\n",
      "Time:                        08:03:49   Log-Likelihood:                -1249.8\n",
      "No. Observations:                 351   AIC:                             2522.\n",
      "Df Residuals:                     340   BIC:                             2564.\n",
      "Df Model:                          10                                         \n",
      "Covariance Type:            nonrobust                                         \n",
      "=================================================================================\n",
      "                    coef    std err          t      P>|t|      [0.025      0.975]\n",
      "---------------------------------------------------------------------------------\n",
      "Intercept        -0.8557      0.828     -1.034      0.302      -2.484       0.772\n",
      "C(CHAIN)[T.2]     0.4422      1.303      0.339      0.734      -2.120       3.005\n",
      "C(CHAIN)[T.3]    -1.9907      1.332     -1.495      0.136      -4.610       0.629\n",
      "C(CHAIN)[T.4]     0.1452      1.520      0.096      0.924      -2.844       3.135\n",
      "gap              13.0286      7.431      1.753      0.080      -1.587      27.644\n",
      "CO_OWNED          0.1365      1.114      0.123      0.902      -2.054       2.327\n",
      "SOUTHJ            1.0201      1.072      0.952      0.342      -1.088       3.128\n",
      "CENTRALJ         -0.4718      1.168     -0.404      0.686      -2.768       1.825\n",
      "NORTHJ            0.6560      0.827      0.793      0.428      -0.971       2.283\n",
      "PA1              -3.1320      1.496     -2.093      0.037      -6.075      -0.189\n",
      "PA2               1.0719      1.312      0.817      0.415      -1.510       3.654\n",
      "SHORE            -2.6303      1.692     -1.555      0.121      -5.958       0.698\n",
      "==============================================================================\n",
      "Omnibus:                       43.744   Durbin-Watson:                   2.180\n",
      "Prob(Omnibus):                  0.000   Jarque-Bera (JB):              115.730\n",
      "Skew:                          -0.586   Prob(JB):                     7.41e-26\n",
      "Kurtosis:                       5.558   Cond. No.                     7.13e+15\n",
      "==============================================================================\n",
      "\n",
      "Notes:\n",
      "[1] Standard Errors assume that the covariance matrix of the errors is correctly specified.\n",
      "[2] The smallest eigenvalue is 1.1e-29. This might indicate that there are\n",
      "strong multicollinearity problems or that the design matrix is singular.\n"
     ]
    }
   ],
   "source": [
    "res5 = smf.ols(\"Emp_diff ~ gap + C(CHAIN) + CO_OWNED + SOUTHJ+CENTRALJ+NORTHJ+PA1+PA2+SHORE\", data=rd).fit()\n",
    "ser5 = res5.scale**0.5\n",
    "print(res5.summary())"
   ]
  },
  {
   "cell_type": "markdown",
   "id": "a21b2947",
   "metadata": {},
   "source": [
    "### Putting the coefficients into one table"
   ]
  },
  {
   "cell_type": "code",
   "execution_count": 13,
   "id": "cbf4fc6b",
   "metadata": {},
   "outputs": [
    {
     "data": {
      "text/html": [
       "<style type=\"text/css\">\n",
       "</style>\n",
       "<table id=\"T_5425b\">\n",
       "  <thead>\n",
       "    <tr>\n",
       "      <th class=\"blank level0\" >&nbsp;</th>\n",
       "      <th id=\"T_5425b_level0_col0\" class=\"col_heading level0 col0\" >(i)</th>\n",
       "      <th id=\"T_5425b_level0_col1\" class=\"col_heading level0 col1\" >(ii)</th>\n",
       "      <th id=\"T_5425b_level0_col2\" class=\"col_heading level0 col2\" >(iii)</th>\n",
       "      <th id=\"T_5425b_level0_col3\" class=\"col_heading level0 col3\" >(iv)</th>\n",
       "      <th id=\"T_5425b_level0_col4\" class=\"col_heading level0 col4\" >(v)</th>\n",
       "    </tr>\n",
       "  </thead>\n",
       "  <tbody>\n",
       "    <tr>\n",
       "      <th id=\"T_5425b_level0_row0\" class=\"row_heading level0 row0\" >New Jersey dummy</th>\n",
       "      <td id=\"T_5425b_row0_col0\" class=\"data row0 col0\" >2.31</td>\n",
       "      <td id=\"T_5425b_row0_col1\" class=\"data row0 col1\" >2.32</td>\n",
       "      <td id=\"T_5425b_row0_col2\" class=\"data row0 col2\" >nan</td>\n",
       "      <td id=\"T_5425b_row0_col3\" class=\"data row0 col3\" >nan</td>\n",
       "      <td id=\"T_5425b_row0_col4\" class=\"data row0 col4\" >nan</td>\n",
       "    </tr>\n",
       "    <tr>\n",
       "      <th id=\"T_5425b_level0_row1\" class=\"row_heading level0 row1\" >Initial wage gap</th>\n",
       "      <td id=\"T_5425b_row1_col0\" class=\"data row1 col0\" >nan</td>\n",
       "      <td id=\"T_5425b_row1_col1\" class=\"data row1 col1\" >nan</td>\n",
       "      <td id=\"T_5425b_row1_col2\" class=\"data row1 col2\" >16.84</td>\n",
       "      <td id=\"T_5425b_row1_col3\" class=\"data row1 col3\" >16.07</td>\n",
       "      <td id=\"T_5425b_row1_col4\" class=\"data row1 col4\" >13.03</td>\n",
       "    </tr>\n",
       "    <tr>\n",
       "      <th id=\"T_5425b_level0_row2\" class=\"row_heading level0 row2\" >Controls for chain and ownership</th>\n",
       "      <td id=\"T_5425b_row2_col0\" class=\"data row2 col0\" >no</td>\n",
       "      <td id=\"T_5425b_row2_col1\" class=\"data row2 col1\" >yes</td>\n",
       "      <td id=\"T_5425b_row2_col2\" class=\"data row2 col2\" >no</td>\n",
       "      <td id=\"T_5425b_row2_col3\" class=\"data row2 col3\" >yes</td>\n",
       "      <td id=\"T_5425b_row2_col4\" class=\"data row2 col4\" >yes</td>\n",
       "    </tr>\n",
       "    <tr>\n",
       "      <th id=\"T_5425b_level0_row3\" class=\"row_heading level0 row3\" >Controls for region</th>\n",
       "      <td id=\"T_5425b_row3_col0\" class=\"data row3 col0\" >no</td>\n",
       "      <td id=\"T_5425b_row3_col1\" class=\"data row3 col1\" >no</td>\n",
       "      <td id=\"T_5425b_row3_col2\" class=\"data row3 col2\" >no</td>\n",
       "      <td id=\"T_5425b_row3_col3\" class=\"data row3 col3\" >no</td>\n",
       "      <td id=\"T_5425b_row3_col4\" class=\"data row3 col4\" >yes</td>\n",
       "    </tr>\n",
       "  </tbody>\n",
       "</table>\n"
      ],
      "text/plain": [
       "<pandas.io.formats.style.Styler at 0x1c483d7dad0>"
      ]
     },
     "execution_count": 13,
     "metadata": {},
     "output_type": "execute_result"
    }
   ],
   "source": [
    "r1 = [ r.params.loc[\"C(STATE, Treatment(reference='PA'))[T.NJ]\"] for r in [res1, res2]] + [np.nan]*3\n",
    "r2 = [np.nan]*2 + [ r.params.loc[\"gap\"] for r in [res3, res4, res5]] \n",
    "r3 = ['no', 'yes', 'no', 'yes', 'yes']\n",
    "r4 = ['no']*4+['yes']\n",
    "\n",
    "res_table = pd.DataFrame([r1, r2, r3, r4], \n",
    "             index=['New Jersey dummy', 'Initial wage gap', 'Controls for chain and ownership', 'Controls for region'],\n",
    "             columns = ['(i)', '(ii)', '(iii)', '(iv)', '(v)'])\n",
    "\n",
    "res_table.style.format(precision=2)"
   ]
  }
 ],
 "metadata": {
  "kernelspec": {
   "display_name": "Python 3 (ipykernel)",
   "language": "python",
   "name": "python3"
  },
  "language_info": {
   "codemirror_mode": {
    "name": "ipython",
    "version": 3
   },
   "file_extension": ".py",
   "mimetype": "text/x-python",
   "name": "python",
   "nbconvert_exporter": "python",
   "pygments_lexer": "ipython3",
   "version": "3.11.5"
  },
  "varInspector": {
   "cols": {
    "lenName": 16,
    "lenType": 16,
    "lenVar": 40
   },
   "kernels_config": {
    "python": {
     "delete_cmd_postfix": "",
     "delete_cmd_prefix": "del ",
     "library": "var_list.py",
     "varRefreshCmd": "print(var_dic_list())"
    },
    "r": {
     "delete_cmd_postfix": ") ",
     "delete_cmd_prefix": "rm(",
     "library": "var_list.r",
     "varRefreshCmd": "cat(var_dic_list()) "
    }
   },
   "types_to_exclude": [
    "module",
    "function",
    "builtin_function_or_method",
    "instance",
    "_Feature"
   ],
   "window_display": false
  }
 },
 "nbformat": 4,
 "nbformat_minor": 5
}
