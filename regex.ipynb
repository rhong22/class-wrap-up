{
 "cells": [
  {
   "cell_type": "markdown",
   "metadata": {},
   "source": [
    "# Advanced string search\n",
    "\n",
    "files needed = ('callcenterdatacurrent.csv')\n",
    "\n",
    "We have seen some basic methods for searching text using `str.contain()` or `str.find()` and passing strings to match. That works great when we know what we are searching for and the text we are searching has some order to it.  In this notebook, we introduce *regular expressions.* [Regular expressions](https://en.wikipedia.org/wiki/Regular_expression) (regex) use a special syntax that allows for powerful searching. For example, a regular expression could find the first four instances of numbers within a string (regardless of their values) or search for two capitalized letters followed by a comma. \n",
    "\n",
    "Regular expressions are not unique to pandas or python. They were developed as part of the theoretical basis for computing languages and are quite interesting in their own right. They can also be a bit confusing. \n",
    "\n",
    "Our goal is to learn a few regular expressions that might be helpful in the context of processing text data for analysis. We will only scratch the surface here. If you are interested in learning more, the internet is full of great tutorials.  [regex101.com](https://regex101.com/) is a fantastic sandbox for practicing.  "
   ]
  },
  {
   "cell_type": "markdown",
   "metadata": {},
   "source": [
    "## Milwaukee call center data\n",
    "\n",
    "The City of Milwaukee [open data portal](https://data.milwaukee.gov/) includes data sets on many aspects of the city. Today we will work with some of the [call center data](https://data.milwaukee.gov/dataset/callcenterdatacurrent). These data are incidents handled by the city's call center and cover things like missed garbage pick up, litter complaints, and burned out street lights. \n",
    "\n",
    "We will extract the calls regarding fire damage and compute some statistics about the cost of fires in the city. The estimates of fire damage are embedded in the text description and will need to be extracted. \n",
    "\n",
    "I've posted the data that I downloaded from the portal so that we are all working from the same dataset but you could download the freshest data, too. Your results would then be a bit different than mine."
   ]
  },
  {
   "cell_type": "code",
   "execution_count": 1,
   "metadata": {},
   "outputs": [],
   "source": [
    "import pandas as pd\n",
    "import matplotlib.pyplot as plt"
   ]
  },
  {
   "cell_type": "code",
   "execution_count": 2,
   "metadata": {},
   "outputs": [],
   "source": [
    "# We can specify that multiple columns are dates\n",
    "calls = pd.read_csv('callcenterdatacurrent.csv', parse_dates=[0, 3])"
   ]
  },
  {
   "cell_type": "code",
   "execution_count": null,
   "metadata": {},
   "outputs": [],
   "source": [
    "calls.sample(5)"
   ]
  },
  {
   "cell_type": "markdown",
   "metadata": {},
   "source": [
    "Those column names could use some work. "
   ]
  },
  {
   "cell_type": "code",
   "execution_count": 4,
   "metadata": {},
   "outputs": [],
   "source": [
    "calls.columns = ['created', 'address', 'title', 'closed', 'desc']"
   ]
  },
  {
   "cell_type": "markdown",
   "metadata": {},
   "source": [
    "What time span does the data cover? Since we made the 'created' and 'closed' columns datetime, we can use `.min()` and `.max()` to find out."
   ]
  },
  {
   "cell_type": "code",
   "execution_count": 5,
   "metadata": {},
   "outputs": [
    {
     "name": "stdout",
     "output_type": "stream",
     "text": [
      "first call: 2020-01-01 01:22:53\n",
      "last call: 2020-10-13 00:00:00\n"
     ]
    }
   ],
   "source": [
    "print('first call: {}'.format(calls['created'].min()))\n",
    "print('last call: {}'.format(calls['created'].max()))"
   ]
  },
  {
   "cell_type": "markdown",
   "metadata": {},
   "source": [
    "The fire damage calls have the title 'Fire Damage.'"
   ]
  },
  {
   "cell_type": "code",
   "execution_count": 6,
   "metadata": {},
   "outputs": [],
   "source": [
    "fire = calls[calls['title']=='Fire Damage']"
   ]
  },
  {
   "cell_type": "code",
   "execution_count": null,
   "metadata": {},
   "outputs": [],
   "source": [
    "fire.shape"
   ]
  },
  {
   "cell_type": "code",
   "execution_count": null,
   "metadata": {},
   "outputs": [],
   "source": [
    "fire.head(20)"
   ]
  },
  {
   "cell_type": "markdown",
   "metadata": {},
   "source": [
    "We can now see that there are two damage estimates reports. The first is the damage to the building. The second is the damage to the contents of the building. Some things that might cause difficulties:\n",
    "\n",
    "1. 'bldg' but also 'bldg.'\n",
    "2. There are not always 'cont loss' entries\n",
    "3. There may be spelling mistakes\n",
    "4. There maybe inconsistent use of dollar signs or commas\n",
    "\n",
    "Ugh. There is a reason why people who can do this stuff are paid well. "
   ]
  },
  {
   "cell_type": "markdown",
   "metadata": {},
   "source": [
    "## Regular expressions\n",
    "\n",
    "What follows is a simple overview of regex and some examples to help us understand how they work. You should read through the `re` package documentation [HOWTO](https://docs.python.org/3/howto/regex.html#regex-howto) (up to \"The Backslash Plague\") before proceeding. \n",
    "\n",
    "We split the set of characters into two parts: metacharacters and everything else. Metacharacters have special meanings. The metacharacters are \n",
    "```\n",
    ". ^ $ *  + ? { } [ ] \\ | ( )\n",
    "```\n",
    "\n",
    "We will only cover a few of the metacharacters in this notebook. \n",
    "\n",
    "If we were working in python (and not pandas) we would use the [re](https://docs.python.org/3/library/re.html) package. We will use pandas methods such as `.findall()` and `.extract()` with regular expressions&mdash;pandas already knows how to interpret regular expressions. Many of the string methods in pandas accept either a string or a regex. \n",
    "\n",
    "\n",
    "Let's take a look at the first text element."
   ]
  },
  {
   "cell_type": "code",
   "execution_count": 7,
   "metadata": {},
   "outputs": [
    {
     "data": {
      "text/plain": [
       "'bldg loss $14,540.00\\ncont loss $29,990.00\\ncause-under investigation\\nremarks-small interior fire'"
      ]
     },
     "execution_count": 7,
     "metadata": {},
     "output_type": "execute_result"
    }
   ],
   "source": [
    "# Compare this to the jupyter nb output table above. The nb had problems with formatting. \n",
    "\n",
    "fire.loc[71, 'desc']"
   ]
  },
  {
   "cell_type": "markdown",
   "metadata": {},
   "source": [
    "### Passing regex to pandas\n",
    "\n",
    "We use the *raw string notation* which means we do not need to worry about things like \\ being interpreted as a special character. Raw strings take the form r'some text', so the only difference between writing a raw string and a regular string is the 'r' in front. \n",
    "\n",
    "We put our expression(s) in parentheses. \n",
    "\n",
    "For example, if I want to find the word 'loss' I write \n",
    "\n",
    "```\n",
    "r'(loss)'\n",
    "```\n",
    "\n",
    "The `r` and apostrophes are for the raw string, the `()` encapsulate the regex, and the regex itself is `loss`. "
   ]
  },
  {
   "cell_type": "markdown",
   "metadata": {},
   "source": [
    "### Matching characters\n",
    "\n",
    "Extract  occurrences of 'loss'. \n",
    "\n",
    "`.findall()` will do this for the entire column. I am just going to print out a few."
   ]
  },
  {
   "cell_type": "code",
   "execution_count": 8,
   "metadata": {},
   "outputs": [
    {
     "data": {
      "text/plain": [
       "71      [loss, loss]\n",
       "251     [loss, loss]\n",
       "539     [loss, loss]\n",
       "631     [loss, loss]\n",
       "758     [loss, loss]\n",
       "2684          [loss]\n",
       "2685              []\n",
       "Name: desc, dtype: object"
      ]
     },
     "execution_count": 8,
     "metadata": {},
     "output_type": "execute_result"
    }
   ],
   "source": [
    "fire['desc'].str.findall(r'(loss)').head(7)"
   ]
  },
  {
   "cell_type": "markdown",
   "metadata": {},
   "source": [
    "We are given a Series with the extracted text in a list. This is a Series where each element of a column is a list. Returning a list makes is easy to have rows with different numbers of occurrences.  \n",
    "\n",
    "What happens if the extract fails?"
   ]
  },
  {
   "cell_type": "code",
   "execution_count": 9,
   "metadata": {},
   "outputs": [
    {
     "data": {
      "text/plain": [
       "71    []\n",
       "Name: desc, dtype: object"
      ]
     },
     "execution_count": 9,
     "metadata": {},
     "output_type": "execute_result"
    }
   ],
   "source": [
    "fire['desc'].str.findall(r'(Bucky)').head(1)"
   ]
  },
  {
   "cell_type": "markdown",
   "metadata": {},
   "source": [
    "### Character classes\n",
    "\n",
    "We use `[]` to specify a set or class of characters to match. Suppose I wanted a `a, b,` or `c`."
   ]
  },
  {
   "cell_type": "code",
   "execution_count": 10,
   "metadata": {},
   "outputs": [
    {
     "data": {
      "text/plain": [
       "71    [b, c, c, a, a, a, a]\n",
       "Name: desc, dtype: object"
      ]
     },
     "execution_count": 10,
     "metadata": {},
     "output_type": "execute_result"
    }
   ],
   "source": [
    "# 'bldg loss $14,540.00\\ncont loss $29,990.00\\ncause-under investigation\\nremarks-small interior fire'\n",
    "\n",
    "fire['desc'].str.findall(r'([abc])').head(1)"
   ]
  },
  {
   "cell_type": "markdown",
   "metadata": {},
   "source": [
    "We can also specify ranges of letter or numbers."
   ]
  },
  {
   "cell_type": "code",
   "execution_count": 11,
   "metadata": {},
   "outputs": [
    {
     "data": {
      "text/plain": [
       "71    [b, c, c, a, a, a, a]\n",
       "Name: desc, dtype: object"
      ]
     },
     "execution_count": 11,
     "metadata": {},
     "output_type": "execute_result"
    }
   ],
   "source": [
    "fire['desc'].str.findall(r'([a-c])').head(1)"
   ]
  },
  {
   "cell_type": "markdown",
   "metadata": {},
   "source": [
    "There are some special pre-defined sequences that are used often.\n",
    "\n",
    "* `\\w` any alphanumeric character: equivalent to `[a-zA-Z0-9_]`\n",
    "* `\\d` any numeric digit: equivalent to `[0-9_]`\n",
    "\n",
    "the complements are \n",
    "* `\\W` anything but alphanumeric character: equivalent to `[^a-zA-Z0-9_]`\n",
    "* `\\D` anything but numeric digits: equivalent to `[^0-9_]`\n",
    "\n",
    "The `^` character is the complement operator. "
   ]
  },
  {
   "cell_type": "code",
   "execution_count": 12,
   "metadata": {},
   "outputs": [
    {
     "data": {
      "text/plain": [
       "71    [b, l, d, g, l, o, s, s, 1, 4, 5, 4, 0, 0, 0, ...\n",
       "Name: desc, dtype: object"
      ]
     },
     "execution_count": 12,
     "metadata": {},
     "output_type": "execute_result"
    }
   ],
   "source": [
    "# 'bldg loss $14,540.00\\ncont loss $29,990.00\\ncause-under investigation\\nremarks-small interior fire'\n",
    "\n",
    "fire['desc'].str.findall(r'(\\w)').head(1)"
   ]
  },
  {
   "cell_type": "code",
   "execution_count": 13,
   "metadata": {},
   "outputs": [
    {
     "data": {
      "text/plain": [
       "71    [1, 4, 5, 4, 0, 0, 0, 2, 9, 9, 9, 0, 0, 0]\n",
       "Name: desc, dtype: object"
      ]
     },
     "execution_count": 13,
     "metadata": {},
     "output_type": "execute_result"
    }
   ],
   "source": [
    "fire['desc'].str.findall(r'(\\d)').head(1)"
   ]
  },
  {
   "cell_type": "markdown",
   "metadata": {},
   "source": [
    "### Repeating characters\n",
    "\n",
    "* The `*` means look for the preceding character(s) **zero** or more times  \n",
    "* The `+` means look for the preceding character(s) **one** or more times\n",
    "\n",
    "The `*` means that those characters may show up many times or not at all. The `+` means that the characters have to show up at least once. "
   ]
  },
  {
   "cell_type": "code",
   "execution_count": 14,
   "metadata": {},
   "outputs": [
    {
     "name": "stdout",
     "output_type": "stream",
     "text": [
      "71    [, , , , , , , , , , , 14, , 540, , 00, , , , ...\n",
      "Name: desc, dtype: object\n",
      "71    [14, 540, 00, 29, 990, 00]\n",
      "Name: desc, dtype: object\n"
     ]
    }
   ],
   "source": [
    "# 'bldg loss $14,540.00\\ncont loss $29,990.00\\ncause-under investigation\\nremarks-small interior fire'\n",
    "\n",
    "print(fire['desc'].str.findall(r'(\\d*)').head(1))\n",
    "print(fire['desc'].str.findall(r'(\\d+)').head(1))"
   ]
  },
  {
   "cell_type": "markdown",
   "metadata": {},
   "source": [
    "Notice the difference between `*` and `+`. \n",
    "\n",
    "* The `*` expression returns many blank \"hits.\" These are the characters leading up to the first `1`. Each one of those characters is not a number, but that is still considered a \"hit\" because zero decimal characters is considered a match. \n",
    "\n",
    "* The `+` expression returns only the clumps of numbers, since characters with zero numbers are excluded. Each clump stops when it hits a nonnumeral: the `,`, the `.`, and the `\\`."
   ]
  },
  {
   "cell_type": "markdown",
   "metadata": {},
   "source": [
    "## Fire damage\n",
    "\n",
    "We have just scratched the surface of regex and you might still feel a bit uncertain about how they work. That's okay&mdash;so does everyone else. Try searching for 'regex' on stackexchange and see how many questions pop up. I find sites like [https://regex101.com/](https://regex101.com/) very useful. You can enter a regex and a test string and it will help you see all the matches. \n",
    "\n",
    "Let's use regex to extract the damages from our data. "
   ]
  },
  {
   "cell_type": "code",
   "execution_count": 15,
   "metadata": {},
   "outputs": [
    {
     "data": {
      "text/plain": [
       "71       [14,540.00, 29,990.00]\n",
       "251    [193,449.94, 107,886.20]\n",
       "539                  [3,720.87]\n",
       "631       [79,453.71, 9,846.89]\n",
       "758        [2,586.00, 4,808.00]\n",
       "Name: desc, dtype: object"
      ]
     },
     "execution_count": 15,
     "metadata": {},
     "output_type": "execute_result"
    }
   ],
   "source": [
    "fire['desc'].str.findall(r'(\\d+,\\d+.\\d+)').head(5)"
   ]
  },
  {
   "cell_type": "code",
   "execution_count": 16,
   "metadata": {},
   "outputs": [
    {
     "data": {
      "text/plain": [
       "'bldg loss $14,540.00\\ncont loss $29,990.00\\ncause-under investigation\\nremarks-small interior fire'"
      ]
     },
     "execution_count": 16,
     "metadata": {},
     "output_type": "execute_result"
    }
   ],
   "source": [
    "fire.loc[71,'desc']"
   ]
  },
  {
   "cell_type": "code",
   "execution_count": 17,
   "metadata": {},
   "outputs": [
    {
     "data": {
      "text/plain": [
       "'bldg. loss $3,720.87\\ncont loss $1383.41\\ncause-under investigation'"
      ]
     },
     "execution_count": 17,
     "metadata": {},
     "output_type": "execute_result"
    }
   ],
   "source": [
    "fire.loc[539,'desc']"
   ]
  },
  {
   "cell_type": "markdown",
   "metadata": {},
   "source": [
    "I'm looking for substrings of the form `y,xxx.zz` BUT, \n",
    "\n",
    "* the `y` variable may have 1, 2, or 3 digits or not none at all\n",
    "* the `x` variable may have 1, 2, or 3 digits\n",
    "\n",
    "My regex is \n",
    "\n",
    "```python\n",
    "'\\d+,\\d+.\\d+'\n",
    "```\n",
    "\n",
    "This is looking for at least one number and then all other numbers up to the `,` then more numbers up to the `.` and then the rest of the numbers. The `+` ensures that I am only getting numbers but is general enough to capture both `14` and `193`. \n",
    "\n",
    "Note that this approach could be troublesome if there are other numbers in the text, such as a phone number. We need to always check our results to see if we need to further clean the data. [Each dataset is unhappy in its own way.](https://www.goodreads.com/quotes/7142-all-happy-families-are-alike-each-unhappy-family-is-unhappy) \n",
    "\n",
    "Did we get everything? Nope. Look at index 539. There is only one entry. The contents loss entry does not have a comma in it so it is not being found. Let's fix this. "
   ]
  },
  {
   "cell_type": "markdown",
   "metadata": {},
   "source": [
    "### Optional characters\n",
    "\n",
    "We use the `?` character to say that the preceding character or class is optional. Let's make the comma optional. "
   ]
  },
  {
   "cell_type": "code",
   "execution_count": null,
   "metadata": {},
   "outputs": [],
   "source": [
    "fire['desc'].str.findall(r'(\\d+,?\\d+.\\d+)').head(8)"
   ]
  },
  {
   "cell_type": "markdown",
   "metadata": {},
   "source": [
    "We now have caught the contents damage for index 539. "
   ]
  },
  {
   "cell_type": "code",
   "execution_count": null,
   "metadata": {},
   "outputs": [],
   "source": [
    "fire.loc[2684,'desc']"
   ]
  },
  {
   "cell_type": "markdown",
   "metadata": {},
   "source": [
    "## Top Hat Practice Exercise\n",
    "\n",
    "A problem remains: In index 2684, for example, we have only one entry. Here is the entry: \n",
    "\n",
    "```python\n",
    "'bldg. loss $6,503.00\\ncause-under investigation'\n",
    "```\n",
    "\n",
    "There is no 'contents damage' reported. How would we know from looking at our results that the 6,503.00 is the building damage entry? Perhaps there was not a building damage entry but only a contents damage entry?\n",
    "\n",
    "1. Modify the `findall()` regex statement we have been using to return the text immediately before the number. This way, we will know which kind of damage is being reported. The output for 2684 would be:\n",
    "\n",
    "```python \n",
    "'bldg. loss $6,503.00'\n",
    "```\n",
    "\n",
    "This way, we know that we are finding the building damage report.\n",
    "\n",
    "Try something like: \n",
    "\n",
    "```python\n",
    ".str.findall(r'(bldg. loss \\$?\\d+,?\\d+.\\d+)')\n",
    "```\n",
    "\n",
    "Key thing to note: `$` is a regular expression 'meta-character', so to treat it like a part of the string (as we want to do here), we have to escape it first using a backslash.\n",
    "\n",
    "How many rows return an empty list?"
   ]
  },
  {
   "cell_type": "markdown",
   "metadata": {},
   "source": [
    "2. Some of the row returning no values are errors. The problem is that some do not have `bldg.`, but have `bldg`.\n",
    "\n",
    "Use the `?` to make the `.` optional and rerun your search. \n",
    "\n",
    "I found 17 observations that do not have building damage reported. "
   ]
  },
  {
   "cell_type": "markdown",
   "metadata": {},
   "source": [
    "3. Use a statement similar to that in part 2 to extract strings of the form\n",
    "\n",
    "```python \n",
    "'cont loss $29,990.00'\n",
    "```\n",
    "\n",
    "You probably need to deal with inconsistent punctuation and notation. Try manually checking the entries that do not return a value. I found 27 observations that do not have contents damage reported. "
   ]
  },
  {
   "cell_type": "markdown",
   "metadata": {},
   "source": [
    "4. Now repeat steps 2 and 3 but save the output into new columns of the `fire` DataFrame. Name them bld_loss and cnt_loss. \n",
    "\n",
    "   Rather than use `.findall()`, use `.extract()`. `.extract()` will return the first occurrence of the regex. Since we only have at most one occurrence per observation, this is good. The benefit of `.extract()` over `.findall()` is that `.extract()` returns a string rather than a list.\n",
    "   \n",
    "  Something like: \n",
    "  \n",
    "  ```python\n",
    "fire['bld_loss'] = fire['desc'].str.extract(r'(bldg.? loss \\$?\\d+,?\\d+.\\d+)')\n",
    "```"
   ]
  },
  {
   "cell_type": "markdown",
   "metadata": {},
   "source": [
    "5. From 'bld_loss' and 'cnt_loss' extract only the numeric parts so that we have data we can work with. I used `.extract()` again with the appropriate regex. "
   ]
  },
  {
   "cell_type": "markdown",
   "metadata": {},
   "source": [
    "6. Convert your extracted values to numeric types. You will need to deal with the commas."
   ]
  },
  {
   "cell_type": "markdown",
   "metadata": {},
   "source": [
    "7. Compute some summary statistics. What was the average damage to buildings and contents? What are the max and min? \n",
    "\n",
    "If you finish early: Create some histograms visualize the data. "
   ]
  }
 ],
 "metadata": {
  "celltoolbar": "Edit Metadata",
  "kernelspec": {
   "display_name": "Python 3 (ipykernel)",
   "language": "python",
   "name": "python3"
  },
  "language_info": {
   "codemirror_mode": {
    "name": "ipython",
    "version": 3
   },
   "file_extension": ".py",
   "mimetype": "text/x-python",
   "name": "python",
   "nbconvert_exporter": "python",
   "pygments_lexer": "ipython3",
   "version": "3.11.5"
  },
  "varInspector": {
   "cols": {
    "lenName": 16,
    "lenType": 16,
    "lenVar": 40
   },
   "kernels_config": {
    "python": {
     "delete_cmd_postfix": "",
     "delete_cmd_prefix": "del ",
     "library": "var_list.py",
     "varRefreshCmd": "print(var_dic_list())"
    },
    "r": {
     "delete_cmd_postfix": ") ",
     "delete_cmd_prefix": "rm(",
     "library": "var_list.r",
     "varRefreshCmd": "cat(var_dic_list()) "
    }
   },
   "types_to_exclude": [
    "module",
    "function",
    "builtin_function_or_method",
    "instance",
    "_Feature"
   ],
   "window_display": false
  }
 },
 "nbformat": 4,
 "nbformat_minor": 4
}
