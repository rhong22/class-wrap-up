{
 "cells": [
  {
   "cell_type": "markdown",
   "id": "d0cd80ee",
   "metadata": {
    "slideshow": {
     "slide_type": "slide"
    }
   },
   "source": [
    "## Discussion #2\n",
    "\n",
    "Files needed = None\n",
    "\n",
    "OH: Mondays and Wednesdays 9:15-10:15am in 6473 Sewell Social Sciences\n",
    "\n",
    "Email: minnie.cui@wisc.edu"
   ]
  },
  {
   "cell_type": "markdown",
   "id": "acdd686d",
   "metadata": {
    "slideshow": {
     "slide_type": "slide"
    }
   },
   "source": [
    "### Some stuff we saw this week:\n",
    "* *Extra today*: Formatting\n",
    "* Conditional Statements\n",
    "* Loops"
   ]
  },
  {
   "cell_type": "markdown",
   "id": "ea7d5816",
   "metadata": {
    "slideshow": {
     "slide_type": "slide"
    }
   },
   "source": [
    "## String Formatting \n",
    "\n",
    "We work a lot with strings, so it's nice to make them pretty. Lots of new Python methods (especially `str.format()`) help us do this. We'll walk through some of the basics.\n",
    "\n",
    "There are some other ways to format strings (e.g., \\% and f-strings) but we'll stick with `str.format()`. It's very flexible and can take all sorts of forms and types (e.g., you can specify an index and it handles numerical objects well).\n",
    "\n",
    "There's lots of great [documentation](https://docs.python.org/3.9/tutorial/inputoutput.html) (and [PyFormat](https://pyformat.info/))."
   ]
  },
  {
   "cell_type": "code",
   "execution_count": 1,
   "id": "9952a0b1",
   "metadata": {
    "slideshow": {
     "slide_type": "fragment"
    }
   },
   "outputs": [
    {
     "name": "stdout",
     "output_type": "stream",
     "text": [
      "Minnie had a(n) apple for breakfast\n",
      "Minnie had a(n) apple for breakfast\n",
      "Minnie had a(n) apple for breakfast\n",
      "Minnie had a(n) apple for breakfast. Just 1 apple.\n"
     ]
    }
   ],
   "source": [
    "# A few examples...\n",
    "x = 'Minnie'\n",
    "y = 'apple'\n",
    "z = 1\n",
    "\n",
    "# ...and a few ways to print them\n",
    "print(f'{x} had a(n) {y} for breakfast') # f-string method\n",
    "print('{person} had a(n) {item} for breakfast'.format(person = x, item = y)) # .format() method\n",
    "print('%s had a(n) %s for breakfast' % (x, y)) # an older method\n",
    "print('{0} had a(n) {1} for breakfast. Just {2} {1}.'.format(x, y, z)) # we can repeat and use numerics"
   ]
  },
  {
   "cell_type": "markdown",
   "id": "817f96f7",
   "metadata": {
    "slideshow": {
     "slide_type": "slide"
    }
   },
   "source": [
    "## Formatting Numerics\n",
    "\n",
    "Often times (like on the problem set!) we need to format numbers. We can deal with the number of digits, commas, dates, dollars, and others.\n",
    "\n",
    "The general syntax is `{position:format}` where position is the index (zero indexed!) of the number in `format`. Just like before, we can format multiple numbers at once. We need to tell the function that we're dealing with a float by specifying `f` at the end. We can specify the number of spaces, number of decimal digits, whether or not we'd like commas, and leading zeros. \n",
    "\n",
    "For example, `5.3f` means we'll print the number with a width of 5 'spaces' overall and 3 of the 5 spaces will be to the right of the decimal point. \n",
    "\n",
    "The [Python documentation](https://docs.python.org/3.8/library/string.html#grammar-token-width) says that the number to the left is a minimum width. Numbers exceeding the character width will still print but numbers that are smaller will have extra blank characters added (see below)."
   ]
  },
  {
   "cell_type": "code",
   "execution_count": 2,
   "id": "0f598c99",
   "metadata": {
    "slideshow": {
     "slide_type": "slide"
    }
   },
   "outputs": [
    {
     "name": "stdout",
     "output_type": "stream",
     "text": [
      "0.3333333333333333\n",
      "x = 0.333333\n",
      "x = 0.333, y = 0124.9\n",
      "x =    0.333\n",
      "x = 0000.333\n",
      "y = 0000000123.34000000\n",
      "z = 5,692,348,925.20\n"
     ]
    }
   ],
   "source": [
    "# An example\n",
    "x = 1/3\n",
    "y = 124.888\n",
    "print(x)\n",
    "\n",
    "# Some ways to print x\n",
    "print('x = {0:f}'.format(x))                     # default\n",
    "print('x = {0:5.3f}, y = {1:06.4}'.format(x, y)) # 5 spaces, 3 digits; notice y!\n",
    "print('x = {0:8.3f}'.format(x))                  # 8 spaces, 3 digits; what's happening?\n",
    "print('x = {0:08.3f}'.format(x))                 # 8 space, 3 digits, leading zeros\n",
    "\n",
    "# More examples!\n",
    "y = 123.34\n",
    "print('y = {0:019.8f}'.format(y))                # 19 space, 8 digits, leading zeros\n",
    "print('z = {0:5,.2f}'.format(5692348925.2))      # add some commas"
   ]
  },
  {
   "cell_type": "markdown",
   "id": "6f1d9402",
   "metadata": {
    "slideshow": {
     "slide_type": "slide"
    }
   },
   "source": [
    "## Conditional Statements\n",
    "\n",
    "Conditional statements make comparisons and evaluate code depending on the outcome of the comparison. For example, if the statement is true, we might print ``hello world``; if the statement is false, we might print ``good night world`` instead.\n",
    "\n",
    "Comparisons and conditional statements can be as complex as we'd like. I could check 100 conditions all at once or one at a time. "
   ]
  },
  {
   "cell_type": "code",
   "execution_count": 3,
   "id": "86f0dc4b",
   "metadata": {
    "slideshow": {
     "slide_type": "fragment"
    }
   },
   "outputs": [
    {
     "name": "stdout",
     "output_type": "stream",
     "text": [
      "\n",
      "Hello world\n",
      "\n",
      "What about here?\n"
     ]
    }
   ],
   "source": [
    "# Some variables\n",
    "x = 10\n",
    "y = 5\n",
    "z = 3\n",
    "\n",
    "# Some conditions\n",
    "# What prints out? What doesn't?\n",
    "if (x < 20 and y > 2) | z == 3:\n",
    "    print(\"\")\n",
    "    print(\"Hello world\")\n",
    "elif (x > 5 and y > 1) | z > 1:\n",
    "    print(\"\")\n",
    "    print(\"Do we get here?\")\n",
    "if (x > 5 & y > 1) or z > 1:\n",
    "    print(\"\")\n",
    "    print(\"What about here?\")\n",
    "if (x > 5 & y > 6) & z > 5:\n",
    "    print(\"\")\n",
    "    print(\"Good night world\")"
   ]
  },
  {
   "cell_type": "markdown",
   "id": "5521d448",
   "metadata": {
    "slideshow": {
     "slide_type": "slide"
    }
   },
   "source": [
    "## For Loops\n",
    "\n",
    "We can also repeatedly run code without having to write it over and over. One way to do this is by using for loops. A good function to know here is ``range``; this function will let us tell our computers how many times to run some code. Another useful function is ``enumerate``; this function allows you to keep track of the number of iterations in a loop *and* the value of the iterable object simultaneously. Lastly, we'll look at ``zip``; this function creates an iterator that will aggregate elements from two or more iterables"
   ]
  },
  {
   "cell_type": "code",
   "execution_count": 4,
   "id": "403934c1",
   "metadata": {
    "slideshow": {
     "slide_type": "fragment"
    }
   },
   "outputs": [
    {
     "name": "stdout",
     "output_type": "stream",
     "text": [
      "Using range:\n",
      "GDP\n",
      "POP\n",
      "INVEST\n",
      "EXPORTS\n",
      "\n",
      "Without range:\n",
      "GDP\n",
      "POP\n",
      "INVEST\n",
      "EXPORTS\n",
      "\n",
      "With enumerate:\n",
      "Variable GDP at index 0\n",
      "Variable POP at index 1\n",
      "Variable INVEST at index 2\n",
      "Variable EXPORTS at index 3\n",
      "\n",
      "With zip:\n",
      "Variable GDP at index 0\n",
      "Variable POP at index 1\n",
      "Variable INVEST at index 2\n",
      "Variable EXPORTS at index 3\n"
     ]
    }
   ],
   "source": [
    "# Variables\n",
    "var_names = ['GDP', 'POP', 'INVEST']\n",
    "var_names.append('EXPORTS')\n",
    "\n",
    "# Using the range function\n",
    "print(\"Using range:\")\n",
    "for i in range(4):\n",
    "    print(var_names[i])\n",
    "\n",
    "# The Pythonic way\n",
    "print(\"\\nWithout range:\")\n",
    "for var in var_names:\n",
    "    print(var)\n",
    "\n",
    "# Using enumerate\n",
    "print(\"\\nWith enumerate:\")\n",
    "for i, var in enumerate(var_names):\n",
    "    print('Variable {var} at index {i}'.format(var=var, i=i))\n",
    "\n",
    "# Same thing as the above loop using enumerate, but using zip \n",
    "print(\"\\nWith zip:\")\n",
    "nvar_list = range(len(var_names))\n",
    "for i, var in zip(nvar_list, var_names):\n",
    "    print('Variable {var} at index {i}'.format(var=var, i=i))"
   ]
  },
  {
   "cell_type": "code",
   "execution_count": 11,
   "id": "6414012f-ad4e-449f-84f6-3c3d478a6c07",
   "metadata": {},
   "outputs": [
    {
     "name": "stdout",
     "output_type": "stream",
     "text": [
      "GDP\n",
      "POP\n",
      "INVEST\n",
      "EXPORTS\n"
     ]
    }
   ],
   "source": [
    "# print variable names\n",
    "var_names = ['GDP', 'POP', 'INVEST']\n",
    "var_names.append('EXPORTS')\n",
    "\n",
    "for x in range(4):\n",
    "    print(var_names[x])"
   ]
  },
  {
   "cell_type": "code",
   "execution_count": 12,
   "id": "cbc4fede-95d0-4c97-aca0-6dd442562366",
   "metadata": {},
   "outputs": [
    {
     "name": "stdout",
     "output_type": "stream",
     "text": [
      "Variable GDP at index 0\n",
      "Variable POP at index 1\n",
      "Variable INVEST at index 2\n",
      "Variable EXPORTS at index 3\n"
     ]
    }
   ],
   "source": []
  },
  {
   "cell_type": "code",
   "execution_count": 13,
   "id": "8b17fce5",
   "metadata": {
    "slideshow": {
     "slide_type": "slide"
    }
   },
   "outputs": [
    {
     "name": "stdout",
     "output_type": "stream",
     "text": [
      "362880.0\n"
     ]
    }
   ],
   "source": [
    "# Create list\n",
    "x = '123456789'\n",
    "\n",
    "# Can we make a list out of this? \n",
    "# Then, can we use a loop to multiply all of the numbers?\n",
    "\n",
    "# Generate list and loop to multiply\n",
    "x_list = list(x)\n",
    "prod = 1.0\n",
    "for i in range(len(x_list)):\n",
    "    prod = prod * int(x_list[i])\n",
    "print(prod)"
   ]
  },
  {
   "cell_type": "code",
   "execution_count": 23,
   "id": "7955c4bf-582e-4efe-a5f7-bf0cebc51214",
   "metadata": {},
   "outputs": [
    {
     "name": "stdout",
     "output_type": "stream",
     "text": [
      "387420489\n"
     ]
    }
   ],
   "source": [
    "x = '123456789'\n",
    "\n",
    "x1 = list(x)\n",
    "\n",
    "product = 1\n",
    "\n",
    "for x in range(len(x1)):\n",
    "    product = product * int(x1[i])\n",
    "    \n",
    "print(product)"
   ]
  },
  {
   "cell_type": "markdown",
   "id": "52ce8b69-1edc-409e-a5d5-6c0aae20bf29",
   "metadata": {},
   "source": [
    "## While Loops\n",
    "\n",
    "If we put together Conditional Statements and Loops, we get While Loops! While Loops help us repeatedly run code without having to write it over and over *only if a given conditional statement is satisfied*."
   ]
  },
  {
   "cell_type": "code",
   "execution_count": 24,
   "id": "2ca431f3-de7b-4ed8-b683-29b8f84565b5",
   "metadata": {},
   "outputs": [
    {
     "name": "stdout",
     "output_type": "stream",
     "text": [
      "0\n",
      "1\n",
      "2\n",
      "3\n",
      "4\n",
      "5\n",
      "6\n",
      "7\n",
      "8\n",
      "9\n",
      "10\n",
      "11\n",
      "12\n"
     ]
    }
   ],
   "source": [
    "# Print integers starting at 0 until 12\n",
    "x = 0\n",
    "while x <= 12: \n",
    "    print(x)\n",
    "    x += 1"
   ]
  },
  {
   "cell_type": "code",
   "execution_count": 25,
   "id": "2a9c0c50-c8c5-448d-adf1-f2b5c65aa2ad",
   "metadata": {},
   "outputs": [
    {
     "name": "stdout",
     "output_type": "stream",
     "text": [
      "MinnieMinnieMinnieMinnieMinnie\n"
     ]
    }
   ],
   "source": [
    "# We learned how to multiply strings to repeat them multiple times\n",
    "# Can you do the same using a while loop? \n",
    "# Try to print your name 5 times using a while loop\n",
    "\n",
    "n = 0\n",
    "name = \"\"\n",
    "while n < 5:\n",
    "    name += \"Minnie\"\n",
    "    n += 1\n",
    "print(name)"
   ]
  },
  {
   "cell_type": "markdown",
   "id": "0c9a0ab5",
   "metadata": {
    "slideshow": {
     "slide_type": "slide"
    }
   },
   "source": [
    "## Slicing\n",
    "\n",
    "We can slice a list (or tuple or string) to extract just a small part of it. This is something we often want to do with data. The basic syntax is `a_list[start:stop:stride]` where the `stop` index is *not* included and `stride` is the step size. The default is `stride = 1`"
   ]
  },
  {
   "cell_type": "code",
   "execution_count": 29,
   "id": "0ba2734b",
   "metadata": {
    "slideshow": {
     "slide_type": "fragment"
    }
   },
   "outputs": [
    {
     "name": "stdout",
     "output_type": "stream",
     "text": [
      "[3, 4, 'string', 'other', 4.9]\n",
      "[3, 'string', 4.9]\n",
      "['string', 'other', 4.9, [0.0, 'huh']]\n",
      "[3, 4, 'string']\n",
      "[3, 4, 'string', 'other', 4.9]\n",
      "[3, 4, 'string', 'other']\n",
      "[4.9, 'string']\n"
     ]
    }
   ],
   "source": [
    "# An example\n",
    "a_list = [3, 4, 'string', 'other', 4.9, [0.0, 'huh']]\n",
    "#        -6 -5    -4        -3     -2        -1        # backwards index\n",
    "#         0  1     2         3      4         5        # forwards index\n",
    "\n",
    "# Print some slices\n",
    "print(a_list[0:5])       # default\n",
    "print(a_list[0:6:2])     # stride of 2\n",
    "print(a_list[2:])        # no end\n",
    "print(a_list[:3])        # no start\n",
    "print(a_list[:-1])       # all but last\n",
    "print(a_list[:-2])       # all but last two\n",
    "print(a_list[4:1:-2])    # tricky one!"
   ]
  },
  {
   "cell_type": "code",
   "execution_count": 28,
   "id": "bcdc5b2b-7984-4b8e-9e9a-8dac22b2ed48",
   "metadata": {},
   "outputs": [
    {
     "data": {
      "text/plain": [
       "[3, 4, 'string', 'other', 4.9, [0.0, 'huh']]"
      ]
     },
     "execution_count": 28,
     "metadata": {},
     "output_type": "execute_result"
    }
   ],
   "source": []
  },
  {
   "cell_type": "code",
   "execution_count": 30,
   "id": "5d5b723c",
   "metadata": {
    "slideshow": {
     "slide_type": "slide"
    }
   },
   "outputs": [
    {
     "name": "stdout",
     "output_type": "stream",
     "text": [
      "innie cu\n",
      "minnie\n",
      "cui\n",
      "i nm\n"
     ]
    }
   ],
   "source": [
    "# An example\n",
    "x = \"minnie cui\"\n",
    "\n",
    "# Can we print out all but the first and last letters?\n",
    "# What about just my first name? My last name?\n",
    "# Can we print every third letter, but backwards?\n",
    "\n",
    "print(x[1:-1])\n",
    "print(x[:6])\n",
    "print(x[7:])\n",
    "print(x[len(x)::-3])"
   ]
  },
  {
   "cell_type": "markdown",
   "id": "f03f4490",
   "metadata": {
    "slideshow": {
     "slide_type": "slide"
    }
   },
   "source": [
    "## Have a great weekend!"
   ]
  }
 ],
 "metadata": {
  "celltoolbar": "Slideshow",
  "kernelspec": {
   "display_name": "Python 3 (ipykernel)",
   "language": "python",
   "name": "python3"
  },
  "language_info": {
   "codemirror_mode": {
    "name": "ipython",
    "version": 3
   },
   "file_extension": ".py",
   "mimetype": "text/x-python",
   "name": "python",
   "nbconvert_exporter": "python",
   "pygments_lexer": "ipython3",
   "version": "3.11.5"
  },
  "vscode": {
   "interpreter": {
    "hash": "aee8b7b246df8f9039afb4144a1f6fd8d2ca17a180786b69acc140d282b71a49"
   }
  }
 },
 "nbformat": 4,
 "nbformat_minor": 5
}
