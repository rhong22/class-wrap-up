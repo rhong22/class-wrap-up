{
 "cells": [
  {
   "cell_type": "markdown",
   "metadata": {},
   "source": [
    "## Working with Python in Jupyter notebooks\n",
    "\n",
    "files needed = none\n",
    "\n",
    "Housekeeping: Have Top Hat operational before Wednesday's class\n",
    "\n",
    "Our goal for this notebook is to learn about, and how to use, Jupyter notebooks:\n",
    "\n",
    "1. What is a Jupyter notebook?\n",
    "2. How do I open, save, and edit?\n",
    "3. What are markdown cells vs code cells?\n",
    "4. What is markdown? "
   ]
  },
  {
   "cell_type": "markdown",
   "metadata": {},
   "source": [
    "## How python works\n",
    "\n",
    "1. Write python source code (e.g., 3*2)\n",
    "2. The python interpreter reads the python source code and creates machine code\n",
    "3. The machine code is executed and any results (e.g., 6) are returned\n"
   ]
  },
  {
   "cell_type": "markdown",
   "metadata": {},
   "source": [
    "## What is a Jupyter notebook?\n",
    "There are many ways to write and run Python code. \n",
    "\n",
    "1. Use the interactive interpreter. Open an Anaconda prompt and type `python`. It is hard to do anything too complicated this way.\n",
    "\n",
    "2. Write your code in a text file, save it, and run the file through an interpretor. This makes it easy to rerun your code, and is typically how complex programs are written. This method separates the code from the output. \n",
    "\n",
    "3. We will take advantage of Jupyter notebooks. A notebook combines input (code) with output (results). It also allows us to mix in text, which will let us provide lots of documentation about what our code is doing. The text is added in *markdown* which gives us even more options. We will discuss markdown a bit later. \n",
    "\n",
    "A notebook runs a command window (look at your taskbar) that we do not need to bother with and a document displayed in a web browser. You are looking at the notebook right now! \n",
    "\n",
    "The cell you are reading is a *markdown cell*. It is text. \n",
    "\n",
    "The cell below this cell is a *code cell*. Notice that the cell has '\\[  \\]:' in front of it. That means it is a cell for code input. Place your cursor in the cell and type ```3*2``` and hit `ctrl+enter` to run the cell. What happened?\n",
    "\n"
   ]
  },
  {
   "cell_type": "code",
   "execution_count": 1,
   "metadata": {
    "scrolled": true,
    "tags": []
   },
   "outputs": [
    {
     "data": {
      "text/plain": [
       "6"
      ]
     },
     "execution_count": 1,
     "metadata": {},
     "output_type": "execute_result"
    }
   ],
   "source": [
    "3*2"
   ]
  },
  {
   "cell_type": "markdown",
   "metadata": {},
   "source": [
    "You just computed! Notebooks are interactive. We can work on blocks of code and execute them using `ctrl+enter` or `shift+enter`. This will be very convenient. In between blocks of code, we can add blocks of text to describe what we are doing. \n",
    "\n",
    "Use the + button to insert a block below this one. What kind of cell is it?"
   ]
  },
  {
   "cell_type": "markdown",
   "metadata": {},
   "source": []
  },
  {
   "cell_type": "markdown",
   "metadata": {},
   "source": [
    "Go back to the cell you inserted and change it to a markdown cell.  "
   ]
  },
  {
   "cell_type": "markdown",
   "metadata": {},
   "source": [
    "### Command mode versus edit mode\n",
    "\n",
    "Notice that a cell can have two states: *edit mode*, where you type, and *command mode*, where the result of the typed code is displayed. \n",
    "\n",
    "1. If the cell is in command mode, double click, or select the cell and hit `enter` to change to edit mode.\n",
    "2. If a cell is in edit mode, run the cell (`ctrl+enter` or `shift+enter`) or hit `esc` to move to command mode. \n",
    "\n",
    "### Keyboard shortcuts\n",
    "When we are in command mode, we can use keyboard shortcuts. Shortcuts are much quicker than taking our hands off the keyboard and moving the mouse around. \n",
    "\n",
    "Let's try one. Make sure this cell is in command mode (hit `esc`). Then hit `b`. What happened? What kind of cell is this?\n",
    "\n"
   ]
  },
  {
   "cell_type": "code",
   "execution_count": null,
   "metadata": {},
   "outputs": [],
   "source": []
  },
  {
   "cell_type": "markdown",
   "metadata": {},
   "source": [
    "Shortcuts take some time to memorize and use, but you will be a more efficient coder if you make them part of your workflow. You can find a list of shortcuts [here](https://jupyter-tutorial.readthedocs.io/en/stable/notebook/shortcuts.html). \n",
    "\n",
    "A few I use often:\n",
    "\n",
    "1. Command mode: `esc`\n",
    "2. Edit mode: `enter`\n",
    "3. Change markdown cell to code cell: `y`\n",
    "4. Change code cell to markdown cell:`m`\n",
    "5. Insert cell below: `b`\n",
    "\n",
    "Remember, you need to be in command mode to use shortcuts."
   ]
  },
  {
   "cell_type": "markdown",
   "metadata": {},
   "source": [
    "## Working with notebooks\n",
    "You already have this workbook up and running, so we are on the right track. Let's review:\n",
    "\n",
    "### Starting Jupyter lab\n",
    "1. Log into Winstat. See [sscc winstat](https://www.ssc.wisc.edu/sscc/pubs/winstat.htm) if you need a refresher\n",
    "2. From the search menu in the left of the task bar, start typing 'Jupyter lab'. As you type, search results will appear. Click on the 'Jupyter Lab' entry (**not** Jupyter Notebook).\n",
    "3. This will open a console window (which we don't need to use) and a web browser. The web browser will show the Jupyter Lab interface. The left-hand panel includes a file browser.\n",
    "\n",
    "### Opening a notebook\n",
    "1. Within the file browser (left panel), navigate to the folder that contains the workbook you would like to open. Reminder: notebooks end in 'ipynb' (short for IPython Notebook). \n",
    "2. Click on the notebook to open.\n",
    "\n",
    "### Creating a new notebook\n",
    "`File > New > Notebook`. When it asks for the kernel, choose \"Python 3.\"\n",
    "\n",
    "### Renaming a notebook\n",
    "You can name and rename a notebook using `File > Rename Notebook`. This overwrites the notebook name in the file system. **It does not make a copy.**\n",
    "\n",
    "### Saving a notebook\n",
    "`File > Save Notebook`, the disk icon, or `ctrl+s`. \n",
    "\n",
    "### Closing a notebook\n",
    "`File > Close and Shutdown Notebook`, or `ctrl+shift+q`. \n",
    "\n",
    "### Closing Jupyter lab\n",
    "`File > Shut Down`, then follow the instructions and close the tab in which the notebook is open. Note: close the tab, not the whole browser!"
   ]
  },
  {
   "cell_type": "markdown",
   "metadata": {},
   "source": [
    "### Practice: notebooks\n",
    "Take a few minutes and try the following. Feel free to chat with those around if you get stuck. I am here, too.\n",
    "\n",
    "1. Create a new notebook and name it 'week_1_practice'\n",
    "2. Make the first cell of your notebook a markdown cell (try a shortcut!). Type your name in the cell and run the cell.\n",
    "3. Save the notebook and close it. \n",
    "\n",
    "Now look in the file browser (left panel). Can you see your notebook?\n",
    "\n",
    "1. Open your 'week_1_practice' notebook\n",
    "2. From the `file` menu, make a copy of the notebook (`File > Save Notebook As`) and name the copy 'week_1_practice_v2'\n",
    "3. In 'week_1_practice_v2', in the first cell (below your name), type out the names of three classes you are taking this semester.\n",
    "4. Save your notebook and close it.\n",
    "\n",
    "Check the file browser (left panel). Do you see both files?\n",
    "\n",
    "Open your (U:) drive. Do you see the two files?"
   ]
  },
  {
   "cell_type": "markdown",
   "metadata": {},
   "source": [
    "\n",
    "## Markdown \n",
    "\n",
    "Markdown is a simple 'markup' language. The point of markdown is to provide a very simple set of commands to format text. Nothing too fancy, but enough stuff like headers, lists, links, italics, bold, etc. to make our **documentation** easy to read. We can also write mathematical equations in markdown which is very helpful for documenting our code. \n",
    "\n",
    "Read the markdown cheatsheet available [here](https://github.com/adam-p/markdown-here/wiki/Markdown-Cheatsheet) for a list of commands. (Look at this cell in edit mode (which shortcut?) to see the syntax for a link!) \n",
    "\n",
    "Let's try some markdown. For each item below, insert a markdown cell and try it out. Remember to hit shift-enter to run the cell and see the result."
   ]
  },
  {
   "cell_type": "markdown",
   "metadata": {},
   "source": [
    "In the cell below, make three layers of headings. ```# text``` will generate the first-level heading that reads 'text'. How do we get the second-level and third-level headings? \n",
    "\n",
    "(Notice that an empty markdown cell will read 'Type *Markdown* and LaTeX: $\\alpha^2$' in command mode.)\n",
    "\n"
   ]
  },
  {
   "cell_type": "markdown",
   "metadata": {},
   "source": [
    "# Heading level one\n",
    "\n",
    "## Heading level two\n",
    "\n",
    "### Heading level three"
   ]
  },
  {
   "cell_type": "markdown",
   "metadata": {},
   "source": [
    "Insert a cell below, try some ```**bold**``` and ```*italics*```. I like ```~~strikethrough~~``` because I make a lot of mistakes. What happens in the cell as you type?"
   ]
  },
  {
   "cell_type": "markdown",
   "metadata": {},
   "source": [
    "**bold and spicy**\n",
    "\n",
    "*I italicize book titles*\n",
    "\n",
    "~~another mistake!~~"
   ]
  },
  {
   "cell_type": "markdown",
   "metadata": {},
   "source": [
    "**YES!**\n",
    "We *are* going to get through this!\n",
    "~~The drop date is...~~"
   ]
  },
  {
   "cell_type": "markdown",
   "metadata": {},
   "source": [
    "### Lists\n",
    "An *unordered list* uses asterisks. Try \n",
    "```\n",
    "* Bacon\n",
    "* Lettuce \n",
    "* Tomato\n",
    "```\n",
    "and run the cell (`shift+enter`).\n"
   ]
  },
  {
   "cell_type": "markdown",
   "metadata": {},
   "source": [
    "* Bacon\n",
    "* Lettuce\n",
    "* Tomato"
   ]
  },
  {
   "cell_type": "markdown",
   "metadata": {},
   "source": [
    "Then try an *ordered list*\n",
    "```\n",
    "1. Wisconsin\n",
    "2. Minnesota\n",
    "3. Michigan\n",
    "```\n",
    "and run the cell (`shift+enter`). "
   ]
  },
  {
   "cell_type": "markdown",
   "metadata": {},
   "source": [
    "1. Wisconsin\n",
    "   1. Madison\n",
    "      * East\n",
    "      * West\n",
    "   2. Milwaukee\n",
    "2. Minnesota\n",
    "   1. Minneapolis\n",
    "   2. Ely\n",
    "3. Michigan\n",
    "   1. Detroit\n",
    "   2. Grand Rapids\n",
    "   3. Kalamazoo"
   ]
  },
  {
   "cell_type": "markdown",
   "metadata": {},
   "source": [
    "Now go back and add sub-items to the entries. It should look like\n",
    "```\n",
    "1. Wisconsin\n",
    "  1. Madison\n",
    "  2. Milwaukee\n",
    "2. Minnesota\n",
    "  1. Minneapolis\n",
    "  2. Ely\n",
    "3. Michigan\n",
    "  1. Detroit\n",
    "  2. Grand Rapids\n",
    "  3. Kalamazoo\n",
    "```\n",
    "\n",
    "What happens when you run the cell? How do you add a third level to the list?"
   ]
  },
  {
   "cell_type": "markdown",
   "metadata": {},
   "source": [
    "### Code\n",
    "It is often useful to write bits of code in your markdown. Use backticks (next to the 1 key on your keyboard) to format as code. In the  cell below, try `` `x=2` `` . What happened?"
   ]
  },
  {
   "cell_type": "markdown",
   "metadata": {},
   "source": [
    "`x=2`"
   ]
  },
  {
   "cell_type": "markdown",
   "metadata": {},
   "source": [
    "Now try a block of code. Use a 'fence' of three backticks at the beginning and end of the code, like this:\n",
    "\n",
    "\\`\\`\\`python\n",
    "\n",
    "s = 10\n",
    "\n",
    "print(s)\n",
    "\n",
    "\\`\\`\\`\n",
    "\n",
    "Try it in the block below. Try removing the word 'python' from the block of code. What changes?"
   ]
  },
  {
   "cell_type": "markdown",
   "metadata": {},
   "source": [
    "```python\n",
    "s = 10\n",
    "print(s)\n",
    "```\n",
    "\n",
    "Without the python keyword\n",
    "\n",
    "```\n",
    "s = 10\n",
    "print(s)\n",
    "```"
   ]
  },
  {
   "cell_type": "markdown",
   "metadata": {},
   "source": [
    "### Practice: Markdown\n",
    "Take a few minutes and try the following. Feel free to chat with those around if you get stuck. I am here, too.\n",
    "\n",
    "Open your 'week_1_practice_v2' notebook and \n",
    "1. Format your name as a level-1 header\n",
    "2. Format your list of classes into an unordered list\n",
    "3. Make the class you are most excited about in bold font\n",
    "4. Make the class you are least excited about in strikethrough font\n",
    "\n",
    "then...\n",
    "\n",
    "5. Insert a code cell below the block you just edited. Within the cell type \n",
    "\n",
    "```python\n",
    "s = 'a string'\n",
    "print(s)\n",
    "``` \n",
    "\n",
    "and run the cell. Then...\n",
    "\n",
    "6. Insert a markdown cell below the code cell. Use the 'backtick fences' method to write a block of code with the two statements `s='a string'` and `print(s)'` within it.\n",
    "\n"
   ]
  },
  {
   "cell_type": "markdown",
   "metadata": {},
   "source": [
    "# Ashley Swanson\n",
    "* **Econ 770**\n",
    "* Classics\n",
    "* ~~Drying Paint for Fun and Profit~~"
   ]
  },
  {
   "cell_type": "code",
   "execution_count": 2,
   "metadata": {},
   "outputs": [
    {
     "name": "stdout",
     "output_type": "stream",
     "text": [
      "a string\n"
     ]
    }
   ],
   "source": [
    "# This should be in your week_1_practice_v2 notebook...\n",
    "\n",
    "s = 'a string'\n",
    "print(s)"
   ]
  },
  {
   "cell_type": "markdown",
   "metadata": {},
   "source": [
    "```python\n",
    "s = 'a string'\n",
    "print(s)\n",
    "```"
   ]
  }
 ],
 "metadata": {
  "celltoolbar": "Attachments",
  "kernelspec": {
   "display_name": "Python 3 (ipykernel)",
   "language": "python",
   "name": "python3"
  },
  "language_info": {
   "codemirror_mode": {
    "name": "ipython",
    "version": 3
   },
   "file_extension": ".py",
   "mimetype": "text/x-python",
   "name": "python",
   "nbconvert_exporter": "python",
   "pygments_lexer": "ipython3",
   "version": "3.11.5"
  },
  "varInspector": {
   "cols": {
    "lenName": 16,
    "lenType": 16,
    "lenVar": 40
   },
   "kernels_config": {
    "python": {
     "delete_cmd_postfix": "",
     "delete_cmd_prefix": "del ",
     "library": "var_list.py",
     "varRefreshCmd": "print(var_dic_list())"
    },
    "r": {
     "delete_cmd_postfix": ") ",
     "delete_cmd_prefix": "rm(",
     "library": "var_list.r",
     "varRefreshCmd": "cat(var_dic_list()) "
    }
   },
   "types_to_exclude": [
    "module",
    "function",
    "builtin_function_or_method",
    "instance",
    "_Feature"
   ],
   "window_display": false
  }
 },
 "nbformat": 4,
 "nbformat_minor": 4
}
