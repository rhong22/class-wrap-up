{
 "cells": [
  {
   "cell_type": "markdown",
   "metadata": {},
   "source": [
    "# Regression with discrete dependent variables\n",
    "\n",
    "files needed = ('pntsprd.dta', 'apple.dta')\n",
    "\n",
    "We continue to learn about the statsmodels package [(docs)](https://devdocs.io/statsmodels/), which provides functions for formulating and estimating statistical models. This notebook will not address the models, per se, but will focus on how to take what you learned in econometrics class and use it in python. \n",
    "\n",
    "In this notebook, we take on models in which the dependent variable is discrete. In the examples below, the dependent variable is binary (which makes it easier to visualize), but many of the techniques we demo here can be extended to other dependent variables.  \n",
    "\n",
    "[Here](http://www.statsmodels.org/0.6.1/examples/notebooks/generated/discrete_choice_overview.html) is a nice overview of the discrete choice models in statsmodels. "
   ]
  },
  {
   "cell_type": "code",
   "execution_count": 1,
   "metadata": {},
   "outputs": [],
   "source": [
    "import pandas as pd                    # for data handling\n",
    "import numpy as np                     # for numerical methods and data structures\n",
    "import matplotlib.pyplot as plt        # for plotting\n",
    "import seaborn as sea                  # advanced plotting\n",
    "\n",
    "import statsmodels.formula.api as smf  # provides a way to directly spec models from formulas"
   ]
  },
  {
   "cell_type": "markdown",
   "metadata": {},
   "source": [
    "### Reading Stata data files\n",
    "\n",
    "We will work on a problem from Wooldridge's textbook in econometrics. We read the (mercifully) cleaned data files using the pandas method `.read_stata()` that [reads stata files](http://pandas.pydata.org/pandas-docs/stable/generated/pandas.read_stata.html). \n",
    "\n",
    "The file 'pntsprd.dta' contains data about Vegas betting. The complete variable list is [here](http://fmwww.bc.edu/ec-p/data/wooldridge/pntsprd.des). We will use `favwin` which is equal to 1 if the favored team won and zero otherwise and `spread` which holds the betting spread. In this context, a *spread* is the number of points that the favored team must beat the unfavored team by in order to be counted as a win by the favored team.    "
   ]
  },
  {
   "cell_type": "code",
   "execution_count": 2,
   "metadata": {},
   "outputs": [
    {
     "data": {
      "text/html": [
       "<div>\n",
       "<style scoped>\n",
       "    .dataframe tbody tr th:only-of-type {\n",
       "        vertical-align: middle;\n",
       "    }\n",
       "\n",
       "    .dataframe tbody tr th {\n",
       "        vertical-align: top;\n",
       "    }\n",
       "\n",
       "    .dataframe thead th {\n",
       "        text-align: right;\n",
       "    }\n",
       "</style>\n",
       "<table border=\"1\" class=\"dataframe\">\n",
       "  <thead>\n",
       "    <tr style=\"text-align: right;\">\n",
       "      <th></th>\n",
       "      <th>favscr</th>\n",
       "      <th>undscr</th>\n",
       "      <th>spread</th>\n",
       "      <th>favhome</th>\n",
       "      <th>neutral</th>\n",
       "      <th>fav25</th>\n",
       "      <th>und25</th>\n",
       "      <th>fregion</th>\n",
       "      <th>uregion</th>\n",
       "      <th>scrdiff</th>\n",
       "      <th>sprdcvr</th>\n",
       "      <th>favwin</th>\n",
       "    </tr>\n",
       "  </thead>\n",
       "  <tbody>\n",
       "    <tr>\n",
       "      <th>0</th>\n",
       "      <td>72.0</td>\n",
       "      <td>61.0</td>\n",
       "      <td>7.0</td>\n",
       "      <td>0.0</td>\n",
       "      <td>0.0</td>\n",
       "      <td>1.0</td>\n",
       "      <td>0.0</td>\n",
       "      <td>3.0</td>\n",
       "      <td>4.0</td>\n",
       "      <td>11.0</td>\n",
       "      <td>1.0</td>\n",
       "      <td>1.0</td>\n",
       "    </tr>\n",
       "    <tr>\n",
       "      <th>1</th>\n",
       "      <td>82.0</td>\n",
       "      <td>74.0</td>\n",
       "      <td>7.0</td>\n",
       "      <td>1.0</td>\n",
       "      <td>0.0</td>\n",
       "      <td>0.0</td>\n",
       "      <td>0.0</td>\n",
       "      <td>3.0</td>\n",
       "      <td>1.0</td>\n",
       "      <td>8.0</td>\n",
       "      <td>1.0</td>\n",
       "      <td>1.0</td>\n",
       "    </tr>\n",
       "    <tr>\n",
       "      <th>2</th>\n",
       "      <td>87.0</td>\n",
       "      <td>57.0</td>\n",
       "      <td>17.0</td>\n",
       "      <td>1.0</td>\n",
       "      <td>0.0</td>\n",
       "      <td>0.0</td>\n",
       "      <td>0.0</td>\n",
       "      <td>3.0</td>\n",
       "      <td>3.0</td>\n",
       "      <td>30.0</td>\n",
       "      <td>1.0</td>\n",
       "      <td>1.0</td>\n",
       "    </tr>\n",
       "    <tr>\n",
       "      <th>3</th>\n",
       "      <td>69.0</td>\n",
       "      <td>70.0</td>\n",
       "      <td>9.0</td>\n",
       "      <td>1.0</td>\n",
       "      <td>0.0</td>\n",
       "      <td>0.0</td>\n",
       "      <td>0.0</td>\n",
       "      <td>3.0</td>\n",
       "      <td>3.0</td>\n",
       "      <td>-1.0</td>\n",
       "      <td>0.0</td>\n",
       "      <td>0.0</td>\n",
       "    </tr>\n",
       "    <tr>\n",
       "      <th>4</th>\n",
       "      <td>77.0</td>\n",
       "      <td>79.0</td>\n",
       "      <td>2.5</td>\n",
       "      <td>0.0</td>\n",
       "      <td>0.0</td>\n",
       "      <td>0.0</td>\n",
       "      <td>0.0</td>\n",
       "      <td>2.0</td>\n",
       "      <td>3.0</td>\n",
       "      <td>-2.0</td>\n",
       "      <td>0.0</td>\n",
       "      <td>0.0</td>\n",
       "    </tr>\n",
       "  </tbody>\n",
       "</table>\n",
       "</div>"
      ],
      "text/plain": [
       "   favscr  undscr  spread  favhome  neutral  fav25  und25  fregion  uregion  \\\n",
       "0    72.0    61.0     7.0      0.0      0.0    1.0    0.0      3.0      4.0   \n",
       "1    82.0    74.0     7.0      1.0      0.0    0.0    0.0      3.0      1.0   \n",
       "2    87.0    57.0    17.0      1.0      0.0    0.0    0.0      3.0      3.0   \n",
       "3    69.0    70.0     9.0      1.0      0.0    0.0    0.0      3.0      3.0   \n",
       "4    77.0    79.0     2.5      0.0      0.0    0.0    0.0      2.0      3.0   \n",
       "\n",
       "   scrdiff  sprdcvr  favwin  \n",
       "0     11.0      1.0     1.0  \n",
       "1      8.0      1.0     1.0  \n",
       "2     30.0      1.0     1.0  \n",
       "3     -1.0      0.0     0.0  \n",
       "4     -2.0      0.0     0.0  "
      ]
     },
     "execution_count": 2,
     "metadata": {},
     "output_type": "execute_result"
    }
   ],
   "source": [
    "# Use pandas read_stata method to get the stata formatted data file into a DataFrame.\n",
    "vegas = pd.read_stata('pntsprd.dta')\n",
    "\n",
    "# Take a look...so clean!\n",
    "vegas.head()"
   ]
  },
  {
   "cell_type": "code",
   "execution_count": 3,
   "metadata": {},
   "outputs": [
    {
     "name": "stdout",
     "output_type": "stream",
     "text": [
      "<class 'pandas.core.frame.DataFrame'>\n",
      "RangeIndex: 553 entries, 0 to 552\n",
      "Data columns (total 12 columns):\n",
      " #   Column   Non-Null Count  Dtype  \n",
      "---  ------   --------------  -----  \n",
      " 0   favscr   553 non-null    float32\n",
      " 1   undscr   553 non-null    float32\n",
      " 2   spread   553 non-null    float32\n",
      " 3   favhome  553 non-null    float32\n",
      " 4   neutral  553 non-null    float32\n",
      " 5   fav25    553 non-null    float32\n",
      " 6   und25    553 non-null    float32\n",
      " 7   fregion  553 non-null    float32\n",
      " 8   uregion  553 non-null    float32\n",
      " 9   scrdiff  553 non-null    float32\n",
      " 10  sprdcvr  553 non-null    float32\n",
      " 11  favwin   553 non-null    float32\n",
      "dtypes: float32(12)\n",
      "memory usage: 26.1 KB\n"
     ]
    }
   ],
   "source": [
    "vegas.info()"
   ]
  },
  {
   "cell_type": "code",
   "execution_count": 4,
   "metadata": {},
   "outputs": [
    {
     "data": {
      "image/png": "[encoded data removed]",
      "text/plain": [
       "<Figure size 1500x600 with 1 Axes>"
      ]
     },
     "metadata": {},
     "output_type": "display_data"
    }
   ],
   "source": [
    "fig, ax = plt.subplots(figsize=(15,6))\n",
    "\n",
    "ax.scatter(vegas['spread'], vegas['favwin'], \n",
    "           facecolors='none', edgecolors='blue')\n",
    "\n",
    "ax.set_ylabel('favored team outcome (win = 1, loss = 0)')\n",
    "ax.set_xlabel('point spread')\n",
    "ax.set_title('The data from the point spread dataset')\n",
    "\n",
    "sea.despine(ax=ax)"
   ]
  },
  {
   "cell_type": "markdown",
   "metadata": {},
   "source": [
    "### OLS\n",
    "\n",
    "We begin with the *linear probability model*. The model is \n",
    "\n",
    "$$\\text{Pr}(favwin=1 \\mid spread) = \\beta_0 + \\beta_1 spread + \\epsilon .$$\n",
    "\n",
    "There is nothing new here technique-wise. We are estimating this with ols."
   ]
  },
  {
   "cell_type": "code",
   "execution_count": 5,
   "metadata": {},
   "outputs": [
    {
     "name": "stdout",
     "output_type": "stream",
     "text": [
      "                            OLS Regression Results                            \n",
      "==============================================================================\n",
      "Dep. Variable:                 favwin   R-squared:                       0.111\n",
      "Model:                            OLS   Adj. R-squared:                  0.109\n",
      "Method:                 Least Squares   F-statistic:                     68.57\n",
      "Date:                Wed, 17 Apr 2024   Prob (F-statistic):           9.32e-16\n",
      "Time:                        08:45:35   Log-Likelihood:                -279.29\n",
      "No. Observations:                 553   AIC:                             562.6\n",
      "Df Residuals:                     551   BIC:                             571.2\n",
      "Df Model:                           1                                         \n",
      "Covariance Type:            nonrobust                                         \n",
      "==============================================================================\n",
      "                 coef    std err          t      P>|t|      [0.025      0.975]\n",
      "------------------------------------------------------------------------------\n",
      "Intercept      0.5769      0.028     20.434      0.000       0.521       0.632\n",
      "spread         0.0194      0.002      8.281      0.000       0.015       0.024\n",
      "==============================================================================\n",
      "Omnibus:                       86.055   Durbin-Watson:                   2.112\n",
      "Prob(Omnibus):                  0.000   Jarque-Bera (JB):               94.402\n",
      "Skew:                          -0.956   Prob(JB):                     3.17e-21\n",
      "Kurtosis:                       2.336   Cond. No.                         20.0\n",
      "==============================================================================\n",
      "\n",
      "Notes:\n",
      "[1] Standard Errors assume that the covariance matrix of the errors is correctly specified.\n"
     ]
    }
   ],
   "source": [
    "# statsmodels adds a constant for us...\n",
    "res_ols = smf.ols('favwin ~ spread', data=vegas).fit()\n",
    "\n",
    "print(res_ols.summary())"
   ]
  },
  {
   "cell_type": "markdown",
   "metadata": {},
   "source": [
    "Linear probability models have some problems. Perhaps the biggest one is that there is **no guarantee that the predicted probability lies between zero and one!** \n",
    "\n",
    "We can use the `fittedvalues` attribute of the results object to recover the fitted values of the y variables. Let's plot them and take a look. "
   ]
  },
  {
   "cell_type": "code",
   "execution_count": 6,
   "metadata": {},
   "outputs": [
    {
     "data": {
      "image/png": "[encoded data removed]",
      "text/plain": [
       "<Figure size 1500x600 with 1 Axes>"
      ]
     },
     "metadata": {},
     "output_type": "display_data"
    }
   ],
   "source": [
    "fig, ax = plt.subplots(figsize=(15,6))\n",
    "\n",
    "ax.scatter(vegas['spread'], res_ols.fittedvalues,  facecolors='none', edgecolors='red')\n",
    "ax.axhline(y=1.0, color='grey', linestyle='--')\n",
    "\n",
    "ax.set_ylabel('predicted probability of winning')\n",
    "ax.set_xlabel('point spread')\n",
    "ax.set_title('Predicted winning probabilities from an OLS model')\n",
    "\n",
    "sea.despine(ax=ax, trim=True)"
   ]
  },
  {
   "cell_type": "markdown",
   "metadata": {},
   "source": [
    "### Logistic regression (logit)\n",
    "The logistic regression passes the linear model through a non-linear function that constrains the output to lie between zero and one. (These functions are cumulative distribution functions.) In the logistic case, the function looks like\n",
    "\n",
    "$$\\text{prob} = \\frac{\\exp \\left({\\beta_0+\\beta_1 spread}\\right)}{1+\\exp \\left({\\beta_0+\\beta_1 spread}\\right)},$$\n",
    "\n",
    "and we predict a team wins whenever $\\text{prob} \\ge 0.5$.\n",
    "\n",
    "We estimate the logit model with the `logit( )` method from `smf` in a way similar to ols. "
   ]
  },
  {
   "cell_type": "code",
   "execution_count": 7,
   "metadata": {},
   "outputs": [
    {
     "name": "stdout",
     "output_type": "stream",
     "text": [
      "Optimization terminated successfully.\n",
      "         Current function value: 0.477218\n",
      "         Iterations 7\n",
      "                           Logit Regression Results                           \n",
      "==============================================================================\n",
      "Dep. Variable:                 favwin   No. Observations:                  553\n",
      "Model:                          Logit   Df Residuals:                      551\n",
      "Method:                           MLE   Df Model:                            1\n",
      "Date:                Wed, 17 Apr 2024   Pseudo R-squ.:                  0.1283\n",
      "Time:                        08:52:13   Log-Likelihood:                -263.90\n",
      "converged:                       True   LL-Null:                       -302.75\n",
      "Covariance Type:            nonrobust   LLR p-value:                 1.201e-18\n",
      "==============================================================================\n",
      "                 coef    std err          z      P>|z|      [0.025      0.975]\n",
      "------------------------------------------------------------------------------\n",
      "Intercept     -0.0712      0.173     -0.411      0.681      -0.411       0.268\n",
      "spread         0.1632      0.023      7.236      0.000       0.119       0.207\n",
      "==============================================================================\n"
     ]
    }
   ],
   "source": [
    "res_log = smf.logit('favwin ~ spread', data=vegas).fit()\n",
    "print(res_log.summary())"
   ]
  },
  {
   "cell_type": "markdown",
   "metadata": {},
   "source": [
    "Interpreting logit coefficients is bit more complicated. The probability that a team wins is given by the expression\n",
    "\n",
    "$$\\text{prob} = \\frac{\\exp \\left({\\hat{\\beta}_0+\\hat{\\beta}_1 spread}\\right)}{1+\\exp \\left({\\hat{\\beta}_0+\\hat{\\beta}_1 spread}\\right)}$$\n",
    "\n",
    "The `res_log.fittedvalues` holds the fitted value of $\\hat{\\beta}_0+\\hat{\\beta}_1 spread$ and not the estimated probability. Let's compute it using the exp method of numpy. \n"
   ]
  },
  {
   "cell_type": "code",
   "execution_count": 8,
   "metadata": {},
   "outputs": [
    {
     "data": {
      "text/plain": [
       "0      1.071426\n",
       "1      1.071426\n",
       "2      2.703687\n",
       "3      1.397878\n",
       "4      0.336908\n",
       "         ...   \n",
       "548    0.336908\n",
       "549    1.316265\n",
       "550    2.214008\n",
       "551    0.663360\n",
       "552    0.418521\n",
       "Length: 553, dtype: float64"
      ]
     },
     "execution_count": 8,
     "metadata": {},
     "output_type": "execute_result"
    }
   ],
   "source": [
    "res_log.fittedvalues"
   ]
  },
  {
   "cell_type": "code",
   "execution_count": 9,
   "metadata": {},
   "outputs": [
    {
     "data": {
      "text/plain": [
       "count    553.000000\n",
       "mean       0.763110\n",
       "std        0.151419\n",
       "min        0.523001\n",
       "25%        0.622491\n",
       "50%        0.774632\n",
       "75%        0.901500\n",
       "max        0.998157\n",
       "dtype: float64"
      ]
     },
     "execution_count": 9,
     "metadata": {},
     "output_type": "execute_result"
    }
   ],
   "source": [
    "pred_probs = np.exp(res_log.fittedvalues) / (1 + np.exp(res_log.fittedvalues))\n",
    "pred_probs.describe()"
   ]
  },
  {
   "cell_type": "markdown",
   "metadata": {},
   "source": [
    "Plot the estimated probabilty of the favored team winning and the actual data. "
   ]
  },
  {
   "cell_type": "code",
   "execution_count": 10,
   "metadata": {},
   "outputs": [
    {
     "data": {
      "image/png": "[encoded data removed]",
      "text/plain": [
       "<Figure size 1500x600 with 1 Axes>"
      ]
     },
     "metadata": {},
     "output_type": "display_data"
    }
   ],
   "source": [
    "fig, ax = plt.subplots(figsize=(15,6))\n",
    "\n",
    "ax.scatter(vegas['spread'], pred_probs,  facecolors='none', edgecolors='red', label='predicted')\n",
    "ax.scatter(vegas['spread'], vegas['favwin'],  facecolors='none', edgecolors='blue', label = 'data')\n",
    "ax.axhline(y=1.0, color='grey', linestyle='--')\n",
    "\n",
    "ax.set_ylabel('predicted probability of winning')\n",
    "ax.set_xlabel('point spread')\n",
    "ax.set_title('Predicted winning probabilities from a logit model')\n",
    "\n",
    "ax.legend(frameon=False, fontsize=16)\n",
    "sea.despine(ax=ax, trim=True)"
   ]
  },
  {
   "cell_type": "markdown",
   "metadata": {},
   "source": [
    "## Top Hat Practice Exercise\n",
    "\n",
    "Take a few minutes and try the following. Feel free to chat with those around you if you get stuck. I am here, too.\n",
    "\n",
    "1. Load the data 'apple.dta'. The data dictionary can be found [here](http://fmwww.bc.edu/ec-p/data/wooldridge/apple.des). The variable `ecolbs` is purchases of eco-friendly apples (whatever that means).  "
   ]
  },
  {
   "cell_type": "markdown",
   "metadata": {},
   "source": [
    "2. Create a variable named `ecobuy` that is equal to 1 if the observation has a positive purchase of eco-apples (i.e., ecolbs>0). This will be our left-hand side variable. \n",
    "\n",
    "   Remember that \n",
    "```python \n",
    "apples['ecobuy'] = (apples['ecolbs']>0)\n",
    "```\n",
    "\n",
    "    Will create a variable of `True` and `False`. Then you can use `.astype(int)` to convert your True/False to zero/one."
   ]
  },
  {
   "cell_type": "code",
   "execution_count": 13,
   "metadata": {},
   "outputs": [
    {
     "data": {
      "text/html": [
       "<div>\n",
       "<style scoped>\n",
       "    .dataframe tbody tr th:only-of-type {\n",
       "        vertical-align: middle;\n",
       "    }\n",
       "\n",
       "    .dataframe tbody tr th {\n",
       "        vertical-align: top;\n",
       "    }\n",
       "\n",
       "    .dataframe thead th {\n",
       "        text-align: right;\n",
       "    }\n",
       "</style>\n",
       "<table border=\"1\" class=\"dataframe\">\n",
       "  <thead>\n",
       "    <tr style=\"text-align: right;\">\n",
       "      <th></th>\n",
       "      <th>id</th>\n",
       "      <th>educ</th>\n",
       "      <th>date</th>\n",
       "      <th>state</th>\n",
       "      <th>regprc</th>\n",
       "      <th>ecoprc</th>\n",
       "      <th>inseason</th>\n",
       "      <th>hhsize</th>\n",
       "      <th>male</th>\n",
       "      <th>faminc</th>\n",
       "      <th>age</th>\n",
       "      <th>reglbs</th>\n",
       "      <th>ecolbs</th>\n",
       "      <th>numlt5</th>\n",
       "      <th>num5_17</th>\n",
       "      <th>num18_64</th>\n",
       "      <th>numgt64</th>\n",
       "    </tr>\n",
       "  </thead>\n",
       "  <tbody>\n",
       "    <tr>\n",
       "      <th>0</th>\n",
       "      <td>10002</td>\n",
       "      <td>16</td>\n",
       "      <td>111597</td>\n",
       "      <td>SD</td>\n",
       "      <td>1.19</td>\n",
       "      <td>1.19</td>\n",
       "      <td>1</td>\n",
       "      <td>4</td>\n",
       "      <td>0</td>\n",
       "      <td>45</td>\n",
       "      <td>43</td>\n",
       "      <td>2.0</td>\n",
       "      <td>2.000000</td>\n",
       "      <td>0</td>\n",
       "      <td>1</td>\n",
       "      <td>3</td>\n",
       "      <td>0</td>\n",
       "    </tr>\n",
       "    <tr>\n",
       "      <th>1</th>\n",
       "      <td>10004</td>\n",
       "      <td>16</td>\n",
       "      <td>121897</td>\n",
       "      <td>KS</td>\n",
       "      <td>0.59</td>\n",
       "      <td>0.79</td>\n",
       "      <td>0</td>\n",
       "      <td>1</td>\n",
       "      <td>0</td>\n",
       "      <td>65</td>\n",
       "      <td>37</td>\n",
       "      <td>0.0</td>\n",
       "      <td>2.000000</td>\n",
       "      <td>0</td>\n",
       "      <td>0</td>\n",
       "      <td>1</td>\n",
       "      <td>0</td>\n",
       "    </tr>\n",
       "    <tr>\n",
       "      <th>2</th>\n",
       "      <td>10034</td>\n",
       "      <td>18</td>\n",
       "      <td>111097</td>\n",
       "      <td>MI</td>\n",
       "      <td>0.59</td>\n",
       "      <td>0.99</td>\n",
       "      <td>1</td>\n",
       "      <td>3</td>\n",
       "      <td>0</td>\n",
       "      <td>65</td>\n",
       "      <td>44</td>\n",
       "      <td>0.0</td>\n",
       "      <td>2.666667</td>\n",
       "      <td>0</td>\n",
       "      <td>2</td>\n",
       "      <td>1</td>\n",
       "      <td>0</td>\n",
       "    </tr>\n",
       "    <tr>\n",
       "      <th>3</th>\n",
       "      <td>10035</td>\n",
       "      <td>12</td>\n",
       "      <td>111597</td>\n",
       "      <td>TN</td>\n",
       "      <td>0.89</td>\n",
       "      <td>1.09</td>\n",
       "      <td>1</td>\n",
       "      <td>2</td>\n",
       "      <td>1</td>\n",
       "      <td>55</td>\n",
       "      <td>55</td>\n",
       "      <td>3.0</td>\n",
       "      <td>0.000000</td>\n",
       "      <td>0</td>\n",
       "      <td>0</td>\n",
       "      <td>2</td>\n",
       "      <td>0</td>\n",
       "    </tr>\n",
       "    <tr>\n",
       "      <th>4</th>\n",
       "      <td>10039</td>\n",
       "      <td>15</td>\n",
       "      <td>122997</td>\n",
       "      <td>NY</td>\n",
       "      <td>0.89</td>\n",
       "      <td>1.09</td>\n",
       "      <td>0</td>\n",
       "      <td>1</td>\n",
       "      <td>1</td>\n",
       "      <td>25</td>\n",
       "      <td>22</td>\n",
       "      <td>0.0</td>\n",
       "      <td>3.000000</td>\n",
       "      <td>0</td>\n",
       "      <td>0</td>\n",
       "      <td>1</td>\n",
       "      <td>0</td>\n",
       "    </tr>\n",
       "  </tbody>\n",
       "</table>\n",
       "</div>"
      ],
      "text/plain": [
       "      id  educ    date state  regprc  ecoprc  inseason  hhsize  male  faminc  \\\n",
       "0  10002    16  111597    SD    1.19    1.19         1       4     0      45   \n",
       "1  10004    16  121897    KS    0.59    0.79         0       1     0      65   \n",
       "2  10034    18  111097    MI    0.59    0.99         1       3     0      65   \n",
       "3  10035    12  111597    TN    0.89    1.09         1       2     1      55   \n",
       "4  10039    15  122997    NY    0.89    1.09         0       1     1      25   \n",
       "\n",
       "   age  reglbs    ecolbs  numlt5  num5_17  num18_64  numgt64  \n",
       "0   43     2.0  2.000000       0        1         3        0  \n",
       "1   37     0.0  2.000000       0        0         1        0  \n",
       "2   44     0.0  2.666667       0        2         1        0  \n",
       "3   55     3.0  0.000000       0        0         2        0  \n",
       "4   22     0.0  3.000000       0        0         1        0  "
      ]
     },
     "execution_count": 13,
     "metadata": {},
     "output_type": "execute_result"
    }
   ],
   "source": [
    "apples = pd.read_stata('apple.dta')\n",
    "apples.head()"
   ]
  },
  {
   "cell_type": "code",
   "execution_count": 24,
   "metadata": {},
   "outputs": [
    {
     "data": {
      "text/plain": [
       "ecobuy\n",
       "1    412\n",
       "0    248\n",
       "Name: count, dtype: int64"
      ]
     },
     "execution_count": 24,
     "metadata": {},
     "output_type": "execute_result"
    }
   ],
   "source": [
    "apples['ecobuy'] = (apples['ecolbs']>0)\n",
    "apples['ecobuy'] = apples['ecobuy'].astype(int)\n",
    "apples.ecobuy.value_counts()"
   ]
  },
  {
   "cell_type": "markdown",
   "metadata": {},
   "source": [
    "3. Estimate a linear probability model relating the probability of purchasing eco-apples to household characteristics. \n",
    "\n",
    "$$\\text{ecobuy} = \\beta_0 + \\beta_1 \\text{ecoprc} + \\beta_2 \\text{regprc} + \\beta_3 \\text{faminc} + \\beta_4 \\text{hhsize} + \\beta_5 \\text{educ} + \\beta_6 \\text{age} +  \\epsilon$$"
   ]
  },
  {
   "cell_type": "code",
   "execution_count": 25,
   "metadata": {},
   "outputs": [
    {
     "name": "stdout",
     "output_type": "stream",
     "text": [
      "                            OLS Regression Results                            \n",
      "==============================================================================\n",
      "Dep. Variable:                 ecobuy   R-squared:                       0.110\n",
      "Model:                            OLS   Adj. R-squared:                  0.102\n",
      "Method:                 Least Squares   F-statistic:                     13.43\n",
      "Date:                Wed, 17 Apr 2024   Prob (F-statistic):           2.18e-14\n",
      "Time:                        09:04:56   Log-Likelihood:                -419.60\n",
      "No. Observations:                 660   AIC:                             853.2\n",
      "Df Residuals:                     653   BIC:                             884.6\n",
      "Df Model:                           6                                         \n",
      "Covariance Type:            nonrobust                                         \n",
      "==============================================================================\n",
      "                 coef    std err          t      P>|t|      [0.025      0.975]\n",
      "------------------------------------------------------------------------------\n",
      "Intercept      0.4237      0.165      2.568      0.010       0.100       0.748\n",
      "regprc         0.7193      0.132      5.464      0.000       0.461       0.978\n",
      "ecoprc        -0.8026      0.109     -7.336      0.000      -1.017      -0.588\n",
      "faminc         0.0006      0.001      1.042      0.298      -0.000       0.002\n",
      "hhsize         0.0238      0.013      1.902      0.058      -0.001       0.048\n",
      "educ           0.0248      0.008      2.960      0.003       0.008       0.041\n",
      "age           -0.0005      0.001     -0.401      0.689      -0.003       0.002\n",
      "==============================================================================\n",
      "Omnibus:                     4015.360   Durbin-Watson:                   2.084\n",
      "Prob(Omnibus):                  0.000   Jarque-Bera (JB):               69.344\n",
      "Skew:                          -0.411   Prob(JB):                     8.75e-16\n",
      "Kurtosis:                       1.641   Cond. No.                         724.\n",
      "==============================================================================\n",
      "\n",
      "Notes:\n",
      "[1] Standard Errors assume that the covariance matrix of the errors is correctly specified.\n"
     ]
    }
   ],
   "source": [
    "res_ols = smf.ols('ecobuy ~ regprc+ecoprc+faminc+hhsize+educ+age', data=apples).fit()\n",
    "\n",
    "print(res_ols.summary())"
   ]
  },
  {
   "cell_type": "markdown",
   "metadata": {},
   "source": [
    "4. How many estimated probabilities are negative? Are greater than one?"
   ]
  },
  {
   "cell_type": "code",
   "execution_count": 26,
   "metadata": {},
   "outputs": [
    {
     "data": {
      "text/plain": [
       "count    660.000000\n",
       "mean       0.624242\n",
       "std        0.160623\n",
       "min        0.240317\n",
       "25%        0.487370\n",
       "50%        0.627557\n",
       "75%        0.754041\n",
       "max        1.070860\n",
       "dtype: float64"
      ]
     },
     "execution_count": 26,
     "metadata": {},
     "output_type": "execute_result"
    }
   ],
   "source": [
    "fitted = res_ols.fittedvalues\n",
    "fitted.describe()"
   ]
  },
  {
   "cell_type": "markdown",
   "metadata": {},
   "source": [
    "5. Now estimate the model as a probit. A probit is similar to a logit in that we are passing the linear model through a nonlinear function. In this case, the nonlinear function is the cumulative density function of the normal distribution. \n",
    "\n",
    "$$\\text{Pr}(\\text{ecobuy}=1 \\mid X) = \\Phi \\left(\\beta_0 + \\beta_1 \\text{ecoprc} + \\beta_2 \\text{regprc} + \\beta_3 \\text{faminc} + \\beta_4 \\text{hhsize} + \\beta_5 \\text{educ} + \\beta_6 \\text{age} \\right),$$\n",
    "\n",
    "where $\\Phi( )$ is the CDF of the normal distribution. Try `smf.probit()`."
   ]
  },
  {
   "cell_type": "code",
   "execution_count": 32,
   "metadata": {},
   "outputs": [
    {
     "name": "stdout",
     "output_type": "stream",
     "text": [
      "Optimization terminated successfully.\n",
      "         Current function value: 0.604599\n",
      "         Iterations 5\n",
      "                          Probit Regression Results                           \n",
      "==============================================================================\n",
      "Dep. Variable:                 ecobuy   No. Observations:                  660\n",
      "Model:                         Probit   Df Residuals:                      653\n",
      "Method:                           MLE   Df Model:                            6\n",
      "Date:                Wed, 17 Apr 2024   Pseudo R-squ.:                 0.08664\n",
      "Time:                        09:08:06   Log-Likelihood:                -399.04\n",
      "converged:                       True   LL-Null:                       -436.89\n",
      "Covariance Type:            nonrobust   LLR p-value:                 2.751e-14\n",
      "==============================================================================\n",
      "                 coef    std err          z      P>|z|      [0.025      0.975]\n",
      "------------------------------------------------------------------------------\n",
      "Intercept     -0.2438      0.474     -0.514      0.607      -1.173       0.685\n",
      "regprc         2.0302      0.382      5.318      0.000       1.282       2.778\n",
      "ecoprc        -2.2669      0.321     -7.052      0.000      -2.897      -1.637\n",
      "faminc         0.0014      0.002      0.932      0.351      -0.002       0.004\n",
      "hhsize         0.0691      0.037      1.893      0.058      -0.002       0.141\n",
      "educ           0.0714      0.024      2.939      0.003       0.024       0.119\n",
      "age           -0.0012      0.004     -0.340      0.734      -0.008       0.006\n",
      "==============================================================================\n"
     ]
    }
   ],
   "source": [
    "res_prob = smf.probit('ecobuy ~ regprc+ecoprc+faminc+hhsize+educ+age', data=apples).fit()\n",
    "print(res_prob.summary())"
   ]
  },
  {
   "cell_type": "markdown",
   "metadata": {},
   "source": [
    "6. Compute the **marginal effects** of the coefficients at **the means** and print them out using `summary()`. You can get the marginal effects from the results object using `.get_margeff(at='mean')`  [(docs)](https://www.statsmodels.org/dev/generated/statsmodels.discrete.discrete_model.ProbitResults.get_margeff.html#statsmodels.discrete.discrete_model.ProbitResults.get_margeff). \n",
    "\n",
    "The marginal effect tells us the marginal change in predicted probability as the independent variables change. What does the marginal effect on `ecoprc` (the price of eco apples) tell us?"
   ]
  },
  {
   "cell_type": "code",
   "execution_count": 34,
   "metadata": {},
   "outputs": [
    {
     "data": {
      "text/html": [
       "<table class=\"simpletable\">\n",
       "<caption>Probit Marginal Effects</caption>\n",
       "<tr>\n",
       "  <th>Dep. Variable:</th> <td>ecobuy</td>\n",
       "</tr>\n",
       "<tr>\n",
       "  <th>Method:</th>         <td>dydx</td> \n",
       "</tr>\n",
       "<tr>\n",
       "  <th>At:</th>             <td>mean</td> \n",
       "</tr>\n",
       "</table>\n",
       "<table class=\"simpletable\">\n",
       "<tr>\n",
       "     <th></th>       <th>dy/dx</th>    <th>std err</th>      <th>z</th>      <th>P>|z|</th>  <th>[0.025</th>    <th>0.975]</th>  \n",
       "</tr>\n",
       "<tr>\n",
       "  <th>regprc</th> <td>    0.7619</td> <td>    0.143</td> <td>    5.334</td> <td> 0.000</td> <td>    0.482</td> <td>    1.042</td>\n",
       "</tr>\n",
       "<tr>\n",
       "  <th>ecoprc</th> <td>   -0.8508</td> <td>    0.120</td> <td>   -7.087</td> <td> 0.000</td> <td>   -1.086</td> <td>   -0.615</td>\n",
       "</tr>\n",
       "<tr>\n",
       "  <th>faminc</th> <td>    0.0005</td> <td>    0.001</td> <td>    0.932</td> <td> 0.351</td> <td>   -0.001</td> <td>    0.002</td>\n",
       "</tr>\n",
       "<tr>\n",
       "  <th>hhsize</th> <td>    0.0259</td> <td>    0.014</td> <td>    1.894</td> <td> 0.058</td> <td>   -0.001</td> <td>    0.053</td>\n",
       "</tr>\n",
       "<tr>\n",
       "  <th>educ</th>   <td>    0.0268</td> <td>    0.009</td> <td>    2.941</td> <td> 0.003</td> <td>    0.009</td> <td>    0.045</td>\n",
       "</tr>\n",
       "<tr>\n",
       "  <th>age</th>    <td>   -0.0005</td> <td>    0.001</td> <td>   -0.340</td> <td> 0.734</td> <td>   -0.003</td> <td>    0.002</td>\n",
       "</tr>\n",
       "</table>"
      ],
      "text/latex": [
       "\\begin{center}\n",
       "\\begin{tabular}{lc}\n",
       "\\toprule\n",
       "\\textbf{Dep. Variable:} &     ecobuy      \\\\\n",
       "\\textbf{Method:}        &      dydx       \\\\\n",
       "\\textbf{At:}            &      mean       \\\\\n",
       "\\bottomrule\n",
       "\\end{tabular}\n",
       "\\begin{tabular}{ccccccc}\n",
       "   \\textbf{}    & \\textbf{dy/dx} & \\textbf{std err} & \\textbf{z} & \\textbf{P$> |$z$|$} & \\textbf{[0.025} & \\textbf{0.975]}  \\\\\n",
       "\\midrule\n",
       "\\bottomrule\n",
       "\\end{tabular}\n",
       "\\begin{tabular}{lcccccc}\n",
       "\\textbf{regprc} &       0.7619   &        0.143     &     5.334  &         0.000        &        0.482    &        1.042     \\\\\n",
       "\\textbf{ecoprc} &      -0.8508   &        0.120     &    -7.087  &         0.000        &       -1.086    &       -0.615     \\\\\n",
       "\\textbf{faminc} &       0.0005   &        0.001     &     0.932  &         0.351        &       -0.001    &        0.002     \\\\\n",
       "\\textbf{hhsize} &       0.0259   &        0.014     &     1.894  &         0.058        &       -0.001    &        0.053     \\\\\n",
       "\\textbf{educ}   &       0.0268   &        0.009     &     2.941  &         0.003        &        0.009    &        0.045     \\\\\n",
       "\\textbf{age}    &      -0.0005   &        0.001     &    -0.340  &         0.734        &       -0.003    &        0.002     \\\\\n",
       "\\bottomrule\n",
       "\\end{tabular}\n",
       "%\\caption{Probit Marginal Effects}\n",
       "\\end{center}"
      ],
      "text/plain": [
       "<class 'statsmodels.iolib.summary.Summary'>\n",
       "\"\"\"\n",
       "       Probit Marginal Effects       \n",
       "=====================================\n",
       "Dep. Variable:                 ecobuy\n",
       "Method:                          dydx\n",
       "At:                              mean\n",
       "==============================================================================\n",
       "                dy/dx    std err          z      P>|z|      [0.025      0.975]\n",
       "------------------------------------------------------------------------------\n",
       "regprc         0.7619      0.143      5.334      0.000       0.482       1.042\n",
       "ecoprc        -0.8508      0.120     -7.087      0.000      -1.086      -0.615\n",
       "faminc         0.0005      0.001      0.932      0.351      -0.001       0.002\n",
       "hhsize         0.0259      0.014      1.894      0.058      -0.001       0.053\n",
       "educ           0.0268      0.009      2.941      0.003       0.009       0.045\n",
       "age           -0.0005      0.001     -0.340      0.734      -0.003       0.002\n",
       "==============================================================================\n",
       "\"\"\""
      ]
     },
     "execution_count": 34,
     "metadata": {},
     "output_type": "execute_result"
    }
   ],
   "source": [
    "res_prob.get_margeff(at='mean').summary()  #holding fixed everything else, if theres's 1$ increase in ecoprice, ecobuy decreases by 85%\n",
    "\n",
    "# a dolar increase in regular price, ecopurchase increases by 76%, higher inchhl are more likekly to buy ecoapples but not statistically significant; more highly educhhll are mor elikely to buy ecofriendly apples"
   ]
  },
  {
   "cell_type": "markdown",
   "metadata": {},
   "source": [
    "## Miniproject\n",
    "\n",
    "Nowcasting is using high-frequency data to learn about current economic conditions. Since official economic data comes at a lag, we don't know what, say, current-quarter GDP growth will be until the quarter is long over.  \n",
    "\n",
    "Let's see if we can \"nowcast\" recessions. \n",
    "\n",
    "* The NBER recession indicator is a binary variable equal to 1 if the US is in a recession. This is what we will nowcast. Fred code: USRECD. \n",
    "\n",
    "* A measure of the term spread is the difference in the yield on a 10-year treasury and a 2-year treasury. Fred code: T10Y2Y.\n",
    "\n",
    "* A measure of the credit spread is the yield on BAA corporate debt minus the yield on AAA corporate debt. Fed codes: DBAA and DAAA.\n",
    "\n",
    "We'll proceed in a few steps. After today's session, go back and see if you can do the whole thing on your own:\n",
    "1. Download the data from FRED. The data starts in 1985.\n",
    "2. Compute the credit spread variable by subtracting the AAA yield from the BAA yield.\n",
    "3. Plot the recession indicator, the term spread, and the credit spread."
   ]
  },
  {
   "cell_type": "code",
   "execution_count": null,
   "metadata": {},
   "outputs": [],
   "source": [
    "import pandas_datareader.data as web   \n",
    "rec = web.DataReader(['USRECD', 'DBAA', 'DAAA', 'T10Y2Y'], 'fred', start = '1985-01-01')\n",
    "rec['credit_spread'] = rec['DBAA'] - rec['DAAA']"
   ]
  },
  {
   "cell_type": "code",
   "execution_count": null,
   "metadata": {},
   "outputs": [],
   "source": [
    "fig, ax = plt.subplots(figsize=(15,8))\n",
    "\n",
    "ax.plot(rec.index, rec['T10Y2Y'], color = 'red', label='Term spread')\n",
    "ax.plot(rec.index, rec['credit_spread'], color='blue', label='Credit spread')\n",
    "\n",
    "ax2 = ax.twinx()\n",
    "ax2.plot(rec.index, rec['USRECD'], color = 'black', label='Recession\\n(right axis)')\n",
    "\n",
    "ax.set_ylabel('yield (%)', fontsize=16)\n",
    "ax2.set_ylabel('recession = 1', fontsize=16)\n",
    "\n",
    "ax.legend(frameon=False, fontsize=16, bbox_to_anchor=(0.65, 1))\n",
    "ax2.legend(frameon=False, fontsize=16, loc='upper left')\n",
    "\n",
    "for a in [ax, ax2]:\n",
    "    a.tick_params(axis='both', labelsize=14)\n",
    "\n",
    "plt.show()"
   ]
  },
  {
   "cell_type": "markdown",
   "metadata": {},
   "source": [
    "4. Estimate a discrete model. One option is:\n",
    "```python\n",
    "'USRECD ~ credit_spread + T10Y2Y'\n",
    "```\n",
    "5. Compute the predicted probabilities. \n",
    "6. Plot the predicted probabilities and the recession indicator. How does this model look? "
   ]
  },
  {
   "cell_type": "code",
   "execution_count": null,
   "metadata": {},
   "outputs": [],
   "source": [
    "res_rec = smf.logit('USRECD ~ credit_spread + T10Y2Y', data=rec).fit()\n",
    "rec_probs = np.exp(res_rec.fittedvalues) / (1 + np.exp(res_rec.fittedvalues))"
   ]
  },
  {
   "cell_type": "code",
   "execution_count": null,
   "metadata": {},
   "outputs": [],
   "source": [
    "fig, ax = plt.subplots(figsize=(15,8))\n",
    "\n",
    "ax.plot(rec_probs.index, rec_probs, color = 'blue', label='Recession\\nprob.')\n",
    "\n",
    "ax2 = ax.twinx()\n",
    "ax2.plot(rec.index, rec['USRECD'], color = 'black', label='Recession\\n(right axis)')\n",
    "\n",
    "ax.set_ylabel('yield (%)', fontsize=16)\n",
    "ax2.set_ylabel('recession = 1', fontsize=16)\n",
    "\n",
    "ax.legend(frameon=False, fontsize=16, bbox_to_anchor=(0.18, 0.9))\n",
    "ax2.legend(frameon=False, fontsize=16, loc='upper left')\n",
    "\n",
    "for a in [ax, ax2]:\n",
    "    a.tick_params(axis='both', labelsize=14)\n",
    "\n",
    "plt.show()"
   ]
  },
  {
   "cell_type": "markdown",
   "metadata": {},
   "source": [
    "On your own, experiment with different models. You might try adding more indicators. VIX? SP500 growth rate? \n",
    "\n",
    "You could try to forecast the recessions, too. In that case, you want to regress the **future** value of the recession variables on the indicators. "
   ]
  }
 ],
 "metadata": {
  "celltoolbar": "Attachments",
  "kernelspec": {
   "display_name": "Python 3 (ipykernel)",
   "language": "python",
   "name": "python3"
  },
  "language_info": {
   "codemirror_mode": {
    "name": "ipython",
    "version": 3
   },
   "file_extension": ".py",
   "mimetype": "text/x-python",
   "name": "python",
   "nbconvert_exporter": "python",
   "pygments_lexer": "ipython3",
   "version": "3.11.5"
  },
  "varInspector": {
   "cols": {
    "lenName": 16,
    "lenType": 16,
    "lenVar": 40
   },
   "kernels_config": {
    "python": {
     "delete_cmd_postfix": "",
     "delete_cmd_prefix": "del ",
     "library": "var_list.py",
     "varRefreshCmd": "print(var_dic_list())"
    },
    "r": {
     "delete_cmd_postfix": ") ",
     "delete_cmd_prefix": "rm(",
     "library": "var_list.r",
     "varRefreshCmd": "cat(var_dic_list()) "
    }
   },
   "types_to_exclude": [
    "module",
    "function",
    "builtin_function_or_method",
    "instance",
    "_Feature"
   ],
   "window_display": false
  }
 },
 "nbformat": 4,
 "nbformat_minor": 4
}
