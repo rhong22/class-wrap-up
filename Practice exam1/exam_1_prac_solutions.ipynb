{
 "cells": [
  {
   "cell_type": "markdown",
   "metadata": {},
   "source": [
    "# Exam 1 (100 pts total)\n",
    "\n",
    "files needed = (`2021-02.csv`, `invest.csv`, `phil.xls`, `exam1_f21_q5.png`, `exam1_f21_q1.png`), which can be found in `exam1_data_prac.zip`\n",
    "\n",
    "You have 75 minutes to complete this exam.\n",
    "\n",
    "Answer all the questions below in this notebook. You should insert as many cells into the notebook as you need. When you are finished, upload your finished notebook to Canvas. \n",
    "\n",
    "* You may use your notes and the Internet, but you cannot work with others.  \n",
    "* Import any packages you need to complete this exam.\n",
    "* Do not modify the data files directly. All data manipulation should happen in your code.\n",
    "\n",
    "Remember, jupyter notebooks and python have lots of built in help facilities. "
   ]
  },
  {
   "cell_type": "markdown",
   "metadata": {},
   "source": [
    "## Question 0 (5 pts): Collison, Jack\n",
    " \n",
    "Replace 'Last, First' above with your actual name. Enter it as: last name, first name."
   ]
  },
  {
   "cell_type": "markdown",
   "metadata": {},
   "source": [
    "## Question 1 (10 pts): Visualization\n",
    "\n",
    "\n",
    "The figure below is a plot of the consumer price index (CPI), which is the average price in the US at each point in time.  It uses the default figure setting from the FRED database.\n",
    "\n",
    "The *inflation rate* is the growth rate of the CPI. \n",
    "\n",
    "Insert a markdown cell below, and answer the following questions. \n",
    "\n",
    "1. I want to include this figure in a research paper that will be printed out in black and white and distributed. How would you change this figure? \n",
    "\n",
    "2. I want the message to be \"the inflation rate in 2021 is high compared to its values since 2000.\" How would you change this figure?\n",
    "\n",
    "![alt](exam1_data_prac/exam1_f21_q1.png)"
   ]
  },
  {
   "cell_type": "code",
   "execution_count": null,
   "metadata": {},
   "outputs": [],
   "source": []
  },
  {
   "cell_type": "markdown",
   "metadata": {},
   "source": [
    "1. I would absolutely delete the color in the background. It is going to look dark when printed in black and white. I would probably delete the gridlines, but it would be okay if you kept them. I would also remove the FRED logo and the text at the bottom of the figure. I would put the source of the data in the notes that accompany the figure. I would experiment with the recession bars to see if they interfere with the black-and-white plot. \\[You do not need to list all of these things. The colored background is probably the most egregious.\\] \n",
    "\n",
    "2. The most important change is to report the data in growth rates (the inflation rate) rather than the levels. Otherwise, the reader has to guess at the slopes of the line to determine the inflation rates. I would also change the sample to only include 2000-2021 to make it easier to focus on the period of interest. I might also add a horizontal line at the 2021 value to make it very easy to compare the 2021 value to the past values. \\[Not mentioning changing the figure to the inflation rate was the most common source of points off here.\\] "
   ]
  },
  {
   "cell_type": "markdown",
   "metadata": {},
   "source": [
    "## Question 2 (20 pts): Functions and flow control\n",
    "\n",
    "Write a function that takes two argumens: a list of weights ($\\omega$) and a list of values ($x$). There are $N$ values and weights. The function should return the weighted average of the values. \n",
    "\n",
    "$$\n",
    "\\text{weighted average} = \\sum_{i=0}^N(\\omega_i x_i)\n",
    "$$\n",
    "\n",
    "which is the same as \n",
    "\n",
    "$$\n",
    "\\text{weighted average} = \\omega_0 * x_0 + \\omega_1 * x_1 + \\cdots + \\omega_{N-1} * x_{N-1}\n",
    "$$\n",
    "\n",
    "\n",
    "\n",
    "Use your function to compute the weighted average of the list `values` using the weights `weights`. Print out the weighted average as \n",
    "\n",
    "\"The weighted average is ??.??.\" Replace the ??.?? with the weighted average. \n",
    "\n",
    "```python\n",
    "weights = [0.1, 0.2, 0.05, 0.1, 0.15, 0.35, 0.03, 0.02]\n",
    "values = [25, 75, 33, 26, 87, 64, 21, 55]\n",
    "```"
   ]
  },
  {
   "cell_type": "code",
   "execution_count": 5,
   "metadata": {},
   "outputs": [],
   "source": [
    "def wtavg(wts, vals):\n",
    "    temp = 0\n",
    "    for w, v in zip(wts, vals):\n",
    "        temp = temp + w*v\n",
    "    \n",
    "    return temp        "
   ]
  },
  {
   "cell_type": "code",
   "execution_count": 6,
   "metadata": {},
   "outputs": [
    {
     "name": "stdout",
     "output_type": "stream",
     "text": [
      "The weighted average is 58.93.\n"
     ]
    }
   ],
   "source": [
    "weights = [0.1, 0.2, 0.05, 0.1, 0.15, 0.35, 0.03, 0.02]\n",
    "values = [25, 75, 33, 26, 87, 64, 21, 55]\n",
    "\n",
    "print('The weighted average is {0:5.2f}.'.format(wtavg(weights, values)))"
   ]
  },
  {
   "cell_type": "markdown",
   "metadata": {},
   "source": [
    "\n",
    "## Question 3 (20 pts): Selecting data from a DataFrame \n",
    "\n",
    "Load the file '2021-02.csv'. It contains US imports by 10-digit harmonized system code, by country, for February 2021. \n",
    "\n",
    "An observation (row of the data) is the imports of a good from a country in Feburary 2021.\n",
    "\n",
    "The variables of interest: \n",
    "\n",
    "* `I_COMMODITY` = The code that identifies the type of good. Example:  6505002590 is the code for \"knitted hats.\"\n",
    "* `CTY_CODE` = The code that identifies the exporting country. Example: 2010 is the code for \"Mexico.\"\n",
    "* `GEN_VAL_MO` = The value of imports of the good from the \n",
    "\n",
    "\n",
    "Use python and pandas to answer the following questions.\n"
   ]
  },
  {
   "cell_type": "code",
   "execution_count": 9,
   "metadata": {},
   "outputs": [
    {
     "data": {
      "text/html": [
       "<div>\n",
       "<style scoped>\n",
       "    .dataframe tbody tr th:only-of-type {\n",
       "        vertical-align: middle;\n",
       "    }\n",
       "\n",
       "    .dataframe tbody tr th {\n",
       "        vertical-align: top;\n",
       "    }\n",
       "\n",
       "    .dataframe thead th {\n",
       "        text-align: right;\n",
       "    }\n",
       "</style>\n",
       "<table border=\"1\" class=\"dataframe\">\n",
       "  <thead>\n",
       "    <tr style=\"text-align: right;\">\n",
       "      <th></th>\n",
       "      <th>GEN_VAL_MO</th>\n",
       "      <th>CC_MO</th>\n",
       "      <th>AIR_VAL_MO</th>\n",
       "      <th>VES_VAL_MO</th>\n",
       "      <th>COMM_LVL</th>\n",
       "      <th>I_COMMODITY</th>\n",
       "      <th>VES_WGT_MO</th>\n",
       "      <th>GEN_QY1_MO</th>\n",
       "      <th>GEN_QY2_MO</th>\n",
       "      <th>AIR_WGT_MO</th>\n",
       "      <th>time</th>\n",
       "      <th>CTY_CODE</th>\n",
       "    </tr>\n",
       "  </thead>\n",
       "  <tbody>\n",
       "    <tr>\n",
       "      <th>134020</th>\n",
       "      <td>13375</td>\n",
       "      <td>24</td>\n",
       "      <td>13375</td>\n",
       "      <td>0</td>\n",
       "      <td>HS10</td>\n",
       "      <td>6402993145</td>\n",
       "      <td>0</td>\n",
       "      <td>1560</td>\n",
       "      <td>0</td>\n",
       "      <td>557</td>\n",
       "      <td>2021-02</td>\n",
       "      <td>5530</td>\n",
       "    </tr>\n",
       "    <tr>\n",
       "      <th>157612</th>\n",
       "      <td>84593</td>\n",
       "      <td>19</td>\n",
       "      <td>5335</td>\n",
       "      <td>79258</td>\n",
       "      <td>HS10</td>\n",
       "      <td>8483308020</td>\n",
       "      <td>24303</td>\n",
       "      <td>24230</td>\n",
       "      <td>0</td>\n",
       "      <td>5</td>\n",
       "      <td>2021-02</td>\n",
       "      <td>5800</td>\n",
       "    </tr>\n",
       "    <tr>\n",
       "      <th>125914</th>\n",
       "      <td>5594</td>\n",
       "      <td>1</td>\n",
       "      <td>0</td>\n",
       "      <td>5594</td>\n",
       "      <td>HS10</td>\n",
       "      <td>7326908688</td>\n",
       "      <td>20</td>\n",
       "      <td>20</td>\n",
       "      <td>0</td>\n",
       "      <td>0</td>\n",
       "      <td>2021-02</td>\n",
       "      <td>5460</td>\n",
       "    </tr>\n",
       "    <tr>\n",
       "      <th>171163</th>\n",
       "      <td>12500</td>\n",
       "      <td>2</td>\n",
       "      <td>0</td>\n",
       "      <td>0</td>\n",
       "      <td>HS10</td>\n",
       "      <td>9010505000</td>\n",
       "      <td>0</td>\n",
       "      <td>57</td>\n",
       "      <td>0</td>\n",
       "      <td>0</td>\n",
       "      <td>2021-02</td>\n",
       "      <td>5880</td>\n",
       "    </tr>\n",
       "    <tr>\n",
       "      <th>176508</th>\n",
       "      <td>9810</td>\n",
       "      <td>2</td>\n",
       "      <td>9810</td>\n",
       "      <td>0</td>\n",
       "      <td>HS10</td>\n",
       "      <td>8211945000</td>\n",
       "      <td>0</td>\n",
       "      <td>187</td>\n",
       "      <td>0</td>\n",
       "      <td>106</td>\n",
       "      <td>2021-02</td>\n",
       "      <td>6021</td>\n",
       "    </tr>\n",
       "  </tbody>\n",
       "</table>\n",
       "</div>"
      ],
      "text/plain": [
       "        GEN_VAL_MO  CC_MO  AIR_VAL_MO  VES_VAL_MO COMM_LVL  I_COMMODITY  \\\n",
       "134020       13375     24       13375           0     HS10   6402993145   \n",
       "157612       84593     19        5335       79258     HS10   8483308020   \n",
       "125914        5594      1           0        5594     HS10   7326908688   \n",
       "171163       12500      2           0           0     HS10   9010505000   \n",
       "176508        9810      2        9810           0     HS10   8211945000   \n",
       "\n",
       "        VES_WGT_MO  GEN_QY1_MO  GEN_QY2_MO  AIR_WGT_MO     time  CTY_CODE  \n",
       "134020           0        1560           0         557  2021-02      5530  \n",
       "157612       24303       24230           0           5  2021-02      5800  \n",
       "125914          20          20           0           0  2021-02      5460  \n",
       "171163           0          57           0           0  2021-02      5880  \n",
       "176508           0         187           0         106  2021-02      6021  "
      ]
     },
     "execution_count": 9,
     "metadata": {},
     "output_type": "execute_result"
    }
   ],
   "source": [
    "import pandas as pd\n",
    "imports = pd.read_csv('2021-02.csv')\n",
    "imports.sample(5)"
   ]
  },
  {
   "cell_type": "markdown",
   "metadata": {},
   "source": [
    "1. How many countries have positive `GEN_VAL_MO` for `I_COMMODITY` 6505002590? Print the answer as \n",
    "\n",
    "\"There are ?? countries with positive exports of 6505002590.\" Replace ?? with your answer."
   ]
  },
  {
   "cell_type": "code",
   "execution_count": 13,
   "metadata": {},
   "outputs": [
    {
     "data": {
      "text/plain": [
       "38"
      ]
     },
     "execution_count": 13,
     "metadata": {},
     "output_type": "execute_result"
    }
   ],
   "source": [
    "num_cty = imports[(imports['I_COMMODITY'] == 6505002590) & (imports['GEN_VAL_MO'] > 0)].shape[0]\n",
    "\n",
    "num_cty\n",
    "#print(\"There are {} countries with positive exports of 6505002590.\".format(num_cty)) "
   ]
  },
  {
   "cell_type": "markdown",
   "metadata": {},
   "source": [
    "2.  For this question\n",
    "    1. Compute the total value of imports of commodity 6505002590. \n",
    "    2. Compute the total value of imports of commodity 6505002590 that are from country 2010. \n",
    "    3. Report your answer as the share of total imports of commodity 6505002590 **that come from Mexico.** \n",
    "\n",
    "\"The share of imports of commodity 6505002590 from Mexico is ?.?? percent.\"  \n",
    "\n",
    "Replace the ?.?? with your answer. "
   ]
  },
  {
   "cell_type": "code",
   "execution_count": 18,
   "metadata": {},
   "outputs": [
    {
     "name": "stdout",
     "output_type": "stream",
     "text": [
      "6768295\n",
      "208029\n",
      "The share of imports of commodity 6505002590 from Mexico is 3.07 percent.\n"
     ]
    }
   ],
   "source": [
    "im_tot = imports[imports['I_COMMODITY'] == 6505002590]['GEN_VAL_MO'].sum()\n",
    "print(im_tot)\n",
    "im_mex = imports[(imports['I_COMMODITY'] == 6505002590) & (imports['CTY_CODE'] == 2010)]['GEN_VAL_MO'].sum()\n",
    "print(im_mex)\n",
    "print(\"The share of imports of commodity 6505002590 from Mexico is {0:.2f} percent.\".format(im_mex / im_tot*100))"
   ]
  },
  {
   "cell_type": "markdown",
   "metadata": {},
   "source": [
    "3. Create a new DataFrame that contains only the columns `CTY_CODE`, `I_COMMODITY`, `VES_VAL_MO`, and `AIR_VAL_MO`. Drop all rows from this new DataFrame that do not have strictly positive values for **both** `VES_VAL_MO` and `AIR_VAL_MO`.\n",
    "\n",
    "Report the number of rows and columns in your new DataFrame as \n",
    "\n",
    "\"There are ????? rows and ? columns in the new DataFrame.\" \n",
    "\n",
    "Replace ? with the number of rows and ????? with the number of columns."
   ]
  },
  {
   "cell_type": "code",
   "execution_count": 19,
   "metadata": {},
   "outputs": [
    {
     "name": "stdout",
     "output_type": "stream",
     "text": [
      "There are 36269 rows and 4 columns in the new DataFrame.\n"
     ]
    }
   ],
   "source": [
    "imports_new = imports[(imports['VES_VAL_MO'] > 0) & (imports['AIR_VAL_MO'] > 0)][['CTY_CODE', 'I_COMMODITY', 'VES_VAL_MO', 'AIR_VAL_MO']]\n",
    "print(\"There are {0} rows and {1} columns in the new DataFrame.\".format(imports_new.shape[0], imports_new.shape[1]))"
   ]
  },
  {
   "cell_type": "markdown",
   "metadata": {},
   "source": [
    "## Question 4 (15 pts): Loading messy data\n",
    "\n",
    "The file 'invest.csv' contains quarterly U.S. private nonresidentrial fixed investment (PNFI). \n",
    "\n",
    "1. Print out 3 random rows from your DataFrame."
   ]
  },
  {
   "cell_type": "code",
   "execution_count": 23,
   "metadata": {},
   "outputs": [
    {
     "name": "stdout",
     "output_type": "stream",
     "text": [
      "observation_date     object\n",
      "PNFI                float64\n",
      "dtype: object\n"
     ]
    },
    {
     "data": {
      "text/html": [
       "<div>\n",
       "<style scoped>\n",
       "    .dataframe tbody tr th:only-of-type {\n",
       "        vertical-align: middle;\n",
       "    }\n",
       "\n",
       "    .dataframe tbody tr th {\n",
       "        vertical-align: top;\n",
       "    }\n",
       "\n",
       "    .dataframe thead th {\n",
       "        text-align: right;\n",
       "    }\n",
       "</style>\n",
       "<table border=\"1\" class=\"dataframe\">\n",
       "  <thead>\n",
       "    <tr style=\"text-align: right;\">\n",
       "      <th></th>\n",
       "      <th>observation_date</th>\n",
       "      <th>PNFI</th>\n",
       "    </tr>\n",
       "  </thead>\n",
       "  <tbody>\n",
       "    <tr>\n",
       "      <th>223</th>\n",
       "      <td>2002-10-01</td>\n",
       "      <td>1.331215e+12</td>\n",
       "    </tr>\n",
       "    <tr>\n",
       "      <th>290</th>\n",
       "      <td>2019-07-01</td>\n",
       "      <td>2.969292e+12</td>\n",
       "    </tr>\n",
       "    <tr>\n",
       "      <th>159</th>\n",
       "      <td>1986-10-01</td>\n",
       "      <td>6.105530e+11</td>\n",
       "    </tr>\n",
       "  </tbody>\n",
       "</table>\n",
       "</div>"
      ],
      "text/plain": [
       "    observation_date          PNFI\n",
       "223       2002-10-01  1.331215e+12\n",
       "290       2019-07-01  2.969292e+12\n",
       "159       1986-10-01  6.105530e+11"
      ]
     },
     "execution_count": 23,
     "metadata": {},
     "output_type": "execute_result"
    }
   ],
   "source": [
    "inv = pd.read_csv('invest.csv', header=11, thousands=',')\n",
    "print(inv.dtypes)\n",
    "inv.sample(3)"
   ]
  },
  {
   "cell_type": "markdown",
   "metadata": {},
   "source": [
    "2. Print out: \"Average investment is is ???,???,???,???.\" \n",
    "\n",
    "   Replace the ???,???,???,??? with the average PNFI. Note the commas separating the thousands and no digits to the right of the decimal point."
   ]
  },
  {
   "cell_type": "code",
   "execution_count": 24,
   "metadata": {},
   "outputs": [
    {
     "name": "stdout",
     "output_type": "stream",
     "text": [
      "Average investment is 843,439,285,235.\n"
     ]
    }
   ],
   "source": [
    "print(\"Average investment is {:,.0f}.\".format(inv['PNFI'].mean() ))"
   ]
  },
  {
   "cell_type": "markdown",
   "metadata": {},
   "source": [
    "## Question 5 (30 pts): Plotting\n",
    "\n",
    "### 3/8/2022: Looks like I had a typo when I created the original figure to replicate. The position associated with 2021-04-01 data point was incorrect.  The correct version is below. \n",
    "\n",
    "The file 'phil.xls' contains the US unemployment rate and inflation rate. Use these data to recreate the figure below.  Some details:\n",
    " \n",
    "* The title font size is 20\n",
    "* The y-axis and y-axis label font size is 16\n",
    "* Adjust the size of the data markers (the stars) so that they are larger than the default. Do not make them so large that they are hard to read, though.\n",
    "* The x-axis min and max are (2, 15)\n",
    "\n",
    "![alt](exam1_data_prac/exam1_f21_q5.png)"
   ]
  },
  {
   "cell_type": "code",
   "execution_count": 25,
   "metadata": {},
   "outputs": [
    {
     "data": {
      "text/html": [
       "<div>\n",
       "<style scoped>\n",
       "    .dataframe tbody tr th:only-of-type {\n",
       "        vertical-align: middle;\n",
       "    }\n",
       "\n",
       "    .dataframe tbody tr th {\n",
       "        vertical-align: top;\n",
       "    }\n",
       "\n",
       "    .dataframe thead th {\n",
       "        text-align: right;\n",
       "    }\n",
       "</style>\n",
       "<table border=\"1\" class=\"dataframe\">\n",
       "  <thead>\n",
       "    <tr style=\"text-align: right;\">\n",
       "      <th></th>\n",
       "      <th>observation_date</th>\n",
       "      <th>unemp</th>\n",
       "      <th>infl</th>\n",
       "    </tr>\n",
       "  </thead>\n",
       "  <tbody>\n",
       "    <tr>\n",
       "      <th>0</th>\n",
       "      <td>2006-01-01</td>\n",
       "      <td>4.7</td>\n",
       "      <td>4.2</td>\n",
       "    </tr>\n",
       "    <tr>\n",
       "      <th>1</th>\n",
       "      <td>2006-02-01</td>\n",
       "      <td>4.8</td>\n",
       "      <td>4.2</td>\n",
       "    </tr>\n",
       "  </tbody>\n",
       "</table>\n",
       "</div>"
      ],
      "text/plain": [
       "  observation_date  unemp  infl\n",
       "0       2006-01-01    4.7   4.2\n",
       "1       2006-02-01    4.8   4.2"
      ]
     },
     "execution_count": 25,
     "metadata": {},
     "output_type": "execute_result"
    }
   ],
   "source": [
    "import matplotlib.pyplot as plt\n",
    "import seaborn as sns\n",
    "phil = pd.read_excel('phil.xls')\n",
    "phil.head(2)"
   ]
  },
  {
   "cell_type": "code",
   "execution_count": 26,
   "metadata": {},
   "outputs": [
    {
     "data": {
      "text/html": [
       "<div>\n",
       "<style scoped>\n",
       "    .dataframe tbody tr th:only-of-type {\n",
       "        vertical-align: middle;\n",
       "    }\n",
       "\n",
       "    .dataframe tbody tr th {\n",
       "        vertical-align: top;\n",
       "    }\n",
       "\n",
       "    .dataframe thead th {\n",
       "        text-align: right;\n",
       "    }\n",
       "</style>\n",
       "<table border=\"1\" class=\"dataframe\">\n",
       "  <thead>\n",
       "    <tr style=\"text-align: right;\">\n",
       "      <th></th>\n",
       "      <th>observation_date</th>\n",
       "      <th>unemp</th>\n",
       "      <th>infl</th>\n",
       "    </tr>\n",
       "  </thead>\n",
       "  <tbody>\n",
       "    <tr>\n",
       "      <th>183</th>\n",
       "      <td>2021-04-01</td>\n",
       "      <td>6.1</td>\n",
       "      <td>7.864</td>\n",
       "    </tr>\n",
       "    <tr>\n",
       "      <th>188</th>\n",
       "      <td>2021-09-01</td>\n",
       "      <td>4.8</td>\n",
       "      <td>10.862</td>\n",
       "    </tr>\n",
       "  </tbody>\n",
       "</table>\n",
       "</div>"
      ],
      "text/plain": [
       "    observation_date  unemp    infl\n",
       "183       2021-04-01    6.1   7.864\n",
       "188       2021-09-01    4.8  10.862"
      ]
     },
     "execution_count": 26,
     "metadata": {},
     "output_type": "execute_result"
    }
   ],
   "source": [
    "phil[phil['observation_date'].isin(['2021-04-01', '2021-09-01'])]"
   ]
  },
  {
   "cell_type": "code",
   "execution_count": 27,
   "metadata": {},
   "outputs": [
    {
     "data": {
      "image/png": "[encoded data removed]",
      "text/plain": [
       "<Figure size 1600x700 with 1 Axes>"
      ]
     },
     "metadata": {},
     "output_type": "display_data"
    }
   ],
   "source": [
    "fig, ax = plt.subplots(figsize=(16,7))\n",
    "\n",
    "#ax.plot(phil['unemp'], phil['infl'], color='black', marker='*', markersize=15, ls='')\n",
    "ax.scatter(phil['unemp'], phil['infl'], color='black', marker='*', s=250)\n",
    "\n",
    "ax.set_xlabel('unemployment rate', fontsize=16)\n",
    "ax.set_ylabel('inflation rate', fontsize=16)\n",
    "ax.set_title('The Phillips curve', fontsize=20)\n",
    "\n",
    "ax.set_xlim(2, 15)\n",
    "\n",
    "ax.text(4.0, 11.2, '2021-09-01', fontsize=14)\n",
    "ax.text(6.4, 7.8, '2021-04-01', fontsize=14)\n",
    "\n",
    "sns.despine()\n",
    "plt.savefig('exam1_f21_q5.png')\n",
    "plt.show()"
   ]
  },
  {
   "cell_type": "markdown",
   "metadata": {},
   "source": [
    "### You are finished!\n",
    "Upload your completed notebook to Canvas."
   ]
  }
 ],
 "metadata": {
  "celltoolbar": "Edit Metadata",
  "hide_input": false,
  "kernelspec": {
   "display_name": "Python 3 (ipykernel)",
   "language": "python",
   "name": "python3"
  },
  "language_info": {
   "codemirror_mode": {
    "name": "ipython",
    "version": 3
   },
   "file_extension": ".py",
   "mimetype": "text/x-python",
   "name": "python",
   "nbconvert_exporter": "python",
   "pygments_lexer": "ipython3",
   "version": "3.11.5"
  },
  "vscode": {
   "interpreter": {
    "hash": "f69ee35a335ce46dbfcc15a86588d1f1659e6f49ff69fa44385d419280addd68"
   }
  }
 },
 "nbformat": 4,
 "nbformat_minor": 4
}
