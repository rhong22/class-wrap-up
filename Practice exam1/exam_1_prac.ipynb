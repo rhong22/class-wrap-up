{
 "cells": [
  {
   "cell_type": "markdown",
   "metadata": {},
   "source": [
    "# Exam 1 (100 pts total)\n",
    "\n",
    "files needed = (`2021-02.csv`, `invest.csv`, `phil.xls`, `exam1_f21_q5.png`, `exam1_f21_q1.png`), which can be found in `exam1_data_prac.zip`\n",
    "\n",
    "You have 75 minutes to complete this exam.\n",
    "\n",
    "Answer all the questions below in this notebook. You should insert as many cells into the notebook as you need. When you are finished, upload your finished notebook to Canvas. \n",
    "\n",
    "* You may use your notes and the Internet, but you cannot work with others.  \n",
    "* Import any packages you need to complete this exam.\n",
    "* Do not modify the data files directly. All data manipulation should happen in your code.\n",
    "\n",
    "Remember, jupyter notebooks and python have lots of built in help facilities."
   ]
  },
  {
   "cell_type": "markdown",
   "metadata": {},
   "source": [
    "## Question 0 (5 pts): Hong, Ruijing\n",
    " \n",
    "Replace 'Last, First' above with your actual name. Enter it as: last name, first name."
   ]
  },
  {
   "cell_type": "markdown",
   "metadata": {},
   "source": [
    "## Question 1 (10 pts): Visualization\n",
    "\n",
    "\n",
    "The figure below is a plot of the consumer price index (CPI), which is the average price in the United States at each point in time.  It uses the default figure settings from the FRED database.\n",
    "\n",
    "The *inflation rate* is the growth rate of the CPI. \n",
    "\n",
    "Insert a markdown cell below, and answer the following questions. \n",
    "\n",
    "1. I want to include this figure in a research paper that will be printed out in black and white and distributed. How would you change this figure? \n",
    "\n",
    "2. I want the message to be: \"the inflation rate in 2021 is high compared to its values since 2000.\" How would you change this figure?\n",
    "\n",
    "![alt](exam1_data_prac/exam1_f21_q1.png)"
   ]
  },
  {
   "cell_type": "markdown",
   "metadata": {},
   "source": [
    "1. - delete color in the background / Overall backrgound color to white\n",
    "   - delete the gridlines(okay to keep)\n",
    "   - remove the FRED logo and the text at the bottom of the figure\n",
    "   - put sources of the data in the notes that accompnay the figure\n",
    "   - gray shaded aread -> darker color\n",
    "2. - report the data in growth rates (inflation rate) rather than the levels\n",
    "   - change the sample to only include 2000-2021 to make it easier to focus on the period of interest\n",
    "   - add a horizontal line at the 2021 value to make it very easy to compare the 2021 value to the past values\n"
   ]
  },
  {
   "cell_type": "markdown",
   "metadata": {},
   "source": [
    "## Question 2 (20 pts): Functions and flow control\n",
    "\n",
    "Write a function that takes two argumens: a list of weights ($\\omega$) and a list of values ($x$). There are $N$ values and weights. The function should return the weighted average of the values. \n",
    "\n",
    "$$\n",
    "\\text{weighted average} = \\sum_{i=0}^N(\\omega_i x_i)\n",
    "$$\n",
    "\n",
    "which is the same as \n",
    "\n",
    "$$\n",
    "\\text{weighted average} = \\omega_0 * x_0 + \\omega_1 * x_1 + \\cdots + \\omega_{N-1} * x_{N-1}\n",
    "$$\n",
    "\n",
    "\n",
    "\n",
    "Use your function to compute the weighted average of the list `values` using the weights `weights`. Print out the weighted average as \n",
    "\n",
    "\"The weighted average is ??.??.\" Replace the ??.?? with the weighted average. \n",
    "\n",
    "```python\n",
    "weights = [0.1, 0.2, 0.05, 0.1, 0.15, 0.35, 0.03, 0.02]\n",
    "values = [25, 75, 33, 26, 87, 64, 21, 55]\n",
    "```"
   ]
  },
  {
   "cell_type": "code",
   "execution_count": 167,
   "metadata": {},
   "outputs": [
    {
     "name": "stdout",
     "output_type": "stream",
     "text": [
      "The weighted average is  2.50.\n"
     ]
    }
   ],
   "source": [
    "def wtavg (wts,vals):\n",
    "    temp = 0\n",
    "    for w,v in zip(wts, vals):\n",
    "        temp = temp + w*v\n",
    "    return temp\n",
    "\n",
    "weights = [0.1, 0.2, 0.05, 0.1, 0.15, 0.35, 0.03, 0.02]\n",
    "values = [25, 75, 33, 26, 87, 64, 21, 55]\n",
    "\n",
    "print('The weighted average is {0:5.2f}.'.format(weighted_avg(weights, values)))"
   ]
  },
  {
   "cell_type": "code",
   "execution_count": 160,
   "metadata": {},
   "outputs": [
    {
     "name": "stdout",
     "output_type": "stream",
     "text": [
      "The weighted average is 2.5\n"
     ]
    }
   ],
   "source": [
    "\n",
    "def weighted_avg(w,v):\n",
    "    weighted_avg = 0\n",
    "    for w,v in zip(w, v):\n",
    "        weighted_avg += w*v\n",
    "        \n",
    "        return weighted_avg\n",
    "\n",
    "weighted_avg(weights,values)\n",
    "\n",
    "print(\"The weighted average is 2.5\")\n"
   ]
  },
  {
   "cell_type": "code",
   "execution_count": 162,
   "metadata": {},
   "outputs": [
    {
     "name": "stdout",
     "output_type": "stream",
     "text": [
      "The weighted average is  2.50.\n"
     ]
    }
   ],
   "source": [
    "weights = [0.1, 0.2, 0.05, 0.1, 0.15, 0.35, 0.03, 0.02]\n",
    "values = [25, 75, 33, 26, 87, 64, 21, 55]\n",
    "\n",
    "print('The weighted average is {0:5.2f}.'.format(weighted_avg(weights, values)))"
   ]
  },
  {
   "cell_type": "markdown",
   "metadata": {},
   "source": [
    "\n",
    "## Question 3 (20 pts): Selecting data from a DataFrame \n",
    "\n",
    "Load the file '2021-02.csv'. It contains U.S. imports by 10-digit harmonized system code, by country, for February 2021. \n",
    "\n",
    "An observation (row of the data) is the imports of a good from a country in Feburary 2021.\n",
    "\n",
    "The variables of interest: \n",
    "\n",
    "* `I_COMMODITY` = The code that identifies the type of good. Example:  6505002590 is the code for \"knitted hats.\"\n",
    "* `CTY_CODE` = The code that identifies the exporting country. Example: 2010 is the code for \"Mexico.\"\n",
    "* `GEN_VAL_MO` = The value of imports of the good\n",
    "\n",
    "\n",
    "Use python and pandas to answer the following questions.\n"
   ]
  },
  {
   "cell_type": "code",
   "execution_count": 168,
   "metadata": {},
   "outputs": [
    {
     "data": {
      "text/html": [
       "<div>\n",
       "<style scoped>\n",
       "    .dataframe tbody tr th:only-of-type {\n",
       "        vertical-align: middle;\n",
       "    }\n",
       "\n",
       "    .dataframe tbody tr th {\n",
       "        vertical-align: top;\n",
       "    }\n",
       "\n",
       "    .dataframe thead th {\n",
       "        text-align: right;\n",
       "    }\n",
       "</style>\n",
       "<table border=\"1\" class=\"dataframe\">\n",
       "  <thead>\n",
       "    <tr style=\"text-align: right;\">\n",
       "      <th></th>\n",
       "      <th>GEN_VAL_MO</th>\n",
       "      <th>CC_MO</th>\n",
       "      <th>AIR_VAL_MO</th>\n",
       "      <th>VES_VAL_MO</th>\n",
       "      <th>COMM_LVL</th>\n",
       "      <th>I_COMMODITY</th>\n",
       "      <th>VES_WGT_MO</th>\n",
       "      <th>GEN_QY1_MO</th>\n",
       "      <th>GEN_QY2_MO</th>\n",
       "      <th>AIR_WGT_MO</th>\n",
       "      <th>time</th>\n",
       "      <th>CTY_CODE</th>\n",
       "    </tr>\n",
       "  </thead>\n",
       "  <tbody>\n",
       "    <tr>\n",
       "      <th>3500</th>\n",
       "      <td>494059</td>\n",
       "      <td>41</td>\n",
       "      <td>37575</td>\n",
       "      <td>0</td>\n",
       "      <td>HS10</td>\n",
       "      <td>8516790000</td>\n",
       "      <td>0</td>\n",
       "      <td>12188</td>\n",
       "      <td>0</td>\n",
       "      <td>619</td>\n",
       "      <td>2021-02</td>\n",
       "      <td>1220</td>\n",
       "    </tr>\n",
       "    <tr>\n",
       "      <th>41082</th>\n",
       "      <td>458528</td>\n",
       "      <td>24</td>\n",
       "      <td>28360</td>\n",
       "      <td>427923</td>\n",
       "      <td>HS10</td>\n",
       "      <td>3302901050</td>\n",
       "      <td>69746</td>\n",
       "      <td>66407</td>\n",
       "      <td>0</td>\n",
       "      <td>1154</td>\n",
       "      <td>2021-02</td>\n",
       "      <td>4120</td>\n",
       "    </tr>\n",
       "    <tr>\n",
       "      <th>159741</th>\n",
       "      <td>13900</td>\n",
       "      <td>1</td>\n",
       "      <td>0</td>\n",
       "      <td>13900</td>\n",
       "      <td>HS10</td>\n",
       "      <td>8205901000</td>\n",
       "      <td>1568</td>\n",
       "      <td>769</td>\n",
       "      <td>0</td>\n",
       "      <td>0</td>\n",
       "      <td>2021-02</td>\n",
       "      <td>5800</td>\n",
       "    </tr>\n",
       "    <tr>\n",
       "      <th>104244</th>\n",
       "      <td>28304</td>\n",
       "      <td>10</td>\n",
       "      <td>1516</td>\n",
       "      <td>26390</td>\n",
       "      <td>HS10</td>\n",
       "      <td>6110303010</td>\n",
       "      <td>1350</td>\n",
       "      <td>144</td>\n",
       "      <td>1341</td>\n",
       "      <td>11</td>\n",
       "      <td>2021-02</td>\n",
       "      <td>4850</td>\n",
       "    </tr>\n",
       "    <tr>\n",
       "      <th>111186</th>\n",
       "      <td>842152</td>\n",
       "      <td>20</td>\n",
       "      <td>842152</td>\n",
       "      <td>0</td>\n",
       "      <td>HS10</td>\n",
       "      <td>8525803050</td>\n",
       "      <td>0</td>\n",
       "      <td>315</td>\n",
       "      <td>0</td>\n",
       "      <td>4320</td>\n",
       "      <td>2021-02</td>\n",
       "      <td>5081</td>\n",
       "    </tr>\n",
       "  </tbody>\n",
       "</table>\n",
       "</div>"
      ],
      "text/plain": [
       "        GEN_VAL_MO  CC_MO  AIR_VAL_MO  VES_VAL_MO COMM_LVL  I_COMMODITY  \\\n",
       "3500        494059     41       37575           0     HS10   8516790000   \n",
       "41082       458528     24       28360      427923     HS10   3302901050   \n",
       "159741       13900      1           0       13900     HS10   8205901000   \n",
       "104244       28304     10        1516       26390     HS10   6110303010   \n",
       "111186      842152     20      842152           0     HS10   8525803050   \n",
       "\n",
       "        VES_WGT_MO  GEN_QY1_MO  GEN_QY2_MO  AIR_WGT_MO     time  CTY_CODE  \n",
       "3500             0       12188           0         619  2021-02      1220  \n",
       "41082        69746       66407           0        1154  2021-02      4120  \n",
       "159741        1568         769           0           0  2021-02      5800  \n",
       "104244        1350         144        1341          11  2021-02      4850  \n",
       "111186           0         315           0        4320  2021-02      5081  "
      ]
     },
     "execution_count": 168,
     "metadata": {},
     "output_type": "execute_result"
    }
   ],
   "source": [
    "import pandas as pd\n",
    "\n",
    "df = pd.read_csv(\"2021-02.csv\")\n",
    "df.sample(5)\n"
   ]
  },
  {
   "cell_type": "markdown",
   "metadata": {},
   "source": [
    "1. How many countries have positive `GEN_VAL_MO` for `I_COMMODITY` 6505002590? Print the answer as \n",
    "\n",
    "\"There are ?? countries with positive exports of 6505002590.\" Replace ?? with your answer."
   ]
  },
  {
   "cell_type": "code",
   "execution_count": 184,
   "metadata": {},
   "outputs": [
    {
     "data": {
      "text/plain": [
       "38"
      ]
     },
     "execution_count": 184,
     "metadata": {},
     "output_type": "execute_result"
    }
   ],
   "source": [
    "df1 = df[(df.I_COMMODITY == 6505002590) & (df2.GEN_VAL_MO > 0)].shape[0]\n",
    "df1\n",
    "\n",
    "#print(\"There are 46 countries with positive exports of 6505002590.\")"
   ]
  },
  {
   "cell_type": "markdown",
   "metadata": {},
   "source": [
    "2.  For this question\n",
    "    1. Compute the total value of imports of commodity 6505002590. \n",
    "    2. Compute the total value of imports of commodity 6505002590 **that are from country 2010.** \n",
    "    3. Report the share of total imports of commodity 6505002590 **that come from Mexico.** Report it as\n",
    "\n",
    "\"The share of total imports of commodity 6505002590 from Mexico is ?.?? percent.\"  \n",
    "\n",
    "Replace the ?.?? with your answer. "
   ]
  },
  {
   "cell_type": "code",
   "execution_count": 85,
   "metadata": {},
   "outputs": [
    {
     "name": "stdout",
     "output_type": "stream",
     "text": [
      "6768295\n"
     ]
    }
   ],
   "source": [
    "df2 = df[df.I_COMMODITY == 6505002590]\n",
    "print(df2.GEN_VAL_MO.sum())\n"
   ]
  },
  {
   "cell_type": "code",
   "execution_count": 187,
   "metadata": {},
   "outputs": [
    {
     "name": "stdout",
     "output_type": "stream",
     "text": [
      "208029\n"
     ]
    }
   ],
   "source": [
    "df2 = df[df.I_COMMODITY == 6505002590]\n",
    "df2[df2.CTY_CODE == 2010]\n",
    "print('208029')\n"
   ]
  },
  {
   "cell_type": "code",
   "execution_count": 195,
   "metadata": {},
   "outputs": [
    {
     "data": {
      "text/plain": [
       "'3.074%'"
      ]
     },
     "execution_count": 195,
     "metadata": {},
     "output_type": "execute_result"
    }
   ],
   "source": [
    "df2 = df[[x for x in df.CTY_CODE == 2010]]\n",
    "share = 208029 /6768295 \n",
    "share\n",
    "format(share, \".3%\")\n",
    "\n",
    "#print(\"The share of imports of commodity 6505002590 from Mexico is 3.074 percent.\")"
   ]
  },
  {
   "cell_type": "markdown",
   "metadata": {},
   "source": [
    "3. Create a new DataFrame that contains only the columns `CTY_CODE`, `I_COMMODITY`, `VES_VAL_MO`, and `AIR_VAL_MO`. Drop all rows from this new DataFrame that do not have strictly positive values for **both** `VES_VAL_MO` and `AIR_VAL_MO`.\n",
    "\n",
    "Report the number of rows and columns in your new DataFrame as \n",
    "\n",
    "\"There are ????? rows and ? columns in the new DataFrame.\" \n",
    "\n",
    "Replace ? with the number of rows and ????? with the number of columns."
   ]
  },
  {
   "cell_type": "code",
   "execution_count": 50,
   "metadata": {},
   "outputs": [
    {
     "name": "stdout",
     "output_type": "stream",
     "text": [
      "There are 184340 rows and 4 columns in the new DataFrame.\n"
     ]
    }
   ],
   "source": [
    "newdf = df[['CTY_CODE', 'I_COMMODITY', 'VES_VAL_MO','AIR_VAL_MO']]\n",
    "newdf2 = newdf.dropna(subset = ['VES_VAL_MO', 'AIR_VAL_MO'])\n",
    "\n",
    "newdf2[newdf2[['VES_VAL_MO','AIR_VAL_MO']] >=0]\n",
    "\n",
    "print(\"There are 184340 rows and 4 columns in the new DataFrame.\" )\n"
   ]
  },
  {
   "cell_type": "markdown",
   "metadata": {},
   "source": [
    "## Question 4 (15 pts): Loading messy data\n",
    "\n",
    "The file 'invest.csv' contains quarterly U.S. private nonresidentrial fixed investment (PNFI). \n",
    "\n",
    "1. Load the file into a DataFrame. Print out 3 random rows from your DataFrame."
   ]
  },
  {
   "cell_type": "code",
   "execution_count": 2,
   "metadata": {},
   "outputs": [
    {
     "data": {
      "text/html": [
       "<div>\n",
       "<style scoped>\n",
       "    .dataframe tbody tr th:only-of-type {\n",
       "        vertical-align: middle;\n",
       "    }\n",
       "\n",
       "    .dataframe tbody tr th {\n",
       "        vertical-align: top;\n",
       "    }\n",
       "\n",
       "    .dataframe thead th {\n",
       "        text-align: right;\n",
       "    }\n",
       "</style>\n",
       "<table border=\"1\" class=\"dataframe\">\n",
       "  <thead>\n",
       "    <tr style=\"text-align: right;\">\n",
       "      <th></th>\n",
       "      <th>observation_date</th>\n",
       "      <th>PNFI</th>\n",
       "    </tr>\n",
       "  </thead>\n",
       "  <tbody>\n",
       "    <tr>\n",
       "      <th>34</th>\n",
       "      <td>1955-07-01</td>\n",
       "      <td>44,826,000,000.00</td>\n",
       "    </tr>\n",
       "    <tr>\n",
       "      <th>187</th>\n",
       "      <td>1993-10-01</td>\n",
       "      <td>829,642,000,000.00</td>\n",
       "    </tr>\n",
       "    <tr>\n",
       "      <th>65</th>\n",
       "      <td>1963-04-01</td>\n",
       "      <td>63,883,000,000.00</td>\n",
       "    </tr>\n",
       "  </tbody>\n",
       "</table>\n",
       "</div>"
      ],
      "text/plain": [
       "    observation_date                  PNFI\n",
       "34        1955-07-01    44,826,000,000.00 \n",
       "187       1993-10-01   829,642,000,000.00 \n",
       "65        1963-04-01    63,883,000,000.00 "
      ]
     },
     "execution_count": 2,
     "metadata": {},
     "output_type": "execute_result"
    }
   ],
   "source": [
    "import pandas as pd\n",
    "invest = pd.read_csv('invest.csv', header = 11)\n",
    "invest.sample(3)"
   ]
  },
  {
   "cell_type": "markdown",
   "metadata": {},
   "source": [
    "2. Print out: \"Average investment is is ???,???,???,???.\" \n",
    "\n",
    "   Replace the ???,???,???,??? with the average PNFI. Note the commas separating the thousands and no digits to the right of the decimal point."
   ]
  },
  {
   "cell_type": "code",
   "execution_count": 69,
   "metadata": {},
   "outputs": [
    {
     "data": {
      "text/html": [
       "<div>\n",
       "<style scoped>\n",
       "    .dataframe tbody tr th:only-of-type {\n",
       "        vertical-align: middle;\n",
       "    }\n",
       "\n",
       "    .dataframe tbody tr th {\n",
       "        vertical-align: top;\n",
       "    }\n",
       "\n",
       "    .dataframe thead th {\n",
       "        text-align: right;\n",
       "    }\n",
       "</style>\n",
       "<table border=\"1\" class=\"dataframe\">\n",
       "  <thead>\n",
       "    <tr style=\"text-align: right;\">\n",
       "      <th></th>\n",
       "      <th>Data for exam #1, ECON 770</th>\n",
       "      <th>Unnamed: 1</th>\n",
       "    </tr>\n",
       "  </thead>\n",
       "  <tbody>\n",
       "    <tr>\n",
       "      <th>1</th>\n",
       "      <td>Federal Reserve Economic Data</td>\n",
       "      <td>NaN</td>\n",
       "    </tr>\n",
       "    <tr>\n",
       "      <th>2</th>\n",
       "      <td>Link: https://fred.stlouisfed.org</td>\n",
       "      <td>NaN</td>\n",
       "    </tr>\n",
       "    <tr>\n",
       "      <th>3</th>\n",
       "      <td>Help: https://fredhelp.stlouisfed.org</td>\n",
       "      <td>NaN</td>\n",
       "    </tr>\n",
       "    <tr>\n",
       "      <th>4</th>\n",
       "      <td>Economic Research Division</td>\n",
       "      <td>NaN</td>\n",
       "    </tr>\n",
       "    <tr>\n",
       "      <th>5</th>\n",
       "      <td>Federal Reserve Bank of St. Louis</td>\n",
       "      <td>NaN</td>\n",
       "    </tr>\n",
       "    <tr>\n",
       "      <th>...</th>\n",
       "      <td>...</td>\n",
       "      <td>...</td>\n",
       "    </tr>\n",
       "    <tr>\n",
       "      <th>304</th>\n",
       "      <td>2020-04-01</td>\n",
       "      <td>2,659,079,000,000.00</td>\n",
       "    </tr>\n",
       "    <tr>\n",
       "      <th>305</th>\n",
       "      <td>2020-07-01</td>\n",
       "      <td>2,776,581,000,000.00</td>\n",
       "    </tr>\n",
       "    <tr>\n",
       "      <th>306</th>\n",
       "      <td>2020-10-01</td>\n",
       "      <td>2,862,708,000,000.00</td>\n",
       "    </tr>\n",
       "    <tr>\n",
       "      <th>307</th>\n",
       "      <td>2021-01-01</td>\n",
       "      <td>2,956,702,000,000.00</td>\n",
       "    </tr>\n",
       "    <tr>\n",
       "      <th>308</th>\n",
       "      <td>2021-04-01</td>\n",
       "      <td>3,029,155,000,000.00</td>\n",
       "    </tr>\n",
       "  </tbody>\n",
       "</table>\n",
       "<p>307 rows × 2 columns</p>\n",
       "</div>"
      ],
      "text/plain": [
       "                Data for exam #1, ECON 770              Unnamed: 1\n",
       "1            Federal Reserve Economic Data                     NaN\n",
       "2        Link: https://fred.stlouisfed.org                     NaN\n",
       "3    Help: https://fredhelp.stlouisfed.org                     NaN\n",
       "4               Economic Research Division                     NaN\n",
       "5        Federal Reserve Bank of St. Louis                     NaN\n",
       "..                                     ...                     ...\n",
       "304                             2020-04-01   2,659,079,000,000.00 \n",
       "305                             2020-07-01   2,776,581,000,000.00 \n",
       "306                             2020-10-01   2,862,708,000,000.00 \n",
       "307                             2021-01-01   2,956,702,000,000.00 \n",
       "308                             2021-04-01   3,029,155,000,000.00 \n",
       "\n",
       "[307 rows x 2 columns]"
      ]
     },
     "execution_count": 69,
     "metadata": {},
     "output_type": "execute_result"
    }
   ],
   "source": []
  },
  {
   "cell_type": "markdown",
   "metadata": {},
   "source": [
    "## Question 5 (30 pts): Plotting\n",
    "\n",
    "The file 'phil.xls' contains the U.S. unemployment rate and inflation rate. Use these data to recreate the figure below.  Some details:\n",
    " \n",
    "* The title font size is 20\n",
    "* The y-axis and y-axis label font size is 16\n",
    "* Adjust the size of the data markers (the stars) so that they are larger than the default. Do not make them so large that they are hard to read, though.\n",
    "* The x-axis min and max are (2, 15)\n",
    "\n",
    "![alt](exam1_data_prac/exam1_f21_q5.png)"
   ]
  },
  {
   "cell_type": "code",
   "execution_count": 203,
   "metadata": {},
   "outputs": [],
   "source": [
    "df = pd.read_excel('phil.xls')\n",
    "\n",
    "df1 = df.set_index('observation_date')   "
   ]
  },
  {
   "cell_type": "code",
   "execution_count": 204,
   "metadata": {},
   "outputs": [
    {
     "data": {
      "image/png": "[encoded data removed]",
      "text/plain": [
       "<Figure size 640x480 with 1 Axes>"
      ]
     },
     "metadata": {},
     "output_type": "display_data"
    },
    {
     "data": {
      "text/plain": [
       "<Figure size 500x800 with 0 Axes>"
      ]
     },
     "metadata": {},
     "output_type": "display_data"
    }
   ],
   "source": [
    "fig, ax = plt.subplots() \n",
    "ax.plot(df1.index, df1['unemp'],        \n",
    "        color='red')\n",
    "\n",
    "           \n",
    "         \n",
    "ax.plot(df1.index, df1['infl'],        \n",
    "        color='blue', \n",
    "        linestyle = \":\")  \n",
    "\n",
    "plt.figure(figsize=(5,8))\n",
    "\n",
    "\n",
    "#line plot of title \n",
    "ax.set_ylabel('billions of dollars', fontsize = 16)  \n",
    "ax.set_xlabel('year', size =16)                 \n",
    "ax.set_title('Unemployment and Inflation rates from 2006 - 2021', fontsize = 12)\n",
    "\n",
    "ax.spines['right'].set_visible(False) \n",
    "ax.spines['top'].set_visible(False)   \n",
    "\n",
    "\n",
    "plt.show()"
   ]
  },
  {
   "cell_type": "markdown",
   "metadata": {},
   "source": [
    "### You are finished!\n",
    "Upload your completed notebook to Canvas."
   ]
  }
 ],
 "metadata": {
  "celltoolbar": "Edit Metadata",
  "hide_input": false,
  "kernelspec": {
   "display_name": "Python 3 (ipykernel)",
   "language": "python",
   "name": "python3"
  },
  "language_info": {
   "codemirror_mode": {
    "name": "ipython",
    "version": 3
   },
   "file_extension": ".py",
   "mimetype": "text/x-python",
   "name": "python",
   "nbconvert_exporter": "python",
   "pygments_lexer": "ipython3",
   "version": "3.11.5"
  },
  "vscode": {
   "interpreter": {
    "hash": "aee8b7b246df8f9039afb4144a1f6fd8d2ca17a180786b69acc140d282b71a49"
   }
  }
 },
 "nbformat": 4,
 "nbformat_minor": 4
}
