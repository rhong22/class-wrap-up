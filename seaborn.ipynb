{
 "cells": [
  {
   "cell_type": "markdown",
   "metadata": {},
   "source": [
    "# Bonus material: More on plotting\n",
    "files needed = ('chile.xlsx', 'broadband_size.xlsx)\n",
    "\n",
    "### The seaborn package\n",
    "We have been using matplotlib to plot. This is a very low-level package, meaning that we have a lot of fine-grained control of the elements of our plots. I like fine-grained control because it means I can makes things look exactly how I want it. It also means that we have to type a lot of code to create a figure. \n",
    "\n",
    "In this notebook we introduce the *seaborn* package. Seaborn is written on top of matplotlib and automates some of the creation of plots. This can be very helpful, but remember **do not trust the defaults.** \n",
    "\n",
    "Seaborn also includes some plot types that are not easy to do in matplotlib. Great!\n",
    "\n",
    "We will cover: \n",
    "* `regplot()` which adds the line-of-best-fit to a scatter plot\n",
    "* Scaling scatter markers with a third variable\n",
    "\n",
    "Along the way, we will take a look at the *World Development Indicators*.\n"
   ]
  },
  {
   "cell_type": "code",
   "execution_count": 1,
   "metadata": {},
   "outputs": [],
   "source": [
    "import pandas as pd                    # our go-to for data handling                  \n",
    "import matplotlib.pyplot as plt        # make plots, but doesn't automate much\n",
    "import seaborn as sns                  # some new plot types, more automation\n",
    "\n",
    "pd.set_option('display.precision', 3)       # this tells pandas to print out 3 decimal places when we print a DataFrame"
   ]
  },
  {
   "cell_type": "markdown",
   "metadata": {},
   "source": [
    "## World Development Indicators\n",
    "The World Bank's [World Development Indicators](http://databank.worldbank.org/data/source/world-development-indicators) is a great source of economic and social data for many countries and many years. I have already downloaded output and consumption data for a few countries and saved it as 'wdi.csv'. \n",
    "\n",
    "The database is great: lots of variables, countries and time. I have extracted a small data file for Chile. The files that come out of the download facility are a mess. Let's clean them up.  "
   ]
  },
  {
   "cell_type": "code",
   "execution_count": 2,
   "metadata": {},
   "outputs": [
    {
     "data": {
      "text/html": [
       "<div>\n",
       "<style scoped>\n",
       "    .dataframe tbody tr th:only-of-type {\n",
       "        vertical-align: middle;\n",
       "    }\n",
       "\n",
       "    .dataframe tbody tr th {\n",
       "        vertical-align: top;\n",
       "    }\n",
       "\n",
       "    .dataframe thead th {\n",
       "        text-align: right;\n",
       "    }\n",
       "</style>\n",
       "<table border=\"1\" class=\"dataframe\">\n",
       "  <thead>\n",
       "    <tr style=\"text-align: right;\">\n",
       "      <th></th>\n",
       "      <th>Country Name</th>\n",
       "      <th>Country Code</th>\n",
       "      <th>Series Name</th>\n",
       "      <th>Series Code</th>\n",
       "      <th>1960 [YR1960]</th>\n",
       "      <th>1961 [YR1961]</th>\n",
       "      <th>1962 [YR1962]</th>\n",
       "      <th>1963 [YR1963]</th>\n",
       "      <th>1964 [YR1964]</th>\n",
       "      <th>1965 [YR1965]</th>\n",
       "      <th>...</th>\n",
       "      <th>2011 [YR2011]</th>\n",
       "      <th>2012 [YR2012]</th>\n",
       "      <th>2013 [YR2013]</th>\n",
       "      <th>2014 [YR2014]</th>\n",
       "      <th>2015 [YR2015]</th>\n",
       "      <th>2016 [YR2016]</th>\n",
       "      <th>2017 [YR2017]</th>\n",
       "      <th>2018 [YR2018]</th>\n",
       "      <th>2019 [YR2019]</th>\n",
       "      <th>2020 [YR2020]</th>\n",
       "    </tr>\n",
       "  </thead>\n",
       "  <tbody>\n",
       "    <tr>\n",
       "      <th>0</th>\n",
       "      <td>Chile</td>\n",
       "      <td>CHL</td>\n",
       "      <td>GDP (constant LCU)</td>\n",
       "      <td>NY.GDP.MKTP.KN</td>\n",
       "      <td>1.594e+13</td>\n",
       "      <td>1.678e+13</td>\n",
       "      <td>1.745e+13</td>\n",
       "      <td>1.847e+13</td>\n",
       "      <td>1.894e+13</td>\n",
       "      <td>1.912e+13</td>\n",
       "      <td>...</td>\n",
       "      <td>125823838388000</td>\n",
       "      <td>1.325e+14</td>\n",
       "      <td>137876215768070</td>\n",
       "      <td>1.403e+14</td>\n",
       "      <td>1.435e+14</td>\n",
       "      <td>1.460e+14</td>\n",
       "      <td>147736095622350</td>\n",
       "      <td>153570668110240</td>\n",
       "      <td>155189982580250</td>\n",
       "      <td>NaN</td>\n",
       "    </tr>\n",
       "    <tr>\n",
       "      <th>1</th>\n",
       "      <td>Chile</td>\n",
       "      <td>CHL</td>\n",
       "      <td>Final consumption expenditure (constant LCU)</td>\n",
       "      <td>NE.CON.TOTL.KN</td>\n",
       "      <td>1.336e+13</td>\n",
       "      <td>1.402e+13</td>\n",
       "      <td>1.461e+13</td>\n",
       "      <td>1.515e+13</td>\n",
       "      <td>1.514e+13</td>\n",
       "      <td>1.529e+13</td>\n",
       "      <td>...</td>\n",
       "      <td>93785024589700</td>\n",
       "      <td>9.909e+13</td>\n",
       "      <td>103336792108318</td>\n",
       "      <td>1.063e+14</td>\n",
       "      <td>1.090e+14</td>\n",
       "      <td>1.128e+14</td>\n",
       "      <td>116887472687087</td>\n",
       "      <td>121369080634627</td>\n",
       "      <td>122348544930031</td>\n",
       "      <td>NaN</td>\n",
       "    </tr>\n",
       "  </tbody>\n",
       "</table>\n",
       "<p>2 rows × 65 columns</p>\n",
       "</div>"
      ],
      "text/plain": [
       "  Country Name Country Code                                   Series Name  \\\n",
       "0        Chile          CHL                            GDP (constant LCU)   \n",
       "1        Chile          CHL  Final consumption expenditure (constant LCU)   \n",
       "\n",
       "      Series Code  1960 [YR1960]  1961 [YR1961]  1962 [YR1962]  1963 [YR1963]  \\\n",
       "0  NY.GDP.MKTP.KN      1.594e+13      1.678e+13      1.745e+13      1.847e+13   \n",
       "1  NE.CON.TOTL.KN      1.336e+13      1.402e+13      1.461e+13      1.515e+13   \n",
       "\n",
       "   1964 [YR1964]  1965 [YR1965]  ...    2011 [YR2011]  2012 [YR2012]  \\\n",
       "0      1.894e+13      1.912e+13  ...  125823838388000      1.325e+14   \n",
       "1      1.514e+13      1.529e+13  ...   93785024589700      9.909e+13   \n",
       "\n",
       "     2013 [YR2013]  2014 [YR2014]  2015 [YR2015]  2016 [YR2016]  \\\n",
       "0  137876215768070      1.403e+14      1.435e+14      1.460e+14   \n",
       "1  103336792108318      1.063e+14      1.090e+14      1.128e+14   \n",
       "\n",
       "     2017 [YR2017]    2018 [YR2018]    2019 [YR2019]  2020 [YR2020]  \n",
       "0  147736095622350  153570668110240  155189982580250            NaN  \n",
       "1  116887472687087  121369080634627  122348544930031            NaN  \n",
       "\n",
       "[2 rows x 65 columns]"
      ]
     },
     "execution_count": 2,
     "metadata": {},
     "output_type": "execute_result"
    }
   ],
   "source": [
    "# I looked at the workbook and noticed the footer and that nas are '..'.\n",
    "wdi = pd.read_excel('chile.xlsx', na_values='..', skipfooter=5)\n",
    "wdi.head()"
   ]
  },
  {
   "cell_type": "markdown",
   "metadata": {},
   "source": [
    "There is a lot to not like about this DataFrame. \n",
    "\n",
    "1. There are unneeded variables. \n",
    "3. The year data are a mix of numbers and letters.\n",
    "2. The unit of observation is a year, so the I want the years in the index.\n",
    "\n",
    "\n",
    "### 1. Drop unneeded variables"
   ]
  },
  {
   "cell_type": "code",
   "execution_count": 3,
   "metadata": {},
   "outputs": [
    {
     "data": {
      "text/html": [
       "<div>\n",
       "<style scoped>\n",
       "    .dataframe tbody tr th:only-of-type {\n",
       "        vertical-align: middle;\n",
       "    }\n",
       "\n",
       "    .dataframe tbody tr th {\n",
       "        vertical-align: top;\n",
       "    }\n",
       "\n",
       "    .dataframe thead th {\n",
       "        text-align: right;\n",
       "    }\n",
       "</style>\n",
       "<table border=\"1\" class=\"dataframe\">\n",
       "  <thead>\n",
       "    <tr style=\"text-align: right;\">\n",
       "      <th></th>\n",
       "      <th>Series Name</th>\n",
       "      <th>1960 [YR1960]</th>\n",
       "      <th>1961 [YR1961]</th>\n",
       "      <th>1962 [YR1962]</th>\n",
       "      <th>1963 [YR1963]</th>\n",
       "      <th>1964 [YR1964]</th>\n",
       "      <th>1965 [YR1965]</th>\n",
       "      <th>1966 [YR1966]</th>\n",
       "      <th>1967 [YR1967]</th>\n",
       "      <th>1968 [YR1968]</th>\n",
       "      <th>...</th>\n",
       "      <th>2011 [YR2011]</th>\n",
       "      <th>2012 [YR2012]</th>\n",
       "      <th>2013 [YR2013]</th>\n",
       "      <th>2014 [YR2014]</th>\n",
       "      <th>2015 [YR2015]</th>\n",
       "      <th>2016 [YR2016]</th>\n",
       "      <th>2017 [YR2017]</th>\n",
       "      <th>2018 [YR2018]</th>\n",
       "      <th>2019 [YR2019]</th>\n",
       "      <th>2020 [YR2020]</th>\n",
       "    </tr>\n",
       "  </thead>\n",
       "  <tbody>\n",
       "    <tr>\n",
       "      <th>0</th>\n",
       "      <td>GDP (constant LCU)</td>\n",
       "      <td>1.594e+13</td>\n",
       "      <td>1.678e+13</td>\n",
       "      <td>1.745e+13</td>\n",
       "      <td>1.847e+13</td>\n",
       "      <td>1.894e+13</td>\n",
       "      <td>1.912e+13</td>\n",
       "      <td>2.127e+13</td>\n",
       "      <td>22039895161000</td>\n",
       "      <td>2.283e+13</td>\n",
       "      <td>...</td>\n",
       "      <td>125823838388000</td>\n",
       "      <td>1.325e+14</td>\n",
       "      <td>137876215768070</td>\n",
       "      <td>1.403e+14</td>\n",
       "      <td>1.435e+14</td>\n",
       "      <td>1.460e+14</td>\n",
       "      <td>147736095622350</td>\n",
       "      <td>153570668110240</td>\n",
       "      <td>155189982580250</td>\n",
       "      <td>NaN</td>\n",
       "    </tr>\n",
       "    <tr>\n",
       "      <th>1</th>\n",
       "      <td>Final consumption expenditure (constant LCU)</td>\n",
       "      <td>1.336e+13</td>\n",
       "      <td>1.402e+13</td>\n",
       "      <td>1.461e+13</td>\n",
       "      <td>1.515e+13</td>\n",
       "      <td>1.514e+13</td>\n",
       "      <td>1.529e+13</td>\n",
       "      <td>1.700e+13</td>\n",
       "      <td>17541684272603</td>\n",
       "      <td>1.823e+13</td>\n",
       "      <td>...</td>\n",
       "      <td>93785024589700</td>\n",
       "      <td>9.909e+13</td>\n",
       "      <td>103336792108318</td>\n",
       "      <td>1.063e+14</td>\n",
       "      <td>1.090e+14</td>\n",
       "      <td>1.128e+14</td>\n",
       "      <td>116887472687087</td>\n",
       "      <td>121369080634627</td>\n",
       "      <td>122348544930031</td>\n",
       "      <td>NaN</td>\n",
       "    </tr>\n",
       "  </tbody>\n",
       "</table>\n",
       "<p>2 rows × 62 columns</p>\n",
       "</div>"
      ],
      "text/plain": [
       "                                    Series Name  1960 [YR1960]  1961 [YR1961]  \\\n",
       "0                            GDP (constant LCU)      1.594e+13      1.678e+13   \n",
       "1  Final consumption expenditure (constant LCU)      1.336e+13      1.402e+13   \n",
       "\n",
       "   1962 [YR1962]  1963 [YR1963]  1964 [YR1964]  1965 [YR1965]  1966 [YR1966]  \\\n",
       "0      1.745e+13      1.847e+13      1.894e+13      1.912e+13      2.127e+13   \n",
       "1      1.461e+13      1.515e+13      1.514e+13      1.529e+13      1.700e+13   \n",
       "\n",
       "    1967 [YR1967]  1968 [YR1968]  ...    2011 [YR2011]  2012 [YR2012]  \\\n",
       "0  22039895161000      2.283e+13  ...  125823838388000      1.325e+14   \n",
       "1  17541684272603      1.823e+13  ...   93785024589700      9.909e+13   \n",
       "\n",
       "     2013 [YR2013]  2014 [YR2014]  2015 [YR2015]  2016 [YR2016]  \\\n",
       "0  137876215768070      1.403e+14      1.435e+14      1.460e+14   \n",
       "1  103336792108318      1.063e+14      1.090e+14      1.128e+14   \n",
       "\n",
       "     2017 [YR2017]    2018 [YR2018]    2019 [YR2019]  2020 [YR2020]  \n",
       "0  147736095622350  153570668110240  155189982580250            NaN  \n",
       "1  116887472687087  121369080634627  122348544930031            NaN  \n",
       "\n",
       "[2 rows x 62 columns]"
      ]
     },
     "execution_count": 3,
     "metadata": {},
     "output_type": "execute_result"
    }
   ],
   "source": [
    "wdi = wdi.drop(['Country Name', 'Country Code', 'Series Code'], axis=1)\n",
    "wdi.head()"
   ]
  },
  {
   "cell_type": "markdown",
   "metadata": {},
   "source": [
    "### 2. Clean up the years and make numbers\n",
    "\n",
    "Cleaning up the dates is bit complicated but not impossible. I will slice each column name and take the first four characters. Then convert those first four characters to an `int`. This will work because the position of the year in the column names is standardized. In future, we'll learn about how to use regular expressions to do this.\n",
    "\n",
    "Anyway, the first column name is not a date, so I need to skip that.  "
   ]
  },
  {
   "cell_type": "code",
   "execution_count": 4,
   "metadata": {},
   "outputs": [
    {
     "data": {
      "text/html": [
       "<div>\n",
       "<style scoped>\n",
       "    .dataframe tbody tr th:only-of-type {\n",
       "        vertical-align: middle;\n",
       "    }\n",
       "\n",
       "    .dataframe tbody tr th {\n",
       "        vertical-align: top;\n",
       "    }\n",
       "\n",
       "    .dataframe thead th {\n",
       "        text-align: right;\n",
       "    }\n",
       "</style>\n",
       "<table border=\"1\" class=\"dataframe\">\n",
       "  <thead>\n",
       "    <tr style=\"text-align: right;\">\n",
       "      <th></th>\n",
       "      <th>Series Name</th>\n",
       "      <th>1960</th>\n",
       "      <th>1961</th>\n",
       "      <th>1962</th>\n",
       "      <th>1963</th>\n",
       "      <th>1964</th>\n",
       "      <th>1965</th>\n",
       "      <th>1966</th>\n",
       "      <th>1967</th>\n",
       "      <th>1968</th>\n",
       "      <th>...</th>\n",
       "      <th>2011</th>\n",
       "      <th>2012</th>\n",
       "      <th>2013</th>\n",
       "      <th>2014</th>\n",
       "      <th>2015</th>\n",
       "      <th>2016</th>\n",
       "      <th>2017</th>\n",
       "      <th>2018</th>\n",
       "      <th>2019</th>\n",
       "      <th>2020</th>\n",
       "    </tr>\n",
       "  </thead>\n",
       "  <tbody>\n",
       "    <tr>\n",
       "      <th>0</th>\n",
       "      <td>GDP (constant LCU)</td>\n",
       "      <td>1.594e+13</td>\n",
       "      <td>1.678e+13</td>\n",
       "      <td>1.745e+13</td>\n",
       "      <td>1.847e+13</td>\n",
       "      <td>1.894e+13</td>\n",
       "      <td>1.912e+13</td>\n",
       "      <td>2.127e+13</td>\n",
       "      <td>22039895161000</td>\n",
       "      <td>2.283e+13</td>\n",
       "      <td>...</td>\n",
       "      <td>125823838388000</td>\n",
       "      <td>1.325e+14</td>\n",
       "      <td>137876215768070</td>\n",
       "      <td>1.403e+14</td>\n",
       "      <td>1.435e+14</td>\n",
       "      <td>1.460e+14</td>\n",
       "      <td>147736095622350</td>\n",
       "      <td>153570668110240</td>\n",
       "      <td>155189982580250</td>\n",
       "      <td>NaN</td>\n",
       "    </tr>\n",
       "    <tr>\n",
       "      <th>1</th>\n",
       "      <td>Final consumption expenditure (constant LCU)</td>\n",
       "      <td>1.336e+13</td>\n",
       "      <td>1.402e+13</td>\n",
       "      <td>1.461e+13</td>\n",
       "      <td>1.515e+13</td>\n",
       "      <td>1.514e+13</td>\n",
       "      <td>1.529e+13</td>\n",
       "      <td>1.700e+13</td>\n",
       "      <td>17541684272603</td>\n",
       "      <td>1.823e+13</td>\n",
       "      <td>...</td>\n",
       "      <td>93785024589700</td>\n",
       "      <td>9.909e+13</td>\n",
       "      <td>103336792108318</td>\n",
       "      <td>1.063e+14</td>\n",
       "      <td>1.090e+14</td>\n",
       "      <td>1.128e+14</td>\n",
       "      <td>116887472687087</td>\n",
       "      <td>121369080634627</td>\n",
       "      <td>122348544930031</td>\n",
       "      <td>NaN</td>\n",
       "    </tr>\n",
       "  </tbody>\n",
       "</table>\n",
       "<p>2 rows × 62 columns</p>\n",
       "</div>"
      ],
      "text/plain": [
       "                                    Series Name       1960       1961  \\\n",
       "0                            GDP (constant LCU)  1.594e+13  1.678e+13   \n",
       "1  Final consumption expenditure (constant LCU)  1.336e+13  1.402e+13   \n",
       "\n",
       "        1962       1963       1964       1965       1966            1967  \\\n",
       "0  1.745e+13  1.847e+13  1.894e+13  1.912e+13  2.127e+13  22039895161000   \n",
       "1  1.461e+13  1.515e+13  1.514e+13  1.529e+13  1.700e+13  17541684272603   \n",
       "\n",
       "        1968  ...             2011       2012             2013       2014  \\\n",
       "0  2.283e+13  ...  125823838388000  1.325e+14  137876215768070  1.403e+14   \n",
       "1  1.823e+13  ...   93785024589700  9.909e+13  103336792108318  1.063e+14   \n",
       "\n",
       "        2015       2016             2017             2018             2019  \\\n",
       "0  1.435e+14  1.460e+14  147736095622350  153570668110240  155189982580250   \n",
       "1  1.090e+14  1.128e+14  116887472687087  121369080634627  122348544930031   \n",
       "\n",
       "   2020  \n",
       "0   NaN  \n",
       "1   NaN  \n",
       "\n",
       "[2 rows x 62 columns]"
      ]
     },
     "execution_count": 4,
     "metadata": {},
     "output_type": "execute_result"
    }
   ],
   "source": [
    "temp = [wdi.columns[0]] + [int(c[0:4]) for c in wdi.columns[1:]]\n",
    "temp\n",
    "wdi.columns = temp\n",
    "wdi.head()\n"
   ]
  },
  {
   "cell_type": "markdown",
   "metadata": {},
   "source": [
    "### 3. Years in the index\n",
    "\n",
    "Looking better! Let's set the 'Series Name' as the index and then transpose the DataFrame. We will learn more about reshaping data in the future. "
   ]
  },
  {
   "cell_type": "code",
   "execution_count": 5,
   "metadata": {},
   "outputs": [
    {
     "data": {
      "text/html": [
       "<div>\n",
       "<style scoped>\n",
       "    .dataframe tbody tr th:only-of-type {\n",
       "        vertical-align: middle;\n",
       "    }\n",
       "\n",
       "    .dataframe tbody tr th {\n",
       "        vertical-align: top;\n",
       "    }\n",
       "\n",
       "    .dataframe thead th {\n",
       "        text-align: right;\n",
       "    }\n",
       "</style>\n",
       "<table border=\"1\" class=\"dataframe\">\n",
       "  <thead>\n",
       "    <tr style=\"text-align: right;\">\n",
       "      <th>Series Name</th>\n",
       "      <th>GDP (constant LCU)</th>\n",
       "      <th>Final consumption expenditure (constant LCU)</th>\n",
       "    </tr>\n",
       "  </thead>\n",
       "  <tbody>\n",
       "    <tr>\n",
       "      <th>1960</th>\n",
       "      <td>1.594e+13</td>\n",
       "      <td>1.336e+13</td>\n",
       "    </tr>\n",
       "    <tr>\n",
       "      <th>1961</th>\n",
       "      <td>1.678e+13</td>\n",
       "      <td>1.402e+13</td>\n",
       "    </tr>\n",
       "    <tr>\n",
       "      <th>1962</th>\n",
       "      <td>1.745e+13</td>\n",
       "      <td>1.461e+13</td>\n",
       "    </tr>\n",
       "    <tr>\n",
       "      <th>1963</th>\n",
       "      <td>1.847e+13</td>\n",
       "      <td>1.515e+13</td>\n",
       "    </tr>\n",
       "    <tr>\n",
       "      <th>1964</th>\n",
       "      <td>1.894e+13</td>\n",
       "      <td>1.514e+13</td>\n",
       "    </tr>\n",
       "  </tbody>\n",
       "</table>\n",
       "</div>"
      ],
      "text/plain": [
       "Series Name  GDP (constant LCU)  Final consumption expenditure (constant LCU)\n",
       "1960                  1.594e+13                                     1.336e+13\n",
       "1961                  1.678e+13                                     1.402e+13\n",
       "1962                  1.745e+13                                     1.461e+13\n",
       "1963                  1.847e+13                                     1.515e+13\n",
       "1964                  1.894e+13                                     1.514e+13"
      ]
     },
     "execution_count": 5,
     "metadata": {},
     "output_type": "execute_result"
    }
   ],
   "source": [
    "wdi = wdi.set_index('Series Name')\n",
    "wdi \n",
    "wdi = wdi.transpose()\n",
    "wdi.head()"
   ]
  },
  {
   "cell_type": "code",
   "execution_count": 6,
   "metadata": {},
   "outputs": [
    {
     "data": {
      "text/html": [
       "<div>\n",
       "<style scoped>\n",
       "    .dataframe tbody tr th:only-of-type {\n",
       "        vertical-align: middle;\n",
       "    }\n",
       "\n",
       "    .dataframe tbody tr th {\n",
       "        vertical-align: top;\n",
       "    }\n",
       "\n",
       "    .dataframe thead th {\n",
       "        text-align: right;\n",
       "    }\n",
       "</style>\n",
       "<table border=\"1\" class=\"dataframe\">\n",
       "  <thead>\n",
       "    <tr style=\"text-align: right;\">\n",
       "      <th></th>\n",
       "      <th>gdp_real</th>\n",
       "      <th>cons_real</th>\n",
       "    </tr>\n",
       "  </thead>\n",
       "  <tbody>\n",
       "    <tr>\n",
       "      <th>1960</th>\n",
       "      <td>1.594e+13</td>\n",
       "      <td>1.336e+13</td>\n",
       "    </tr>\n",
       "    <tr>\n",
       "      <th>1961</th>\n",
       "      <td>1.678e+13</td>\n",
       "      <td>1.402e+13</td>\n",
       "    </tr>\n",
       "    <tr>\n",
       "      <th>1962</th>\n",
       "      <td>1.745e+13</td>\n",
       "      <td>1.461e+13</td>\n",
       "    </tr>\n",
       "    <tr>\n",
       "      <th>1963</th>\n",
       "      <td>1.847e+13</td>\n",
       "      <td>1.515e+13</td>\n",
       "    </tr>\n",
       "    <tr>\n",
       "      <th>1964</th>\n",
       "      <td>1.894e+13</td>\n",
       "      <td>1.514e+13</td>\n",
       "    </tr>\n",
       "  </tbody>\n",
       "</table>\n",
       "</div>"
      ],
      "text/plain": [
       "       gdp_real  cons_real\n",
       "1960  1.594e+13  1.336e+13\n",
       "1961  1.678e+13  1.402e+13\n",
       "1962  1.745e+13  1.461e+13\n",
       "1963  1.847e+13  1.515e+13\n",
       "1964  1.894e+13  1.514e+13"
      ]
     },
     "execution_count": 6,
     "metadata": {},
     "output_type": "execute_result"
    }
   ],
   "source": [
    "wdi.columns = ['gdp_real', 'cons_real']\n",
    "wdi.head()"
   ]
  },
  {
   "cell_type": "markdown",
   "metadata": {},
   "source": [
    "Lastly, let's compute the growth rates of real gdp and consumption. "
   ]
  },
  {
   "cell_type": "code",
   "execution_count": 7,
   "metadata": {},
   "outputs": [
    {
     "data": {
      "text/html": [
       "<div>\n",
       "<style scoped>\n",
       "    .dataframe tbody tr th:only-of-type {\n",
       "        vertical-align: middle;\n",
       "    }\n",
       "\n",
       "    .dataframe tbody tr th {\n",
       "        vertical-align: top;\n",
       "    }\n",
       "\n",
       "    .dataframe thead th {\n",
       "        text-align: right;\n",
       "    }\n",
       "</style>\n",
       "<table border=\"1\" class=\"dataframe\">\n",
       "  <thead>\n",
       "    <tr style=\"text-align: right;\">\n",
       "      <th></th>\n",
       "      <th>gdp_real</th>\n",
       "      <th>cons_real</th>\n",
       "    </tr>\n",
       "  </thead>\n",
       "  <tbody>\n",
       "    <tr>\n",
       "      <th>1960</th>\n",
       "      <td>NaN</td>\n",
       "      <td>NaN</td>\n",
       "    </tr>\n",
       "    <tr>\n",
       "      <th>1961</th>\n",
       "      <td>5.245</td>\n",
       "      <td>4.953</td>\n",
       "    </tr>\n",
       "    <tr>\n",
       "      <th>1962</th>\n",
       "      <td>4.027</td>\n",
       "      <td>4.237</td>\n",
       "    </tr>\n",
       "    <tr>\n",
       "      <th>1963</th>\n",
       "      <td>5.840</td>\n",
       "      <td>3.682</td>\n",
       "    </tr>\n",
       "    <tr>\n",
       "      <th>1964</th>\n",
       "      <td>2.557</td>\n",
       "      <td>-0.113</td>\n",
       "    </tr>\n",
       "  </tbody>\n",
       "</table>\n",
       "</div>"
      ],
      "text/plain": [
       "      gdp_real  cons_real\n",
       "1960       NaN        NaN\n",
       "1961     5.245      4.953\n",
       "1962     4.027      4.237\n",
       "1963     5.840      3.682\n",
       "1964     2.557     -0.113"
      ]
     },
     "execution_count": 7,
     "metadata": {},
     "output_type": "execute_result"
    }
   ],
   "source": [
    "wdi_gr = wdi.ffill().pct_change()*100\n",
    "wdi_gr.head()"
   ]
  },
  {
   "cell_type": "markdown",
   "metadata": {},
   "source": [
    "### sns.regplot( )\n",
    "Our go-to scatterplot in matplotlib does not offer an easy way to add a simple line of best fit. We can separately estimate the regression and then plot the fitted values, but seaborn provides a simple way to get that same look. \n",
    "\n",
    "The `regplot()` function [(docs)](https://seaborn.pydata.org/generated/seaborn.regplot.html#seaborn.regplot) adds a fitted regression and confidence interval to a scatter.  "
   ]
  },
  {
   "cell_type": "code",
   "execution_count": 8,
   "metadata": {},
   "outputs": [
    {
     "data": {
      "image/png": "[encoded data removed]",
      "text/plain": [
       "<Figure size 1000x500 with 1 Axes>"
      ]
     },
     "metadata": {},
     "output_type": "display_data"
    }
   ],
   "source": [
    "my_fig, my_ax = plt.subplots(figsize=(10,5)) \n",
    "\n",
    "sns.regplot(x='gdp_real',                                        # column to put on x axis\n",
    "            y='cons_real',                                       # column to put on y axis \n",
    "            data=wdi_gr,                                         # the data\n",
    "            ax = my_ax,                                          # an axis object\n",
    "            color = 'black',                                  \n",
    "            ci = 0)                                              # confidence interval, 0 supresses it\n",
    "\n",
    "# Easier than matplotlib!\n",
    "sns.despine(ax = my_ax)                             \n",
    "\n",
    "# Since this is all in a matplotlib axis/figure, our usual labeling applies.  \n",
    "my_ax.set_title('Consumption and output growth in Chile')\n",
    "my_ax.set_ylabel('real consumption growth (%)')\n",
    "my_ax.set_xlabel('real output growth (%)')\n",
    "\n",
    "plt.show()"
   ]
  },
  {
   "cell_type": "markdown",
   "metadata": {},
   "source": [
    "Looking good! The default regression spec is OLS, but you can specify a more complicated model. Interestingly, you *cannot* recover the coefficients (slope, intercept) of the estimated regression. The person who developed seaborn is apparently [quite adamant](https://github.com/mwaskom/seaborn/issues/655) about this. "
   ]
  },
  {
   "cell_type": "markdown",
   "metadata": {},
   "source": [
    "Notice the different syntax seaborn exposes. \n",
    "\n",
    "```python \n",
    "sns.regplot(x, y, data, ax)\n",
    "```\n",
    "\n",
    "We do not pass the columns of data directly, like we would with matplotlib. Instead, we pass the DataFrame and the column names of the variables we want to plot. \n",
    "\n",
    "We can pass `regplot()` an axis object, `ax = my_ax` in the code above, to attach the plot to a specific axis. If we omit the ax argument, `regplot()` will create an axis object for us.  "
   ]
  },
  {
   "cell_type": "markdown",
   "metadata": {},
   "source": [
    "### Confidence interval \n",
    "\n",
    "Let's specify a 95 percent *confidence interval*. "
   ]
  },
  {
   "cell_type": "code",
   "execution_count": 9,
   "metadata": {},
   "outputs": [
    {
     "data": {
      "image/png": "[encoded data removed]",
      "text/plain": [
       "<Figure size 1000x500 with 1 Axes>"
      ]
     },
     "metadata": {},
     "output_type": "display_data"
    }
   ],
   "source": [
    "my_fig, my_ax = plt.subplots(figsize=(10,5)) \n",
    "\n",
    "sns.regplot(x='gdp_real',                                        # column to put on x axis\n",
    "            y='cons_real',                                       # column to put on y axis \n",
    "            data=wdi_gr,                                         # the data\n",
    "            ax = my_ax,                                          # an axis object\n",
    "            color = 'red',                                  \n",
    "            ci = 95)                                             # confidence interval, 0 supresses it\n",
    "\n",
    "# Easier than matplotlib!\n",
    "sns.despine(ax = my_ax)                             \n",
    "\n",
    "# Since this is all in a matplotlib axis/figure, our usual labeling applies.  \n",
    "my_ax.set_title('Consumption and output growth in Chile')\n",
    "my_ax.set_ylabel('real consumption growth (%)')\n",
    "my_ax.set_xlabel('real output growth (%)')\n",
    "\n",
    "plt.show()"
   ]
  },
  {
   "cell_type": "markdown",
   "metadata": {},
   "source": [
    "## Try at home\n",
    "The OECD has a project studying [broadband internet coverage](http://www.oecd.org/sti/broadband/broadband-statistics/) across countries. It tracks data on numbers of subscribers, speed, and prices. \n",
    "\n",
    "1. Load 'broadband_size.xlsx'. It contains data on broadband accounts per 100 people, GDP per capita, and population (in thousands) for several countries. Are all your variables okay? \n",
    "2. Give the columns some reasonable names. \n"
   ]
  },
  {
   "cell_type": "markdown",
   "metadata": {},
   "source": [
    "3. Create a `.regplot()` with broadband penetration on the y axis and GDP  per capita on the x axis. Add the 95 percent confidence interval. Apply the principles of graphical excellence to your figure. "
   ]
  },
  {
   "cell_type": "markdown",
   "metadata": {},
   "source": [
    "4. The relationship doesn't look very linear to me. Replot your solution from 3. but try adding the `logx=True` option to regplot to regress y = log(x). As always, consult the [documentation](https://seaborn.pydata.org/generated/seaborn.regplot.html) if you need help."
   ]
  },
  {
   "cell_type": "markdown",
   "metadata": {},
   "source": [
    "### Bubble plot (and passing keywords)\n",
    "A bubble plot is a scatter plot in which the size of the data markers (usually a circle) varies with a third variable. \n",
    "\n",
    "We can actually make these plots in matplotlib. The syntax is \n",
    "```python\n",
    "ax.scatter(x, y, s) \n",
    "```\n",
    "where `s` is the variable corresponding to marker size. Since seaborn is built on top of matplotlib, we can pass *scatter keyword arguments* to `.regplot( )` and these get passed through to the underlying scatter. \n",
    "\n",
    "If we pass a single number to `s` it changes the size of all the bubbles. If we pass it a Series of data, then each bubble gets scaled according to its value in the series. \n",
    "\n",
    "The syntax for the option is `scatter_kws={'s': data_var}`. This sets the `s` argument of scatter to `data_var`. "
   ]
  },
  {
   "cell_type": "code",
   "execution_count": 10,
   "metadata": {},
   "outputs": [
    {
     "ename": "NameError",
     "evalue": "name 'broad' is not defined",
     "output_type": "error",
     "traceback": [
      "\u001b[1;31m---------------------------------------------------------------------------\u001b[0m",
      "\u001b[1;31mNameError\u001b[0m                                 Traceback (most recent call last)",
      "Cell \u001b[1;32mIn[10], line 3\u001b[0m\n\u001b[0;32m      1\u001b[0m fig, ax \u001b[38;5;241m=\u001b[39m plt\u001b[38;5;241m.\u001b[39msubplots(figsize\u001b[38;5;241m=\u001b[39m(\u001b[38;5;241m10\u001b[39m,\u001b[38;5;241m5\u001b[39m)) \n\u001b[1;32m----> 3\u001b[0m sns\u001b[38;5;241m.\u001b[39mregplot(x\u001b[38;5;241m=\u001b[39m\u001b[38;5;124m'\u001b[39m\u001b[38;5;124mgdp_cap\u001b[39m\u001b[38;5;124m'\u001b[39m, y\u001b[38;5;241m=\u001b[39m\u001b[38;5;124m'\u001b[39m\u001b[38;5;124mbroad_pen\u001b[39m\u001b[38;5;124m'\u001b[39m, data\u001b[38;5;241m=\u001b[39mbroad,    \u001b[38;5;66;03m# the data\u001b[39;00m\n\u001b[0;32m      4\u001b[0m             ax \u001b[38;5;241m=\u001b[39m ax,                                   \u001b[38;5;66;03m# an axis object\u001b[39;00m\n\u001b[0;32m      5\u001b[0m             scatter_kws\u001b[38;5;241m=\u001b[39m{\u001b[38;5;124m'\u001b[39m\u001b[38;5;124ms\u001b[39m\u001b[38;5;124m'\u001b[39m: broad[\u001b[38;5;124m'\u001b[39m\u001b[38;5;124mpop\u001b[39m\u001b[38;5;124m'\u001b[39m]\u001b[38;5;241m/\u001b[39m\u001b[38;5;241m1000\u001b[39m},      \u001b[38;5;66;03m# make the marker proportional to population            \u001b[39;00m\n\u001b[0;32m      6\u001b[0m             \u001b[38;5;66;03m#scatter_kws={'s': 25},\u001b[39;00m\n\u001b[0;32m      7\u001b[0m             color \u001b[38;5;241m=\u001b[39m \u001b[38;5;124m'\u001b[39m\u001b[38;5;124mblue\u001b[39m\u001b[38;5;124m'\u001b[39m,                            \u001b[38;5;66;03m# make it blue\u001b[39;00m\n\u001b[0;32m      8\u001b[0m             ci \u001b[38;5;241m=\u001b[39m \u001b[38;5;241m95\u001b[39m,                                   \u001b[38;5;66;03m# confidence interval: pass it the percent\u001b[39;00m\n\u001b[0;32m      9\u001b[0m             logx \u001b[38;5;241m=\u001b[39m \u001b[38;5;28;01mTrue\u001b[39;00m)                               \u001b[38;5;66;03m# semi-log regression\u001b[39;00m\n\u001b[0;32m     11\u001b[0m \u001b[38;5;66;03m# We need to let the reader know what the bubble sizes represent.\u001b[39;00m\n\u001b[0;32m     12\u001b[0m ax\u001b[38;5;241m.\u001b[39mtext(\u001b[38;5;241m50000\u001b[39m, \u001b[38;5;241m20\u001b[39m, \u001b[38;5;124m'\u001b[39m\u001b[38;5;124mMarker size proportional to population size\u001b[39m\u001b[38;5;124m'\u001b[39m)\n",
      "\u001b[1;31mNameError\u001b[0m: name 'broad' is not defined"
     ]
    },
    {
     "data": {
      "image/png": "[encoded data removed]",
      "text/plain": [
       "<Figure size 1000x500 with 1 Axes>"
      ]
     },
     "metadata": {},
     "output_type": "display_data"
    }
   ],
   "source": [
    "fig, ax = plt.subplots(figsize=(10,5)) \n",
    "\n",
    "sns.regplot(x='gdp_cap', y='broad_pen', data=broad,    # the data\n",
    "            ax = ax,                                   # an axis object\n",
    "            scatter_kws={'s': broad['pop']/1000},      # make the marker proportional to population            \n",
    "            #scatter_kws={'s': 25},\n",
    "            color = 'blue',                            # make it blue\n",
    "            ci = 95,                                   # confidence interval: pass it the percent\n",
    "            logx = True)                               # semi-log regression\n",
    "                      \n",
    "# We need to let the reader know what the bubble sizes represent.\n",
    "ax.text(50000, 20, 'Marker size proportional to population size')\n",
    "\n",
    "sns.despine(ax = ax)  \n",
    "                                   \n",
    "\n",
    "ax.set_title('Broadband penetration and income')\n",
    "ax.set_ylabel('broadband subscribers per 100 people')\n",
    "ax.set_xlabel('GDP per capita')\n",
    "plt.show()"
   ]
  },
  {
   "cell_type": "markdown",
   "metadata": {},
   "source": [
    "Notice that I have scaled population by 1000. The issue is that `s` is interpreted as points^2 (points squared) [[docs](https://matplotlib.org/3.1.1/api/_as_gen/matplotlib.pyplot.scatter.html)]. The idea is that the area of the marker increases proportional to the square of the width.  There is a good discussion of it at [stack overflow](https://stackoverflow.com/questions/14827650/pyplot-scatter-plot-marker-size).\n",
    "\n",
    "If you try to use `s` and your whole figure turns the color of your marker, you probably need to scale your measure for `s`. "
   ]
  },
  {
   "cell_type": "markdown",
   "metadata": {},
   "source": [
    "Another example of the scatter_kws usage is to customize the scatter colors and alpha."
   ]
  },
  {
   "cell_type": "code",
   "execution_count": null,
   "metadata": {},
   "outputs": [],
   "source": [
    "fig, ax = plt.subplots(figsize=(10,5)) \n",
    "\n",
    "# To keep the call to regplot from getting out of control, I define the scatter keywords dict here.\n",
    "my_kws={'s': broad['pop']/1000, 'alpha':0.25, 'color':'black'}\n",
    "\n",
    "sns.regplot(x='gdp_cap', y='broad_pen', data=broad,    # the data\n",
    "            ax = ax,                                   # an axis object\n",
    "            scatter_kws = my_kws,                      # pass parameters to scatter\n",
    "            color = 'blue',                            # make it blue\n",
    "            ci = 95,                                   # confidence interval: pass it the percent\n",
    "            logx = True)                               # semi-log regression\n",
    "\n",
    "# We need to let the reader know what the bubble sizes represent.\n",
    "ax.text(50000, 20, 'Marker size proportional to population size')                                                         \n",
    "\n",
    "sns.despine(ax = ax)\n",
    "                                   \n",
    "\n",
    "ax.set_title('Broadband penetration and income')\n",
    "ax.set_ylabel('broadband subscribers per 100 people')\n",
    "ax.set_xlabel('GDP per capita')\n",
    "plt.show()"
   ]
  }
 ],
 "metadata": {
  "celltoolbar": "Attachments",
  "kernelspec": {
   "display_name": "Python 3 (ipykernel)",
   "language": "python",
   "name": "python3"
  },
  "language_info": {
   "codemirror_mode": {
    "name": "ipython",
    "version": 3
   },
   "file_extension": ".py",
   "mimetype": "text/x-python",
   "name": "python",
   "nbconvert_exporter": "python",
   "pygments_lexer": "ipython3",
   "version": "3.11.5"
  },
  "varInspector": {
   "cols": {
    "lenName": 16,
    "lenType": 16,
    "lenVar": 40
   },
   "kernels_config": {
    "python": {
     "delete_cmd_postfix": "",
     "delete_cmd_prefix": "del ",
     "library": "var_list.py",
     "varRefreshCmd": "print(var_dic_list())"
    },
    "r": {
     "delete_cmd_postfix": ") ",
     "delete_cmd_prefix": "rm(",
     "library": "var_list.r",
     "varRefreshCmd": "cat(var_dic_list()) "
    }
   },
   "types_to_exclude": [
    "module",
    "function",
    "builtin_function_or_method",
    "instance",
    "_Feature"
   ],
   "window_display": false
  }
 },
 "nbformat": 4,
 "nbformat_minor": 4
}
