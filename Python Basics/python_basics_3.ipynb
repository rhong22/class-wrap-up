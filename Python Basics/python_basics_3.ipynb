{
 "cells": [
  {
   "cell_type": "markdown",
   "metadata": {},
   "source": [
    "## Python basics: Part 3\n",
    "\n",
    "files needed = none\n",
    "\n",
    "Before we can start working with data, we need to work out some of the basics of Python. The goal is to learn enough so that we can do some interesting data work&mdash;we do not need to be Python Jedi. \n",
    "\n",
    "We now know about the basic data structures in python, how types work, and how to do some basic computation and string manipulation. What we need next is *flow control*. \n",
    "\n",
    "A python program is a list of statements. The python interpreter reads those statement from top to bottom and executes them. Depending on what is happening in our program, we may want to skip some statements, or repeat some other statements. Flow control statements manage this process. \n",
    "\n",
    "In this notebook we will cover\n",
    "\n",
    "1. The bool type\n",
    "2. The if/else statement\n",
    "3. The for loop\n",
    "4. List comprehensions\n",
    "\n",
    "Remember: Ask questions as we go."
   ]
  },
  {
   "cell_type": "markdown",
   "metadata": {},
   "source": [
    "## Bool\n",
    "Flow control often requires asking whether a statement is true or false and then taking an action conditional on the answer. For example: Is this variable a string? If yes, convert to a float. If not, do nothing. \n",
    "\n",
    "The python type `bool` can take on two values: `True` or `False`. Let's see it in action."
   ]
  },
  {
   "cell_type": "code",
   "execution_count": 1,
   "metadata": {},
   "outputs": [
    {
     "name": "stdout",
     "output_type": "stream",
     "text": [
      "False\n",
      "<class 'bool'>\n"
     ]
    }
   ],
   "source": [
    "my_age = 40\n",
    "\n",
    "# Here we compare my_age to see if it is less than 18\n",
    "is_a_minor = my_age < 18   \n",
    "\n",
    "print(is_a_minor)\n",
    "print(type(is_a_minor))"
   ]
  },
  {
   "cell_type": "code",
   "execution_count": 2,
   "metadata": {},
   "outputs": [
    {
     "data": {
      "text/plain": [
       "True"
      ]
     },
     "execution_count": 2,
     "metadata": {},
     "output_type": "execute_result"
    }
   ],
   "source": [
    "my_age == 40"
   ]
  },
  {
   "cell_type": "markdown",
   "metadata": {},
   "source": [
    "The comparison operators we will often use are \n",
    "\n",
    "* `<` (less than)\n",
    "* `>` (greater than)\n",
    "* `<=` (less than or equal to)\n",
    "* `>=` (greater than or equal to)\n",
    "* `==` (equal)\n",
    "* `!=` (not equal)\n",
    "\n",
    "**Important:** We use a double equal sign `==` to check for equality and a single equal sign for assignment. "
   ]
  },
  {
   "cell_type": "markdown",
   "metadata": {},
   "source": [
    "# A bit of code to see if the variable 'year' is equal to the current year\n",
    "year = 2019\n",
    "current_year = 2024\n",
    "is_current_year = (current_year == year)  # the parentheses are not needed, but I like them for clarity\n",
    "print(is_current_year)"
   ]
  },
  {
   "cell_type": "markdown",
   "metadata": {},
   "source": [
    "Go back and set `year` to 2023. What happened? "
   ]
  },
  {
   "cell_type": "markdown",
   "metadata": {},
   "source": [
    "Note the capitalization: `True` and `False`. These are *key words* in python. You cannot use them as variable names, although you could use `true`, `TRue` or `FALSE`. I would not recommend you do so. \n",
    "\n",
    "The `True` and `False` values are also mapped to integers. [Boolean variables](https://en.wikipedia.org/wiki/Boolean_algebra) only take on the value 0 (`False`) or 1 (`True`)."
   ]
  },
  {
   "cell_type": "code",
   "execution_count": 4,
   "metadata": {},
   "outputs": [
    {
     "name": "stdout",
     "output_type": "stream",
     "text": [
      "Is True equal to 1? True\n",
      "Is False equal to 0? True\n"
     ]
    }
   ],
   "source": [
    "# These directly create Boolean variables\n",
    "is_true = True\n",
    "is_false = False\n",
    "\n",
    "# They have numerical value\n",
    "print(\"Is True equal to 1?\", is_true == 1)         # This statement evaluates the question: \"Is True equivalent to 1?\"\n",
    "print(\"Is False equal to 0?\", is_false == 0)        # Same thing here: \"Is False equal to 0?\""
   ]
  },
  {
   "cell_type": "code",
   "execution_count": 5,
   "metadata": {},
   "outputs": [
    {
     "data": {
      "text/plain": [
       "14"
      ]
     },
     "execution_count": 5,
     "metadata": {},
     "output_type": "execute_result"
    }
   ],
   "source": [
    "(year == 2019) * 14 + (year != 2019) *12"
   ]
  },
  {
   "cell_type": "markdown",
   "metadata": {},
   "source": [
    "### More complicated comparisons\n",
    "We can build more complicated expressions using `and` and `or`.  For `and` all the sub-comparisons need to evaluate to `True` for the whole comparison to be `True`. For `or` only one of the sub-comparisons needs to be true for the whole comparison to be true.  \n",
    "\n",
    "If you have multiple `and`/`or` statements on the same line, remember to use parentheses to properly separate them from each other. This ensures the computer recognizes the logical statements in the way you want it to."
   ]
  },
  {
   "cell_type": "code",
   "execution_count": 7,
   "metadata": {},
   "outputs": [
    {
     "name": "stdout",
     "output_type": "stream",
     "text": [
      "Is 2<3 and 1>0? True\n",
      "Is 2<3 and 1<0? False\n",
      "Is 2<3 or 1<0? True\n"
     ]
    }
   ],
   "source": [
    "x = (2 < 3) & (1 > 0)      # Both sub-comparions are true\n",
    "print('Is 2<3 and 1>0?', x)\n",
    "\n",
    "y = (2 < 3) and (1 < 0)      # Only one sub-comparison is true\n",
    "print('Is 2<3 and 1<0?', y)\n",
    "\n",
    "z = (2 < 3) | (1 < 0)       # Only one sub-comparison is true\n",
    "print('Is 2<3 or 1<0?', z)\n"
   ]
  },
  {
   "cell_type": "markdown",
   "metadata": {},
   "source": [
    "### Comparing strings\n",
    "\n",
    "Given the nature of data, we might need to compare strings. Remember, programming languages are picky..."
   ]
  },
  {
   "cell_type": "code",
   "execution_count": 12,
   "metadata": {},
   "outputs": [
    {
     "name": "stdout",
     "output_type": "stream",
     "text": [
      "False\n"
     ]
    }
   ],
   "source": [
    "state = 'Wisconsin'\n",
    "\n",
    "is_sconnie = ('wisconsin' == state)\n",
    "print(is_sconnie) #diff capitalization "
   ]
  },
  {
   "cell_type": "markdown",
   "metadata": {},
   "source": [
    "Case matters. Luckily, python has lots of features to manipulate strings. We will learn some of these as we go along. In this case we use the `lower()` *method* of the string class to make the string all lower case. Methods are a way of calling some functions in Python. We tack them on to the end of a variable here to apply the function to that variable.\n",
    "\n",
    "We are introducing the 'dot' notation without really explaining it yet, but that explanation is coming. "
   ]
  },
  {
   "cell_type": "code",
   "execution_count": 13,
   "metadata": {},
   "outputs": [
    {
     "name": "stdout",
     "output_type": "stream",
     "text": [
      "state, after being lowered: wisconsin\n",
      "True\n"
     ]
    }
   ],
   "source": [
    "state_lowcase = state.lower()  # We are applying the lower() method to the variable state\n",
    "print('state, after being lowered:', state_lowcase)\n",
    "\n",
    "is_sconnie = 'wisconsin' == state_lowcase  \n",
    "print(is_sconnie)"
   ]
  },
  {
   "cell_type": "code",
   "execution_count": 14,
   "metadata": {},
   "outputs": [
    {
     "name": "stdout",
     "output_type": "stream",
     "text": [
      "Wisconsin wisconsin True\n"
     ]
    }
   ],
   "source": [
    "# You don't have to store the lowered string separately\n",
    "is_sconnie = 'wisconsin' == state.lower()  \n",
    "print(state, state.lower(), is_sconnie)"
   ]
  },
  {
   "cell_type": "markdown",
   "metadata": {},
   "source": [
    "## Conditional statements <a id=\"cond\"></a>\n",
    "Conditional statements check a *condition statement*. If the statement is true it evaluates one set of code. If the statement is false it evaluates another set of code.\n",
    "\n",
    "**Important:** Earlier, I mentioned that white space doesn't matter around operators like `+` or `*` and that we can insert blank lines wherever we want. Here comes a caveat: When we form a conditional, we need **exactly four spaces** in the lines following the condition statement. The indents define the lines of code that are executed in each branch of the `if` statement."
   ]
  },
  {
   "cell_type": "code",
   "execution_count": 18,
   "metadata": {},
   "outputs": [
    {
     "name": "stdout",
     "output_type": "stream",
     "text": [
      "between -5 and 0\n",
      "This un-indented code runs no matter what.\n"
     ]
    }
   ],
   "source": [
    "quantity = -1\n",
    "\n",
    "if quantity > 0: \n",
    "    # this indented code is the 'if branch'\n",
    "    print('This print statement occurred because the statement is true.')  \n",
    "    print('The quantity is positive.')\n",
    "    temp = quantity + 5\n",
    "    print('When I add 5 to the quantity it is:', temp, '\\n')\n",
    "\n",
    "elif quantity > -5 :\n",
    "    print (\"between -5 and 0\")\n",
    "\n",
    "elif quantity > -10:\n",
    "    print (\"between -10 and -5\")\n",
    "\n",
    "else:\n",
    "    # this indented code is the 'else branch'\n",
    "    print('This print statement occurred because the statement is false.') \n",
    "    print('The quantity is not positive.\\n')\n",
    "    \n",
    "\n",
    "print('This un-indented code runs no matter what.')"
   ]
  },
  {
   "cell_type": "markdown",
   "metadata": {},
   "source": [
    "1. Now go back to the code and change quantity to 0, or -10 and run the cell. What happens?  \n",
    "\n",
    "2. Now go back to the code and change the indentation of the first print statement after `if quantity > 0:` to be two spaces. Run the cell. What happened? "
   ]
  },
  {
   "cell_type": "code",
   "execution_count": 20,
   "metadata": {},
   "outputs": [
    {
     "name": "stdout",
     "output_type": "stream",
     "text": [
      "This un-indented code runs no matter what.\n"
     ]
    }
   ],
   "source": [
    "# The else is optional. \n",
    "\n",
    "size = 'xs'\n",
    "\n",
    "if (size == 'sm') or (size == 'md') or (size == 'lg'):\n",
    "    print('A standard size was requested.\\n')\n",
    "    \n",
    "print('This un-indented code runs no matter what.')"
   ]
  },
  {
   "cell_type": "markdown",
   "metadata": {},
   "source": [
    "Change size to `'xxl'`. Run the cell. "
   ]
  },
  {
   "cell_type": "markdown",
   "metadata": {},
   "source": [
    "### Top Hat Exercise: Conditionals\n",
    "Take a few minutes and try the following. Feel free to chat with those around you if you get stuck. I am here, too.\n",
    "\n",
    "1. Edit this markdown cell and write True, False, or error next to each statement. \n",
    "\n",
    "\n",
    "* `1 > 2`  #False\n",
    "* `'bill' = 'Bill'` #error\n",
    "* `(1 > 2) or (2*10 < 100)` #True\n",
    "* `'Dennis' == 'Dennis'` #True\n",
    "* \n",
    "```python\n",
    "x = 2\n",
    "0 < x < 5  #True\n",
    "```\n",
    "* \n",
    "```python\n",
    "x = 0.10\n",
    "y = 1/10\n",
    "x == y     #True but may vary\n",
    "```\n"
   ]
  },
  {
   "cell_type": "code",
   "execution_count": 31,
   "metadata": {},
   "outputs": [
    {
     "data": {
      "text/plain": [
       "True"
      ]
     },
     "execution_count": 31,
     "metadata": {},
     "output_type": "execute_result"
    }
   ],
   "source": [
    "x = 0.10\n",
    "y = 1/10\n",
    "x == y "
   ]
  },
  {
   "cell_type": "markdown",
   "metadata": {},
   "source": [
    "2. Before you run the code cell below: do you think it will be true or false?\n",
    "3. Run the code cell. "
   ]
  },
  {
   "cell_type": "code",
   "execution_count": 29,
   "metadata": {},
   "outputs": [
    {
     "name": "stdout",
     "output_type": "stream",
     "text": [
      "False\n"
     ]
    }
   ],
   "source": [
    "x = 1/3\n",
    "y = 0.3333    # This is an approximation of 1/3\n",
    "print(x == y)"
   ]
  },
  {
   "cell_type": "markdown",
   "metadata": {},
   "source": [
    "In the previous cell, add a few more 3s to the end of the definition of `y` so you get a better approximation of `x`. Can you get `x==y` to be true? \n",
    "\n",
    "Representing a floating point number that does not have a base-2 fractional representation is a problem in all programing languages. It is a limitation of the computer hardware itself. The python documentation has a nice discussion. [https://docs.python.org/3.7/tutorial/floatingpoint.html](https://docs.python.org/3.7/tutorial/floatingpoint.html)\n",
    "\n",
    "This will not likely be an issue for us (although it could crop up) but it is a big deal in numerical computing.  "
   ]
  },
  {
   "cell_type": "markdown",
   "metadata": {},
   "source": [
    "4. Let's introduce a new function that is built into python: the `len()` function. This computes the length of an object. In the code cell below, try `print(len('hello world'))`"
   ]
  },
  {
   "cell_type": "code",
   "execution_count": 30,
   "metadata": {},
   "outputs": [
    {
     "name": "stdout",
     "output_type": "stream",
     "text": [
      "11\n"
     ]
    }
   ],
   "source": [
    "print(len('hello world')) #len() counts space "
   ]
  },
  {
   "cell_type": "markdown",
   "metadata": {},
   "source": [
    "5. In the cell below, write some code (use an if statement) that compares two strings. Print out the longer string in all lower case letters and  print out the shorter string in all upper case letters. \\[Hint: the companion to `.lower()` is `.upper()`\\]. \n",
    "\n",
    "Test your code with these two strings.\n",
    "\n",
    "```python\n",
    "string1 = 'MemoriaL'\n",
    "string2 = 'unIon'\n",
    "```\n",
    "\n",
    "The output should be 'memorial' and 'UNION'"
   ]
  },
  {
   "cell_type": "code",
   "execution_count": 2,
   "metadata": {},
   "outputs": [
    {
     "name": "stdout",
     "output_type": "stream",
     "text": [
      "memorial UNION\n"
     ]
    }
   ],
   "source": [
    "string1 = 'MemoriaL'\n",
    "string2 = 'unIon'\n",
    "\n",
    "if len(string1) > len(string2):\n",
    "  print (string1.lower(), string2.upper())"
   ]
  },
  {
   "cell_type": "markdown",
   "metadata": {},
   "source": [
    "string1 = \"Memorial\"\n",
    "string2 = \"unIon\"\n",
    "\n",
    "if len(string1) > len(string2):\n",
    "    print(string1.lower(),string2.upper())\n",
    "\n",
    "else:\n",
    "    print(string2.lower(),string1.upper())\n"
   ]
  },
  {
   "cell_type": "markdown",
   "metadata": {},
   "source": [
    "<a id=\"forloop\"></a>\n",
    "## The for loop\n",
    "The conditional statement allows us to selectively run parts of our program. Loops allow us to re-run parts of our code several times, perhaps making some changes each time the code is run. There are several types of loops. The `for` loop runs a block of code 'for' a fixed number of times.\n",
    "\n",
    "Here is a basic example."
   ]
  },
  {
   "cell_type": "code",
   "execution_count": 33,
   "metadata": {
    "scrolled": true
   },
   "outputs": [
    {
     "name": "stdout",
     "output_type": "stream",
     "text": [
      "i = 0\n",
      "i = 1\n",
      "i = 2\n"
     ]
    }
   ],
   "source": [
    "# loop three times and print out the value of 'i'\n",
    "\n",
    "for i in range(3):       # The counter variable 'i' can be named anything. \n",
    "    print('i =', i )"
   ]
  },
  {
   "cell_type": "code",
   "execution_count": null,
   "metadata": {},
   "outputs": [],
   "source": [
    "# Loops don't need to use the counter variable if you just want to repeat\n",
    "# an action a set number of times\n",
    "\n",
    "for j in range(3):\n",
    "    print(\"Hello!\")"
   ]
  },
  {
   "cell_type": "markdown",
   "metadata": {},
   "source": [
    "**Important:** Notice the 4-space indent again. In general, the colon tells us that the indented lines below 'belong' to the line of code with the colon."
   ]
  },
  {
   "cell_type": "markdown",
   "metadata": {},
   "source": [
    "### Ranges\n",
    "The function `range()` creates a sequence of whole numbers. With a single argument, it starts at zero, but it can do more. Examples:\n",
    "* `range(3)` returns 0, 1, 2\n",
    "* `range(2,7)` returns 2, 3, 4, 5, 6\n",
    "* `range(0, 10, 2)`  returns 0, 2, 4, 6, 8 \\[the third argument is the 'step' size\\]\n",
    "\n",
    "Change the code above to try out these ranges. "
   ]
  },
  {
   "cell_type": "code",
   "execution_count": 34,
   "metadata": {},
   "outputs": [
    {
     "name": "stdout",
     "output_type": "stream",
     "text": [
      "<class 'range'>\n",
      "range(0, 5)\n"
     ]
    }
   ],
   "source": [
    "# A range is python type, like a float or a str\n",
    "my_range = range(5)\n",
    "print(type(my_range))\n",
    "\n",
    "# What happens if I print the range?\n",
    "print(my_range)"
   ]
  },
  {
   "cell_type": "markdown",
   "metadata": {},
   "source": [
    "That last print out might not be what you expected. If you want to see the sequence, convert it to a list first."
   ]
  },
  {
   "cell_type": "code",
   "execution_count": 35,
   "metadata": {},
   "outputs": [
    {
     "name": "stdout",
     "output_type": "stream",
     "text": [
      "[0, 1, 2, 3, 4]\n"
     ]
    }
   ],
   "source": [
    "# Remember what list() does?\n",
    "print(list(my_range))     "
   ]
  },
  {
   "cell_type": "code",
   "execution_count": 36,
   "metadata": {},
   "outputs": [
    {
     "name": "stdout",
     "output_type": "stream",
     "text": [
      "[0, 2, 4, 6, 8]\n"
     ]
    }
   ],
   "source": [
    "my_range = range(0, 10, 2)\n",
    "print(list(my_range))"
   ]
  },
  {
   "cell_type": "markdown",
   "metadata": {},
   "source": [
    "### Looping over collections (lists, strings, etc)\n",
    "Looping over a range is the only kind of for loop you can use in languages like C or MATLAB. Python gives us a very easy way to loop over many kinds of things. Here, we loop over a string.  "
   ]
  },
  {
   "cell_type": "code",
   "execution_count": 37,
   "metadata": {},
   "outputs": [
    {
     "name": "stdout",
     "output_type": "stream",
     "text": [
      "h\n",
      "e\n",
      "l\n",
      "l\n",
      "o\n",
      " \n",
      "@\n",
      "y\n",
      "y\n",
      "y\n"
     ]
    }
   ],
   "source": [
    "street = 'hello @yyy'\n",
    "\n",
    "# The variable 'char' could be named anything. \n",
    "for char in street:\n",
    "    print(char)"
   ]
  },
  {
   "cell_type": "markdown",
   "metadata": {},
   "source": [
    "The same syntax works for looping over a list, too. Remember that, since lists are ordered, we can refer to an element in a list by its index. The code\n",
    "\n",
    "```python \n",
    "x = [1, 20, 15]\n",
    "print(x[2])\n",
    "\n",
    "\n",
    "```\n",
    "\n",
    "will return the value 15. \n",
    "\n",
    "Here are two ways to loop through a list. "
   ]
  },
  {
   "cell_type": "code",
   "execution_count": 38,
   "metadata": {},
   "outputs": [
    {
     "name": "stdout",
     "output_type": "stream",
     "text": [
      "The old-school way:\n",
      "GDP\n",
      "POP\n",
      "INVEST\n",
      "EXPORTS\n",
      "\n",
      "The python way:\n",
      "GDP\n",
      "POP\n",
      "INVEST\n",
      "EXPORTS\n"
     ]
    }
   ],
   "source": [
    "var_names = ['GDP', 'POP', 'INVEST', 'EXPORTS']\n",
    "\n",
    "# Here is a clunky, C-style way to do this\n",
    "print('The old-school way:')\n",
    "for i in range(4):       # i = 0, 1, 2, 3\n",
    "    print(var_names[i])\n",
    "\n",
    "\n",
    "# The python way\n",
    "print('\\nThe python way:')\n",
    "for var in var_names:     # Again, 'var' can be named anything\n",
    "    print(var)"
   ]
  },
  {
   "cell_type": "markdown",
   "metadata": {},
   "source": [
    "Wow. \n",
    "\n",
    "Ranges, lists, and strings are all 'iterable objects'. An iterable object is an object that knows how to return the 'next' element within it. When we iterate over a list, each time the for loop 'asks' for the next element in the list, the list knows how to answer with the next element.   \n",
    "\n",
    "* Ranges iterate over whole numbers\n",
    "* Lists iterate over the elements of the list\n",
    "* Strings iterate over the characters\n",
    "* Dicts iterate over the keys\n",
    "* and more...\n",
    "\n",
    "Iterators are used in places besides loops, too. We will see other uses as we go on. Powerful stuff."
   ]
  },
  {
   "cell_type": "markdown",
   "metadata": {},
   "source": [
    "### Get the index and the value at the same time\n",
    "\n",
    "When we looped over the list `var_names`, our first loop used the index and the second just used the values. We can ask an iterable object for both the index and value at the same time with the `enumerate()` function [(docs)](https://docs.python.org/3/library/functions.html#enumerate). \n",
    "\n",
    "`enumerate()` takes an iterable object as an argument and returns a tuple of the index and the value. "
   ]
  },
  {
   "cell_type": "code",
   "execution_count": 10,
   "metadata": {},
   "outputs": [
    {
     "name": "stdout",
     "output_type": "stream",
     "text": [
      "The index is 0 and the value is GDP\n",
      "The index is 1 and the value is POP\n",
      "The index is 2 and the value is INVEST\n",
      "The index is 3 and the value is EXPORTS\n"
     ]
    }
   ],
   "source": [
    "# 'i' will hold the index and 'var' will hold the value in var_names[i]\n",
    "var_names = ['GDP', 'POP', 'INVEST', 'EXPORTS']\n",
    "\n",
    "for i, var in enumerate(var_names):     \n",
    "    print('The index is', i, 'and the value is', var)"
   ]
  },
  {
   "cell_type": "markdown",
   "metadata": {},
   "source": [
    "### A more customized approach\n",
    "You can loop through two iterables at once with the zip() function "
   ]
  },
  {
   "cell_type": "code",
   "execution_count": 3,
   "metadata": {},
   "outputs": [
    {
     "data": {
      "text/plain": [
       "[6, 6, 6]"
      ]
     },
     "execution_count": 3,
     "metadata": {},
     "output_type": "execute_result"
    }
   ],
   "source": [
    "# Let's add the i-th term in the lists below together to form a new list\n",
    "list1 = [1, 2, 3]\n",
    "list2 = [5, 4, 3]\n",
    "summed_list = [0, 0, 0]\n",
    "count = 0\n",
    "for val1, val2 in zip(list1, list2):\n",
    "    summed_list[count] = val1 + val2\n",
    "    count = count + 1\n",
    "#    count += 1     # Try commenting this line out and uncommenting the line above\n",
    "\n",
    "summed_list"
   ]
  },
  {
   "cell_type": "code",
   "execution_count": 6,
   "metadata": {},
   "outputs": [
    {
     "data": {
      "text/plain": [
       "[6, 6, 6]"
      ]
     },
     "execution_count": 6,
     "metadata": {},
     "output_type": "execute_result"
    }
   ],
   "source": [
    "list1 = [1, 2, 3]\n",
    "list2 = [5, 4, 3]\n",
    "\n",
    "[x+y for x, y in zip(list1, list2)]"
   ]
  },
  {
   "cell_type": "markdown",
   "metadata": {},
   "source": [
    "### While loops\n",
    "A useful companion tool to `for` and `if` is `while`, which executes code repeatedly based on a Boolean expression. It will keep executing the code until a given condition (`if`) applied to the iterable object (`for`) is no longer met."
   ]
  },
  {
   "cell_type": "code",
   "execution_count": 8,
   "metadata": {},
   "outputs": [],
   "source": [
    "count = 12\n",
    "while count < 3:\n",
    "    if count < 2:\n",
    "        print(\"Hip,\")\n",
    "    else:\n",
    "        print(\"Hooray!\")\n",
    "    count += 1\n",
    "    \n",
    "# Be careful, while loops can run forever if the condition you input is never met \n",
    "# (the code below will run forever if you don't manually stop it from running)"
   ]
  },
  {
   "cell_type": "code",
   "execution_count": 9,
   "metadata": {},
   "outputs": [
    {
     "name": "stdout",
     "output_type": "stream",
     "text": [
      "The first value in list_sorted with a value greater than 2 is at index 5\n"
     ]
    }
   ],
   "source": [
    "# Let's output the index of the first value in the list below that is greater than 2\n",
    "list_sorted = [0, 0.25, 0.5, 1.7777, 2, 2.67, 3]\n",
    "found_value = False \n",
    "count = 0\n",
    "while found_value == False: \n",
    "    if list_sorted[count] > 2:\n",
    "        found_value = True\n",
    "    else:\n",
    "        count += 1\n",
    "\n",
    "# Print out the result \n",
    "print(\"The first value in list_sorted with a value greater than 2 is at index\", count)"
   ]
  },
  {
   "cell_type": "markdown",
   "metadata": {},
   "source": [
    "### Top Hat Exercise: Loops\n",
    "Take a few minutes and try the following. Feel free to chat with those around you if you get stuck. The TA and I are here, too.\n",
    "\n",
    "Remember this example from earlier?\n",
    "1. We have 5 integer observations in our dataset: 1, 3, 8, 3, 9. Unfortunately, the data file ran all the observations together and we are left with the variable `raw_data` in the cell below.\n",
    "2. What type is raw_data?\n",
    "3. Turn raw_data into a list. \n"
   ]
  },
  {
   "cell_type": "code",
   "execution_count": 53,
   "metadata": {},
   "outputs": [
    {
     "data": {
      "text/plain": [
       "['1', '3', '8', '3', '9']"
      ]
     },
     "execution_count": 53,
     "metadata": {},
     "output_type": "execute_result"
    }
   ],
   "source": [
    "raw_data = '13839'\n",
    "list_data = list(raw_data)\n",
    "list_data"
   ]
  },
  {
   "cell_type": "markdown",
   "metadata": {},
   "source": [
    "\n",
    "Is your data ready to be analyzed? Why not?\n",
    "\n",
    "4. In the cell below, convert your list to a list of integers. ~~You might try repeating statements like `list_data[0]=int(list_data[0])`~~ Put a loop to work! (We will see even better ways to do this soon...) <br><br>\n",
    "\\[Hint: You might want to start with an empty list and use the `.append()` method to add elements to it.\\]\n",
    " "
   ]
  },
  {
   "cell_type": "code",
   "execution_count": 54,
   "metadata": {},
   "outputs": [
    {
     "data": {
      "text/plain": [
       "[1, 3, 8, 3, 9]"
      ]
     },
     "execution_count": 54,
     "metadata": {},
     "output_type": "execute_result"
    }
   ],
   "source": [
    "list_data = []\n",
    "for i in raw_data:\n",
    "    list_data.append(int(i))\n",
    "\n",
    "list_data"
   ]
  },
  {
   "cell_type": "markdown",
   "metadata": {},
   "source": [
    "5. Loop through the following list: `commands = ['go', 'go', 'go', 'stop', 'go', 'go']` If the command is 'go' print out the word 'Green'. If the command is 'stop' print out the word 'Red'."
   ]
  },
  {
   "cell_type": "code",
   "execution_count": 57,
   "metadata": {},
   "outputs": [
    {
     "name": "stdout",
     "output_type": "stream",
     "text": [
      "Green\n",
      "Green\n",
      "Green\n",
      "Green\n",
      "Green\n"
     ]
    }
   ],
   "source": [
    "commands = ['go', 'go', 'go', 'caution', 'go', 'go']\n",
    "for c in commands:\n",
    " if c == \"go\":\n",
    "    print(\"Green\")\n",
    " elif c == \"stop\":\n",
    "     print('Red')\n",
    "\n",
    "    "
   ]
  },
  {
   "cell_type": "markdown",
   "metadata": {},
   "source": [
    "<a id=\"listcomp\"></a>\n",
    "## List comprehensions\n",
    "List comprehensions provide a very compact syntax to do loops over lists (or other iterable objects). Anything you can do with a list comprehension you can do with a for loop. In this sense, we don't really need to know this, but python programmers love list comprehensions, so you will see them in other people's code. Plus, it's a cool skill to have. \n",
    "\n",
    "\\[Programmers call this kind of thing [syntactic sugar](https://en.wikipedia.org/wiki/Syntactic_sugar). It makes the code 'sweeter' for humans to read, but doesn't add functionality to the language. You might want to casually drop this kind of language around your programmer friends.\\] \n",
    "\n",
    "Here is a common problem with data in the wild. We would like to check for certain string values, but we have to be careful about cases. To facilitate comparison, let's make all the strings lower case. \n",
    "\n",
    "First, the loop way\n"
   ]
  },
  {
   "cell_type": "code",
   "execution_count": 1,
   "metadata": {},
   "outputs": [
    {
     "name": "stdout",
     "output_type": "stream",
     "text": [
      "['senior', 'senior', 'freshman', 'sophomore', 'senior', 'junior']\n"
     ]
    }
   ],
   "source": [
    "# Some data\n",
    "class_rank = ['Senior', 'senior', 'Freshman', 'sophomore', 'senior', 'Junior']\n",
    "\n",
    "# Create a new list with all lower case entries\n",
    "class_rank_cleaned = []                             # creates an empty list\n",
    "for datum in class_rank:\n",
    "    class_rank_cleaned.append(datum.lower())        # append() adds an element to the end of a list\n",
    "    \n",
    "print(class_rank_cleaned)"
   ]
  },
  {
   "cell_type": "code",
   "execution_count": 7,
   "metadata": {},
   "outputs": [
    {
     "data": {
      "text/plain": [
       "['senior', 'senior', 'freshman', 'sophomore', 'senior', 'junior']"
      ]
     },
     "execution_count": 7,
     "metadata": {},
     "output_type": "execute_result"
    }
   ],
   "source": [
    "class_rank = ['Senior', 'senior', 'Freshman', 'sophomore', 'senior', 'Junior']\n",
    "lower_case = [ ]\n",
    "for x in class_rank:\n",
    "    lower_case.append(x.lower())\n",
    "    \n",
    "lower_case"
   ]
  },
  {
   "cell_type": "markdown",
   "metadata": {},
   "source": [
    "Not bad. We now have cleaned up data and can do comparisons without worrying about case. \n",
    "\n",
    "Now, let's roll out a list comprehension."
   ]
  },
  {
   "cell_type": "code",
   "execution_count": 2,
   "metadata": {},
   "outputs": [
    {
     "name": "stdout",
     "output_type": "stream",
     "text": [
      "['senior', 'senior', 'freshman', 'sophomore', 'senior', 'junior']\n"
     ]
    }
   ],
   "source": [
    "# Some data\n",
    "class_rank = ['Senior', 'senior', 'Freshman', 'sophomore', 'senior', 'Junior']\n",
    "\n",
    "# 'elem' could be anything. It is a counter variable.\n",
    "class_rank_cleaned_lc = [elem.lower() for elem in class_rank]   #apply to those of upper case only , another as above  \n",
    "\n",
    "print(class_rank_cleaned_lc)"
   ]
  },
  {
   "cell_type": "markdown",
   "metadata": {},
   "source": [
    "Very clean. Very easy. Let's break down the list comprehension. \n",
    "\n",
    "`class_rank_cleaned_lc = [elem.lower() for elem in class_rank]`\n",
    "\n",
    "1. The square brackets \\[ \\] are creating a new list, just like we have done in the past\n",
    "2. The code on the left-hand side of `for` is the operation we want performed on each element of the list\n",
    "3. The `for elem in class_rank` is the for loop syntax, like we have used before.\n",
    "\n",
    "Let's try another. Before you run the cell, what do you think this code does?"
   ]
  },
  {
   "cell_type": "code",
   "execution_count": 3,
   "metadata": {},
   "outputs": [
    {
     "name": "stdout",
     "output_type": "stream",
     "text": [
      "[0, 1, 4]\n"
     ]
    }
   ],
   "source": [
    "# What does this code do?\n",
    "sq = [item**2 for item in range(3)] \n",
    "print(sq)"
   ]
  },
  {
   "cell_type": "code",
   "execution_count": 4,
   "metadata": {},
   "outputs": [
    {
     "name": "stdout",
     "output_type": "stream",
     "text": [
      "[6, 6, 8, 9, 6, 6]\n"
     ]
    }
   ],
   "source": [
    "# What about this code? What does it do?\n",
    "class_rank_len = [len(elem) for elem in class_rank]\n",
    "print(class_rank_len)\n"
   ]
  },
  {
   "cell_type": "markdown",
   "metadata": {},
   "source": [
    "We can apply a conditional statement so that we only perform an operation on certain elements. "
   ]
  },
  {
   "cell_type": "code",
   "execution_count": 5,
   "metadata": {},
   "outputs": [
    {
     "name": "stdout",
     "output_type": "stream",
     "text": [
      "['SENIOR', 'SENIOR', 'SENIOR']\n"
     ]
    }
   ],
   "source": [
    "# Seniors rule!\n",
    "class_rank_caps = [i.upper() for i in class_rank_cleaned if i=='senior']   #ALL upper case\n",
    "print(class_rank_caps)"
   ]
  },
  {
   "cell_type": "markdown",
   "metadata": {},
   "source": [
    "### Top Hat Exercise: List comprehensions\n",
    "Take a few minutes and try the following. Feel free to chat with those around you if you get stuck. The TA and I are here, too.\n",
    "\n",
    "1. Here is a list of interest rates: `r = [0.01, 0.01, 0.015, 0.02, 0.022]` Multiply each of them by 100 to make them percentage interest rates. What happened to 0.022?"
   ]
  },
  {
   "cell_type": "code",
   "execution_count": 16,
   "metadata": {},
   "outputs": [
    {
     "data": {
      "text/plain": [
       "[1.0, 1.0, 1.5, 2.0, 2.1999999999999997]"
      ]
     },
     "execution_count": 16,
     "metadata": {},
     "output_type": "execute_result"
    }
   ],
   "source": [
    "r = [0.01, 0.01, 0.015, 0.02, 0.022]\n",
    "pcts = [item*100 for item in r]\n",
    "pcts"
   ]
  },
  {
   "cell_type": "markdown",
   "metadata": {},
   "source": [
    "2. Here we go again! Turn `raw_data = '13839'` into a list of integers. Use a list comprehension. (We've come a long way!)"
   ]
  },
  {
   "cell_type": "code",
   "execution_count": 17,
   "metadata": {},
   "outputs": [
    {
     "data": {
      "text/plain": [
       "[1, 3, 8, 3, 9]"
      ]
     },
     "execution_count": 17,
     "metadata": {},
     "output_type": "execute_result"
    }
   ],
   "source": [
    "raw_data = '13839' \n",
    "list_data = [int(i) for i in raw_data]\n",
    "list_data"
   ]
  },
  {
   "cell_type": "markdown",
   "metadata": {},
   "source": [
    "### Try at home (or if you finish early)\n",
    "\n",
    "A bit harder: create two lists derived from the following list: `data_list = [1, 2, 3, 4, 5, 6, 7, 8]` One list should have only the odd numbers and the other list should have only the even numbers. You might use the modulo operator `%` which yields the remainder from the division of the first argument by the second.'  For example 3%2 = 1. "
   ]
  },
  {
   "cell_type": "code",
   "execution_count": 11,
   "metadata": {},
   "outputs": [
    {
     "name": "stdout",
     "output_type": "stream",
     "text": [
      "[1, 3, 5, 7]\n",
      "[2, 4, 6, 8]\n"
     ]
    }
   ],
   "source": [
    "data_list = [1, 2, 3, 4, 5, 6, 7, 8]\n",
    "odds = [i for i in data_list if i%2 ==1]\n",
    "print(odds)\n",
    "evens = [i for i in data_list if i%2 ==0]\n",
    "print(evens)"
   ]
  },
  {
   "cell_type": "code",
   "execution_count": null,
   "metadata": {},
   "outputs": [],
   "source": []
  }
 ],
 "metadata": {
  "celltoolbar": "Attachments",
  "kernelspec": {
   "display_name": "Python 3 (ipykernel)",
   "language": "python",
   "name": "python3"
  },
  "language_info": {
   "codemirror_mode": {
    "name": "ipython",
    "version": 3
   },
   "file_extension": ".py",
   "mimetype": "text/x-python",
   "name": "python",
   "nbconvert_exporter": "python",
   "pygments_lexer": "ipython3",
   "version": "3.11.5"
  },
  "varInspector": {
   "cols": {
    "lenName": 16,
    "lenType": 16,
    "lenVar": 40
   },
   "kernels_config": {
    "python": {
     "delete_cmd_postfix": "",
     "delete_cmd_prefix": "del ",
     "library": "var_list.py",
     "varRefreshCmd": "print(var_dic_list())"
    },
    "r": {
     "delete_cmd_postfix": ") ",
     "delete_cmd_prefix": "rm(",
     "library": "var_list.r",
     "varRefreshCmd": "cat(var_dic_list()) "
    }
   },
   "types_to_exclude": [
    "module",
    "function",
    "builtin_function_or_method",
    "instance",
    "_Feature"
   ],
   "window_display": false
  }
 },
 "nbformat": 4,
 "nbformat_minor": 4
}
