{
 "cells": [
  {
   "cell_type": "markdown",
   "metadata": {},
   "source": [
    "## Python basics: Part 4\n",
    "\n",
    "files needed = none\n",
    "\n",
    "Before we can start working with data, we need to work out some of the basics of Python. The goal is to learn enough so that we can do some interesting data work&mdash;we do not need to be Python Jedi. \n",
    "\n",
    "We now know about the basic data structures in python, how types work, and how to do some basic computation and string manipulation. We can use flow control statements to steer our program to different blocks of code depending on conditional statements and we have sorted out loops and list comprehensions. \n",
    "\n",
    "Up next are a few more important topics before we get started with pandas. We will cover\n",
    "\n",
    "1. Slicing\n",
    "2. User defined functions\n",
    "3. Objects and TAB completion\n",
    "\n"
   ]
  },
  {
   "cell_type": "markdown",
   "metadata": {},
   "source": [
    "## Slicing\n",
    "Slicing is an important part of python life. We *slice* a list (or a tuple or a string) when we take a subset of it. As you can probably imagine, slicing will be a common thing we do with data. We often want to grab slices of the data set and analyze them. \n",
    "\n",
    "The slice syntax uses square brackets&mdash;even if we are slicing a string or a tuple. The basic command is \n",
    "\n",
    "```python\n",
    "some_list[start:stop:stride]\n",
    "```\n",
    "* `start` is the first element to include in the slice\n",
    "* `stop` is the first element we do **NOT include**\n",
    "* `stride` is the step size\n",
    "\n",
    "Notice that the `start` is inclusive and the `stop` is exclusive. Think of a slice as a half open interval in mathematics: \\[start, stop). We include `start` in the interval but exclude `stop`. \n",
    "\n",
    "The default stride is 1, meaning take every element from [start, stop).\n"
   ]
  },
  {
   "cell_type": "code",
   "execution_count": 1,
   "metadata": {},
   "outputs": [
    {
     "name": "stdout",
     "output_type": "stream",
     "text": [
      "[5, 6]\n",
      "[5, 6]\n",
      "[5, 7, 9]\n"
     ]
    }
   ],
   "source": [
    "some_list = [5, 6, 7, 8, 9]\n",
    "\n",
    "print(some_list[0:2])   # indexes start with zero; stride defaults to 1\n",
    "print(some_list[0:2:1]) # this should be the same\n",
    "print(some_list[0:5:2]) # take every other element"
   ]
  },
  {
   "cell_type": "code",
   "execution_count": 2,
   "metadata": {},
   "outputs": [
    {
     "name": "stdout",
     "output_type": "stream",
     "text": [
      "[6, 7]\n"
     ]
    }
   ],
   "source": [
    "# take a slice out of the middle\n",
    "print(some_list[1:3])     #take the second element and the third element"
   ]
  },
  {
   "cell_type": "markdown",
   "metadata": {},
   "source": [
    "If we want to take a `start` and then 'everything to the end' we just leave the second argument blank. A similar syntax for taking everything from the beginning to a `stop`."
   ]
  },
  {
   "cell_type": "code",
   "execution_count": 3,
   "metadata": {},
   "outputs": [
    {
     "name": "stdout",
     "output_type": "stream",
     "text": [
      "[7, 8, 9]\n",
      "[5, 6, 7, 8]\n"
     ]
    }
   ],
   "source": [
    "print(some_list[2:])     # the third element to the end of the list\n",
    "print(some_list[:4])     # everything up to but not including the fifth element"
   ]
  },
  {
   "cell_type": "markdown",
   "metadata": {},
   "source": [
    "Slice arguments can be negative (we first saw this in python_basics_2). When we use a negative number for `start` or `stop`, we are telling python to count from the end of the list. "
   ]
  },
  {
   "cell_type": "code",
   "execution_count": 4,
   "metadata": {},
   "outputs": [
    {
     "name": "stdout",
     "output_type": "stream",
     "text": [
      "[5, 6, 7, 8]\n",
      "[5, 6, 7]\n",
      "[6, 7]\n"
     ]
    }
   ],
   "source": [
    "print(some_list[:-1])      # all but the last one\n",
    "print(some_list[:-2])      # all but the last two\n",
    "print(some_list[-4:-2])    # ugh (again, we don't take the -2 value)\n",
    "\n",
    "# [5 | 6 | 7 | 8 | 9]     # The list\n",
    "# -5  -4  -3  -2  -1      # backwards index\n",
    "#  0   1   2   3   4      # forwards index"
   ]
  },
  {
   "cell_type": "markdown",
   "metadata": {},
   "source": [
    "If we use a negative number for the `stride` argument, we iterate backwards. "
   ]
  },
  {
   "cell_type": "code",
   "execution_count": 5,
   "metadata": {},
   "outputs": [
    {
     "name": "stdout",
     "output_type": "stream",
     "text": [
      "[9, 8, 7, 6, 5]\n",
      "[9, 8, 7]\n"
     ]
    }
   ],
   "source": [
    "print(some_list[::-1])   # print the list out backwards\n",
    "print(some_list[4:1:-1]) # we are counting backwards, so be careful about start and stop\n",
    "                         # start at the [4] element in the list and end at the [2]"
   ]
  },
  {
   "cell_type": "code",
   "execution_count": 6,
   "metadata": {},
   "outputs": [
    {
     "name": "stdout",
     "output_type": "stream",
     "text": [
      "on\n",
      "drawno\n"
     ]
    }
   ],
   "source": [
    "# Don't forget, we can do this with strings, too\n",
    "slogan = 'onward'\n",
    "print(slogan[:2])       # just print 'on'\n",
    "print(slogan[::-1])     # backwards"
   ]
  },
  {
   "cell_type": "markdown",
   "metadata": {},
   "source": [
    "### Top Hat Exercise: Slices\n",
    "Take a few minutes and try the following. Feel free to chat with those around you if you get stuck. I am here, too\n",
    "\n",
    "1. Create the variable `boss = 'Chris Taber'`\n",
    "2. Slice `boss` to create the variables `first_name` and `last_name`\n",
    "3. Redo question two to create `first_name_neg` and `last_name_neg` by slicing `boss` using the negative number notation that counts from the end of the list."
   ]
  },
  {
   "cell_type": "code",
   "execution_count": 7,
   "metadata": {},
   "outputs": [
    {
     "name": "stdout",
     "output_type": "stream",
     "text": [
      "Chris Taber\n"
     ]
    }
   ],
   "source": [
    "# Remember, the space is a character.\n",
    "# C h r i s   T a b e r\n",
    "# 0 1 2 3 4 5 6 7 8 9 10\n",
    "\n",
    "# Slicing by forward index\n",
    "# Do not take the space!\n",
    "boss = 'Chris Taber'\n",
    "first_name = boss[:5]\n",
    "last_name = boss[6:]\n",
    "print(first_name,last_name)"
   ]
  },
  {
   "cell_type": "code",
   "execution_count": 8,
   "metadata": {},
   "outputs": [
    {
     "name": "stdout",
     "output_type": "stream",
     "text": [
      "Chris Taber\n"
     ]
    }
   ],
   "source": [
    "# Slicing by backwards index\n",
    "first_name_neg = boss[:-6]\n",
    "last_name_neg = boss[-5:]\n",
    "print(first_name_neg,last_name_neg)"
   ]
  },
  {
   "cell_type": "markdown",
   "metadata": {},
   "source": [
    "Consider this list of sorted data. \n",
    "\n",
    "`x_sorted = [10, 40, 100, 1000, 50000]`\n",
    "\n",
    "4. Print out the 3 largest elements\n",
    "5. Print out the two smallest elements\n",
    "\n",
    "\\[Try coding 4. and 5. as if you did not know the length of `x_sorted`.\\]"
   ]
  },
  {
   "cell_type": "code",
   "execution_count": 9,
   "metadata": {},
   "outputs": [
    {
     "name": "stdout",
     "output_type": "stream",
     "text": [
      "The three largest elements are: [100, 1000, 50000]\n",
      "The two smallest elements are: [10, 40]\n"
     ]
    }
   ],
   "source": [
    "x_sorted = [10, 40, 100, 1000, 50000]\n",
    "\n",
    "print('The three largest elements are:', x_sorted[-3:])\n",
    "print('The two smallest elements are:', x_sorted[:2])"
   ]
  },
  {
   "cell_type": "markdown",
   "metadata": {},
   "source": [
    "## User-defined functions\n",
    "We have seen some of python's built-in functions: `print()`, `type()`, and `len()`. Like many other languages, python allows users to create their own functions. \n",
    "\n",
    "Using functions lets us (or someone else) write and debug the code once&mdash;then we can reuse it. Very powerful stuff. Here is a simple example:"
   ]
  },
  {
   "cell_type": "code",
   "execution_count": 10,
   "metadata": {},
   "outputs": [],
   "source": [
    "def lb_to_kg(pounds):\n",
    "    \"\"\"\n",
    "    Input a weight in pounds. Return the weight in kilograms.\n",
    "    \"\"\"\n",
    "    # 1 pound = 0.453592 kilos...\n",
    "    kilos = pounds * 0.453592                  \n",
    "    \n",
    "    # This is the value the function returns\n",
    "    return kilos                               "
   ]
  },
  {
   "cell_type": "markdown",
   "metadata": {},
   "source": [
    "When you run the cell above, it looks like nothing happened, but python read the code and created the function. \n",
    "\n",
    "We can use the `whos` statement (a jupyter notebook 'magic' command) to learn about what objects are in the namespace. \\[A *namespace* is a list of all the objects we have created and the names we have assigned them.\\]"
   ]
  },
  {
   "cell_type": "code",
   "execution_count": 11,
   "metadata": {},
   "outputs": [
    {
     "name": "stdout",
     "output_type": "stream",
     "text": [
      "Variable         Type        Data/Info\n",
      "--------------------------------------\n",
      "boss             str         Chris Taber\n",
      "first_name       str         Chris\n",
      "first_name_neg   str         Chris\n",
      "last_name        str         Taber\n",
      "last_name_neg    str         Taber\n",
      "lb_to_kg         function    <function lb_to_kg at 0x7fa63857f1f0>\n",
      "slogan           str         onward\n",
      "some_list        list        n=5\n",
      "x_sorted         list        n=5\n"
     ]
    }
   ],
   "source": [
    "whos"
   ]
  },
  {
   "cell_type": "markdown",
   "metadata": {},
   "source": [
    "We can see the variables we have created earlier as well as the function `lb_to_kg`. Notice functions are of type `function`. Just like any other variable, `lb_to_kg` is loaded into the namespace. \n",
    "\n",
    "You must have the function located and executed in your program prior to any attempts to use it, otherwise you will get an error. Remember, the python interpreter reads your code and executes it line-by-line.\n",
    "\n",
    "Now that our function is defined and loaded into memory, we are ready to use it. "
   ]
  },
  {
   "cell_type": "code",
   "execution_count": 12,
   "metadata": {},
   "outputs": [
    {
     "name": "stdout",
     "output_type": "stream",
     "text": [
      "The car weighs 2267.96 kilos.\n"
     ]
    }
   ],
   "source": [
    "car_weight_pounds = 5000\n",
    "car_weight_kilos = lb_to_kg(car_weight_pounds)\n",
    "print('The car weighs', car_weight_kilos, 'kilos.')"
   ]
  },
  {
   "cell_type": "markdown",
   "metadata": {},
   "source": [
    "### Inputs and outputs\n",
    "\n",
    "1. The inputs to the function are called *arguments*. The names we give the arguments in our function definiton (e.g., `pounds`) become the variable names we use in the function code. \n",
    "\n",
    "2. The `return` command is what pushes our result back to the code that 'called' the function."
   ]
  },
  {
   "cell_type": "markdown",
   "metadata": {},
   "source": [
    "Since it is our function, we have to handle potentially bad inputs, or python will throw an error. "
   ]
  },
  {
   "cell_type": "code",
   "execution_count": 13,
   "metadata": {},
   "outputs": [],
   "source": [
    "def lb_to_kg_v2(pounds):\n",
    "    \"\"\"\n",
    "    Input a weight in pounds. Return the weight in kilograms.\n",
    "    \"\"\"\n",
    "    \n",
    "    if type(pounds)==float or type(pounds)== int:   # check that pounds is an allowable type\n",
    "        kilos = pounds * 0.453592                   # 1 pound = 0.453592 kilos...\n",
    "        return kilos                                # this is the value the function returns\n",
    "    else:\n",
    "        print('error: lb_to_kg_v2 only takes integers or floats.')\n",
    "        return -99"
   ]
  },
  {
   "cell_type": "code",
   "execution_count": 14,
   "metadata": {},
   "outputs": [
    {
     "name": "stdout",
     "output_type": "stream",
     "text": [
      "error: lb_to_kg_v2 only takes integers or floats.\n",
      "The truck weighs -99 kilos.\n"
     ]
    }
   ],
   "source": [
    "truck_weight_pounds = '5000'       #A classic problem with real data\n",
    "truck_weight_kilos = lb_to_kg_v2(truck_weight_pounds)\n",
    "print('The truck weighs', truck_weight_kilos, 'kilos.')"
   ]
  },
  {
   "cell_type": "markdown",
   "metadata": {},
   "source": [
    "How much time you spend writing code that is safe from errors is a tradeoff between your time and how robust your code needs to be. Life is all about tradeoffs. \n",
    "\n",
    "We can have functions with several input variables:"
   ]
  },
  {
   "cell_type": "code",
   "execution_count": 15,
   "metadata": {},
   "outputs": [],
   "source": [
    "def name_fixer(first, middle, last):\n",
    "    \"\"\"\n",
    "    Fix any capitalization problems and create a single variable with the complete name.\n",
    "    \"\"\"\n",
    "    # The string method title() makes the first letter capital\n",
    "    return first.title() + ' ' + middle.title() + ' ' + last.title()    "
   ]
  },
  {
   "cell_type": "code",
   "execution_count": 16,
   "metadata": {},
   "outputs": [
    {
     "name": "stdout",
     "output_type": "stream",
     "text": [
      "Buckingham U Badger\n"
     ]
    }
   ],
   "source": [
    "mascot_first = 'bucKingham'\n",
    "mascot_middle = 'u'\n",
    "mascot_last = 'badger'\n",
    "\n",
    "full_name = name_fixer(mascot_first, mascot_middle, mascot_last)\n",
    "print(full_name)"
   ]
  },
  {
   "cell_type": "markdown",
   "metadata": {},
   "source": [
    "We can assign several return variables. This is called *multiple assignment*. First, let's look at multiple assignment outside of a function, then we use it in a function.  "
   ]
  },
  {
   "cell_type": "code",
   "execution_count": 17,
   "metadata": {},
   "outputs": [
    {
     "name": "stdout",
     "output_type": "stream",
     "text": [
      "foo 10\n"
     ]
    }
   ],
   "source": [
    "# This is an example of multiple assignment. \n",
    "# Assign 'foo' to a and 10 to b... all in one statement.\n",
    "\n",
    "a, b = 'foo', 10            \n",
    "print(a, b)"
   ]
  },
  {
   "cell_type": "markdown",
   "metadata": {},
   "source": [
    "Multiple assignment lets us return several variables from a function."
   ]
  },
  {
   "cell_type": "code",
   "execution_count": 18,
   "metadata": {},
   "outputs": [
    {
     "name": "stdout",
     "output_type": "stream",
     "text": [
      " 65.0 degrees fahrenheit is 18.33 degrees celsius and 291.48 degrees kelvin.\n"
     ]
    }
   ],
   "source": [
    "def temp_converter(temp_in_fahrenheit):\n",
    "    \"\"\"\n",
    "    Takes a temperature in fahrenheit and returns it in celsius and in kelvin.\n",
    "    \"\"\"\n",
    "    temp_in_celsius = (temp_in_fahrenheit - 32) * 5/9\n",
    "    temp_in_kelvin = (temp_in_fahrenheit + 459.67) * 5/9\n",
    "    \n",
    "    return temp_in_celsius, temp_in_kelvin\n",
    "\n",
    "\n",
    "# Note that I am defining the function and using it in the same code cell. \n",
    "# The code below is NOT part of the function definition. We can see that because it is not indented. \n",
    "\n",
    "t_f = 65        # temp in fahrenheit\n",
    "t_c, t_k = temp_converter(t_f)\n",
    "print('{0:5.1f} degrees fahrenheit is {1:5.2f} degrees celsius and {2:5.2f} degrees kelvin.'.format(t_f, t_c, t_k))\n",
    "    "
   ]
  },
  {
   "cell_type": "markdown",
   "metadata": {},
   "source": [
    "### Function scope\n",
    "\n",
    "1. Any variable defined **within** your function is not accessible outside of that function. We say that these variables are *local* to the function. Local variables do not show up in `whos`. \n",
    "\n",
    " It is possible to create *global variables* which are defined within your broader program, and then accessible to all the functions you write. **This is not a good coding practice.** We want our functions to be self-contained so that they can be reused. \n",
    " \n"
   ]
  },
  {
   "cell_type": "code",
   "execution_count": 19,
   "metadata": {},
   "outputs": [
    {
     "ename": "NameError",
     "evalue": "name 'temp_in_kelvin' is not defined",
     "output_type": "error",
     "traceback": [
      "\u001b[0;31m---------------------------------------------------------------------------\u001b[0m",
      "\u001b[0;31mNameError\u001b[0m                                 Traceback (most recent call last)",
      "Input \u001b[0;32mIn [19]\u001b[0m, in \u001b[0;36m<cell line: 1>\u001b[0;34m()\u001b[0m\n\u001b[0;32m----> 1\u001b[0m \u001b[38;5;28mprint\u001b[39m(\u001b[43mtemp_in_kelvin\u001b[49m)\n",
      "\u001b[0;31mNameError\u001b[0m: name 'temp_in_kelvin' is not defined"
     ]
    }
   ],
   "source": [
    "print(temp_in_kelvin)"
   ]
  },
  {
   "cell_type": "code",
   "execution_count": 20,
   "metadata": {},
   "outputs": [
    {
     "name": "stdout",
     "output_type": "stream",
     "text": [
      "Variable              Type        Data/Info\n",
      "-------------------------------------------\n",
      "a                     str         foo\n",
      "b                     int         10\n",
      "boss                  str         Chris Taber\n",
      "car_weight_kilos      float       2267.96\n",
      "car_weight_pounds     int         5000\n",
      "first_name            str         Chris\n",
      "first_name_neg        str         Chris\n",
      "full_name             str         Buckingham U Badger\n",
      "last_name             str         Taber\n",
      "last_name_neg         str         Taber\n",
      "lb_to_kg              function    <function lb_to_kg at 0x7fa63857f1f0>\n",
      "lb_to_kg_v2           function    <function lb_to_kg_v2 at 0x7fa63857ff70>\n",
      "mascot_first          str         bucKingham\n",
      "mascot_last           str         badger\n",
      "mascot_middle         str         u\n",
      "name_fixer            function    <function name_fixer at 0x7fa63858a040>\n",
      "slogan                str         onward\n",
      "some_list             list        n=5\n",
      "t_c                   float       18.333333333333332\n",
      "t_f                   int         65\n",
      "t_k                   float       291.48333333333335\n",
      "temp_converter        function    <function temp_converter at 0x7fa63858aa60>\n",
      "truck_weight_kilos    int         -99\n",
      "truck_weight_pounds   str         5000\n",
      "x_sorted              list        n=5\n"
     ]
    }
   ],
   "source": [
    "whos"
   ]
  },
  {
   "cell_type": "markdown",
   "metadata": {},
   "source": [
    "### Documentation\n",
    "You may have noticed that we write a triple-quote comment at the beginning of our functions. This is called a *docstring*, and we use it to tell others what the function does. Remember the '?' operator? Give it a try below."
   ]
  },
  {
   "cell_type": "code",
   "execution_count": 21,
   "metadata": {},
   "outputs": [
    {
     "data": {
      "text/plain": [
       "\u001b[0;31mSignature:\u001b[0m \u001b[0mname_fixer\u001b[0m\u001b[0;34m(\u001b[0m\u001b[0mfirst\u001b[0m\u001b[0;34m,\u001b[0m \u001b[0mmiddle\u001b[0m\u001b[0;34m,\u001b[0m \u001b[0mlast\u001b[0m\u001b[0;34m)\u001b[0m\u001b[0;34m\u001b[0m\u001b[0;34m\u001b[0m\u001b[0m\n",
       "\u001b[0;31mDocstring:\u001b[0m Fix any capitalization problems and create a single variable with the complete name.\n",
       "\u001b[0;31mFile:\u001b[0m      /var/folders/65/j4jggl0d6dx83c979djsv8j40000gn/T/ipykernel_98646/1920516015.py\n",
       "\u001b[0;31mType:\u001b[0m      function\n"
      ]
     },
     "metadata": {},
     "output_type": "display_data"
    }
   ],
   "source": [
    "name_fixer?"
   ]
  },
  {
   "cell_type": "markdown",
   "metadata": {},
   "source": [
    "### Top Hat Exercise: Functions\n",
    "Take a few minutes and try the following. Feel free to chat with those around you if you get stuck. I am here, too.\n",
    "\n",
    "1. Write a change-counting function. Pass the function the number of pennies, nickels, dimes, and quarters, and return the value of the coins. \n",
    "\n",
    " Test it with 5 pennies, 4 dimes, 2 quarters = 95 cents. "
   ]
  },
  {
   "cell_type": "code",
   "execution_count": 22,
   "metadata": {},
   "outputs": [
    {
     "name": "stdout",
     "output_type": "stream",
     "text": [
      "5 pennies plus 0 nickels plus 4 dimes plus 2 quarters has a total value of 0.95.\n"
     ]
    }
   ],
   "source": [
    "def change_counter(pennies, nickels, dimes, quarters):\n",
    "    \"\"\"\n",
    "    Takes coin counts and returns the total value.\n",
    "    \"\"\"\n",
    "    return pennies*.01 + nickels*.05 + dimes*.10 + quarters*.25\n",
    "\n",
    "p = 5\n",
    "n = 0\n",
    "d = 4\n",
    "q = 2\n",
    "val = change_counter(5, 0, 4, 2)\n",
    "print('{0:1.0f} pennies plus {1:1.0f} nickels plus {2:1.0f} dimes plus {3:1.0f} quarters has a total value of {4:3.2f}.'.format(p, n, d, q, val))\n",
    "    "
   ]
  },
  {
   "cell_type": "markdown",
   "metadata": {},
   "source": [
    "2. Modify the `name_fixer()` function to return both the fixed-up full name and the length of the full name. Use multiple assignment. \n",
    "\n",
    " Test it with \"nelsoN websTER DEweY\" [(Who?)](https://en.wikipedia.org/wiki/Nelson_Dewey)"
   ]
  },
  {
   "cell_type": "code",
   "execution_count": 23,
   "metadata": {},
   "outputs": [
    {
     "name": "stdout",
     "output_type": "stream",
     "text": [
      "('Nelson Webster Dewey', 20)\n"
     ]
    }
   ],
   "source": [
    "def name_fixer(first, middle, last):\n",
    "    \"\"\"\n",
    "    Fix any capitalization problems and create a single variable with the complete name.\n",
    "    \"\"\"\n",
    "    # The string method title() makes the first letter capital\n",
    "    full = first.title() + ' ' + middle.title() + ' ' + last.title()\n",
    "    return full, len(full)\n",
    "\n",
    "print(name_fixer('nelsoN', 'websTER', 'DEweY'))"
   ]
  },
  {
   "cell_type": "markdown",
   "metadata": {},
   "source": [
    "3. Back in python 1, we worked on the problem:\n",
    "\n",
    "> 4. In a code cell, set `m=2` and `n=3`. Write some code that swaps the values of `m` and `n`.\n",
    "\n",
    "Back then, we created a temp variable to help us make the swap. Insert a code cell below and use multiple assignment to swap `m` and `n` in one line of code. "
   ]
  },
  {
   "cell_type": "code",
   "execution_count": 24,
   "metadata": {},
   "outputs": [
    {
     "name": "stdout",
     "output_type": "stream",
     "text": [
      "m= 2 n= 3\n",
      "m= 3 n= 2\n"
     ]
    }
   ],
   "source": [
    "m = 2\n",
    "n = 3  #I could have used multiple assignment here, too, but didn't\n",
    "print('m=', m, 'n=', n)\n",
    "\n",
    "m, n = n, m                  # make the swap\n",
    "print('m=', m, 'n=', n)"
   ]
  },
  {
   "cell_type": "markdown",
   "metadata": {},
   "source": [
    "### Functions as arguments\n",
    "We can pass a function you write as an argument into another function. This can be particularly useful if the *inner* function (the argument) is going to be used in multiple places in your code. You only have to edit it once, and the change will apply everywhere it's used."
   ]
  },
  {
   "cell_type": "code",
   "execution_count": 25,
   "metadata": {},
   "outputs": [
    {
     "data": {
      "text/plain": [
       "4475.0"
      ]
     },
     "execution_count": 25,
     "metadata": {},
     "output_type": "execute_result"
    }
   ],
   "source": [
    "# Let's write some functions to calculate the sum of the powers of two lists of numbers\n",
    "def power(x, y):\n",
    "    return x**y\n",
    "\n",
    "def sum_of_op(operation, nums1, nums2):\n",
    "    total = 0.0\n",
    "    for n1, n2 in zip(nums1, nums2):\n",
    "        total += operation(n1, n2)\n",
    "    return total \n",
    "\n",
    "# Let's pass the power function to sum_of_op\n",
    "list1 = [6, 7, 8]\n",
    "list2 = [2, 3, 4]\n",
    "sum_of_op(power, list1, list2)"
   ]
  },
  {
   "cell_type": "code",
   "execution_count": 26,
   "metadata": {},
   "outputs": [
    {
     "data": {
      "text/plain": [
       "4475.0"
      ]
     },
     "execution_count": 26,
     "metadata": {},
     "output_type": "execute_result"
    }
   ],
   "source": [
    "# The same calculation, using a single function\n",
    "def sum_of_powers(nums1, nums2):\n",
    "    total = 0.0\n",
    "    for x, y in zip(nums1, nums2):\n",
    "        total += x**y\n",
    "    return total \n",
    "\n",
    "list1 = [6, 7, 8]\n",
    "list2 = [2, 3, 4]\n",
    "sum_of_powers(list1, list2)\n"
   ]
  },
  {
   "cell_type": "markdown",
   "metadata": {},
   "source": [
    "## Objects and TAB completion\n",
    "Like c++ or javascript, python is an object-oriented language. This is a topic that a computer science course could devote weeks to, but our goal is simpler: let's understand objects enough to use them well.\n",
    "\n",
    "Everything in python is an object. The variables we have been creating are objects. The functions we have written are objects. Objects are useful because they have *attributes* and *methods* associated with them. What attributes and methods an object has, depends on the object's type. Let's take lists for example. \n",
    "\n",
    "```python\n",
    "list_1 = ['a', 'b', 'c']\n",
    "list_2 = [4, 5, 6, 7, 8]\n",
    "```\n",
    "\n",
    "**Attributes** describe the object. Both lists are objects and both have type `list`, but their attributes are different. For example, a list's length is an attribute: `list_1` is of length 3, while `list_2` is of length 5. \n",
    "\n",
    "**Methods** are like functions that are attached to an object. Different types of objects have different methods available. Methods implement operations that we often use with a particular data type. We access methods with the 'dot' notation. \n",
    "```python\n",
    "list_1.method()\n",
    "```\n",
    "where `method()` is a method associated with the `list` class. We have been using the `.lower()`, `.upper()`, and `.title()` methods of the string class already. We have used the `.append()` method of the list class."
   ]
  },
  {
   "cell_type": "code",
   "execution_count": 27,
   "metadata": {},
   "outputs": [
    {
     "name": "stdout",
     "output_type": "stream",
     "text": [
      "['a', 'b', 'c']\n"
     ]
    }
   ],
   "source": [
    "list_1 = ['a', 'c', 'b']\n",
    "\n",
    "list_1.sort()        # the sort() method from the 'list' class\n",
    "\n",
    "print(list_1)\n"
   ]
  },
  {
   "cell_type": "markdown",
   "metadata": {},
   "source": [
    "How do we find out what methods are available for an object? Google is always a good way. You can also use `help()` with the class name. `help(str)` for strings, `help(list)` for lists. Python's [documentation](https://docs.python.org/3.9/library/stdtypes.html#string-methods) under \"string types\" shows us what is available for strings, for example.\n",
    "\n",
    "**Important:** We can also use *TAB completion* in jupyter notebooks. Type `list_1.` in the cell below and hit the TAB key."
   ]
  },
  {
   "cell_type": "code",
   "execution_count": null,
   "metadata": {},
   "outputs": [],
   "source": [
    "list_1."
   ]
  },
  {
   "cell_type": "markdown",
   "metadata": {},
   "source": [
    "The TAB gives us a list of possible methods. We have already seen `.append()`. `.reverse()` looks interesting. Let's give it a try."
   ]
  },
  {
   "cell_type": "markdown",
   "metadata": {},
   "source": [
    "TAB completion is also there to make it easier to reference variables in the namespace. Insert a code cell and start typing `lis` and hit tab. It should bring up a list of variables in the namespace that start with 'lis'. This is handy: it saves typing and avoids errors from typos.  "
   ]
  },
  {
   "cell_type": "markdown",
   "metadata": {},
   "source": [
    "### Top Hat Exercise: Objects and TAB completion\n",
    "Take a few minutes and try the following. Feel free to chat with those around you if you get stuck. I am here, too.\n",
    "\n",
    "1. Suppose you have data `gdp = '18,570.50'`, which is a string. Convert the variable to a float. Use TAB completion (and Google, if needed) to find a method that removes the comma. \n",
    "\n"
   ]
  },
  {
   "cell_type": "code",
   "execution_count": 28,
   "metadata": {},
   "outputs": [
    {
     "name": "stdout",
     "output_type": "stream",
     "text": [
      "18570.5\n",
      "18570.5 is of type <class 'float'>\n"
     ]
    }
   ],
   "source": [
    "gdp = '18,570.50'\n",
    "gdp = float(gdp.replace(',', ''))\n",
    "print(gdp)\n",
    "print(gdp, 'is of type', type(gdp))"
   ]
  },
  {
   "cell_type": "markdown",
   "metadata": {},
   "source": [
    "2. Sort the list below. \n",
    "```python\n",
    "scores = [50, 32, 78, 99, 39, 75]\n",
    "```\n",
    "3. Using TAB completion and/or the object inspector, use methods of the list type to insert `new_score` into `scores` in the correct position so that the list stays sorted.\n",
    "```python\n",
    "new_score = 85\n",
    "```"
   ]
  },
  {
   "cell_type": "code",
   "execution_count": 29,
   "metadata": {},
   "outputs": [
    {
     "name": "stdout",
     "output_type": "stream",
     "text": [
      "[50, 32, 78, 99, 39, 75]\n",
      "[32, 39, 50, 75, 78, 99]\n"
     ]
    }
   ],
   "source": [
    "scores = [50, 32, 78, 99, 39, 75]\n",
    "print(scores)\n",
    "\n",
    "scores.sort()\n",
    "print(scores)"
   ]
  },
  {
   "cell_type": "code",
   "execution_count": 30,
   "metadata": {},
   "outputs": [
    {
     "name": "stdout",
     "output_type": "stream",
     "text": [
      "[32, 39, 50, 75, 78, 85, 99]\n"
     ]
    }
   ],
   "source": [
    "new_score = 85\n",
    "scores.insert(5, new_score)\n",
    "print(scores)"
   ]
  },
  {
   "cell_type": "code",
   "execution_count": 31,
   "metadata": {},
   "outputs": [
    {
     "name": "stdout",
     "output_type": "stream",
     "text": [
      "[32, 35, 39, 50, 75, 78, 85, 99]\n"
     ]
    }
   ],
   "source": [
    "# Another way that doesn't require specifying the position of the insertion\n",
    "new_new_score = 35\n",
    "scores.append(new_new_score)\n",
    "scores.sort()\n",
    "print(scores)"
   ]
  },
  {
   "cell_type": "markdown",
   "metadata": {},
   "source": [
    "### Recursive functions\n",
    "We can also write functions that call on themselves. For example, the [Fibonacci sequence](https://en.wikipedia.org/wiki/Fibonacci_sequence) is defined recursively:\n",
    "\n",
    "* $F_0=0$\n",
    "* $F_1=1$\n",
    "* ...\n",
    "* $F_n = F_{n-1} + F_{n-2}$\n",
    "\n",
    "Let's try coding this up using a recursive function."
   ]
  },
  {
   "cell_type": "code",
   "execution_count": 32,
   "metadata": {},
   "outputs": [
    {
     "data": {
      "text/plain": [
       "21"
      ]
     },
     "execution_count": 32,
     "metadata": {},
     "output_type": "execute_result"
    }
   ],
   "source": [
    "def fib(n):\n",
    "    if n == 0:\n",
    "        return 0\n",
    " \n",
    "    # Check if n is 1\n",
    "    elif n == 1:\n",
    "        return 1\n",
    "\n",
    "    else:\n",
    "        return fib(n-1) + fib(n-2)\n",
    "\n",
    "fib(8)"
   ]
  }
 ],
 "metadata": {
  "celltoolbar": "Attachments",
  "kernelspec": {
   "display_name": "Python 3 (ipykernel)",
   "language": "python",
   "name": "python3"
  },
  "language_info": {
   "codemirror_mode": {
    "name": "ipython",
    "version": 3
   },
   "file_extension": ".py",
   "mimetype": "text/x-python",
   "name": "python",
   "nbconvert_exporter": "python",
   "pygments_lexer": "ipython3",
   "version": "3.11.5"
  },
  "varInspector": {
   "cols": {
    "lenName": 16,
    "lenType": 16,
    "lenVar": 40
   },
   "kernels_config": {
    "python": {
     "delete_cmd_postfix": "",
     "delete_cmd_prefix": "del ",
     "library": "var_list.py",
     "varRefreshCmd": "print(var_dic_list())"
    },
    "r": {
     "delete_cmd_postfix": ") ",
     "delete_cmd_prefix": "rm(",
     "library": "var_list.r",
     "varRefreshCmd": "cat(var_dic_list()) "
    }
   },
   "types_to_exclude": [
    "module",
    "function",
    "builtin_function_or_method",
    "instance",
    "_Feature"
   ],
   "window_display": false
  }
 },
 "nbformat": 4,
 "nbformat_minor": 4
}
