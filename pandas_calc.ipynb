{
 "cells": [
  {
   "cell_type": "markdown",
   "metadata": {},
   "source": [
    "# Calculations on DataFrames\n",
    "\n",
    "files needed = none\n",
    "\n",
    "Now that we understand DataFrames, let's look at basic calculations on DataFrames. We will cover more advanced calculation later. \n",
    "\n",
    "The big idea here is that **we never want to loop over the rows of a DataFrame to perform a calculation.**\n",
    "\n",
    "Pandas gives us lots of ways to perform simple and complex computations in a DataFrame. When we use the pandas' tools, there is a lot of optimized code working in the background. When we loop over the DataFrame on our own, we lose all that fast code and our program grinds away slowly. "
   ]
  },
  {
   "cell_type": "code",
   "execution_count": 11,
   "metadata": {},
   "outputs": [],
   "source": [
    "import pandas as pd"
   ]
  },
  {
   "cell_type": "markdown",
   "metadata": {},
   "source": [
    "\n",
    "A DataFrame naturally understands how to perform operations element-wise. For example, let's compute the share of consumption in GDP. We get started by loading up our little data dictionary and creating a DataFrame. "
   ]
  },
  {
   "cell_type": "code",
   "execution_count": 12,
   "metadata": {},
   "outputs": [],
   "source": [
    "data_dict = {'year': [1990, 1995, 2000, 2005 ], 'gdp':[5.9, 7.6, 10.2, 13.0], 'cons':[3.8, 4.9, 6.8, 8.7]}\n",
    "data = pd.DataFrame(data_dict)   "
   ]
  },
  {
   "cell_type": "code",
   "execution_count": 13,
   "metadata": {},
   "outputs": [
    {
     "data": {
      "text/html": [
       "<div>\n",
       "<style scoped>\n",
       "    .dataframe tbody tr th:only-of-type {\n",
       "        vertical-align: middle;\n",
       "    }\n",
       "\n",
       "    .dataframe tbody tr th {\n",
       "        vertical-align: top;\n",
       "    }\n",
       "\n",
       "    .dataframe thead th {\n",
       "        text-align: right;\n",
       "    }\n",
       "</style>\n",
       "<table border=\"1\" class=\"dataframe\">\n",
       "  <thead>\n",
       "    <tr style=\"text-align: right;\">\n",
       "      <th></th>\n",
       "      <th>year</th>\n",
       "      <th>gdp</th>\n",
       "      <th>cons</th>\n",
       "    </tr>\n",
       "  </thead>\n",
       "  <tbody>\n",
       "    <tr>\n",
       "      <th>0</th>\n",
       "      <td>1990</td>\n",
       "      <td>5.9</td>\n",
       "      <td>3.8</td>\n",
       "    </tr>\n",
       "    <tr>\n",
       "      <th>1</th>\n",
       "      <td>1995</td>\n",
       "      <td>7.6</td>\n",
       "      <td>4.9</td>\n",
       "    </tr>\n",
       "    <tr>\n",
       "      <th>2</th>\n",
       "      <td>2000</td>\n",
       "      <td>10.2</td>\n",
       "      <td>6.8</td>\n",
       "    </tr>\n",
       "    <tr>\n",
       "      <th>3</th>\n",
       "      <td>2005</td>\n",
       "      <td>13.0</td>\n",
       "      <td>8.7</td>\n",
       "    </tr>\n",
       "  </tbody>\n",
       "</table>\n",
       "</div>"
      ],
      "text/plain": [
       "   year   gdp  cons\n",
       "0  1990   5.9   3.8\n",
       "1  1995   7.6   4.9\n",
       "2  2000  10.2   6.8\n",
       "3  2005  13.0   8.7"
      ]
     },
     "execution_count": 13,
     "metadata": {},
     "output_type": "execute_result"
    }
   ],
   "source": [
    "data"
   ]
  },
  {
   "cell_type": "markdown",
   "metadata": {},
   "source": [
    "The DataFrame currently has an uninformative \"range\" index. "
   ]
  },
  {
   "cell_type": "code",
   "execution_count": 14,
   "metadata": {},
   "outputs": [
    {
     "name": "stdout",
     "output_type": "stream",
     "text": [
      "[RangeIndex(start=0, stop=4, step=1), Index(['year', 'gdp', 'cons'], dtype='object')]\n"
     ]
    }
   ],
   "source": [
    "print(data.axes)"
   ]
  },
  {
   "cell_type": "markdown",
   "metadata": {},
   "source": [
    "We could do better if we wanted to improve readability and meaning."
   ]
  },
  {
   "cell_type": "code",
   "execution_count": 15,
   "metadata": {},
   "outputs": [
    {
     "data": {
      "text/html": [
       "<div>\n",
       "<style scoped>\n",
       "    .dataframe tbody tr th:only-of-type {\n",
       "        vertical-align: middle;\n",
       "    }\n",
       "\n",
       "    .dataframe tbody tr th {\n",
       "        vertical-align: top;\n",
       "    }\n",
       "\n",
       "    .dataframe thead th {\n",
       "        text-align: right;\n",
       "    }\n",
       "</style>\n",
       "<table border=\"1\" class=\"dataframe\">\n",
       "  <thead>\n",
       "    <tr style=\"text-align: right;\">\n",
       "      <th></th>\n",
       "      <th>gdp</th>\n",
       "      <th>cons</th>\n",
       "    </tr>\n",
       "    <tr>\n",
       "      <th>year</th>\n",
       "      <th></th>\n",
       "      <th></th>\n",
       "    </tr>\n",
       "  </thead>\n",
       "  <tbody>\n",
       "    <tr>\n",
       "      <th>1990</th>\n",
       "      <td>5.9</td>\n",
       "      <td>3.8</td>\n",
       "    </tr>\n",
       "    <tr>\n",
       "      <th>1995</th>\n",
       "      <td>7.6</td>\n",
       "      <td>4.9</td>\n",
       "    </tr>\n",
       "    <tr>\n",
       "      <th>2000</th>\n",
       "      <td>10.2</td>\n",
       "      <td>6.8</td>\n",
       "    </tr>\n",
       "    <tr>\n",
       "      <th>2005</th>\n",
       "      <td>13.0</td>\n",
       "      <td>8.7</td>\n",
       "    </tr>\n",
       "  </tbody>\n",
       "</table>\n",
       "</div>"
      ],
      "text/plain": [
       "       gdp  cons\n",
       "year            \n",
       "1990   5.9   3.8\n",
       "1995   7.6   4.9\n",
       "2000  10.2   6.8\n",
       "2005  13.0   8.7"
      ]
     },
     "execution_count": 15,
     "metadata": {},
     "output_type": "execute_result"
    }
   ],
   "source": [
    "data_wind = data.set_index('year')\n",
    "data_wind"
   ]
  },
  {
   "cell_type": "code",
   "execution_count": 16,
   "metadata": {},
   "outputs": [
    {
     "data": {
      "text/html": [
       "<div>\n",
       "<style scoped>\n",
       "    .dataframe tbody tr th:only-of-type {\n",
       "        vertical-align: middle;\n",
       "    }\n",
       "\n",
       "    .dataframe tbody tr th {\n",
       "        vertical-align: top;\n",
       "    }\n",
       "\n",
       "    .dataframe thead th {\n",
       "        text-align: right;\n",
       "    }\n",
       "</style>\n",
       "<table border=\"1\" class=\"dataframe\">\n",
       "  <thead>\n",
       "    <tr style=\"text-align: right;\">\n",
       "      <th></th>\n",
       "      <th>year</th>\n",
       "      <th>gdp</th>\n",
       "      <th>cons</th>\n",
       "      <th>cons_share</th>\n",
       "    </tr>\n",
       "  </thead>\n",
       "  <tbody>\n",
       "    <tr>\n",
       "      <th>0</th>\n",
       "      <td>1990</td>\n",
       "      <td>5.9</td>\n",
       "      <td>3.8</td>\n",
       "      <td>0.644068</td>\n",
       "    </tr>\n",
       "    <tr>\n",
       "      <th>1</th>\n",
       "      <td>1995</td>\n",
       "      <td>7.6</td>\n",
       "      <td>4.9</td>\n",
       "      <td>0.644737</td>\n",
       "    </tr>\n",
       "    <tr>\n",
       "      <th>2</th>\n",
       "      <td>2000</td>\n",
       "      <td>10.2</td>\n",
       "      <td>6.8</td>\n",
       "      <td>0.666667</td>\n",
       "    </tr>\n",
       "    <tr>\n",
       "      <th>3</th>\n",
       "      <td>2005</td>\n",
       "      <td>13.0</td>\n",
       "      <td>8.7</td>\n",
       "      <td>0.669231</td>\n",
       "    </tr>\n",
       "  </tbody>\n",
       "</table>\n",
       "</div>"
      ],
      "text/plain": [
       "   year   gdp  cons  cons_share\n",
       "0  1990   5.9   3.8    0.644068\n",
       "1  1995   7.6   4.9    0.644737\n",
       "2  2000  10.2   6.8    0.666667\n",
       "3  2005  13.0   8.7    0.669231"
      ]
     },
     "execution_count": 16,
     "metadata": {},
     "output_type": "execute_result"
    }
   ],
   "source": [
    "# This will divide cons by gdp: row by row.\n",
    "data['cons_share'] = data['cons'] / data['gdp'] \n",
    "\n",
    "data"
   ]
  },
  {
   "cell_type": "markdown",
   "metadata": {},
   "source": [
    "Notice the left-hand side of the assignment. I am creating a new variable (column) in the DataFrame and assigning the consumption share to it."
   ]
  },
  {
   "cell_type": "code",
   "execution_count": 17,
   "metadata": {},
   "outputs": [
    {
     "data": {
      "text/html": [
       "<div>\n",
       "<style scoped>\n",
       "    .dataframe tbody tr th:only-of-type {\n",
       "        vertical-align: middle;\n",
       "    }\n",
       "\n",
       "    .dataframe tbody tr th {\n",
       "        vertical-align: top;\n",
       "    }\n",
       "\n",
       "    .dataframe thead th {\n",
       "        text-align: right;\n",
       "    }\n",
       "</style>\n",
       "<table border=\"1\" class=\"dataframe\">\n",
       "  <thead>\n",
       "    <tr style=\"text-align: right;\">\n",
       "      <th></th>\n",
       "      <th>year</th>\n",
       "      <th>gdp</th>\n",
       "      <th>cons</th>\n",
       "      <th>cons_share</th>\n",
       "    </tr>\n",
       "  </thead>\n",
       "  <tbody>\n",
       "    <tr>\n",
       "      <th>0</th>\n",
       "      <td>1990</td>\n",
       "      <td>5.9</td>\n",
       "      <td>3.8</td>\n",
       "      <td>64.406780</td>\n",
       "    </tr>\n",
       "    <tr>\n",
       "      <th>1</th>\n",
       "      <td>1995</td>\n",
       "      <td>7.6</td>\n",
       "      <td>4.9</td>\n",
       "      <td>64.473684</td>\n",
       "    </tr>\n",
       "    <tr>\n",
       "      <th>2</th>\n",
       "      <td>2000</td>\n",
       "      <td>10.2</td>\n",
       "      <td>6.8</td>\n",
       "      <td>66.666667</td>\n",
       "    </tr>\n",
       "    <tr>\n",
       "      <th>3</th>\n",
       "      <td>2005</td>\n",
       "      <td>13.0</td>\n",
       "      <td>8.7</td>\n",
       "      <td>66.923077</td>\n",
       "    </tr>\n",
       "  </tbody>\n",
       "</table>\n",
       "</div>"
      ],
      "text/plain": [
       "   year   gdp  cons  cons_share\n",
       "0  1990   5.9   3.8   64.406780\n",
       "1  1995   7.6   4.9   64.473684\n",
       "2  2000  10.2   6.8   66.666667\n",
       "3  2005  13.0   8.7   66.923077"
      ]
     },
     "execution_count": 17,
     "metadata": {},
     "output_type": "execute_result"
    }
   ],
   "source": [
    "# Oops, I wanted it in percentage\n",
    "data['cons_share'] = data['cons_share']*100\n",
    "\n",
    "data"
   ]
  },
  {
   "cell_type": "markdown",
   "metadata": {},
   "source": [
    "The ```+,-,/,*,**``` operators all work element wise. As we have seen, multiplying and dividing by scalar works fine, too."
   ]
  },
  {
   "cell_type": "code",
   "execution_count": 18,
   "metadata": {},
   "outputs": [
    {
     "data": {
      "text/plain": [
       "0    4148.233266\n",
       "1    4156.855956\n",
       "2    4444.444444\n",
       "3    4478.698225\n",
       "Name: cons_share, dtype: float64"
      ]
     },
     "execution_count": 18,
     "metadata": {},
     "output_type": "execute_result"
    }
   ],
   "source": [
    "temp = data['cons_share']**2\n",
    "\n",
    "temp"
   ]
  },
  {
   "cell_type": "markdown",
   "metadata": {},
   "source": [
    "Recall that every column within a DataFrame is a series, and every series has an index."
   ]
  },
  {
   "cell_type": "code",
   "execution_count": 19,
   "metadata": {},
   "outputs": [
    {
     "data": {
      "text/html": [
       "<div>\n",
       "<style scoped>\n",
       "    .dataframe tbody tr th:only-of-type {\n",
       "        vertical-align: middle;\n",
       "    }\n",
       "\n",
       "    .dataframe tbody tr th {\n",
       "        vertical-align: top;\n",
       "    }\n",
       "\n",
       "    .dataframe thead th {\n",
       "        text-align: right;\n",
       "    }\n",
       "</style>\n",
       "<table border=\"1\" class=\"dataframe\">\n",
       "  <thead>\n",
       "    <tr style=\"text-align: right;\">\n",
       "      <th></th>\n",
       "      <th>gdp</th>\n",
       "      <th>cons</th>\n",
       "      <th>cons_share</th>\n",
       "    </tr>\n",
       "  </thead>\n",
       "  <tbody>\n",
       "    <tr>\n",
       "      <th>0</th>\n",
       "      <td>5.9</td>\n",
       "      <td>3.8</td>\n",
       "      <td>64.406780</td>\n",
       "    </tr>\n",
       "    <tr>\n",
       "      <th>1</th>\n",
       "      <td>7.6</td>\n",
       "      <td>4.9</td>\n",
       "      <td>64.473684</td>\n",
       "    </tr>\n",
       "    <tr>\n",
       "      <th>2</th>\n",
       "      <td>10.2</td>\n",
       "      <td>6.8</td>\n",
       "      <td>66.666667</td>\n",
       "    </tr>\n",
       "    <tr>\n",
       "      <th>3</th>\n",
       "      <td>13.0</td>\n",
       "      <td>8.7</td>\n",
       "      <td>66.923077</td>\n",
       "    </tr>\n",
       "  </tbody>\n",
       "</table>\n",
       "</div>"
      ],
      "text/plain": [
       "    gdp  cons  cons_share\n",
       "0   5.9   3.8   64.406780\n",
       "1   7.6   4.9   64.473684\n",
       "2  10.2   6.8   66.666667\n",
       "3  13.0   8.7   66.923077"
      ]
     },
     "execution_count": 19,
     "metadata": {},
     "output_type": "execute_result"
    }
   ],
   "source": [
    "gdp = data['gdp']\n",
    "cons = data['cons']\n",
    "cons_share = data['cons_share']\n",
    "\n",
    "# Use the concat method to combine separate series into a DataFrame\n",
    "data_v2 = pd.concat([gdp, cons, cons_share], axis=1)\n",
    "data_v2"
   ]
  },
  {
   "cell_type": "markdown",
   "metadata": {},
   "source": [
    "Pandas calculations even work on series that are ordered differently, if they have the same index. Let's try sorting consumption in *descending* order."
   ]
  },
  {
   "cell_type": "code",
   "execution_count": 20,
   "metadata": {},
   "outputs": [
    {
     "data": {
      "text/plain": [
       "3    8.7\n",
       "2    6.8\n",
       "1    4.9\n",
       "0    3.8\n",
       "Name: cons, dtype: float64"
      ]
     },
     "execution_count": 20,
     "metadata": {},
     "output_type": "execute_result"
    }
   ],
   "source": [
    "cons = cons.sort_values(ascending=False)\n",
    "cons"
   ]
  },
  {
   "cell_type": "markdown",
   "metadata": {},
   "source": [
    "Now, let's see what happens if we try to run a calculation on two series with different sorts."
   ]
  },
  {
   "cell_type": "code",
   "execution_count": 21,
   "metadata": {},
   "outputs": [
    {
     "name": "stdout",
     "output_type": "stream",
     "text": [
      "0    64.406780\n",
      "1    64.473684\n",
      "2    66.666667\n",
      "3    66.923077\n",
      "Name: cons_share, dtype: float64 \n",
      "\n",
      "\n",
      "0    64.406780\n",
      "1    64.473684\n",
      "2    66.666667\n",
      "3    66.923077\n",
      "dtype: float64\n"
     ]
    }
   ],
   "source": [
    "print(cons_share, '\\n\\n')\n",
    "\n",
    "cons_share_v2 = (cons / gdp)*100\n",
    "print(cons_share_v2)"
   ]
  },
  {
   "cell_type": "markdown",
   "metadata": {},
   "source": [
    "Neat! This is **not** what would have happened had we tried to run a calculation on two spreadsheets with different sort orders."
   ]
  },
  {
   "cell_type": "markdown",
   "metadata": {},
   "source": [
    "### DataFrame methods for simple operations\n",
    "DataFrame has many methods for computing various statistics on the data. Note that some of them take an axis argument: For example, you could compute `.sum()` across a row or a column. You have to tell pandas which one you want."
   ]
  },
  {
   "cell_type": "code",
   "execution_count": 22,
   "metadata": {},
   "outputs": [
    {
     "name": "stdout",
     "output_type": "stream",
     "text": [
      "   year   gdp  cons  cons_share\n",
      "0  1990   5.9   3.8   64.406780\n",
      "1  1995   7.6   4.9   64.473684\n",
      "2  2000  10.2   6.8   66.666667\n",
      "3  2005  13.0   8.7   66.923077\n",
      "Sum across columns\n",
      "0    2064.106780\n",
      "1    2071.973684\n",
      "2    2083.666667\n",
      "3    2093.623077\n",
      "dtype: float64\n",
      "\n",
      "Sum across rows\n",
      "year          7990.000000\n",
      "gdp             36.700000\n",
      "cons            24.200000\n",
      "cons_share     262.470207\n",
      "dtype: float64\n",
      "\n",
      "Sum up gdp\n",
      "36.7\n",
      "\n",
      "Mean of each column\n",
      "year          1997.500000\n",
      "gdp              9.175000\n",
      "cons             6.050000\n",
      "cons_share      65.617552\n",
      "dtype: float64\n",
      "\n",
      "Mean gdp and cons\n",
      "gdp     9.175\n",
      "cons    6.050\n",
      "dtype: float64\n"
     ]
    }
   ],
   "source": [
    "print(data)\n",
    "\n",
    "# Sums \n",
    "print('Sum across columns')\n",
    "print(data.sum(axis=1)) # summing across columns. Not terribly useful here.\n",
    "\n",
    "print('\\nSum across rows')\n",
    "print(data.sum(axis=0)) # summing across rows. Cumulative GDP, consumption\n",
    "\n",
    "print('\\nSum up gdp')\n",
    "print(data['gdp'].sum()) # Sum a single column. No axis necessary because this is a 1-D series.\n",
    "\n",
    "# Means\n",
    "print('\\nMean of each column')\n",
    "print(data.mean(axis=0)) \n",
    "\n",
    "print('\\nMean gdp and cons')\n",
    "print(data[['gdp', 'cons']].mean(axis=0)) # We could also omit the axis here as well\n"
   ]
  },
  {
   "cell_type": "markdown",
   "metadata": {},
   "source": [
    "What happens to a sum across columns if we set the index?"
   ]
  },
  {
   "cell_type": "code",
   "execution_count": 23,
   "metadata": {},
   "outputs": [
    {
     "name": "stdout",
     "output_type": "stream",
     "text": [
      "Sum across columns, range index\n",
      "0    2064.106780\n",
      "1    2071.973684\n",
      "2    2083.666667\n",
      "3    2093.623077\n",
      "dtype: float64\n",
      "\n",
      "\n",
      "Sum across columns, year index\n",
      "year\n",
      "1990    74.106780\n",
      "1995    76.973684\n",
      "2000    83.666667\n",
      "2005    88.623077\n",
      "dtype: float64\n"
     ]
    }
   ],
   "source": [
    "print('Sum across columns, range index')\n",
    "print(data.sum(axis=1)) \n",
    "\n",
    "data_wind = data.set_index('year')\n",
    "print('\\n\\nSum across columns, year index')\n",
    "print(data_wind.sum(axis=1)) "
   ]
  },
  {
   "cell_type": "markdown",
   "metadata": {},
   "source": [
    "Try TAB completion to see the methods available or the [documentation](https://pandas.pydata.org/pandas-docs/stable/generated/pandas.DataFrame.html).\n",
    "\n",
    "Here are a few: `sum`, `mean`, `var`, `std`, `skew`, `rank`, `quantile`, `mode`, `min`, `max`, `kurtosis`, `cumsum`, `cumprod`...\n",
    "\n",
    "These will be even more powerful once we learn how to group data within a DataFrame and compute statistics by group.\n",
    "\n",
    "One very useful one..."
   ]
  },
  {
   "cell_type": "code",
   "execution_count": null,
   "metadata": {},
   "outputs": [],
   "source": []
  },
  {
   "cell_type": "code",
   "execution_count": 24,
   "metadata": {},
   "outputs": [
    {
     "name": "stdout",
     "output_type": "stream",
     "text": [
      "              year       gdp      cons  cons_share\n",
      "count     4.000000   4.00000  4.000000    4.000000\n",
      "mean   1997.500000   9.17500  6.050000   65.617552\n",
      "std       6.454972   3.10309  2.157931    1.363750\n",
      "min    1990.000000   5.90000  3.800000   64.406780\n",
      "25%    1993.750000   7.17500  4.625000   64.456958\n",
      "50%    1997.500000   8.90000  5.850000   65.570175\n",
      "75%    2001.250000  10.90000  7.275000   66.730769\n",
      "max    2005.000000  13.00000  8.700000   66.923077\n",
      "\n",
      "\n",
      "\n",
      "   year   gdp  cons  cons_share\n",
      "0  1990   5.9   3.8   64.406780\n",
      "1  1995   7.6   4.9   64.473684\n",
      "2  2000  10.2   6.8   66.666667\n",
      "3  2005  13.0   8.7   66.923077\n"
     ]
    }
   ],
   "source": [
    "# .describe() is a good place to start with a new data set.\n",
    "print(data.describe())   \n",
    "\n",
    "print('\\n\\n')  # Print a few blank lines.\n",
    "print(data)\n"
   ]
  },
  {
   "cell_type": "markdown",
   "metadata": {},
   "source": [
    "### Top Hat Practice Exercise: Calculations on DataFrames\n",
    "Take a few minutes and try the following. Feel free to chat with those around you if you get stuck. I am here, too. \n",
    "\n",
    "1. Compute the mean of the consumption share for 1990 and 1995. You might try using `.loc[]` with two arguments `.loc[rows, cols]`"
   ]
  },
  {
   "cell_type": "code",
   "execution_count": 29,
   "metadata": {},
   "outputs": [
    {
     "data": {
      "text/html": [
       "<div>\n",
       "<style scoped>\n",
       "    .dataframe tbody tr th:only-of-type {\n",
       "        vertical-align: middle;\n",
       "    }\n",
       "\n",
       "    .dataframe tbody tr th {\n",
       "        vertical-align: top;\n",
       "    }\n",
       "\n",
       "    .dataframe thead th {\n",
       "        text-align: right;\n",
       "    }\n",
       "</style>\n",
       "<table border=\"1\" class=\"dataframe\">\n",
       "  <thead>\n",
       "    <tr style=\"text-align: right;\">\n",
       "      <th></th>\n",
       "      <th>gdp</th>\n",
       "      <th>cons</th>\n",
       "      <th>cons_share</th>\n",
       "    </tr>\n",
       "    <tr>\n",
       "      <th>year</th>\n",
       "      <th></th>\n",
       "      <th></th>\n",
       "      <th></th>\n",
       "    </tr>\n",
       "  </thead>\n",
       "  <tbody>\n",
       "    <tr>\n",
       "      <th>1990</th>\n",
       "      <td>5.9</td>\n",
       "      <td>3.8</td>\n",
       "      <td>64.406780</td>\n",
       "    </tr>\n",
       "    <tr>\n",
       "      <th>1995</th>\n",
       "      <td>7.6</td>\n",
       "      <td>4.9</td>\n",
       "      <td>64.473684</td>\n",
       "    </tr>\n",
       "    <tr>\n",
       "      <th>2000</th>\n",
       "      <td>10.2</td>\n",
       "      <td>6.8</td>\n",
       "      <td>66.666667</td>\n",
       "    </tr>\n",
       "    <tr>\n",
       "      <th>2005</th>\n",
       "      <td>13.0</td>\n",
       "      <td>8.7</td>\n",
       "      <td>66.923077</td>\n",
       "    </tr>\n",
       "  </tbody>\n",
       "</table>\n",
       "</div>"
      ],
      "text/plain": [
       "       gdp  cons  cons_share\n",
       "year                        \n",
       "1990   5.9   3.8   64.406780\n",
       "1995   7.6   4.9   64.473684\n",
       "2000  10.2   6.8   66.666667\n",
       "2005  13.0   8.7   66.923077"
      ]
     },
     "execution_count": 29,
     "metadata": {},
     "output_type": "execute_result"
    }
   ],
   "source": [
    "data\n",
    "#data.set_index ('year', inplace = True)\n",
    "#data"
   ]
  },
  {
   "cell_type": "code",
   "execution_count": 41,
   "metadata": {},
   "outputs": [
    {
     "ename": "SyntaxError",
     "evalue": "invalid syntax (4037310447.py, line 1)",
     "output_type": "error",
     "traceback": [
      "\u001b[1;36m  Cell \u001b[1;32mIn[41], line 1\u001b[1;36m\u001b[0m\n\u001b[1;33m    data.loc[(1990:1995, \"cons_share\").mean()]\u001b[0m\n\u001b[1;37m                  ^\u001b[0m\n\u001b[1;31mSyntaxError\u001b[0m\u001b[1;31m:\u001b[0m invalid syntax\n"
     ]
    }
   ],
   "source": [
    "data.loc[(1990:1995, \"cons_share\").mean()]    #wrong format"
   ]
  },
  {
   "cell_type": "code",
   "execution_count": 42,
   "metadata": {},
   "outputs": [
    {
     "data": {
      "text/plain": [
       "64.44023193577164"
      ]
     },
     "execution_count": 42,
     "metadata": {},
     "output_type": "execute_result"
    }
   ],
   "source": [
    "data.loc['1990':'1995', 'cons_share'].mean()"
   ]
  },
  {
   "cell_type": "code",
   "execution_count": 37,
   "metadata": {},
   "outputs": [
    {
     "ename": "SyntaxError",
     "evalue": "closing parenthesis ']' does not match opening parenthesis '(' (1498914372.py, line 1)",
     "output_type": "error",
     "traceback": [
      "\u001b[1;36m  Cell \u001b[1;32mIn[37], line 1\u001b[1;36m\u001b[0m\n\u001b[1;33m    print(\"the mean consumptiopn share for 1990 and 1995 is\", format(data.loc[('1990':'1995', \"cons_share\"].mean()))\u001b[0m\n\u001b[1;37m                                                                                                          ^\u001b[0m\n\u001b[1;31mSyntaxError\u001b[0m\u001b[1;31m:\u001b[0m closing parenthesis ']' does not match opening parenthesis '('\n"
     ]
    }
   ],
   "source": [
    "print(\"the mean consumptiopn share for 1990 and 1995 is\", format(data.loc[('1990':'1995', \"cons_share\"].mean()))"
   ]
  },
  {
   "cell_type": "markdown",
   "metadata": {},
   "source": [
    "2. Try `desc = data.describe()` What is the return type?"
   ]
  },
  {
   "cell_type": "code",
   "execution_count": 38,
   "metadata": {},
   "outputs": [
    {
     "data": {
      "text/html": [
       "<div>\n",
       "<style scoped>\n",
       "    .dataframe tbody tr th:only-of-type {\n",
       "        vertical-align: middle;\n",
       "    }\n",
       "\n",
       "    .dataframe tbody tr th {\n",
       "        vertical-align: top;\n",
       "    }\n",
       "\n",
       "    .dataframe thead th {\n",
       "        text-align: right;\n",
       "    }\n",
       "</style>\n",
       "<table border=\"1\" class=\"dataframe\">\n",
       "  <thead>\n",
       "    <tr style=\"text-align: right;\">\n",
       "      <th></th>\n",
       "      <th>gdp</th>\n",
       "      <th>cons</th>\n",
       "      <th>cons_share</th>\n",
       "    </tr>\n",
       "  </thead>\n",
       "  <tbody>\n",
       "    <tr>\n",
       "      <th>count</th>\n",
       "      <td>4.00000</td>\n",
       "      <td>4.000000</td>\n",
       "      <td>4.000000</td>\n",
       "    </tr>\n",
       "    <tr>\n",
       "      <th>mean</th>\n",
       "      <td>9.17500</td>\n",
       "      <td>6.050000</td>\n",
       "      <td>65.617552</td>\n",
       "    </tr>\n",
       "    <tr>\n",
       "      <th>std</th>\n",
       "      <td>3.10309</td>\n",
       "      <td>2.157931</td>\n",
       "      <td>1.363750</td>\n",
       "    </tr>\n",
       "    <tr>\n",
       "      <th>min</th>\n",
       "      <td>5.90000</td>\n",
       "      <td>3.800000</td>\n",
       "      <td>64.406780</td>\n",
       "    </tr>\n",
       "    <tr>\n",
       "      <th>25%</th>\n",
       "      <td>7.17500</td>\n",
       "      <td>4.625000</td>\n",
       "      <td>64.456958</td>\n",
       "    </tr>\n",
       "    <tr>\n",
       "      <th>50%</th>\n",
       "      <td>8.90000</td>\n",
       "      <td>5.850000</td>\n",
       "      <td>65.570175</td>\n",
       "    </tr>\n",
       "    <tr>\n",
       "      <th>75%</th>\n",
       "      <td>10.90000</td>\n",
       "      <td>7.275000</td>\n",
       "      <td>66.730769</td>\n",
       "    </tr>\n",
       "    <tr>\n",
       "      <th>max</th>\n",
       "      <td>13.00000</td>\n",
       "      <td>8.700000</td>\n",
       "      <td>66.923077</td>\n",
       "    </tr>\n",
       "  </tbody>\n",
       "</table>\n",
       "</div>"
      ],
      "text/plain": [
       "            gdp      cons  cons_share\n",
       "count   4.00000  4.000000    4.000000\n",
       "mean    9.17500  6.050000   65.617552\n",
       "std     3.10309  2.157931    1.363750\n",
       "min     5.90000  3.800000   64.406780\n",
       "25%     7.17500  4.625000   64.456958\n",
       "50%     8.90000  5.850000   65.570175\n",
       "75%    10.90000  7.275000   66.730769\n",
       "max    13.00000  8.700000   66.923077"
      ]
     },
     "execution_count": 38,
     "metadata": {},
     "output_type": "execute_result"
    }
   ],
   "source": [
    "desc = data.describe()\n",
    "desc"
   ]
  },
  {
   "cell_type": "code",
   "execution_count": null,
   "metadata": {},
   "outputs": [],
   "source": []
  }
 ],
 "metadata": {
  "celltoolbar": "Edit Metadata",
  "kernelspec": {
   "display_name": "Python 3 (ipykernel)",
   "language": "python",
   "name": "python3"
  },
  "language_info": {
   "codemirror_mode": {
    "name": "ipython",
    "version": 3
   },
   "file_extension": ".py",
   "mimetype": "text/x-python",
   "name": "python",
   "nbconvert_exporter": "python",
   "pygments_lexer": "ipython3",
   "version": "3.11.5"
  }
 },
 "nbformat": 4,
 "nbformat_minor": 4
}
